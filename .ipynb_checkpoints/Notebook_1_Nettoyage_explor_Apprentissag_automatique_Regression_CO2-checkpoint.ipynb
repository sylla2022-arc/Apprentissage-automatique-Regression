{
 "cells": [
  {
   "cell_type": "markdown",
   "id": "03daec40",
   "metadata": {},
   "source": [
    "## <font color = 'green' id = \"section\" > Notebook 1: Apprentissage automatique, Regression: Polution CO2</font>"
   ]
  },
  {
   "cell_type": "markdown",
   "id": "8c7fc33c",
   "metadata": {},
   "source": [
    "# <font color=\"blue\">Sommaire</font>\n",
    "1. [Importation des librairies](#section_1)    \n",
    "2. [Lecture du Dataset](#section_2) \n",
    "3. [Inventaire des valeurs manquantes](#section_3)         \n",
    "4. [Description statistique et distribution](#section_4)       \n",
    "5. [Selection variables pertinentes](#section_5)     \n",
    "6. [Traitement des valeurs manquantest](#section_6) \n",
    "7. [Feature engineering: Transformation de la variable: typ_boite_nb_rapp](#section_7)  \n",
    "8. [Analyse exploratoire](#section_8)  \n",
    "    8.1. [Repartition de niveau de Co2 sur l'ensemble des vehicules](#section_8_1)    \n",
    "    8.2. [AEmission de Co2 en fonction de la marque de véhicule](#section_8_2)   \n",
    "    8.3. [Emission de Co2 en fonction du type de carburant](#section_8_3)    \n",
    "    8.4. [Emission de co2 en focntion du type de boites de vitesse](#section_8_4)  \n",
    "9. [Lien entre les variables](#section_9)\n",
    "10. [Enregistrement de fichier](#section_10)    \n",
    "\n"
   ]
  },
  {
   "cell_type": "markdown",
   "id": "2e082814",
   "metadata": {},
   "source": [
    "# <font color ='red' id = 'section_1' > 1. Importation des librairies </font>"
   ]
  },
  {
   "cell_type": "code",
   "execution_count": 1,
   "id": "39273929",
   "metadata": {},
   "outputs": [
    {
     "name": "stdout",
     "output_type": "stream",
     "text": [
      "No Warning Shown\n"
     ]
    }
   ],
   "source": [
    "import warnings\n",
    "warnings.filterwarnings('ignore')\n",
    "warnings.warn('DelftStack')\n",
    "warnings.warn('Do not show this message')\n",
    "print(\"No Warning Shown\")"
   ]
  },
  {
   "cell_type": "code",
   "execution_count": 2,
   "id": "82bfb92a",
   "metadata": {},
   "outputs": [],
   "source": [
    "import pandas as pd\n",
    "import numpy as np\n",
    "import scipy.stats as st\n",
    "import seaborn as sns\n",
    "import matplotlib.pyplot as plt\n",
    "from scipy import stats\n",
    "import ast\n",
    "import scipy as sp\n",
    "import time\n",
    "import pickle\n",
    "from datetime import datetime\n",
    "#-------------------------------------------------------------------\n",
    "from tqdm import tqdm\n",
    "import gc\n",
    "#------------------------------------------------------------------\n",
    "import plotly.graph_objs as go\n",
    "import plotly.express as px\n",
    "from textwrap import wrap\n",
    "#-------------------------------------------------\n",
    "from sklearn.model_selection import train_test_split\n",
    "from sklearn.impute import KNNImputer\n",
    "from sklearn.ensemble import RandomForestRegressor\n",
    "from sklearn.metrics import *"
   ]
  },
  {
   "cell_type": "code",
   "execution_count": 3,
   "id": "03ba9a09",
   "metadata": {},
   "outputs": [],
   "source": [
    "pd.set_option(\"display.max_columns\", 500)\n",
    "pd.set_option(\"display.max_rows\", 500)"
   ]
  },
  {
   "cell_type": "markdown",
   "id": "e87459c6",
   "metadata": {},
   "source": [
    "## Inventaire des variables"
   ]
  },
  {
   "cell_type": "code",
   "execution_count": 4,
   "id": "2865f59f",
   "metadata": {},
   "outputs": [
    {
     "data": {
      "text/html": [
       "<div>\n",
       "<style scoped>\n",
       "    .dataframe tbody tr th:only-of-type {\n",
       "        vertical-align: middle;\n",
       "    }\n",
       "\n",
       "    .dataframe tbody tr th {\n",
       "        vertical-align: top;\n",
       "    }\n",
       "\n",
       "    .dataframe thead th {\n",
       "        text-align: right;\n",
       "    }\n",
       "</style>\n",
       "<table border=\"1\" class=\"dataframe\">\n",
       "  <thead>\n",
       "    <tr style=\"text-align: right;\">\n",
       "      <th></th>\n",
       "      <th>nom-colonne</th>\n",
       "      <th>typerubrique</th>\n",
       "      <th>longueur</th>\n",
       "      <th>légende</th>\n",
       "      <th>unité</th>\n",
       "    </tr>\n",
       "  </thead>\n",
       "  <tbody>\n",
       "    <tr>\n",
       "      <th>0</th>\n",
       "      <td>lib_mrq_utac</td>\n",
       "      <td>varchar</td>\n",
       "      <td>12</td>\n",
       "      <td>la marque</td>\n",
       "      <td>NaN</td>\n",
       "    </tr>\n",
       "    <tr>\n",
       "      <th>1</th>\n",
       "      <td>lib_mod_doss</td>\n",
       "      <td>varchar</td>\n",
       "      <td>20</td>\n",
       "      <td>le modele du dossier</td>\n",
       "      <td>NaN</td>\n",
       "    </tr>\n",
       "    <tr>\n",
       "      <th>2</th>\n",
       "      <td>lib_mod</td>\n",
       "      <td>varchar</td>\n",
       "      <td>20</td>\n",
       "      <td>le modèle commercial</td>\n",
       "      <td>NaN</td>\n",
       "    </tr>\n",
       "    <tr>\n",
       "      <th>3</th>\n",
       "      <td>dscom</td>\n",
       "      <td>varchar</td>\n",
       "      <td>91</td>\n",
       "      <td>la désignation commerciale</td>\n",
       "      <td>NaN</td>\n",
       "    </tr>\n",
       "    <tr>\n",
       "      <th>4</th>\n",
       "      <td>cnit</td>\n",
       "      <td>varchar</td>\n",
       "      <td>15</td>\n",
       "      <td>le Code National d'Identification du Type (CNIT)</td>\n",
       "      <td>NaN</td>\n",
       "    </tr>\n",
       "    <tr>\n",
       "      <th>5</th>\n",
       "      <td>tvv</td>\n",
       "      <td>varchar</td>\n",
       "      <td>36</td>\n",
       "      <td>le Type-Variante-Version (TVV) ou le type Mines</td>\n",
       "      <td>NaN</td>\n",
       "    </tr>\n",
       "    <tr>\n",
       "      <th>6</th>\n",
       "      <td>cod_cbr</td>\n",
       "      <td>varchar</td>\n",
       "      <td>5</td>\n",
       "      <td>le type de carburant</td>\n",
       "      <td>NaN</td>\n",
       "    </tr>\n",
       "    <tr>\n",
       "      <th>7</th>\n",
       "      <td>hybride</td>\n",
       "      <td>varchar</td>\n",
       "      <td>3</td>\n",
       "      <td>une information permettant d’identifier les vé...</td>\n",
       "      <td>NaN</td>\n",
       "    </tr>\n",
       "    <tr>\n",
       "      <th>8</th>\n",
       "      <td>puiss_admin_98</td>\n",
       "      <td>varnb</td>\n",
       "      <td>2</td>\n",
       "      <td>la puissance administrative</td>\n",
       "      <td>NaN</td>\n",
       "    </tr>\n",
       "    <tr>\n",
       "      <th>9</th>\n",
       "      <td>puiss_max</td>\n",
       "      <td>varnb</td>\n",
       "      <td>11</td>\n",
       "      <td>la puissance maximale (en kW)</td>\n",
       "      <td>kW</td>\n",
       "    </tr>\n",
       "    <tr>\n",
       "      <th>10</th>\n",
       "      <td>typ_boite_nb_rapp</td>\n",
       "      <td>varchar</td>\n",
       "      <td>3</td>\n",
       "      <td>le type de boîte de vitesse et le nombre de ra...</td>\n",
       "      <td>NaN</td>\n",
       "    </tr>\n",
       "    <tr>\n",
       "      <th>11</th>\n",
       "      <td>conso_urb</td>\n",
       "      <td>varnb</td>\n",
       "      <td>11</td>\n",
       "      <td>consommation urbaine de carburant (en l/100km),</td>\n",
       "      <td>litre pour 100 km</td>\n",
       "    </tr>\n",
       "    <tr>\n",
       "      <th>12</th>\n",
       "      <td>conso_exurb</td>\n",
       "      <td>varnb</td>\n",
       "      <td>11</td>\n",
       "      <td>consommation mixte de carburant (en l/100km),</td>\n",
       "      <td>litre pour 100 km</td>\n",
       "    </tr>\n",
       "    <tr>\n",
       "      <th>13</th>\n",
       "      <td>conso_mixte</td>\n",
       "      <td>varnb</td>\n",
       "      <td>11</td>\n",
       "      <td>consommation extra urbaine de carburant (en l/...</td>\n",
       "      <td>litre pour 100 km</td>\n",
       "    </tr>\n",
       "    <tr>\n",
       "      <th>14</th>\n",
       "      <td>co2</td>\n",
       "      <td>varnb</td>\n",
       "      <td>3</td>\n",
       "      <td>l'émission de CO2 (en g/km),</td>\n",
       "      <td>gramme par km</td>\n",
       "    </tr>\n",
       "    <tr>\n",
       "      <th>15</th>\n",
       "      <td>co_typ_1</td>\n",
       "      <td>varnb</td>\n",
       "      <td>11</td>\n",
       "      <td>le résultat d’essai de CO type I</td>\n",
       "      <td>gramme par km</td>\n",
       "    </tr>\n",
       "    <tr>\n",
       "      <th>16</th>\n",
       "      <td>hc</td>\n",
       "      <td>varnb</td>\n",
       "      <td>11</td>\n",
       "      <td>les résultats d’essai HC</td>\n",
       "      <td>gramme par km</td>\n",
       "    </tr>\n",
       "    <tr>\n",
       "      <th>17</th>\n",
       "      <td>nox</td>\n",
       "      <td>varnb</td>\n",
       "      <td>11</td>\n",
       "      <td>les résultats d’essai NOx</td>\n",
       "      <td>gramme par km</td>\n",
       "    </tr>\n",
       "    <tr>\n",
       "      <th>18</th>\n",
       "      <td>hcnox</td>\n",
       "      <td>varnb</td>\n",
       "      <td>11</td>\n",
       "      <td>les résultats d’essai HC+NOX</td>\n",
       "      <td>gramme par km</td>\n",
       "    </tr>\n",
       "    <tr>\n",
       "      <th>19</th>\n",
       "      <td>ptcl</td>\n",
       "      <td>varnb</td>\n",
       "      <td>5</td>\n",
       "      <td>le résultat d’essai de particules</td>\n",
       "      <td>gramme par km</td>\n",
       "    </tr>\n",
       "    <tr>\n",
       "      <th>20</th>\n",
       "      <td>masse_ordma_min</td>\n",
       "      <td>varnb</td>\n",
       "      <td>4</td>\n",
       "      <td>la masse en ordre de marche mini</td>\n",
       "      <td>kg</td>\n",
       "    </tr>\n",
       "    <tr>\n",
       "      <th>21</th>\n",
       "      <td>masse_ordma_max</td>\n",
       "      <td>varnb</td>\n",
       "      <td>4</td>\n",
       "      <td>la masse en ordre de marche maxi</td>\n",
       "      <td>kg</td>\n",
       "    </tr>\n",
       "    <tr>\n",
       "      <th>22</th>\n",
       "      <td>champ_v9</td>\n",
       "      <td>varchar</td>\n",
       "      <td>23</td>\n",
       "      <td>le champ V9 du certificat d’immatriculation qu...</td>\n",
       "      <td>NaN</td>\n",
       "    </tr>\n",
       "    <tr>\n",
       "      <th>23</th>\n",
       "      <td>date_maj</td>\n",
       "      <td>varchar</td>\n",
       "      <td>6</td>\n",
       "      <td>la date de la dernière mise à jour.</td>\n",
       "      <td>NaN</td>\n",
       "    </tr>\n",
       "    <tr>\n",
       "      <th>24</th>\n",
       "      <td>Carrosserie</td>\n",
       "      <td>varchar</td>\n",
       "      <td>19</td>\n",
       "      <td>Carrosserie</td>\n",
       "      <td>NaN</td>\n",
       "    </tr>\n",
       "  </tbody>\n",
       "</table>\n",
       "</div>"
      ],
      "text/plain": [
       "          nom-colonne typerubrique  longueur  \\\n",
       "0        lib_mrq_utac      varchar        12   \n",
       "1        lib_mod_doss      varchar        20   \n",
       "2             lib_mod      varchar        20   \n",
       "3               dscom      varchar        91   \n",
       "4                cnit      varchar        15   \n",
       "5                 tvv      varchar        36   \n",
       "6             cod_cbr      varchar         5   \n",
       "7             hybride      varchar         3   \n",
       "8      puiss_admin_98        varnb         2   \n",
       "9           puiss_max        varnb        11   \n",
       "10  typ_boite_nb_rapp      varchar         3   \n",
       "11          conso_urb        varnb        11   \n",
       "12        conso_exurb        varnb        11   \n",
       "13        conso_mixte        varnb        11   \n",
       "14                co2        varnb         3   \n",
       "15           co_typ_1        varnb        11   \n",
       "16                 hc        varnb        11   \n",
       "17                nox        varnb        11   \n",
       "18              hcnox        varnb        11   \n",
       "19               ptcl        varnb         5   \n",
       "20    masse_ordma_min        varnb         4   \n",
       "21    masse_ordma_max        varnb         4   \n",
       "22           champ_v9      varchar        23   \n",
       "23           date_maj      varchar         6   \n",
       "24        Carrosserie      varchar        19   \n",
       "\n",
       "                                              légende              unité  \n",
       "0                                           la marque                NaN  \n",
       "1                                le modele du dossier                NaN  \n",
       "2                                le modèle commercial                NaN  \n",
       "3                          la désignation commerciale                NaN  \n",
       "4    le Code National d'Identification du Type (CNIT)                NaN  \n",
       "5     le Type-Variante-Version (TVV) ou le type Mines                NaN  \n",
       "6                                le type de carburant                NaN  \n",
       "7   une information permettant d’identifier les vé...                NaN  \n",
       "8                         la puissance administrative                NaN  \n",
       "9                       la puissance maximale (en kW)                 kW  \n",
       "10  le type de boîte de vitesse et le nombre de ra...                NaN  \n",
       "11    consommation urbaine de carburant (en l/100km),  litre pour 100 km  \n",
       "12      consommation mixte de carburant (en l/100km),  litre pour 100 km  \n",
       "13  consommation extra urbaine de carburant (en l/...  litre pour 100 km  \n",
       "14                       l'émission de CO2 (en g/km),      gramme par km  \n",
       "15                   le résultat d’essai de CO type I      gramme par km  \n",
       "16                           les résultats d’essai HC      gramme par km  \n",
       "17                          les résultats d’essai NOx      gramme par km  \n",
       "18                       les résultats d’essai HC+NOX      gramme par km  \n",
       "19                 le résultat d’essai de particules       gramme par km  \n",
       "20                   la masse en ordre de marche mini                 kg  \n",
       "21                   la masse en ordre de marche maxi                 kg  \n",
       "22  le champ V9 du certificat d’immatriculation qu...                NaN  \n",
       "23                la date de la dernière mise à jour.                NaN  \n",
       "24                                        Carrosserie                NaN  "
      ]
     },
     "execution_count": 4,
     "metadata": {},
     "output_type": "execute_result"
    }
   ],
   "source": [
    "var = pd.read_excel(\"carlab-annuaire-variable.xlsx\")\n",
    "var.head(25)"
   ]
  },
  {
   "cell_type": "markdown",
   "id": "dbeb2921",
   "metadata": {},
   "source": [
    "## Checklist\n",
    "\n",
    "Depuis 2001, **l’ADEME** acquiert tous les ans ces données auprès de **l’Union Technique de l’Automobile du motocycle et du Cycle UTAC** (en charge de l’homologation des véhicules avant leur mise en vente) en accord avec le ministère du développement durable.\n",
    "Pour chaque véhicule les données d’origine (transmises par l’Utac) sont les suivantes :\n",
    "\n",
    "* **Les consommations de carburant**\n",
    "\n",
    "* **Les émissions de dioxyde de carbone (CO2)**\n",
    "\n",
    "* **Les émissions des polluants de l’air** (réglementés dans le cadre de la norme Euro)\n",
    "\n",
    "* **L’ensemble des caractéristiques techniques des véhicules** (gammes, marques, modèles, n° de CNIT, type d’énergie ...)\n",
    "\n",
    "\n",
    "\n",
    "# L'inventaire des varaibles pertinentes:\n",
    "\n",
    "Les données comprenent des variables pertinentes suivantes:\n",
    "\n",
    "* **lib_mrq_utac**: La marque, il y'a 12.\n",
    "\n",
    "* **lib_mod**: Le modèle commerciale, il y'a 20.\n",
    "\n",
    "* **cod_cbr**: Le type de carburant, il y a 5.\n",
    "\n",
    "* **hybride**: Information permettant d’identifier les véhicules hybrides (O/N)\n",
    "\n",
    "* **puiss_max** : Puissance maximale\n",
    "\n",
    "* **typ_boite_nb_rapp**: Type boite de vitesse et le nombre de rapport.\n",
    "\n",
    "* **conso_urb**: Consommation urbaine de carburant (en l/100km),\n",
    "\n",
    "* **conso_exurb**: consommation extra urbaine de carburant (en l/100km),\n",
    "\n",
    "* **conso_mixte**: Consommation mixte de carburant (en l/100km),\n",
    "\n",
    "* **co2**: Emission de CO2 (en g/km),\n",
    "\n",
    "* **masse_ordma_min**: Masse en ordre de marche mini\n",
    "\n",
    "* **masse_ordma_max**: Masse en ordre de marche max\n",
    " \n",
    "* **Carrosserie**: Carrosserie\n",
    "\n",
    "* **gamme**: Gamme du véhicule\n",
    "\n",
    "\n",
    "\n",
    "# Objectif\n",
    "\n",
    "Notre objectif majeur dans ce projet en particulier ce notebbok 1 comprend les étapes suivantes: \n",
    " \n",
    "**1.** *Nettoyage des données*\n",
    "\n",
    "**2.** *Explorattion rapide*\n",
    "\n",
    "\n",
    "# Description des données\n",
    "\n",
    "Lien vers les données: https://www.data.gouv.fr/fr/datasets/emissions-de-co2-et-de-polluants-des-vehicules-commercialises-en-france/\n"
   ]
  },
  {
   "cell_type": "markdown",
   "id": "4aa43bf0",
   "metadata": {},
   "source": [
    "# <font color=\"red\" id=\"section_2\"> 2. Chargement, lecture, apercu et infos des données </font>"
   ]
  },
  {
   "cell_type": "code",
   "execution_count": 5,
   "id": "564f490c",
   "metadata": {},
   "outputs": [],
   "source": [
    "data = pd.read_csv(\"mars-2014-complete.csv\", sep=';',encoding = 'latin-1')"
   ]
  },
  {
   "cell_type": "code",
   "execution_count": 6,
   "id": "2e663a59",
   "metadata": {},
   "outputs": [
    {
     "data": {
      "text/html": [
       "<div>\n",
       "<style scoped>\n",
       "    .dataframe tbody tr th:only-of-type {\n",
       "        vertical-align: middle;\n",
       "    }\n",
       "\n",
       "    .dataframe tbody tr th {\n",
       "        vertical-align: top;\n",
       "    }\n",
       "\n",
       "    .dataframe thead th {\n",
       "        text-align: right;\n",
       "    }\n",
       "</style>\n",
       "<table border=\"1\" class=\"dataframe\">\n",
       "  <thead>\n",
       "    <tr style=\"text-align: right;\">\n",
       "      <th></th>\n",
       "      <th>lib_mrq</th>\n",
       "      <th>lib_mod_doss</th>\n",
       "      <th>lib_mod</th>\n",
       "      <th>dscom</th>\n",
       "      <th>cnit</th>\n",
       "      <th>tvv</th>\n",
       "      <th>cod_cbr</th>\n",
       "      <th>hybride</th>\n",
       "      <th>puiss_admin_98</th>\n",
       "      <th>puiss_max</th>\n",
       "      <th>typ_boite_nb_rapp</th>\n",
       "      <th>conso_urb</th>\n",
       "      <th>conso_exurb</th>\n",
       "      <th>conso_mixte</th>\n",
       "      <th>co2</th>\n",
       "      <th>co_typ_1</th>\n",
       "      <th>hc</th>\n",
       "      <th>nox</th>\n",
       "      <th>hcnox</th>\n",
       "      <th>ptcl</th>\n",
       "      <th>masse_ordma_min</th>\n",
       "      <th>masse_ordma_max</th>\n",
       "      <th>champ_v9</th>\n",
       "      <th>date_maj</th>\n",
       "      <th>Carrosserie</th>\n",
       "      <th>gamme</th>\n",
       "      <th>Unnamed: 26</th>\n",
       "      <th>Unnamed: 27</th>\n",
       "      <th>Unnamed: 28</th>\n",
       "      <th>Unnamed: 29</th>\n",
       "    </tr>\n",
       "  </thead>\n",
       "  <tbody>\n",
       "    <tr>\n",
       "      <th>0</th>\n",
       "      <td>ALFA-ROMEO</td>\n",
       "      <td>159</td>\n",
       "      <td>159</td>\n",
       "      <td>159 1750 Tbi (200ch)</td>\n",
       "      <td>M10ALFVP000G340</td>\n",
       "      <td>939AXN1B52C</td>\n",
       "      <td>ES</td>\n",
       "      <td>non</td>\n",
       "      <td>12</td>\n",
       "      <td>147</td>\n",
       "      <td>M 6</td>\n",
       "      <td>11,30000019</td>\n",
       "      <td>5,800000191</td>\n",
       "      <td>7,800000191</td>\n",
       "      <td>182.0</td>\n",
       "      <td>0,647000015</td>\n",
       "      <td>0,052000001</td>\n",
       "      <td>0,032000002</td>\n",
       "      <td>NaN</td>\n",
       "      <td>0,002</td>\n",
       "      <td>1505</td>\n",
       "      <td>1505</td>\n",
       "      <td>715/2007*692/2008EURO5</td>\n",
       "      <td>mars-14</td>\n",
       "      <td>BERLINE</td>\n",
       "      <td>MOY-SUPER</td>\n",
       "      <td>NaN</td>\n",
       "      <td>NaN</td>\n",
       "      <td>NaN</td>\n",
       "      <td>NaN</td>\n",
       "    </tr>\n",
       "    <tr>\n",
       "      <th>1</th>\n",
       "      <td>ALFA-ROMEO</td>\n",
       "      <td>159</td>\n",
       "      <td>159</td>\n",
       "      <td>159 1750 Tbi (200ch)</td>\n",
       "      <td>M10ALFVP000H341</td>\n",
       "      <td>939BXN1B53C</td>\n",
       "      <td>ES</td>\n",
       "      <td>non</td>\n",
       "      <td>12</td>\n",
       "      <td>147</td>\n",
       "      <td>M 6</td>\n",
       "      <td>11,5</td>\n",
       "      <td>6</td>\n",
       "      <td>8</td>\n",
       "      <td>186.0</td>\n",
       "      <td>0,647000015</td>\n",
       "      <td>0,052000001</td>\n",
       "      <td>0,032000002</td>\n",
       "      <td>NaN</td>\n",
       "      <td>0,002</td>\n",
       "      <td>1555</td>\n",
       "      <td>1555</td>\n",
       "      <td>715/2007*692/2008EURO5</td>\n",
       "      <td>mars-14</td>\n",
       "      <td>BERLINE</td>\n",
       "      <td>MOY-SUPER</td>\n",
       "      <td>NaN</td>\n",
       "      <td>NaN</td>\n",
       "      <td>NaN</td>\n",
       "      <td>NaN</td>\n",
       "    </tr>\n",
       "  </tbody>\n",
       "</table>\n",
       "</div>"
      ],
      "text/plain": [
       "      lib_mrq lib_mod_doss lib_mod                 dscom             cnit  \\\n",
       "0  ALFA-ROMEO          159     159  159 1750 Tbi (200ch)  M10ALFVP000G340   \n",
       "1  ALFA-ROMEO          159     159  159 1750 Tbi (200ch)  M10ALFVP000H341   \n",
       "\n",
       "           tvv cod_cbr hybride  puiss_admin_98 puiss_max typ_boite_nb_rapp  \\\n",
       "0  939AXN1B52C      ES     non              12       147               M 6   \n",
       "1  939BXN1B53C      ES     non              12       147               M 6   \n",
       "\n",
       "     conso_urb  conso_exurb  conso_mixte    co2     co_typ_1           hc  \\\n",
       "0  11,30000019  5,800000191  7,800000191  182.0  0,647000015  0,052000001   \n",
       "1         11,5            6            8  186.0  0,647000015  0,052000001   \n",
       "\n",
       "           nox hcnox   ptcl  masse_ordma_min  masse_ordma_max  \\\n",
       "0  0,032000002   NaN  0,002             1505             1505   \n",
       "1  0,032000002   NaN  0,002             1555             1555   \n",
       "\n",
       "                 champ_v9 date_maj Carrosserie      gamme  Unnamed: 26  \\\n",
       "0  715/2007*692/2008EURO5  mars-14     BERLINE  MOY-SUPER          NaN   \n",
       "1  715/2007*692/2008EURO5  mars-14     BERLINE  MOY-SUPER          NaN   \n",
       "\n",
       "   Unnamed: 27  Unnamed: 28  Unnamed: 29  \n",
       "0          NaN          NaN          NaN  \n",
       "1          NaN          NaN          NaN  "
      ]
     },
     "metadata": {},
     "output_type": "display_data"
    },
    {
     "data": {
      "text/html": [
       "<div>\n",
       "<style scoped>\n",
       "    .dataframe tbody tr th:only-of-type {\n",
       "        vertical-align: middle;\n",
       "    }\n",
       "\n",
       "    .dataframe tbody tr th {\n",
       "        vertical-align: top;\n",
       "    }\n",
       "\n",
       "    .dataframe thead th {\n",
       "        text-align: right;\n",
       "    }\n",
       "</style>\n",
       "<table border=\"1\" class=\"dataframe\">\n",
       "  <thead>\n",
       "    <tr style=\"text-align: right;\">\n",
       "      <th></th>\n",
       "      <th>lib_mrq</th>\n",
       "      <th>lib_mod_doss</th>\n",
       "      <th>lib_mod</th>\n",
       "      <th>dscom</th>\n",
       "      <th>cnit</th>\n",
       "      <th>tvv</th>\n",
       "      <th>cod_cbr</th>\n",
       "      <th>hybride</th>\n",
       "      <th>puiss_admin_98</th>\n",
       "      <th>puiss_max</th>\n",
       "      <th>typ_boite_nb_rapp</th>\n",
       "      <th>conso_urb</th>\n",
       "      <th>conso_exurb</th>\n",
       "      <th>conso_mixte</th>\n",
       "      <th>co2</th>\n",
       "      <th>co_typ_1</th>\n",
       "      <th>hc</th>\n",
       "      <th>nox</th>\n",
       "      <th>hcnox</th>\n",
       "      <th>ptcl</th>\n",
       "      <th>masse_ordma_min</th>\n",
       "      <th>masse_ordma_max</th>\n",
       "      <th>champ_v9</th>\n",
       "      <th>date_maj</th>\n",
       "      <th>Carrosserie</th>\n",
       "      <th>gamme</th>\n",
       "      <th>Unnamed: 26</th>\n",
       "      <th>Unnamed: 27</th>\n",
       "      <th>Unnamed: 28</th>\n",
       "      <th>Unnamed: 29</th>\n",
       "    </tr>\n",
       "  </thead>\n",
       "  <tbody>\n",
       "    <tr>\n",
       "      <th>55042</th>\n",
       "      <td>VOLVO</td>\n",
       "      <td>XC70</td>\n",
       "      <td>XC70</td>\n",
       "      <td>XC70 D5 (215ch) Stop&amp;Start AWD BVM6</td>\n",
       "      <td>M10VLVVP8723582</td>\n",
       "      <td>BZ83A4</td>\n",
       "      <td>GO</td>\n",
       "      <td>non</td>\n",
       "      <td>12</td>\n",
       "      <td>158</td>\n",
       "      <td>M 6</td>\n",
       "      <td>6,099999905</td>\n",
       "      <td>4,800000191</td>\n",
       "      <td>5,300000191</td>\n",
       "      <td>139.0</td>\n",
       "      <td>0,284999996</td>\n",
       "      <td>NaN</td>\n",
       "      <td>0,105999999</td>\n",
       "      <td>0,143999994</td>\n",
       "      <td>0</td>\n",
       "      <td>1788</td>\n",
       "      <td>1788</td>\n",
       "      <td>715/2007*630/2012EURO5</td>\n",
       "      <td>mars-14</td>\n",
       "      <td>BREAK</td>\n",
       "      <td>SUPERIEURE</td>\n",
       "      <td>NaN</td>\n",
       "      <td>NaN</td>\n",
       "      <td>NaN</td>\n",
       "      <td>NaN</td>\n",
       "    </tr>\n",
       "    <tr>\n",
       "      <th>55043</th>\n",
       "      <td>VOLVO</td>\n",
       "      <td>XC70</td>\n",
       "      <td>XC70</td>\n",
       "      <td>XC70 T6 (304ch) AWD Geartronic 6</td>\n",
       "      <td>M10VLVVP874P724</td>\n",
       "      <td>BZ90H6</td>\n",
       "      <td>ES</td>\n",
       "      <td>non</td>\n",
       "      <td>21</td>\n",
       "      <td>224</td>\n",
       "      <td>A 6</td>\n",
       "      <td>15,10000038</td>\n",
       "      <td>8,100000381</td>\n",
       "      <td>10,60000038</td>\n",
       "      <td>248.0</td>\n",
       "      <td>0,218999997</td>\n",
       "      <td>0,037999999</td>\n",
       "      <td>0,027000001</td>\n",
       "      <td>NaN</td>\n",
       "      <td>NaN</td>\n",
       "      <td>1815</td>\n",
       "      <td>1815</td>\n",
       "      <td>715/2007*566/2011EURO5</td>\n",
       "      <td>mars-14</td>\n",
       "      <td>BREAK</td>\n",
       "      <td>SUPERIEURE</td>\n",
       "      <td>NaN</td>\n",
       "      <td>NaN</td>\n",
       "      <td>NaN</td>\n",
       "      <td>NaN</td>\n",
       "    </tr>\n",
       "  </tbody>\n",
       "</table>\n",
       "</div>"
      ],
      "text/plain": [
       "      lib_mrq lib_mod_doss lib_mod                                dscom  \\\n",
       "55042   VOLVO         XC70    XC70  XC70 D5 (215ch) Stop&Start AWD BVM6   \n",
       "55043   VOLVO         XC70    XC70     XC70 T6 (304ch) AWD Geartronic 6   \n",
       "\n",
       "                  cnit     tvv cod_cbr hybride  puiss_admin_98 puiss_max  \\\n",
       "55042  M10VLVVP8723582  BZ83A4      GO     non              12       158   \n",
       "55043  M10VLVVP874P724  BZ90H6      ES     non              21       224   \n",
       "\n",
       "      typ_boite_nb_rapp    conso_urb  conso_exurb  conso_mixte    co2  \\\n",
       "55042               M 6  6,099999905  4,800000191  5,300000191  139.0   \n",
       "55043               A 6  15,10000038  8,100000381  10,60000038  248.0   \n",
       "\n",
       "          co_typ_1           hc          nox        hcnox ptcl  \\\n",
       "55042  0,284999996          NaN  0,105999999  0,143999994    0   \n",
       "55043  0,218999997  0,037999999  0,027000001          NaN  NaN   \n",
       "\n",
       "       masse_ordma_min  masse_ordma_max                champ_v9 date_maj  \\\n",
       "55042             1788             1788  715/2007*630/2012EURO5  mars-14   \n",
       "55043             1815             1815  715/2007*566/2011EURO5  mars-14   \n",
       "\n",
       "      Carrosserie       gamme  Unnamed: 26  Unnamed: 27  Unnamed: 28  \\\n",
       "55042       BREAK  SUPERIEURE          NaN          NaN          NaN   \n",
       "55043       BREAK  SUPERIEURE          NaN          NaN          NaN   \n",
       "\n",
       "       Unnamed: 29  \n",
       "55042          NaN  \n",
       "55043          NaN  "
      ]
     },
     "metadata": {},
     "output_type": "display_data"
    }
   ],
   "source": [
    "display(data.head(2))\n",
    "display(data.tail(2))"
   ]
  },
  {
   "cell_type": "code",
   "execution_count": 7,
   "id": "f48600c7",
   "metadata": {},
   "outputs": [
    {
     "data": {
      "text/plain": [
       "(55044, 30)"
      ]
     },
     "execution_count": 7,
     "metadata": {},
     "output_type": "execute_result"
    }
   ],
   "source": [
    "data.shape"
   ]
  },
  {
   "cell_type": "code",
   "execution_count": 8,
   "id": "3d5f00cc",
   "metadata": {},
   "outputs": [
    {
     "name": "stdout",
     "output_type": "stream",
     "text": [
      "<class 'pandas.core.frame.DataFrame'>\n",
      "RangeIndex: 55044 entries, 0 to 55043\n",
      "Data columns (total 30 columns):\n",
      " #   Column             Non-Null Count  Dtype  \n",
      "---  ------             --------------  -----  \n",
      " 0   lib_mrq            55044 non-null  object \n",
      " 1   lib_mod_doss       55044 non-null  object \n",
      " 2   lib_mod            55044 non-null  object \n",
      " 3   dscom              55044 non-null  object \n",
      " 4   cnit               55044 non-null  object \n",
      " 5   tvv                55044 non-null  object \n",
      " 6   cod_cbr            55044 non-null  object \n",
      " 7   hybride            55044 non-null  object \n",
      " 8   puiss_admin_98     55044 non-null  int64  \n",
      " 9   puiss_max          55044 non-null  object \n",
      " 10  typ_boite_nb_rapp  55044 non-null  object \n",
      " 11  conso_urb          55001 non-null  object \n",
      " 12  conso_exurb        55001 non-null  object \n",
      " 13  conso_mixte        55010 non-null  object \n",
      " 14  co2                55010 non-null  float64\n",
      " 15  co_typ_1           54886 non-null  object \n",
      " 16  hc                 9773 non-null   object \n",
      " 17  nox                54886 non-null  object \n",
      " 18  hcnox              45156 non-null  object \n",
      " 19  ptcl               52366 non-null  object \n",
      " 20  masse_ordma_min    55044 non-null  int64  \n",
      " 21  masse_ordma_max    55044 non-null  int64  \n",
      " 22  champ_v9           54983 non-null  object \n",
      " 23  date_maj           3247 non-null   object \n",
      " 24  Carrosserie        55044 non-null  object \n",
      " 25  gamme              55044 non-null  object \n",
      " 26  Unnamed: 26        0 non-null      float64\n",
      " 27  Unnamed: 27        0 non-null      float64\n",
      " 28  Unnamed: 28        0 non-null      float64\n",
      " 29  Unnamed: 29        0 non-null      float64\n",
      "dtypes: float64(5), int64(3), object(22)\n",
      "memory usage: 12.6+ MB\n"
     ]
    }
   ],
   "source": [
    "data.info()"
   ]
  },
  {
   "cell_type": "code",
   "execution_count": 9,
   "id": "075664ae",
   "metadata": {},
   "outputs": [
    {
     "data": {
      "text/plain": [
       "7"
      ]
     },
     "execution_count": 9,
     "metadata": {},
     "output_type": "execute_result"
    }
   ],
   "source": [
    "data.duplicated().sum()"
   ]
  },
  {
   "cell_type": "code",
   "execution_count": 10,
   "id": "d553d7ed",
   "metadata": {},
   "outputs": [],
   "source": [
    "data.drop_duplicates(inplace =True)"
   ]
  },
  {
   "cell_type": "code",
   "execution_count": 11,
   "id": "3262c593",
   "metadata": {},
   "outputs": [
    {
     "data": {
      "text/plain": [
       "0"
      ]
     },
     "execution_count": 11,
     "metadata": {},
     "output_type": "execute_result"
    }
   ],
   "source": [
    "data.duplicated().sum()"
   ]
  },
  {
   "cell_type": "markdown",
   "id": "cf9ee640",
   "metadata": {},
   "source": [
    "## <font color=\"red\" id=\"section_3\" > 3. Inventaire des valeurs manquantes"
   ]
  },
  {
   "cell_type": "code",
   "execution_count": 12,
   "id": "2f2369f6",
   "metadata": {},
   "outputs": [],
   "source": [
    "def rech_nan(data):\n",
    "    dic_var = {}\n",
    "    for col in data.columns:\n",
    "        \n",
    "        dic_var[col] = []\n",
    "        dic_var[col].append((data[col].notna().sum()/(data.shape[0]))*100)\n",
    "        dic_var[col].append(data[col].isna().sum())\n",
    "        \n",
    "    return pd.DataFrame.from_dict(data = dic_var, orient = 'index', \n",
    "                            columns = ['Taux_remplissage', 'Valeurs manquantes']).sort_values(by = 'Taux_remplissage',\n",
    "                                                                                              ascending =False )"
   ]
  },
  {
   "cell_type": "code",
   "execution_count": 13,
   "id": "8eb7d0d4",
   "metadata": {},
   "outputs": [
    {
     "data": {
      "text/html": [
       "<div>\n",
       "<style scoped>\n",
       "    .dataframe tbody tr th:only-of-type {\n",
       "        vertical-align: middle;\n",
       "    }\n",
       "\n",
       "    .dataframe tbody tr th {\n",
       "        vertical-align: top;\n",
       "    }\n",
       "\n",
       "    .dataframe thead th {\n",
       "        text-align: right;\n",
       "    }\n",
       "</style>\n",
       "<table border=\"1\" class=\"dataframe\">\n",
       "  <thead>\n",
       "    <tr style=\"text-align: right;\">\n",
       "      <th></th>\n",
       "      <th>Taux_remplissage</th>\n",
       "      <th>Valeurs manquantes</th>\n",
       "    </tr>\n",
       "  </thead>\n",
       "  <tbody>\n",
       "    <tr>\n",
       "      <th>lib_mrq</th>\n",
       "      <td>100.000000</td>\n",
       "      <td>0</td>\n",
       "    </tr>\n",
       "    <tr>\n",
       "      <th>puiss_admin_98</th>\n",
       "      <td>100.000000</td>\n",
       "      <td>0</td>\n",
       "    </tr>\n",
       "    <tr>\n",
       "      <th>Carrosserie</th>\n",
       "      <td>100.000000</td>\n",
       "      <td>0</td>\n",
       "    </tr>\n",
       "    <tr>\n",
       "      <th>gamme</th>\n",
       "      <td>100.000000</td>\n",
       "      <td>0</td>\n",
       "    </tr>\n",
       "    <tr>\n",
       "      <th>lib_mod_doss</th>\n",
       "      <td>100.000000</td>\n",
       "      <td>0</td>\n",
       "    </tr>\n",
       "    <tr>\n",
       "      <th>masse_ordma_min</th>\n",
       "      <td>100.000000</td>\n",
       "      <td>0</td>\n",
       "    </tr>\n",
       "    <tr>\n",
       "      <th>puiss_max</th>\n",
       "      <td>100.000000</td>\n",
       "      <td>0</td>\n",
       "    </tr>\n",
       "    <tr>\n",
       "      <th>typ_boite_nb_rapp</th>\n",
       "      <td>100.000000</td>\n",
       "      <td>0</td>\n",
       "    </tr>\n",
       "    <tr>\n",
       "      <th>hybride</th>\n",
       "      <td>100.000000</td>\n",
       "      <td>0</td>\n",
       "    </tr>\n",
       "    <tr>\n",
       "      <th>cod_cbr</th>\n",
       "      <td>100.000000</td>\n",
       "      <td>0</td>\n",
       "    </tr>\n",
       "    <tr>\n",
       "      <th>tvv</th>\n",
       "      <td>100.000000</td>\n",
       "      <td>0</td>\n",
       "    </tr>\n",
       "    <tr>\n",
       "      <th>cnit</th>\n",
       "      <td>100.000000</td>\n",
       "      <td>0</td>\n",
       "    </tr>\n",
       "    <tr>\n",
       "      <th>dscom</th>\n",
       "      <td>100.000000</td>\n",
       "      <td>0</td>\n",
       "    </tr>\n",
       "    <tr>\n",
       "      <th>lib_mod</th>\n",
       "      <td>100.000000</td>\n",
       "      <td>0</td>\n",
       "    </tr>\n",
       "    <tr>\n",
       "      <th>masse_ordma_max</th>\n",
       "      <td>100.000000</td>\n",
       "      <td>0</td>\n",
       "    </tr>\n",
       "    <tr>\n",
       "      <th>conso_mixte</th>\n",
       "      <td>99.938223</td>\n",
       "      <td>34</td>\n",
       "    </tr>\n",
       "    <tr>\n",
       "      <th>co2</th>\n",
       "      <td>99.938223</td>\n",
       "      <td>34</td>\n",
       "    </tr>\n",
       "    <tr>\n",
       "      <th>conso_urb</th>\n",
       "      <td>99.921871</td>\n",
       "      <td>43</td>\n",
       "    </tr>\n",
       "    <tr>\n",
       "      <th>conso_exurb</th>\n",
       "      <td>99.921871</td>\n",
       "      <td>43</td>\n",
       "    </tr>\n",
       "    <tr>\n",
       "      <th>champ_v9</th>\n",
       "      <td>99.889165</td>\n",
       "      <td>61</td>\n",
       "    </tr>\n",
       "    <tr>\n",
       "      <th>co_typ_1</th>\n",
       "      <td>99.712920</td>\n",
       "      <td>158</td>\n",
       "    </tr>\n",
       "    <tr>\n",
       "      <th>nox</th>\n",
       "      <td>99.712920</td>\n",
       "      <td>158</td>\n",
       "    </tr>\n",
       "    <tr>\n",
       "      <th>ptcl</th>\n",
       "      <td>95.145084</td>\n",
       "      <td>2672</td>\n",
       "    </tr>\n",
       "    <tr>\n",
       "      <th>hcnox</th>\n",
       "      <td>82.046623</td>\n",
       "      <td>9881</td>\n",
       "    </tr>\n",
       "    <tr>\n",
       "      <th>hc</th>\n",
       "      <td>17.744426</td>\n",
       "      <td>45271</td>\n",
       "    </tr>\n",
       "    <tr>\n",
       "      <th>date_maj</th>\n",
       "      <td>5.888766</td>\n",
       "      <td>51796</td>\n",
       "    </tr>\n",
       "    <tr>\n",
       "      <th>Unnamed: 26</th>\n",
       "      <td>0.000000</td>\n",
       "      <td>55037</td>\n",
       "    </tr>\n",
       "    <tr>\n",
       "      <th>Unnamed: 27</th>\n",
       "      <td>0.000000</td>\n",
       "      <td>55037</td>\n",
       "    </tr>\n",
       "    <tr>\n",
       "      <th>Unnamed: 28</th>\n",
       "      <td>0.000000</td>\n",
       "      <td>55037</td>\n",
       "    </tr>\n",
       "    <tr>\n",
       "      <th>Unnamed: 29</th>\n",
       "      <td>0.000000</td>\n",
       "      <td>55037</td>\n",
       "    </tr>\n",
       "  </tbody>\n",
       "</table>\n",
       "</div>"
      ],
      "text/plain": [
       "                   Taux_remplissage  Valeurs manquantes\n",
       "lib_mrq                  100.000000                   0\n",
       "puiss_admin_98           100.000000                   0\n",
       "Carrosserie              100.000000                   0\n",
       "gamme                    100.000000                   0\n",
       "lib_mod_doss             100.000000                   0\n",
       "masse_ordma_min          100.000000                   0\n",
       "puiss_max                100.000000                   0\n",
       "typ_boite_nb_rapp        100.000000                   0\n",
       "hybride                  100.000000                   0\n",
       "cod_cbr                  100.000000                   0\n",
       "tvv                      100.000000                   0\n",
       "cnit                     100.000000                   0\n",
       "dscom                    100.000000                   0\n",
       "lib_mod                  100.000000                   0\n",
       "masse_ordma_max          100.000000                   0\n",
       "conso_mixte               99.938223                  34\n",
       "co2                       99.938223                  34\n",
       "conso_urb                 99.921871                  43\n",
       "conso_exurb               99.921871                  43\n",
       "champ_v9                  99.889165                  61\n",
       "co_typ_1                  99.712920                 158\n",
       "nox                       99.712920                 158\n",
       "ptcl                      95.145084                2672\n",
       "hcnox                     82.046623                9881\n",
       "hc                        17.744426               45271\n",
       "date_maj                   5.888766               51796\n",
       "Unnamed: 26                0.000000               55037\n",
       "Unnamed: 27                0.000000               55037\n",
       "Unnamed: 28                0.000000               55037\n",
       "Unnamed: 29                0.000000               55037"
      ]
     },
     "execution_count": 13,
     "metadata": {},
     "output_type": "execute_result"
    }
   ],
   "source": [
    "df_nan = rech_nan(data)\n",
    "df_nan"
   ]
  },
  {
   "cell_type": "code",
   "execution_count": 14,
   "id": "c24516b7",
   "metadata": {},
   "outputs": [
    {
     "data": {
      "image/png": "[encoded data removed]",
      "text/plain": [
       "<Figure size 792x432 with 1 Axes>"
      ]
     },
     "metadata": {
      "needs_background": "light"
     },
     "output_type": "display_data"
    }
   ],
   "source": [
    "plt.figure(figsize = (11,6))\n",
    "sns.heatmap(data.isna(), cbar = False)\n",
    "plt.show()"
   ]
  },
  {
   "cell_type": "markdown",
   "id": "7574af15",
   "metadata": {},
   "source": [
    "# Commentaire: \n",
    "Nous allons supprimer les $5$ dernières colonnes à présent avant de poursuivre l'inventaire."
   ]
  },
  {
   "cell_type": "code",
   "execution_count": 15,
   "id": "8001fe2d",
   "metadata": {},
   "outputs": [],
   "source": [
    "data.drop(['date_maj','Unnamed: 26', \"Unnamed: 27\", 'Unnamed: 28', \"Unnamed: 29\" ], inplace =True, axis = 1)"
   ]
  },
  {
   "cell_type": "code",
   "execution_count": 16,
   "id": "03d0aa59",
   "metadata": {},
   "outputs": [
    {
     "data": {
      "text/html": [
       "<div>\n",
       "<style scoped>\n",
       "    .dataframe tbody tr th:only-of-type {\n",
       "        vertical-align: middle;\n",
       "    }\n",
       "\n",
       "    .dataframe tbody tr th {\n",
       "        vertical-align: top;\n",
       "    }\n",
       "\n",
       "    .dataframe thead th {\n",
       "        text-align: right;\n",
       "    }\n",
       "</style>\n",
       "<table border=\"1\" class=\"dataframe\">\n",
       "  <thead>\n",
       "    <tr style=\"text-align: right;\">\n",
       "      <th></th>\n",
       "      <th>lib_mrq</th>\n",
       "      <th>lib_mod_doss</th>\n",
       "      <th>lib_mod</th>\n",
       "      <th>dscom</th>\n",
       "      <th>cnit</th>\n",
       "      <th>tvv</th>\n",
       "      <th>cod_cbr</th>\n",
       "      <th>hybride</th>\n",
       "      <th>puiss_admin_98</th>\n",
       "      <th>puiss_max</th>\n",
       "      <th>typ_boite_nb_rapp</th>\n",
       "      <th>conso_urb</th>\n",
       "      <th>conso_exurb</th>\n",
       "      <th>conso_mixte</th>\n",
       "      <th>co2</th>\n",
       "      <th>co_typ_1</th>\n",
       "      <th>hc</th>\n",
       "      <th>nox</th>\n",
       "      <th>hcnox</th>\n",
       "      <th>ptcl</th>\n",
       "      <th>masse_ordma_min</th>\n",
       "      <th>masse_ordma_max</th>\n",
       "      <th>champ_v9</th>\n",
       "      <th>Carrosserie</th>\n",
       "      <th>gamme</th>\n",
       "    </tr>\n",
       "  </thead>\n",
       "  <tbody>\n",
       "    <tr>\n",
       "      <th>0</th>\n",
       "      <td>ALFA-ROMEO</td>\n",
       "      <td>159</td>\n",
       "      <td>159</td>\n",
       "      <td>159 1750 Tbi (200ch)</td>\n",
       "      <td>M10ALFVP000G340</td>\n",
       "      <td>939AXN1B52C</td>\n",
       "      <td>ES</td>\n",
       "      <td>non</td>\n",
       "      <td>12</td>\n",
       "      <td>147</td>\n",
       "      <td>M 6</td>\n",
       "      <td>11,30000019</td>\n",
       "      <td>5,800000191</td>\n",
       "      <td>7,800000191</td>\n",
       "      <td>182.0</td>\n",
       "      <td>0,647000015</td>\n",
       "      <td>0,052000001</td>\n",
       "      <td>0,032000002</td>\n",
       "      <td>NaN</td>\n",
       "      <td>0,002</td>\n",
       "      <td>1505</td>\n",
       "      <td>1505</td>\n",
       "      <td>715/2007*692/2008EURO5</td>\n",
       "      <td>BERLINE</td>\n",
       "      <td>MOY-SUPER</td>\n",
       "    </tr>\n",
       "    <tr>\n",
       "      <th>1</th>\n",
       "      <td>ALFA-ROMEO</td>\n",
       "      <td>159</td>\n",
       "      <td>159</td>\n",
       "      <td>159 1750 Tbi (200ch)</td>\n",
       "      <td>M10ALFVP000H341</td>\n",
       "      <td>939BXN1B53C</td>\n",
       "      <td>ES</td>\n",
       "      <td>non</td>\n",
       "      <td>12</td>\n",
       "      <td>147</td>\n",
       "      <td>M 6</td>\n",
       "      <td>11,5</td>\n",
       "      <td>6</td>\n",
       "      <td>8</td>\n",
       "      <td>186.0</td>\n",
       "      <td>0,647000015</td>\n",
       "      <td>0,052000001</td>\n",
       "      <td>0,032000002</td>\n",
       "      <td>NaN</td>\n",
       "      <td>0,002</td>\n",
       "      <td>1555</td>\n",
       "      <td>1555</td>\n",
       "      <td>715/2007*692/2008EURO5</td>\n",
       "      <td>BERLINE</td>\n",
       "      <td>MOY-SUPER</td>\n",
       "    </tr>\n",
       "  </tbody>\n",
       "</table>\n",
       "</div>"
      ],
      "text/plain": [
       "      lib_mrq lib_mod_doss lib_mod                 dscom             cnit  \\\n",
       "0  ALFA-ROMEO          159     159  159 1750 Tbi (200ch)  M10ALFVP000G340   \n",
       "1  ALFA-ROMEO          159     159  159 1750 Tbi (200ch)  M10ALFVP000H341   \n",
       "\n",
       "           tvv cod_cbr hybride  puiss_admin_98 puiss_max typ_boite_nb_rapp  \\\n",
       "0  939AXN1B52C      ES     non              12       147               M 6   \n",
       "1  939BXN1B53C      ES     non              12       147               M 6   \n",
       "\n",
       "     conso_urb  conso_exurb  conso_mixte    co2     co_typ_1           hc  \\\n",
       "0  11,30000019  5,800000191  7,800000191  182.0  0,647000015  0,052000001   \n",
       "1         11,5            6            8  186.0  0,647000015  0,052000001   \n",
       "\n",
       "           nox hcnox   ptcl  masse_ordma_min  masse_ordma_max  \\\n",
       "0  0,032000002   NaN  0,002             1505             1505   \n",
       "1  0,032000002   NaN  0,002             1555             1555   \n",
       "\n",
       "                 champ_v9 Carrosserie      gamme  \n",
       "0  715/2007*692/2008EURO5     BERLINE  MOY-SUPER  \n",
       "1  715/2007*692/2008EURO5     BERLINE  MOY-SUPER  "
      ]
     },
     "execution_count": 16,
     "metadata": {},
     "output_type": "execute_result"
    }
   ],
   "source": [
    "data.head(2)"
   ]
  },
  {
   "cell_type": "code",
   "execution_count": 17,
   "id": "e33c4369",
   "metadata": {},
   "outputs": [],
   "source": [
    "data['conso_urb'] =[float(str(i).replace(',', \".\")) for i in data['conso_urb'] ]\n",
    "data['conso_exurb'] =[float(str(i).replace(',', \".\")) for i in data['conso_exurb'] ]\n",
    "data['conso_mixte'] =[float(str(i).replace(',', \".\")) for i in data['conso_mixte'] ]\n",
    "data['puiss_max'] =[float(str(i).replace(',', \".\")) for i in data['puiss_max'] ]\n",
    "\n",
    "data[\"puiss_max\"] = data[\"puiss_max\"].astype('float')\n",
    "data['conso_urb'] = data['conso_urb'].astype('float')\n",
    "data['conso_exurb'] = data['conso_exurb'].astype('float')\n",
    "data['conso_mixte'] = data['conso_mixte'].astype('float')"
   ]
  },
  {
   "cell_type": "markdown",
   "id": "a58a59dd",
   "metadata": {},
   "source": [
    "## <font color=\"red\" id=\"section_4\" > 4. Description statistique et distribution"
   ]
  },
  {
   "cell_type": "code",
   "execution_count": 18,
   "id": "57704c0d",
   "metadata": {},
   "outputs": [
    {
     "data": {
      "text/html": [
       "<div>\n",
       "<style scoped>\n",
       "    .dataframe tbody tr th:only-of-type {\n",
       "        vertical-align: middle;\n",
       "    }\n",
       "\n",
       "    .dataframe tbody tr th {\n",
       "        vertical-align: top;\n",
       "    }\n",
       "\n",
       "    .dataframe thead th {\n",
       "        text-align: right;\n",
       "    }\n",
       "</style>\n",
       "<table border=\"1\" class=\"dataframe\">\n",
       "  <thead>\n",
       "    <tr style=\"text-align: right;\">\n",
       "      <th></th>\n",
       "      <th>count</th>\n",
       "      <th>mean</th>\n",
       "      <th>std</th>\n",
       "      <th>min</th>\n",
       "      <th>25%</th>\n",
       "      <th>50%</th>\n",
       "      <th>75%</th>\n",
       "      <th>max</th>\n",
       "    </tr>\n",
       "  </thead>\n",
       "  <tbody>\n",
       "    <tr>\n",
       "      <th>puiss_admin_98</th>\n",
       "      <td>55037.0</td>\n",
       "      <td>10.552192</td>\n",
       "      <td>5.125965</td>\n",
       "      <td>1.0</td>\n",
       "      <td>9.0</td>\n",
       "      <td>10.0</td>\n",
       "      <td>10.0</td>\n",
       "      <td>81.000000</td>\n",
       "    </tr>\n",
       "    <tr>\n",
       "      <th>conso_urb</th>\n",
       "      <td>54994.0</td>\n",
       "      <td>9.576366</td>\n",
       "      <td>2.081887</td>\n",
       "      <td>0.0</td>\n",
       "      <td>8.8</td>\n",
       "      <td>9.4</td>\n",
       "      <td>10.2</td>\n",
       "      <td>41.099998</td>\n",
       "    </tr>\n",
       "    <tr>\n",
       "      <th>conso_exurb</th>\n",
       "      <td>54994.0</td>\n",
       "      <td>6.730391</td>\n",
       "      <td>1.038366</td>\n",
       "      <td>2.8</td>\n",
       "      <td>6.5</td>\n",
       "      <td>6.9</td>\n",
       "      <td>7.2</td>\n",
       "      <td>14.900000</td>\n",
       "    </tr>\n",
       "    <tr>\n",
       "      <th>conso_mixte</th>\n",
       "      <td>55003.0</td>\n",
       "      <td>7.765189</td>\n",
       "      <td>1.381371</td>\n",
       "      <td>0.6</td>\n",
       "      <td>7.3</td>\n",
       "      <td>7.8</td>\n",
       "      <td>8.3</td>\n",
       "      <td>24.500000</td>\n",
       "    </tr>\n",
       "    <tr>\n",
       "      <th>co2</th>\n",
       "      <td>55003.0</td>\n",
       "      <td>201.718070</td>\n",
       "      <td>33.963885</td>\n",
       "      <td>13.0</td>\n",
       "      <td>193.0</td>\n",
       "      <td>205.0</td>\n",
       "      <td>216.0</td>\n",
       "      <td>572.000000</td>\n",
       "    </tr>\n",
       "    <tr>\n",
       "      <th>masse_ordma_min</th>\n",
       "      <td>55037.0</td>\n",
       "      <td>2102.232843</td>\n",
       "      <td>294.526624</td>\n",
       "      <td>825.0</td>\n",
       "      <td>1982.0</td>\n",
       "      <td>2076.0</td>\n",
       "      <td>2246.0</td>\n",
       "      <td>2760.000000</td>\n",
       "    </tr>\n",
       "    <tr>\n",
       "      <th>masse_ordma_max</th>\n",
       "      <td>55037.0</td>\n",
       "      <td>2341.173810</td>\n",
       "      <td>423.876510</td>\n",
       "      <td>825.0</td>\n",
       "      <td>2075.0</td>\n",
       "      <td>2355.0</td>\n",
       "      <td>2709.0</td>\n",
       "      <td>3094.000000</td>\n",
       "    </tr>\n",
       "  </tbody>\n",
       "</table>\n",
       "</div>"
      ],
      "text/plain": [
       "                   count         mean         std    min     25%     50%  \\\n",
       "puiss_admin_98   55037.0    10.552192    5.125965    1.0     9.0    10.0   \n",
       "conso_urb        54994.0     9.576366    2.081887    0.0     8.8     9.4   \n",
       "conso_exurb      54994.0     6.730391    1.038366    2.8     6.5     6.9   \n",
       "conso_mixte      55003.0     7.765189    1.381371    0.6     7.3     7.8   \n",
       "co2              55003.0   201.718070   33.963885   13.0   193.0   205.0   \n",
       "masse_ordma_min  55037.0  2102.232843  294.526624  825.0  1982.0  2076.0   \n",
       "masse_ordma_max  55037.0  2341.173810  423.876510  825.0  2075.0  2355.0   \n",
       "\n",
       "                    75%          max  \n",
       "puiss_admin_98     10.0    81.000000  \n",
       "conso_urb          10.2    41.099998  \n",
       "conso_exurb         7.2    14.900000  \n",
       "conso_mixte         8.3    24.500000  \n",
       "co2               216.0   572.000000  \n",
       "masse_ordma_min  2246.0  2760.000000  \n",
       "masse_ordma_max  2709.0  3094.000000  "
      ]
     },
     "execution_count": 18,
     "metadata": {},
     "output_type": "execute_result"
    }
   ],
   "source": [
    "data.describe().T"
   ]
  },
  {
   "cell_type": "code",
   "execution_count": 19,
   "id": "24bbb827",
   "metadata": {},
   "outputs": [
    {
     "data": {
      "text/plain": [
       "['puiss_admin_98',\n",
       " 'conso_urb',\n",
       " 'conso_exurb',\n",
       " 'conso_mixte',\n",
       " 'co2',\n",
       " 'masse_ordma_min',\n",
       " 'masse_ordma_max']"
      ]
     },
     "execution_count": 19,
     "metadata": {},
     "output_type": "execute_result"
    }
   ],
   "source": [
    "var_num = data.select_dtypes( include = ['float', 'int']).columns.to_list()\n",
    "var_num"
   ]
  },
  {
   "cell_type": "code",
   "execution_count": 20,
   "id": "97b9f991",
   "metadata": {
    "scrolled": false
   },
   "outputs": [
    {
     "data": {
      "image/png": "[encoded data removed]",
      "text/plain": [
       "<Figure size 1080x360 with 2 Axes>"
      ]
     },
     "metadata": {
      "needs_background": "light"
     },
     "output_type": "display_data"
    },
    {
     "data": {
      "image/png": "[encoded data removed]",
      "text/plain": [
       "<Figure size 1080x360 with 2 Axes>"
      ]
     },
     "metadata": {
      "needs_background": "light"
     },
     "output_type": "display_data"
    },
    {
     "data": {
      "image/png": "[encoded data removed]",
      "text/plain": [
       "<Figure size 1080x360 with 2 Axes>"
      ]
     },
     "metadata": {
      "needs_background": "light"
     },
     "output_type": "display_data"
    },
    {
     "data": {
      "image/png": "[encoded data removed]",
      "text/plain": [
       "<Figure size 1080x360 with 2 Axes>"
      ]
     },
     "metadata": {
      "needs_background": "light"
     },
     "output_type": "display_data"
    },
    {
     "data": {
      "image/png": "[encoded data removed]",
      "text/plain": [
       "<Figure size 1080x360 with 2 Axes>"
      ]
     },
     "metadata": {
      "needs_background": "light"
     },
     "output_type": "display_data"
    },
    {
     "data": {
      "image/png": "[encoded data removed]",
      "text/plain": [
       "<Figure size 1080x360 with 2 Axes>"
      ]
     },
     "metadata": {
      "needs_background": "light"
     },
     "output_type": "display_data"
    },
    {
     "data": {
      "image/png": "[encoded data removed]",
      "text/plain": [
       "<Figure size 1080x360 with 2 Axes>"
      ]
     },
     "metadata": {
      "needs_background": "light"
     },
     "output_type": "display_data"
    }
   ],
   "source": [
    "plt.rcParams[\"figure.figsize\"] = [15,5]\n",
    "grid = plt.GridSpec(2,2 , wspace=0.5, hspace=0.8)\n",
    "for col in data.select_dtypes( include = ['float', 'int']).columns.to_list():\n",
    "    plt.figure()\n",
    "    ax0 = plt.subplot(grid[0, 0:1])\n",
    "    ax0= sns.distplot(data[col], kde =True)\n",
    "    ax0.set_title(\"Distribution vs loi normal: {}\" .format(col), fontsize = 12)\n",
    "    ax1 = plt.subplot(grid[0, 1:])\n",
    "    ax1= sns.boxplot(data = data,  x = data[col], showfliers =False, showmeans =True)\n",
    "    ax1.set_title(\"Box plot de: {}\" .format(col), fontsize = 12)\n",
    "\n"
   ]
  },
  {
   "cell_type": "markdown",
   "id": "7936eb6f",
   "metadata": {},
   "source": [
    "# Commentaire : \n",
    "\n",
    "* Les distributions ne suivent pas une loi normale. Et en particulier, on peut observer que que la moitié de l'ensemble des voiture ont une emission de **CO2** supérieur à **205 g/km**.\n",
    "\n",
    "\n",
    "* Pas de valeurs aberrantes."
   ]
  },
  {
   "cell_type": "markdown",
   "id": "2e892cf1",
   "metadata": {},
   "source": [
    "# Avec des outliers"
   ]
  },
  {
   "cell_type": "code",
   "execution_count": 21,
   "id": "ac384f89",
   "metadata": {},
   "outputs": [
    {
     "data": {
      "image/png": "[encoded data removed]",
      "text/plain": [
       "<Figure size 1080x360 with 2 Axes>"
      ]
     },
     "metadata": {
      "needs_background": "light"
     },
     "output_type": "display_data"
    },
    {
     "data": {
      "image/png": "[encoded data removed]",
      "text/plain": [
       "<Figure size 1080x360 with 2 Axes>"
      ]
     },
     "metadata": {
      "needs_background": "light"
     },
     "output_type": "display_data"
    },
    {
     "data": {
      "image/png": "[encoded data removed]",
      "text/plain": [
       "<Figure size 1080x360 with 2 Axes>"
      ]
     },
     "metadata": {
      "needs_background": "light"
     },
     "output_type": "display_data"
    },
    {
     "data": {
      "image/png": "[encoded data removed]",
      "text/plain": [
       "<Figure size 1080x360 with 2 Axes>"
      ]
     },
     "metadata": {
      "needs_background": "light"
     },
     "output_type": "display_data"
    },
    {
     "data": {
      "image/png": "[encoded data removed]",
      "text/plain": [
       "<Figure size 1080x360 with 2 Axes>"
      ]
     },
     "metadata": {
      "needs_background": "light"
     },
     "output_type": "display_data"
    },
    {
     "data": {
      "image/png": "[encoded data removed]",
      "text/plain": [
       "<Figure size 1080x360 with 2 Axes>"
      ]
     },
     "metadata": {
      "needs_background": "light"
     },
     "output_type": "display_data"
    },
    {
     "data": {
      "image/png": "[encoded data removed]",
      "text/plain": [
       "<Figure size 1080x360 with 2 Axes>"
      ]
     },
     "metadata": {
      "needs_background": "light"
     },
     "output_type": "display_data"
    }
   ],
   "source": [
    "plt.rcParams[\"figure.figsize\"] = [15,5]\n",
    "grid = plt.GridSpec(2,2 , wspace=0.5, hspace=0.8)\n",
    "for col in data.select_dtypes( include = ['float', 'int']).columns.to_list():\n",
    "    plt.figure()\n",
    "    ax0 = plt.subplot(grid[0, 0:1])\n",
    "    ax0= sns.distplot(data[col], kde =True)\n",
    "    ax0.set_title(\"Distribution vs loi normal: {}\" .format(col), fontsize = 12)\n",
    "    ax1 = plt.subplot(grid[0, 1:])\n",
    "    ax1= sns.boxplot(data = data,  x = data[col], showfliers =True, showmeans =True)\n",
    "    ax1.set_title(\"Box plot de: {}\" .format(col), fontsize = 12)\n",
    "\n"
   ]
  },
  {
   "cell_type": "markdown",
   "id": "e8f7b767",
   "metadata": {},
   "source": [
    "# <font color = 'red' id = 'section_5'> 5. Selection variables pertinentes\n",
    "Dans cette partie, on va sélectionner les fonctionnalités les plus pertinentes pour la suite du projet."
   ]
  },
  {
   "cell_type": "code",
   "execution_count": 22,
   "id": "d39a4200",
   "metadata": {},
   "outputs": [
    {
     "data": {
      "text/html": [
       "<div>\n",
       "<style scoped>\n",
       "    .dataframe tbody tr th:only-of-type {\n",
       "        vertical-align: middle;\n",
       "    }\n",
       "\n",
       "    .dataframe tbody tr th {\n",
       "        vertical-align: top;\n",
       "    }\n",
       "\n",
       "    .dataframe thead th {\n",
       "        text-align: right;\n",
       "    }\n",
       "</style>\n",
       "<table border=\"1\" class=\"dataframe\">\n",
       "  <thead>\n",
       "    <tr style=\"text-align: right;\">\n",
       "      <th></th>\n",
       "      <th>lib_mrq</th>\n",
       "      <th>lib_mod_doss</th>\n",
       "      <th>lib_mod</th>\n",
       "      <th>dscom</th>\n",
       "      <th>cnit</th>\n",
       "      <th>tvv</th>\n",
       "      <th>cod_cbr</th>\n",
       "      <th>hybride</th>\n",
       "      <th>puiss_admin_98</th>\n",
       "      <th>puiss_max</th>\n",
       "      <th>typ_boite_nb_rapp</th>\n",
       "      <th>conso_urb</th>\n",
       "      <th>conso_exurb</th>\n",
       "      <th>conso_mixte</th>\n",
       "      <th>co2</th>\n",
       "      <th>co_typ_1</th>\n",
       "      <th>hc</th>\n",
       "      <th>nox</th>\n",
       "      <th>hcnox</th>\n",
       "      <th>ptcl</th>\n",
       "      <th>masse_ordma_min</th>\n",
       "      <th>masse_ordma_max</th>\n",
       "      <th>champ_v9</th>\n",
       "      <th>Carrosserie</th>\n",
       "      <th>gamme</th>\n",
       "    </tr>\n",
       "  </thead>\n",
       "  <tbody>\n",
       "    <tr>\n",
       "      <th>0</th>\n",
       "      <td>ALFA-ROMEO</td>\n",
       "      <td>159</td>\n",
       "      <td>159</td>\n",
       "      <td>159 1750 Tbi (200ch)</td>\n",
       "      <td>M10ALFVP000G340</td>\n",
       "      <td>939AXN1B52C</td>\n",
       "      <td>ES</td>\n",
       "      <td>non</td>\n",
       "      <td>12</td>\n",
       "      <td>147</td>\n",
       "      <td>M 6</td>\n",
       "      <td>11.3</td>\n",
       "      <td>5.8</td>\n",
       "      <td>7.8</td>\n",
       "      <td>182.0</td>\n",
       "      <td>0,647000015</td>\n",
       "      <td>0,052000001</td>\n",
       "      <td>0,032000002</td>\n",
       "      <td>NaN</td>\n",
       "      <td>0,002</td>\n",
       "      <td>1505</td>\n",
       "      <td>1505</td>\n",
       "      <td>715/2007*692/2008EURO5</td>\n",
       "      <td>BERLINE</td>\n",
       "      <td>MOY-SUPER</td>\n",
       "    </tr>\n",
       "    <tr>\n",
       "      <th>1</th>\n",
       "      <td>ALFA-ROMEO</td>\n",
       "      <td>159</td>\n",
       "      <td>159</td>\n",
       "      <td>159 1750 Tbi (200ch)</td>\n",
       "      <td>M10ALFVP000H341</td>\n",
       "      <td>939BXN1B53C</td>\n",
       "      <td>ES</td>\n",
       "      <td>non</td>\n",
       "      <td>12</td>\n",
       "      <td>147</td>\n",
       "      <td>M 6</td>\n",
       "      <td>11.5</td>\n",
       "      <td>6.0</td>\n",
       "      <td>8.0</td>\n",
       "      <td>186.0</td>\n",
       "      <td>0,647000015</td>\n",
       "      <td>0,052000001</td>\n",
       "      <td>0,032000002</td>\n",
       "      <td>NaN</td>\n",
       "      <td>0,002</td>\n",
       "      <td>1555</td>\n",
       "      <td>1555</td>\n",
       "      <td>715/2007*692/2008EURO5</td>\n",
       "      <td>BERLINE</td>\n",
       "      <td>MOY-SUPER</td>\n",
       "    </tr>\n",
       "  </tbody>\n",
       "</table>\n",
       "</div>"
      ],
      "text/plain": [
       "      lib_mrq lib_mod_doss lib_mod                 dscom             cnit  \\\n",
       "0  ALFA-ROMEO          159     159  159 1750 Tbi (200ch)  M10ALFVP000G340   \n",
       "1  ALFA-ROMEO          159     159  159 1750 Tbi (200ch)  M10ALFVP000H341   \n",
       "\n",
       "           tvv cod_cbr hybride  puiss_admin_98 puiss_max typ_boite_nb_rapp  \\\n",
       "0  939AXN1B52C      ES     non              12       147               M 6   \n",
       "1  939BXN1B53C      ES     non              12       147               M 6   \n",
       "\n",
       "   conso_urb  conso_exurb  conso_mixte    co2     co_typ_1           hc  \\\n",
       "0       11.3          5.8          7.8  182.0  0,647000015  0,052000001   \n",
       "1       11.5          6.0          8.0  186.0  0,647000015  0,052000001   \n",
       "\n",
       "           nox hcnox   ptcl  masse_ordma_min  masse_ordma_max  \\\n",
       "0  0,032000002   NaN  0,002             1505             1505   \n",
       "1  0,032000002   NaN  0,002             1555             1555   \n",
       "\n",
       "                 champ_v9 Carrosserie      gamme  \n",
       "0  715/2007*692/2008EURO5     BERLINE  MOY-SUPER  \n",
       "1  715/2007*692/2008EURO5     BERLINE  MOY-SUPER  "
      ]
     },
     "execution_count": 22,
     "metadata": {},
     "output_type": "execute_result"
    }
   ],
   "source": [
    "data.head(2)"
   ]
  },
  {
   "cell_type": "code",
   "execution_count": 23,
   "id": "a7685044",
   "metadata": {},
   "outputs": [],
   "source": [
    "var_selct_supp = ['lib_mod', 'dscom','tvv','co_typ_1', 'hc','nox','hcnox','ptcl','champ_v9']"
   ]
  },
  {
   "cell_type": "code",
   "execution_count": 24,
   "id": "fdabc1ac",
   "metadata": {},
   "outputs": [],
   "source": [
    "data.drop(var_selct_supp, axis = 1, inplace = True)"
   ]
  },
  {
   "cell_type": "code",
   "execution_count": 25,
   "id": "6625372e",
   "metadata": {},
   "outputs": [],
   "source": [
    "data_selct = data.copy()"
   ]
  },
  {
   "cell_type": "code",
   "execution_count": 26,
   "id": "7f5ba0d3",
   "metadata": {},
   "outputs": [
    {
     "data": {
      "text/plain": [
       "0"
      ]
     },
     "execution_count": 26,
     "metadata": {},
     "output_type": "execute_result"
    }
   ],
   "source": [
    "data_selct.duplicated().sum()"
   ]
  },
  {
   "cell_type": "code",
   "execution_count": 27,
   "id": "a9da7c2d",
   "metadata": {},
   "outputs": [
    {
     "data": {
      "text/html": [
       "<div>\n",
       "<style scoped>\n",
       "    .dataframe tbody tr th:only-of-type {\n",
       "        vertical-align: middle;\n",
       "    }\n",
       "\n",
       "    .dataframe tbody tr th {\n",
       "        vertical-align: top;\n",
       "    }\n",
       "\n",
       "    .dataframe thead th {\n",
       "        text-align: right;\n",
       "    }\n",
       "</style>\n",
       "<table border=\"1\" class=\"dataframe\">\n",
       "  <thead>\n",
       "    <tr style=\"text-align: right;\">\n",
       "      <th></th>\n",
       "      <th>Taux_remplissage</th>\n",
       "      <th>Valeurs manquantes</th>\n",
       "    </tr>\n",
       "  </thead>\n",
       "  <tbody>\n",
       "    <tr>\n",
       "      <th>lib_mrq</th>\n",
       "      <td>100.000000</td>\n",
       "      <td>0</td>\n",
       "    </tr>\n",
       "    <tr>\n",
       "      <th>lib_mod_doss</th>\n",
       "      <td>100.000000</td>\n",
       "      <td>0</td>\n",
       "    </tr>\n",
       "    <tr>\n",
       "      <th>cnit</th>\n",
       "      <td>100.000000</td>\n",
       "      <td>0</td>\n",
       "    </tr>\n",
       "    <tr>\n",
       "      <th>cod_cbr</th>\n",
       "      <td>100.000000</td>\n",
       "      <td>0</td>\n",
       "    </tr>\n",
       "    <tr>\n",
       "      <th>hybride</th>\n",
       "      <td>100.000000</td>\n",
       "      <td>0</td>\n",
       "    </tr>\n",
       "    <tr>\n",
       "      <th>puiss_admin_98</th>\n",
       "      <td>100.000000</td>\n",
       "      <td>0</td>\n",
       "    </tr>\n",
       "    <tr>\n",
       "      <th>puiss_max</th>\n",
       "      <td>100.000000</td>\n",
       "      <td>0</td>\n",
       "    </tr>\n",
       "    <tr>\n",
       "      <th>typ_boite_nb_rapp</th>\n",
       "      <td>100.000000</td>\n",
       "      <td>0</td>\n",
       "    </tr>\n",
       "    <tr>\n",
       "      <th>masse_ordma_min</th>\n",
       "      <td>100.000000</td>\n",
       "      <td>0</td>\n",
       "    </tr>\n",
       "    <tr>\n",
       "      <th>masse_ordma_max</th>\n",
       "      <td>100.000000</td>\n",
       "      <td>0</td>\n",
       "    </tr>\n",
       "    <tr>\n",
       "      <th>Carrosserie</th>\n",
       "      <td>100.000000</td>\n",
       "      <td>0</td>\n",
       "    </tr>\n",
       "    <tr>\n",
       "      <th>gamme</th>\n",
       "      <td>100.000000</td>\n",
       "      <td>0</td>\n",
       "    </tr>\n",
       "    <tr>\n",
       "      <th>conso_mixte</th>\n",
       "      <td>99.938223</td>\n",
       "      <td>34</td>\n",
       "    </tr>\n",
       "    <tr>\n",
       "      <th>co2</th>\n",
       "      <td>99.938223</td>\n",
       "      <td>34</td>\n",
       "    </tr>\n",
       "    <tr>\n",
       "      <th>conso_urb</th>\n",
       "      <td>99.921871</td>\n",
       "      <td>43</td>\n",
       "    </tr>\n",
       "    <tr>\n",
       "      <th>conso_exurb</th>\n",
       "      <td>99.921871</td>\n",
       "      <td>43</td>\n",
       "    </tr>\n",
       "  </tbody>\n",
       "</table>\n",
       "</div>"
      ],
      "text/plain": [
       "                   Taux_remplissage  Valeurs manquantes\n",
       "lib_mrq                  100.000000                   0\n",
       "lib_mod_doss             100.000000                   0\n",
       "cnit                     100.000000                   0\n",
       "cod_cbr                  100.000000                   0\n",
       "hybride                  100.000000                   0\n",
       "puiss_admin_98           100.000000                   0\n",
       "puiss_max                100.000000                   0\n",
       "typ_boite_nb_rapp        100.000000                   0\n",
       "masse_ordma_min          100.000000                   0\n",
       "masse_ordma_max          100.000000                   0\n",
       "Carrosserie              100.000000                   0\n",
       "gamme                    100.000000                   0\n",
       "conso_mixte               99.938223                  34\n",
       "co2                       99.938223                  34\n",
       "conso_urb                 99.921871                  43\n",
       "conso_exurb               99.921871                  43"
      ]
     },
     "execution_count": 27,
     "metadata": {},
     "output_type": "execute_result"
    }
   ],
   "source": [
    "rech_nan(data_selct)"
   ]
  },
  {
   "cell_type": "markdown",
   "id": "2fc5b66e",
   "metadata": {},
   "source": [
    "### Regardons en détails, les aperçsus de ces $34$ valeurs manquantes."
   ]
  },
  {
   "cell_type": "code",
   "execution_count": 28,
   "id": "fa181b1e",
   "metadata": {},
   "outputs": [
    {
     "data": {
      "text/html": [
       "<div>\n",
       "<style scoped>\n",
       "    .dataframe tbody tr th:only-of-type {\n",
       "        vertical-align: middle;\n",
       "    }\n",
       "\n",
       "    .dataframe tbody tr th {\n",
       "        vertical-align: top;\n",
       "    }\n",
       "\n",
       "    .dataframe thead th {\n",
       "        text-align: right;\n",
       "    }\n",
       "</style>\n",
       "<table border=\"1\" class=\"dataframe\">\n",
       "  <thead>\n",
       "    <tr style=\"text-align: right;\">\n",
       "      <th></th>\n",
       "      <th>lib_mrq</th>\n",
       "      <th>puiss_admin_98</th>\n",
       "      <th>conso_mixte</th>\n",
       "      <th>co2</th>\n",
       "      <th>conso_urb</th>\n",
       "      <th>conso_exurb</th>\n",
       "    </tr>\n",
       "  </thead>\n",
       "  <tbody>\n",
       "    <tr>\n",
       "      <th>1074</th>\n",
       "      <td>BMW</td>\n",
       "      <td>3</td>\n",
       "      <td>NaN</td>\n",
       "      <td>NaN</td>\n",
       "      <td>NaN</td>\n",
       "      <td>NaN</td>\n",
       "    </tr>\n",
       "    <tr>\n",
       "      <th>1354</th>\n",
       "      <td>CITROEN</td>\n",
       "      <td>1</td>\n",
       "      <td>NaN</td>\n",
       "      <td>NaN</td>\n",
       "      <td>NaN</td>\n",
       "      <td>NaN</td>\n",
       "    </tr>\n",
       "    <tr>\n",
       "      <th>2068</th>\n",
       "      <td>FORD</td>\n",
       "      <td>1</td>\n",
       "      <td>NaN</td>\n",
       "      <td>NaN</td>\n",
       "      <td>NaN</td>\n",
       "      <td>NaN</td>\n",
       "    </tr>\n",
       "    <tr>\n",
       "      <th>7328</th>\n",
       "      <td>MERCEDES</td>\n",
       "      <td>15</td>\n",
       "      <td>NaN</td>\n",
       "      <td>NaN</td>\n",
       "      <td>NaN</td>\n",
       "      <td>NaN</td>\n",
       "    </tr>\n",
       "    <tr>\n",
       "      <th>7329</th>\n",
       "      <td>MERCEDES</td>\n",
       "      <td>15</td>\n",
       "      <td>NaN</td>\n",
       "      <td>NaN</td>\n",
       "      <td>NaN</td>\n",
       "      <td>NaN</td>\n",
       "    </tr>\n",
       "  </tbody>\n",
       "</table>\n",
       "</div>"
      ],
      "text/plain": [
       "       lib_mrq  puiss_admin_98  conso_mixte  co2  conso_urb  conso_exurb\n",
       "1074       BMW               3          NaN  NaN        NaN          NaN\n",
       "1354   CITROEN               1          NaN  NaN        NaN          NaN\n",
       "2068      FORD               1          NaN  NaN        NaN          NaN\n",
       "7328  MERCEDES              15          NaN  NaN        NaN          NaN\n",
       "7329  MERCEDES              15          NaN  NaN        NaN          NaN"
      ]
     },
     "execution_count": 28,
     "metadata": {},
     "output_type": "execute_result"
    }
   ],
   "source": [
    "data.loc[data['co2'].isna(), ['lib_mrq', 'puiss_admin_98','conso_mixte', 'co2', 'conso_urb', \"conso_exurb\" ]].head(5)"
   ]
  },
  {
   "cell_type": "markdown",
   "id": "4d691954",
   "metadata": {},
   "source": [
    "# <font color = 'red' id = 'section_6'> 6. Traitement des valeurs manquantes\n",
    "Par le bias de la methode KNNimputer, nous allons traiter les **34** valeurs manquantes."
   ]
  },
  {
   "cell_type": "code",
   "execution_count": 29,
   "id": "b5b586c2",
   "metadata": {},
   "outputs": [
    {
     "data": {
      "text/html": [
       "<div>\n",
       "<style scoped>\n",
       "    .dataframe tbody tr th:only-of-type {\n",
       "        vertical-align: middle;\n",
       "    }\n",
       "\n",
       "    .dataframe tbody tr th {\n",
       "        vertical-align: top;\n",
       "    }\n",
       "\n",
       "    .dataframe thead th {\n",
       "        text-align: right;\n",
       "    }\n",
       "</style>\n",
       "<table border=\"1\" class=\"dataframe\">\n",
       "  <thead>\n",
       "    <tr style=\"text-align: right;\">\n",
       "      <th></th>\n",
       "      <th>puiss_admin_98</th>\n",
       "      <th>conso_urb</th>\n",
       "      <th>conso_exurb</th>\n",
       "      <th>conso_mixte</th>\n",
       "      <th>co2</th>\n",
       "      <th>masse_ordma_min</th>\n",
       "      <th>masse_ordma_max</th>\n",
       "    </tr>\n",
       "  </thead>\n",
       "  <tbody>\n",
       "    <tr>\n",
       "      <th>0</th>\n",
       "      <td>12</td>\n",
       "      <td>11.3</td>\n",
       "      <td>5.8</td>\n",
       "      <td>7.8</td>\n",
       "      <td>182.0</td>\n",
       "      <td>1505</td>\n",
       "      <td>1505</td>\n",
       "    </tr>\n",
       "    <tr>\n",
       "      <th>1</th>\n",
       "      <td>12</td>\n",
       "      <td>11.5</td>\n",
       "      <td>6.0</td>\n",
       "      <td>8.0</td>\n",
       "      <td>186.0</td>\n",
       "      <td>1555</td>\n",
       "      <td>1555</td>\n",
       "    </tr>\n",
       "    <tr>\n",
       "      <th>2</th>\n",
       "      <td>7</td>\n",
       "      <td>6.6</td>\n",
       "      <td>4.2</td>\n",
       "      <td>5.1</td>\n",
       "      <td>134.0</td>\n",
       "      <td>1565</td>\n",
       "      <td>1565</td>\n",
       "    </tr>\n",
       "  </tbody>\n",
       "</table>\n",
       "</div>"
      ],
      "text/plain": [
       "   puiss_admin_98  conso_urb  conso_exurb  conso_mixte    co2  \\\n",
       "0              12       11.3          5.8          7.8  182.0   \n",
       "1              12       11.5          6.0          8.0  186.0   \n",
       "2               7        6.6          4.2          5.1  134.0   \n",
       "\n",
       "   masse_ordma_min  masse_ordma_max  \n",
       "0             1505             1505  \n",
       "1             1555             1555  \n",
       "2             1565             1565  "
      ]
     },
     "execution_count": 29,
     "metadata": {},
     "output_type": "execute_result"
    }
   ],
   "source": [
    "var_num = data.select_dtypes(include = ['float64', 'int64']).columns.to_list()\n",
    "data_num = data[var_num]\n",
    "data_num.head(3)"
   ]
  },
  {
   "cell_type": "markdown",
   "id": "6c6dffa5",
   "metadata": {},
   "source": [
    "### Recherche du bon k de voisinage"
   ]
  },
  {
   "cell_type": "code",
   "execution_count": 30,
   "id": "b7c8dd81",
   "metadata": {},
   "outputs": [],
   "source": [
    "rmse = lambda y, yhat: np.sqrt(mean_squared_error(y, yhat))\n",
    "def recherche_k(data, target):\n",
    "    errors = []\n",
    "    for k in range(1, 20, 2):\n",
    "        imputer = KNNImputer(n_neighbors=k)\n",
    "        imputed = imputer.fit_transform(data)\n",
    "        df_imputed = pd.DataFrame(imputed, columns=data.columns)\n",
    "        \n",
    "        X = df_imputed.drop(target, axis=1)\n",
    "        y = df_imputed[target]\n",
    "        X_train, X_test, y_train, y_test = train_test_split(X, y, test_size=0.2, random_state=42)\n",
    "\n",
    "        model = RandomForestRegressor()\n",
    "        model.fit(X_train, y_train)\n",
    "        preds = model.predict(X_test)\n",
    "        error = rmse(y_test, preds)\n",
    "        errors.append({'K': k, 'RMSE': error})\n",
    "        \n",
    "    return errors"
   ]
  },
  {
   "cell_type": "code",
   "execution_count": 31,
   "id": "4e5f6819",
   "metadata": {},
   "outputs": [
    {
     "data": {
      "text/plain": [
       "[{'K': 1, 'RMSE': 0.9397565224065968},\n",
       " {'K': 3, 'RMSE': 1.050764300826874},\n",
       " {'K': 5, 'RMSE': 1.1044382158133537},\n",
       " {'K': 7, 'RMSE': 1.0084197352754676},\n",
       " {'K': 9, 'RMSE': 1.048047870456416},\n",
       " {'K': 11, 'RMSE': 0.9713911095413905},\n",
       " {'K': 13, 'RMSE': 1.0384658523382848},\n",
       " {'K': 15, 'RMSE': 1.0058239238947342},\n",
       " {'K': 17, 'RMSE': 1.0072250634257345},\n",
       " {'K': 19, 'RMSE': 1.008536531441215}]"
      ]
     },
     "execution_count": 31,
     "metadata": {},
     "output_type": "execute_result"
    }
   ],
   "source": [
    "recherche_k(data_num, 'co2')"
   ]
  },
  {
   "cell_type": "markdown",
   "id": "2deff788",
   "metadata": {},
   "source": [
    "## On choisira k = 3 pour imputer les Nan, car l'erreur étant plus faible."
   ]
  },
  {
   "cell_type": "code",
   "execution_count": 32,
   "id": "d0040b0c",
   "metadata": {},
   "outputs": [
    {
     "data": {
      "text/html": [
       "<div>\n",
       "<style scoped>\n",
       "    .dataframe tbody tr th:only-of-type {\n",
       "        vertical-align: middle;\n",
       "    }\n",
       "\n",
       "    .dataframe tbody tr th {\n",
       "        vertical-align: top;\n",
       "    }\n",
       "\n",
       "    .dataframe thead th {\n",
       "        text-align: right;\n",
       "    }\n",
       "</style>\n",
       "<table border=\"1\" class=\"dataframe\">\n",
       "  <thead>\n",
       "    <tr style=\"text-align: right;\">\n",
       "      <th></th>\n",
       "      <th>puiss_admin_98</th>\n",
       "      <th>conso_urb</th>\n",
       "      <th>conso_exurb</th>\n",
       "      <th>conso_mixte</th>\n",
       "      <th>co2</th>\n",
       "      <th>masse_ordma_min</th>\n",
       "      <th>masse_ordma_max</th>\n",
       "    </tr>\n",
       "  </thead>\n",
       "  <tbody>\n",
       "    <tr>\n",
       "      <th>0</th>\n",
       "      <td>12.0</td>\n",
       "      <td>11.3</td>\n",
       "      <td>5.8</td>\n",
       "      <td>7.8</td>\n",
       "      <td>182.0</td>\n",
       "      <td>1505.0</td>\n",
       "      <td>1505.0</td>\n",
       "    </tr>\n",
       "    <tr>\n",
       "      <th>1</th>\n",
       "      <td>12.0</td>\n",
       "      <td>11.5</td>\n",
       "      <td>6.0</td>\n",
       "      <td>8.0</td>\n",
       "      <td>186.0</td>\n",
       "      <td>1555.0</td>\n",
       "      <td>1555.0</td>\n",
       "    </tr>\n",
       "    <tr>\n",
       "      <th>2</th>\n",
       "      <td>7.0</td>\n",
       "      <td>6.6</td>\n",
       "      <td>4.2</td>\n",
       "      <td>5.1</td>\n",
       "      <td>134.0</td>\n",
       "      <td>1565.0</td>\n",
       "      <td>1565.0</td>\n",
       "    </tr>\n",
       "    <tr>\n",
       "      <th>3</th>\n",
       "      <td>7.0</td>\n",
       "      <td>6.6</td>\n",
       "      <td>4.2</td>\n",
       "      <td>5.1</td>\n",
       "      <td>134.0</td>\n",
       "      <td>1565.0</td>\n",
       "      <td>1565.0</td>\n",
       "    </tr>\n",
       "    <tr>\n",
       "      <th>4</th>\n",
       "      <td>9.0</td>\n",
       "      <td>6.9</td>\n",
       "      <td>4.3</td>\n",
       "      <td>5.3</td>\n",
       "      <td>139.0</td>\n",
       "      <td>1565.0</td>\n",
       "      <td>1565.0</td>\n",
       "    </tr>\n",
       "  </tbody>\n",
       "</table>\n",
       "</div>"
      ],
      "text/plain": [
       "   puiss_admin_98  conso_urb  conso_exurb  conso_mixte    co2  \\\n",
       "0            12.0       11.3          5.8          7.8  182.0   \n",
       "1            12.0       11.5          6.0          8.0  186.0   \n",
       "2             7.0        6.6          4.2          5.1  134.0   \n",
       "3             7.0        6.6          4.2          5.1  134.0   \n",
       "4             9.0        6.9          4.3          5.3  139.0   \n",
       "\n",
       "   masse_ordma_min  masse_ordma_max  \n",
       "0           1505.0           1505.0  \n",
       "1           1555.0           1555.0  \n",
       "2           1565.0           1565.0  \n",
       "3           1565.0           1565.0  \n",
       "4           1565.0           1565.0  "
      ]
     },
     "execution_count": 32,
     "metadata": {},
     "output_type": "execute_result"
    }
   ],
   "source": [
    "imputer_model = KNNImputer(n_neighbors = 3)\n",
    "imputed = imputer_model.fit_transform(data_num)\n",
    "df_imputer =pd.DataFrame(imputed, columns = data_num.columns)\n",
    "df_imputer.head()"
   ]
  },
  {
   "cell_type": "code",
   "execution_count": 33,
   "id": "cc1d5d60",
   "metadata": {},
   "outputs": [
    {
     "data": {
      "text/plain": [
       "(55037, 7)"
      ]
     },
     "execution_count": 33,
     "metadata": {},
     "output_type": "execute_result"
    }
   ],
   "source": [
    "df_imputer.shape"
   ]
  },
  {
   "cell_type": "code",
   "execution_count": 34,
   "id": "1aee6e89",
   "metadata": {},
   "outputs": [
    {
     "data": {
      "text/plain": [
       "puiss_admin_98     0\n",
       "conso_urb          0\n",
       "conso_exurb        0\n",
       "conso_mixte        0\n",
       "co2                0\n",
       "masse_ordma_min    0\n",
       "masse_ordma_max    0\n",
       "dtype: int64"
      ]
     },
     "execution_count": 34,
     "metadata": {},
     "output_type": "execute_result"
    }
   ],
   "source": [
    "df_imputer.isna().sum()"
   ]
  },
  {
   "cell_type": "markdown",
   "id": "60faff8d",
   "metadata": {},
   "source": [
    "## Actualisation aprés traitement"
   ]
  },
  {
   "cell_type": "code",
   "execution_count": 35,
   "id": "a9ef80ea",
   "metadata": {},
   "outputs": [],
   "source": [
    "data_selct.drop(var_num, inplace =True, axis =1)"
   ]
  },
  {
   "cell_type": "code",
   "execution_count": 36,
   "id": "88b91a4d",
   "metadata": {},
   "outputs": [],
   "source": [
    "data_selct = pd.merge(data_selct,df_imputer, left_index =True, right_index =True)"
   ]
  },
  {
   "cell_type": "code",
   "execution_count": 37,
   "id": "300d93e1",
   "metadata": {},
   "outputs": [
    {
     "data": {
      "text/html": [
       "<div>\n",
       "<style scoped>\n",
       "    .dataframe tbody tr th:only-of-type {\n",
       "        vertical-align: middle;\n",
       "    }\n",
       "\n",
       "    .dataframe tbody tr th {\n",
       "        vertical-align: top;\n",
       "    }\n",
       "\n",
       "    .dataframe thead th {\n",
       "        text-align: right;\n",
       "    }\n",
       "</style>\n",
       "<table border=\"1\" class=\"dataframe\">\n",
       "  <thead>\n",
       "    <tr style=\"text-align: right;\">\n",
       "      <th></th>\n",
       "      <th>lib_mrq</th>\n",
       "      <th>lib_mod_doss</th>\n",
       "      <th>cnit</th>\n",
       "      <th>cod_cbr</th>\n",
       "      <th>hybride</th>\n",
       "      <th>puiss_max</th>\n",
       "      <th>typ_boite_nb_rapp</th>\n",
       "      <th>Carrosserie</th>\n",
       "      <th>gamme</th>\n",
       "      <th>puiss_admin_98</th>\n",
       "      <th>conso_urb</th>\n",
       "      <th>conso_exurb</th>\n",
       "      <th>conso_mixte</th>\n",
       "      <th>co2</th>\n",
       "      <th>masse_ordma_min</th>\n",
       "      <th>masse_ordma_max</th>\n",
       "    </tr>\n",
       "  </thead>\n",
       "  <tbody>\n",
       "    <tr>\n",
       "      <th>0</th>\n",
       "      <td>ALFA-ROMEO</td>\n",
       "      <td>159</td>\n",
       "      <td>M10ALFVP000G340</td>\n",
       "      <td>ES</td>\n",
       "      <td>non</td>\n",
       "      <td>147</td>\n",
       "      <td>M 6</td>\n",
       "      <td>BERLINE</td>\n",
       "      <td>MOY-SUPER</td>\n",
       "      <td>12.0</td>\n",
       "      <td>11.3</td>\n",
       "      <td>5.8</td>\n",
       "      <td>7.8</td>\n",
       "      <td>182.0</td>\n",
       "      <td>1505.0</td>\n",
       "      <td>1505.0</td>\n",
       "    </tr>\n",
       "    <tr>\n",
       "      <th>1</th>\n",
       "      <td>ALFA-ROMEO</td>\n",
       "      <td>159</td>\n",
       "      <td>M10ALFVP000H341</td>\n",
       "      <td>ES</td>\n",
       "      <td>non</td>\n",
       "      <td>147</td>\n",
       "      <td>M 6</td>\n",
       "      <td>BERLINE</td>\n",
       "      <td>MOY-SUPER</td>\n",
       "      <td>12.0</td>\n",
       "      <td>11.5</td>\n",
       "      <td>6.0</td>\n",
       "      <td>8.0</td>\n",
       "      <td>186.0</td>\n",
       "      <td>1555.0</td>\n",
       "      <td>1555.0</td>\n",
       "    </tr>\n",
       "  </tbody>\n",
       "</table>\n",
       "</div>"
      ],
      "text/plain": [
       "      lib_mrq lib_mod_doss             cnit cod_cbr hybride puiss_max  \\\n",
       "0  ALFA-ROMEO          159  M10ALFVP000G340      ES     non       147   \n",
       "1  ALFA-ROMEO          159  M10ALFVP000H341      ES     non       147   \n",
       "\n",
       "  typ_boite_nb_rapp Carrosserie      gamme  puiss_admin_98  conso_urb  \\\n",
       "0               M 6     BERLINE  MOY-SUPER            12.0       11.3   \n",
       "1               M 6     BERLINE  MOY-SUPER            12.0       11.5   \n",
       "\n",
       "   conso_exurb  conso_mixte    co2  masse_ordma_min  masse_ordma_max  \n",
       "0          5.8          7.8  182.0           1505.0           1505.0  \n",
       "1          6.0          8.0  186.0           1555.0           1555.0  "
      ]
     },
     "execution_count": 37,
     "metadata": {},
     "output_type": "execute_result"
    }
   ],
   "source": [
    "data_selct.head(2)"
   ]
  },
  {
   "cell_type": "code",
   "execution_count": 38,
   "id": "4e30acb6",
   "metadata": {},
   "outputs": [
    {
     "data": {
      "text/plain": [
       "(55030, 16)"
      ]
     },
     "execution_count": 38,
     "metadata": {},
     "output_type": "execute_result"
    }
   ],
   "source": [
    "data_selct.shape"
   ]
  },
  {
   "cell_type": "markdown",
   "id": "8e2a23a0",
   "metadata": {},
   "source": [
    "## Vérification"
   ]
  },
  {
   "cell_type": "code",
   "execution_count": 39,
   "id": "e692f31c",
   "metadata": {},
   "outputs": [
    {
     "data": {
      "text/html": [
       "<div>\n",
       "<style scoped>\n",
       "    .dataframe tbody tr th:only-of-type {\n",
       "        vertical-align: middle;\n",
       "    }\n",
       "\n",
       "    .dataframe tbody tr th {\n",
       "        vertical-align: top;\n",
       "    }\n",
       "\n",
       "    .dataframe thead th {\n",
       "        text-align: right;\n",
       "    }\n",
       "</style>\n",
       "<table border=\"1\" class=\"dataframe\">\n",
       "  <thead>\n",
       "    <tr style=\"text-align: right;\">\n",
       "      <th></th>\n",
       "      <th>Taux_remplissage</th>\n",
       "      <th>Valeurs manquantes</th>\n",
       "    </tr>\n",
       "  </thead>\n",
       "  <tbody>\n",
       "    <tr>\n",
       "      <th>lib_mrq</th>\n",
       "      <td>100.0</td>\n",
       "      <td>0</td>\n",
       "    </tr>\n",
       "    <tr>\n",
       "      <th>lib_mod_doss</th>\n",
       "      <td>100.0</td>\n",
       "      <td>0</td>\n",
       "    </tr>\n",
       "    <tr>\n",
       "      <th>cnit</th>\n",
       "      <td>100.0</td>\n",
       "      <td>0</td>\n",
       "    </tr>\n",
       "    <tr>\n",
       "      <th>cod_cbr</th>\n",
       "      <td>100.0</td>\n",
       "      <td>0</td>\n",
       "    </tr>\n",
       "    <tr>\n",
       "      <th>hybride</th>\n",
       "      <td>100.0</td>\n",
       "      <td>0</td>\n",
       "    </tr>\n",
       "    <tr>\n",
       "      <th>puiss_max</th>\n",
       "      <td>100.0</td>\n",
       "      <td>0</td>\n",
       "    </tr>\n",
       "    <tr>\n",
       "      <th>typ_boite_nb_rapp</th>\n",
       "      <td>100.0</td>\n",
       "      <td>0</td>\n",
       "    </tr>\n",
       "    <tr>\n",
       "      <th>Carrosserie</th>\n",
       "      <td>100.0</td>\n",
       "      <td>0</td>\n",
       "    </tr>\n",
       "    <tr>\n",
       "      <th>gamme</th>\n",
       "      <td>100.0</td>\n",
       "      <td>0</td>\n",
       "    </tr>\n",
       "    <tr>\n",
       "      <th>puiss_admin_98</th>\n",
       "      <td>100.0</td>\n",
       "      <td>0</td>\n",
       "    </tr>\n",
       "    <tr>\n",
       "      <th>conso_urb</th>\n",
       "      <td>100.0</td>\n",
       "      <td>0</td>\n",
       "    </tr>\n",
       "    <tr>\n",
       "      <th>conso_exurb</th>\n",
       "      <td>100.0</td>\n",
       "      <td>0</td>\n",
       "    </tr>\n",
       "    <tr>\n",
       "      <th>conso_mixte</th>\n",
       "      <td>100.0</td>\n",
       "      <td>0</td>\n",
       "    </tr>\n",
       "    <tr>\n",
       "      <th>co2</th>\n",
       "      <td>100.0</td>\n",
       "      <td>0</td>\n",
       "    </tr>\n",
       "    <tr>\n",
       "      <th>masse_ordma_min</th>\n",
       "      <td>100.0</td>\n",
       "      <td>0</td>\n",
       "    </tr>\n",
       "    <tr>\n",
       "      <th>masse_ordma_max</th>\n",
       "      <td>100.0</td>\n",
       "      <td>0</td>\n",
       "    </tr>\n",
       "  </tbody>\n",
       "</table>\n",
       "</div>"
      ],
      "text/plain": [
       "                   Taux_remplissage  Valeurs manquantes\n",
       "lib_mrq                       100.0                   0\n",
       "lib_mod_doss                  100.0                   0\n",
       "cnit                          100.0                   0\n",
       "cod_cbr                       100.0                   0\n",
       "hybride                       100.0                   0\n",
       "puiss_max                     100.0                   0\n",
       "typ_boite_nb_rapp             100.0                   0\n",
       "Carrosserie                   100.0                   0\n",
       "gamme                         100.0                   0\n",
       "puiss_admin_98                100.0                   0\n",
       "conso_urb                     100.0                   0\n",
       "conso_exurb                   100.0                   0\n",
       "conso_mixte                   100.0                   0\n",
       "co2                           100.0                   0\n",
       "masse_ordma_min               100.0                   0\n",
       "masse_ordma_max               100.0                   0"
      ]
     },
     "execution_count": 39,
     "metadata": {},
     "output_type": "execute_result"
    }
   ],
   "source": [
    "rech_nan(data_selct)"
   ]
  },
  {
   "cell_type": "code",
   "execution_count": 40,
   "id": "c06b2b94",
   "metadata": {},
   "outputs": [
    {
     "data": {
      "text/plain": [
       "0"
      ]
     },
     "execution_count": 40,
     "metadata": {},
     "output_type": "execute_result"
    }
   ],
   "source": [
    "data_selct.duplicated().sum()"
   ]
  },
  {
   "cell_type": "code",
   "execution_count": 41,
   "id": "92ba4e62",
   "metadata": {},
   "outputs": [],
   "source": [
    "data_selct.drop_duplicates(inplace =True)"
   ]
  },
  {
   "cell_type": "code",
   "execution_count": 42,
   "id": "08b4b7f8",
   "metadata": {},
   "outputs": [
    {
     "data": {
      "text/plain": [
       "(55030, 16)"
      ]
     },
     "execution_count": 42,
     "metadata": {},
     "output_type": "execute_result"
    }
   ],
   "source": [
    "data_selct.shape"
   ]
  },
  {
   "cell_type": "markdown",
   "id": "53ccc261",
   "metadata": {},
   "source": [
    "# <font color = 'red' id = 'section_7'>  7. Feature engineering\n",
    "\n",
    "## <font color = 'red' id = 'section_7_1'>  7.1  : Transformation de la variable: typ_boite_nb_rapp\n",
    " On va éclater cette variable en Type de boite et Nombre de rapport "
   ]
  },
  {
   "cell_type": "code",
   "execution_count": 43,
   "id": "3e0fa37a",
   "metadata": {},
   "outputs": [
    {
     "data": {
      "text/plain": [
       "array(['M 6', 'A 6', 'D 6', 'M 5', 'V 0', 'A 7', 'A 8', 'A 5', 'A 4',\n",
       "       'D 7', 'D 5', 'A 1', 'A 9', 'A 0', 'S 6', 'N 0', 'M 7', 'V .',\n",
       "       'N 1'], dtype=object)"
      ]
     },
     "execution_count": 43,
     "metadata": {},
     "output_type": "execute_result"
    }
   ],
   "source": [
    "data_selct['typ_boite_nb_rapp'].unique()"
   ]
  },
  {
   "cell_type": "code",
   "execution_count": 44,
   "id": "36ad98c3",
   "metadata": {},
   "outputs": [
    {
     "data": {
      "text/html": [
       "<div>\n",
       "<style scoped>\n",
       "    .dataframe tbody tr th:only-of-type {\n",
       "        vertical-align: middle;\n",
       "    }\n",
       "\n",
       "    .dataframe tbody tr th {\n",
       "        vertical-align: top;\n",
       "    }\n",
       "\n",
       "    .dataframe thead th {\n",
       "        text-align: right;\n",
       "    }\n",
       "</style>\n",
       "<table border=\"1\" class=\"dataframe\">\n",
       "  <thead>\n",
       "    <tr style=\"text-align: right;\">\n",
       "      <th></th>\n",
       "      <th>puiss_max</th>\n",
       "      <th>typ_boite_nb_rapp</th>\n",
       "    </tr>\n",
       "  </thead>\n",
       "  <tbody>\n",
       "    <tr>\n",
       "      <th>41073</th>\n",
       "      <td>177</td>\n",
       "      <td>V .</td>\n",
       "    </tr>\n",
       "    <tr>\n",
       "      <th>41076</th>\n",
       "      <td>110</td>\n",
       "      <td>V .</td>\n",
       "    </tr>\n",
       "  </tbody>\n",
       "</table>\n",
       "</div>"
      ],
      "text/plain": [
       "      puiss_max typ_boite_nb_rapp\n",
       "41073       177               V .\n",
       "41076       110               V ."
      ]
     },
     "execution_count": 44,
     "metadata": {},
     "output_type": "execute_result"
    }
   ],
   "source": [
    "data_selct.loc[data_selct['typ_boite_nb_rapp']=='V .', [\"puiss_max\", 'typ_boite_nb_rapp']]"
   ]
  },
  {
   "cell_type": "markdown",
   "id": "8c077cfc",
   "metadata": {},
   "source": [
    "# Commentaire: \n",
    "Nous allons supprimer les lignes contenant modalités **V .**."
   ]
  },
  {
   "cell_type": "code",
   "execution_count": 45,
   "id": "145808aa",
   "metadata": {},
   "outputs": [],
   "source": [
    "#data[data['typ_boite_nb_rapp'].index ==41073]\n",
    "#data[data['typ_boite_nb_rapp'].index ==41076]\n",
    "data_selct.drop([41073, 41076], inplace = True)"
   ]
  },
  {
   "cell_type": "code",
   "execution_count": 46,
   "id": "92a85f07",
   "metadata": {},
   "outputs": [
    {
     "name": "stderr",
     "output_type": "stream",
     "text": [
      "100%|██████████| 55028/55028 [26:20<00:00, 34.82it/s]  \n"
     ]
    }
   ],
   "source": [
    "for i in tqdm(data_selct.index):\n",
    "    data_selct['typ_boite_nb_rapp'][i] = data_selct['typ_boite_nb_rapp'][i].split(\" \")"
   ]
  },
  {
   "cell_type": "code",
   "execution_count": 47,
   "id": "dd90bd71",
   "metadata": {},
   "outputs": [
    {
     "data": {
      "text/html": [
       "<div>\n",
       "<style scoped>\n",
       "    .dataframe tbody tr th:only-of-type {\n",
       "        vertical-align: middle;\n",
       "    }\n",
       "\n",
       "    .dataframe tbody tr th {\n",
       "        vertical-align: top;\n",
       "    }\n",
       "\n",
       "    .dataframe thead th {\n",
       "        text-align: right;\n",
       "    }\n",
       "</style>\n",
       "<table border=\"1\" class=\"dataframe\">\n",
       "  <thead>\n",
       "    <tr style=\"text-align: right;\">\n",
       "      <th></th>\n",
       "      <th>lib_mrq</th>\n",
       "      <th>lib_mod_doss</th>\n",
       "      <th>cnit</th>\n",
       "      <th>cod_cbr</th>\n",
       "      <th>hybride</th>\n",
       "      <th>puiss_max</th>\n",
       "      <th>typ_boite_nb_rapp</th>\n",
       "      <th>Carrosserie</th>\n",
       "      <th>gamme</th>\n",
       "      <th>puiss_admin_98</th>\n",
       "      <th>conso_urb</th>\n",
       "      <th>conso_exurb</th>\n",
       "      <th>conso_mixte</th>\n",
       "      <th>co2</th>\n",
       "      <th>masse_ordma_min</th>\n",
       "      <th>masse_ordma_max</th>\n",
       "    </tr>\n",
       "  </thead>\n",
       "  <tbody>\n",
       "    <tr>\n",
       "      <th>0</th>\n",
       "      <td>ALFA-ROMEO</td>\n",
       "      <td>159</td>\n",
       "      <td>M10ALFVP000G340</td>\n",
       "      <td>ES</td>\n",
       "      <td>non</td>\n",
       "      <td>147</td>\n",
       "      <td>[M, 6]</td>\n",
       "      <td>BERLINE</td>\n",
       "      <td>MOY-SUPER</td>\n",
       "      <td>12.0</td>\n",
       "      <td>11.3</td>\n",
       "      <td>5.8</td>\n",
       "      <td>7.8</td>\n",
       "      <td>182.0</td>\n",
       "      <td>1505.0</td>\n",
       "      <td>1505.0</td>\n",
       "    </tr>\n",
       "    <tr>\n",
       "      <th>1</th>\n",
       "      <td>ALFA-ROMEO</td>\n",
       "      <td>159</td>\n",
       "      <td>M10ALFVP000H341</td>\n",
       "      <td>ES</td>\n",
       "      <td>non</td>\n",
       "      <td>147</td>\n",
       "      <td>[M, 6]</td>\n",
       "      <td>BERLINE</td>\n",
       "      <td>MOY-SUPER</td>\n",
       "      <td>12.0</td>\n",
       "      <td>11.5</td>\n",
       "      <td>6.0</td>\n",
       "      <td>8.0</td>\n",
       "      <td>186.0</td>\n",
       "      <td>1555.0</td>\n",
       "      <td>1555.0</td>\n",
       "    </tr>\n",
       "  </tbody>\n",
       "</table>\n",
       "</div>"
      ],
      "text/plain": [
       "      lib_mrq lib_mod_doss             cnit cod_cbr hybride puiss_max  \\\n",
       "0  ALFA-ROMEO          159  M10ALFVP000G340      ES     non       147   \n",
       "1  ALFA-ROMEO          159  M10ALFVP000H341      ES     non       147   \n",
       "\n",
       "  typ_boite_nb_rapp Carrosserie      gamme  puiss_admin_98  conso_urb  \\\n",
       "0            [M, 6]     BERLINE  MOY-SUPER            12.0       11.3   \n",
       "1            [M, 6]     BERLINE  MOY-SUPER            12.0       11.5   \n",
       "\n",
       "   conso_exurb  conso_mixte    co2  masse_ordma_min  masse_ordma_max  \n",
       "0          5.8          7.8  182.0           1505.0           1505.0  \n",
       "1          6.0          8.0  186.0           1555.0           1555.0  "
      ]
     },
     "execution_count": 47,
     "metadata": {},
     "output_type": "execute_result"
    }
   ],
   "source": [
    "data_selct.head(2)"
   ]
  },
  {
   "cell_type": "code",
   "execution_count": 48,
   "id": "67ab3936",
   "metadata": {},
   "outputs": [],
   "source": [
    "def boite_vitess(data):\n",
    "    boites_list = []\n",
    "    np_rapp_list = []\n",
    "    for j in  tqdm(data_selct.index):\n",
    "        boites_list.append(data_selct['typ_boite_nb_rapp'][j][0])\n",
    "        np_rapp_list.append(data_selct['typ_boite_nb_rapp'][j][1])\n",
    "    #creation de variable Type_boite et Nb_rapp\n",
    "    data_selct[\"Type_boite\"] = boites_list\n",
    "    data_selct['Nb_rapp'] = np_rapp_list\n",
    "    #Changement de type en float\n",
    "    data_selct['Nb_rapp'] = data_selct['Nb_rapp'].astype('float')\n",
    "    return data_selct"
   ]
  },
  {
   "cell_type": "code",
   "execution_count": 49,
   "id": "20a4e0c6",
   "metadata": {},
   "outputs": [
    {
     "name": "stderr",
     "output_type": "stream",
     "text": [
      "100%|██████████| 55028/55028 [00:01<00:00, 32506.19it/s]\n"
     ]
    }
   ],
   "source": [
    "data_selct = boite_vitess(data_selct)"
   ]
  },
  {
   "cell_type": "code",
   "execution_count": 50,
   "id": "3809178c",
   "metadata": {},
   "outputs": [],
   "source": [
    "data_selct.drop(['typ_boite_nb_rapp'], axis= 1, inplace=True)"
   ]
  },
  {
   "cell_type": "code",
   "execution_count": 51,
   "id": "6f8346a5",
   "metadata": {},
   "outputs": [
    {
     "data": {
      "text/html": [
       "<div>\n",
       "<style scoped>\n",
       "    .dataframe tbody tr th:only-of-type {\n",
       "        vertical-align: middle;\n",
       "    }\n",
       "\n",
       "    .dataframe tbody tr th {\n",
       "        vertical-align: top;\n",
       "    }\n",
       "\n",
       "    .dataframe thead th {\n",
       "        text-align: right;\n",
       "    }\n",
       "</style>\n",
       "<table border=\"1\" class=\"dataframe\">\n",
       "  <thead>\n",
       "    <tr style=\"text-align: right;\">\n",
       "      <th></th>\n",
       "      <th>lib_mrq</th>\n",
       "      <th>lib_mod_doss</th>\n",
       "      <th>cnit</th>\n",
       "      <th>cod_cbr</th>\n",
       "      <th>hybride</th>\n",
       "      <th>puiss_max</th>\n",
       "      <th>Carrosserie</th>\n",
       "      <th>gamme</th>\n",
       "      <th>puiss_admin_98</th>\n",
       "      <th>conso_urb</th>\n",
       "      <th>conso_exurb</th>\n",
       "      <th>conso_mixte</th>\n",
       "      <th>co2</th>\n",
       "      <th>masse_ordma_min</th>\n",
       "      <th>masse_ordma_max</th>\n",
       "      <th>Type_boite</th>\n",
       "      <th>Nb_rapp</th>\n",
       "    </tr>\n",
       "  </thead>\n",
       "  <tbody>\n",
       "    <tr>\n",
       "      <th>0</th>\n",
       "      <td>ALFA-ROMEO</td>\n",
       "      <td>159</td>\n",
       "      <td>M10ALFVP000G340</td>\n",
       "      <td>ES</td>\n",
       "      <td>non</td>\n",
       "      <td>147</td>\n",
       "      <td>BERLINE</td>\n",
       "      <td>MOY-SUPER</td>\n",
       "      <td>12.0</td>\n",
       "      <td>11.3</td>\n",
       "      <td>5.8</td>\n",
       "      <td>7.8</td>\n",
       "      <td>182.0</td>\n",
       "      <td>1505.0</td>\n",
       "      <td>1505.0</td>\n",
       "      <td>M</td>\n",
       "      <td>6.0</td>\n",
       "    </tr>\n",
       "    <tr>\n",
       "      <th>1</th>\n",
       "      <td>ALFA-ROMEO</td>\n",
       "      <td>159</td>\n",
       "      <td>M10ALFVP000H341</td>\n",
       "      <td>ES</td>\n",
       "      <td>non</td>\n",
       "      <td>147</td>\n",
       "      <td>BERLINE</td>\n",
       "      <td>MOY-SUPER</td>\n",
       "      <td>12.0</td>\n",
       "      <td>11.5</td>\n",
       "      <td>6.0</td>\n",
       "      <td>8.0</td>\n",
       "      <td>186.0</td>\n",
       "      <td>1555.0</td>\n",
       "      <td>1555.0</td>\n",
       "      <td>M</td>\n",
       "      <td>6.0</td>\n",
       "    </tr>\n",
       "    <tr>\n",
       "      <th>2</th>\n",
       "      <td>ALFA-ROMEO</td>\n",
       "      <td>159</td>\n",
       "      <td>M10ALFVP000E302</td>\n",
       "      <td>GO</td>\n",
       "      <td>non</td>\n",
       "      <td>100</td>\n",
       "      <td>BERLINE</td>\n",
       "      <td>MOY-SUPER</td>\n",
       "      <td>7.0</td>\n",
       "      <td>6.6</td>\n",
       "      <td>4.2</td>\n",
       "      <td>5.1</td>\n",
       "      <td>134.0</td>\n",
       "      <td>1565.0</td>\n",
       "      <td>1565.0</td>\n",
       "      <td>M</td>\n",
       "      <td>6.0</td>\n",
       "    </tr>\n",
       "  </tbody>\n",
       "</table>\n",
       "</div>"
      ],
      "text/plain": [
       "      lib_mrq lib_mod_doss             cnit cod_cbr hybride puiss_max  \\\n",
       "0  ALFA-ROMEO          159  M10ALFVP000G340      ES     non       147   \n",
       "1  ALFA-ROMEO          159  M10ALFVP000H341      ES     non       147   \n",
       "2  ALFA-ROMEO          159  M10ALFVP000E302      GO     non       100   \n",
       "\n",
       "  Carrosserie      gamme  puiss_admin_98  conso_urb  conso_exurb  conso_mixte  \\\n",
       "0     BERLINE  MOY-SUPER            12.0       11.3          5.8          7.8   \n",
       "1     BERLINE  MOY-SUPER            12.0       11.5          6.0          8.0   \n",
       "2     BERLINE  MOY-SUPER             7.0        6.6          4.2          5.1   \n",
       "\n",
       "     co2  masse_ordma_min  masse_ordma_max Type_boite  Nb_rapp  \n",
       "0  182.0           1505.0           1505.0          M      6.0  \n",
       "1  186.0           1555.0           1555.0          M      6.0  \n",
       "2  134.0           1565.0           1565.0          M      6.0  "
      ]
     },
     "execution_count": 51,
     "metadata": {},
     "output_type": "execute_result"
    }
   ],
   "source": [
    "data_selct.head(3)"
   ]
  },
  {
   "cell_type": "markdown",
   "id": "1d8e661b",
   "metadata": {},
   "source": [
    "## <font color = 'red' id = 'section_7_2'>  7.2 Correction des modalité de la variable _gamme_\n",
    "    \n",
    "Nous allons renommer **_MOY-INFERIEUR_** en  **_MOY-INFER_**."
   ]
  },
  {
   "cell_type": "code",
   "execution_count": 52,
   "id": "72e51f94",
   "metadata": {},
   "outputs": [
    {
     "data": {
      "text/plain": [
       "array(['MOY-SUPER', 'LUXE', 'MOY-INFER', 'INFERIEURE', 'SUPERIEURE',\n",
       "       'ECONOMIQUE', 'MOY-INFERIEURE'], dtype=object)"
      ]
     },
     "execution_count": 52,
     "metadata": {},
     "output_type": "execute_result"
    }
   ],
   "source": [
    "data_selct.gamme.unique()"
   ]
  },
  {
   "cell_type": "code",
   "execution_count": 53,
   "id": "8d5454ae",
   "metadata": {},
   "outputs": [],
   "source": [
    "for modal in data_selct.gamme.unique():\n",
    "    if (modal =='MOY-INFERIEURE'):\n",
    "        data_selct.loc[data_selct['gamme']==modal, 'gamme'] = 'MOY-INFER'"
   ]
  },
  {
   "cell_type": "code",
   "execution_count": 54,
   "id": "659d8e56",
   "metadata": {},
   "outputs": [
    {
     "data": {
      "text/plain": [
       "array(['MOY-SUPER', 'LUXE', 'MOY-INFER', 'INFERIEURE', 'SUPERIEURE',\n",
       "       'ECONOMIQUE'], dtype=object)"
      ]
     },
     "execution_count": 54,
     "metadata": {},
     "output_type": "execute_result"
    }
   ],
   "source": [
    "data_selct.gamme.unique()"
   ]
  },
  {
   "cell_type": "markdown",
   "id": "3a1ef330",
   "metadata": {},
   "source": [
    "# <font color = 'red' id = 'section_8'> 8. Analyse exploratoire\n",
    "Ici, nous allons explorer brievement notre jeu de données et essayer d'interpreter les resultats"
   ]
  },
  {
   "cell_type": "markdown",
   "id": "38e6c4d7",
   "metadata": {},
   "source": [
    "## <font color = 'red' id = 'section_8_1'> 8.1 Repartition de niveau de Co2 sur l'ensemble des vehicules"
   ]
  },
  {
   "cell_type": "code",
   "execution_count": 55,
   "id": "06529467",
   "metadata": {},
   "outputs": [
    {
     "data": {
      "image/png": "[encoded data removed]",
      "text/plain": [
       "<Figure size 1152x432 with 1 Axes>"
      ]
     },
     "metadata": {
      "needs_background": "light"
     },
     "output_type": "display_data"
    }
   ],
   "source": [
    "plt.figure(figsize =  (16,6))\n",
    "sns.boxplot(y = data_selct['co2'], x = data_selct['lib_mrq'], data = data_selct, showfliers = False)\n",
    "plt.xticks(rotation = 85)\n",
    "plt.show()"
   ]
  },
  {
   "cell_type": "markdown",
   "id": "e72a768b",
   "metadata": {},
   "source": [
    "# Commentaire:\n",
    "Globalement, les marques de véhcules comme **BENTLEY**, **FERRARI**, **LAMBORGHINI**, ou encore **ROLLS6ROYCCE** emettent plus de dioxyde de carbonne (le niveau d'emission est supérieur à la moyenne) contrairement à **TESLA** ou **KIA**."
   ]
  },
  {
   "cell_type": "markdown",
   "id": "4c31c507",
   "metadata": {},
   "source": [
    "## <font color = 'red' id = 'section_8_2'> 8.2 Emission de Co2 en fonction de la gamme"
   ]
  },
  {
   "cell_type": "code",
   "execution_count": 56,
   "id": "a27bc176",
   "metadata": {},
   "outputs": [
    {
     "data": {
      "image/png": "[encoded data removed]",
      "text/plain": [
       "<Figure size 1080x360 with 1 Axes>"
      ]
     },
     "metadata": {
      "needs_background": "light"
     },
     "output_type": "display_data"
    }
   ],
   "source": [
    "ax = sns.barplot(y = data_selct['co2'], x = data_selct['gamme'], data = data_selct)\n",
    "plt.xticks(rotation = 85)\n",
    "for i in ax.containers:\n",
    "    ax.bar_label(i,)\n",
    "    \n",
    "plt.show()"
   ]
  },
  {
   "cell_type": "markdown",
   "id": "79087907",
   "metadata": {},
   "source": [
    "# Commentaires:\n",
    "\n",
    "Un premier constat consiste à affirmer que les vehicules de gamme: **Luxe**; **MOY-SUPER** et **MOY-INFER** polluent plus que les gammes **Inferieur** ou encore **economique**."
   ]
  },
  {
   "cell_type": "markdown",
   "id": "9120b6ef",
   "metadata": {},
   "source": [
    "## <font color = 'red' id = 'section_8_3'> 8.3 Emission de Co2 en fonction du type de carburant"
   ]
  },
  {
   "cell_type": "code",
   "execution_count": 57,
   "id": "0156b17d",
   "metadata": {},
   "outputs": [
    {
     "data": {
      "text/plain": [
       "GO       49305\n",
       "ES        5159\n",
       "EH         298\n",
       "GH          81\n",
       "EL          34\n",
       "ES/GN       32\n",
       "GN/ES       32\n",
       "ES/GP       23\n",
       "GP/ES       23\n",
       "GN          21\n",
       "FE          10\n",
       "EE           9\n",
       "GL           1\n",
       "Name: cod_cbr, dtype: int64"
      ]
     },
     "execution_count": 57,
     "metadata": {},
     "output_type": "execute_result"
    }
   ],
   "source": [
    "data_selct[\"cod_cbr\"].value_counts()"
   ]
  },
  {
   "cell_type": "code",
   "execution_count": 58,
   "id": "553ca802",
   "metadata": {},
   "outputs": [
    {
     "data": {
      "image/png": "[encoded data removed]",
      "text/plain": [
       "<Figure size 1080x360 with 1 Axes>"
      ]
     },
     "metadata": {
      "needs_background": "light"
     },
     "output_type": "display_data"
    }
   ],
   "source": [
    "sns.boxplot(y = data_selct['co2'], x = data_selct['cod_cbr'], data = data_selct, showfliers = False)\n",
    "plt.xticks(rotation = 85)\n",
    "plt.show()"
   ]
  },
  {
   "cell_type": "markdown",
   "id": "ce66c993",
   "metadata": {},
   "source": [
    "# Commentaire :\n",
    "\n",
    "Là encore, les vehicules roulant à l'essence, Gazole ou du gaz naturel sont plus pollueurs de l'atmosphére que ceux utilisant l'électricité du fait de la combustion de certains componsants chimiques.\n"
   ]
  },
  {
   "cell_type": "markdown",
   "id": "b534599c",
   "metadata": {},
   "source": [
    "## <font color = 'red' id = 'section_8_4'> 8.4 Emission de co2 en focntion du type de boites de vitesse"
   ]
  },
  {
   "cell_type": "code",
   "execution_count": 59,
   "id": "0c32a321",
   "metadata": {},
   "outputs": [
    {
     "data": {
      "text/plain": [
       "M    32808\n",
       "A    21768\n",
       "V      331\n",
       "D      116\n",
       "N        4\n",
       "S        1\n",
       "Name: Type_boite, dtype: int64"
      ]
     },
     "execution_count": 59,
     "metadata": {},
     "output_type": "execute_result"
    }
   ],
   "source": [
    "data_selct['Type_boite'].value_counts()"
   ]
  },
  {
   "cell_type": "code",
   "execution_count": 60,
   "id": "09de70c7",
   "metadata": {},
   "outputs": [
    {
     "data": {
      "text/plain": [
       "Type_boite  lib_mrq     \n",
       "A           MERCEDES        19952\n",
       "            BMW               300\n",
       "            AUDI              155\n",
       "            LEXUS             132\n",
       "            VOLKSWAGEN        121\n",
       "            PORSCHE            84\n",
       "            NISSAN             64\n",
       "            LAND ROVER         63\n",
       "            OPEL               63\n",
       "            VOLVO              62\n",
       "            CITROEN            61\n",
       "            MINI               53\n",
       "            JEEP               49\n",
       "            PEUGEOT            49\n",
       "            FORD               45\n",
       "            ASTON MARTIN       42\n",
       "            SKODA              40\n",
       "            JAGUAR             39\n",
       "            RENAULT            38\n",
       "            SEAT               36\n",
       "            FIAT               35\n",
       "            CADILLAC           30\n",
       "            BENTLEY            26\n",
       "            TOYOTA             25\n",
       "            MASERATI           23\n",
       "            CHEVROLET          22\n",
       "            LAMBORGHINI        22\n",
       "            ROLLS-ROYCE        22\n",
       "            KIA                16\n",
       "            HONDA              14\n",
       "            INFINITI           14\n",
       "            MAZDA              14\n",
       "            LANCIA             11\n",
       "            HYUNDAI            10\n",
       "            LOTUS               8\n",
       "            SMART               8\n",
       "            ALFA-ROMEO          7\n",
       "            MITSUBISHI          5\n",
       "            SUZUKI              4\n",
       "            SSANGYONG           2\n",
       "            SUBARU              2\n",
       "D           FIAT               52\n",
       "            ALFA-ROMEO         27\n",
       "            FERRARI            25\n",
       "            LANCIA              7\n",
       "            OPEL                4\n",
       "            MASERATI            1\n",
       "M           MERCEDES        16268\n",
       "            VOLKSWAGEN      13550\n",
       "            FIAT              425\n",
       "            OPEL              331\n",
       "            FORD              253\n",
       "            NISSAN            210\n",
       "            BMW               161\n",
       "            CITROEN           157\n",
       "            AUDI              150\n",
       "            ALFA-ROMEO        149\n",
       "            PEUGEOT           123\n",
       "            RENAULT           119\n",
       "            TOYOTA             92\n",
       "            SKODA              91\n",
       "            MINI               72\n",
       "            SEAT               72\n",
       "            CHEVROLET          53\n",
       "            KIA                51\n",
       "            SMART              44\n",
       "            HYUNDAI            40\n",
       "            LANCIA             40\n",
       "            VOLVO              39\n",
       "            HONDA              38\n",
       "            MITSUBISHI         36\n",
       "            ASTON MARTIN       34\n",
       "            DACIA              27\n",
       "            MAZDA              27\n",
       "            PORSCHE            25\n",
       "            JEEP               24\n",
       "            SUZUKI             21\n",
       "            SUBARU             15\n",
       "            LAMBORGHINI        14\n",
       "            LEXUS              13\n",
       "            LOTUS              13\n",
       "            LAND ROVER         11\n",
       "            CADILLAC            8\n",
       "            LADA                6\n",
       "            SSANGYONG           4\n",
       "            INFINITI            2\n",
       "N           NISSAN              2\n",
       "            TESLA               2\n",
       "S           MITSUBISHI          1\n",
       "V           LEXUS             215\n",
       "            AUDI               44\n",
       "            TOYOTA             23\n",
       "            MIA                13\n",
       "            NISSAN             12\n",
       "            HONDA               4\n",
       "            SUBARU              4\n",
       "            SUZUKI              4\n",
       "            ASTON MARTIN        2\n",
       "            BMW                 2\n",
       "            MITSUBISHI          2\n",
       "            CHEVROLET           1\n",
       "            CITROEN             1\n",
       "            JEEP                1\n",
       "            OPEL                1\n",
       "            PEUGEOT             1\n",
       "            RENAULT             1\n",
       "Name: lib_mrq, dtype: int64"
      ]
     },
     "execution_count": 60,
     "metadata": {},
     "output_type": "execute_result"
    }
   ],
   "source": [
    "data_selct.groupby('Type_boite')['lib_mrq'].value_counts()"
   ]
  },
  {
   "cell_type": "code",
   "execution_count": 61,
   "id": "39e6f273",
   "metadata": {},
   "outputs": [
    {
     "data": {
      "image/png": "[encoded data removed]",
      "text/plain": [
       "<Figure size 1152x432 with 1 Axes>"
      ]
     },
     "metadata": {
      "needs_background": "light"
     },
     "output_type": "display_data"
    }
   ],
   "source": [
    "plt.figure(figsize =  (16,6))\n",
    "sns.boxplot(y = data_selct['co2'], x = data_selct['Type_boite'], data = data_selct, showfliers = False)\n",
    "plt.xticks(rotation = 85)\n",
    "plt.show()"
   ]
  },
  {
   "cell_type": "markdown",
   "id": "2984b9c4",
   "metadata": {},
   "source": [
    "# Commentaire: \n",
    "\n",
    "On peut seulement remarquer que les boites automatique classques  bien qu'elles soient en phase d'évolution contribuent énormément à la dégradation de l'air atmosphérique contrairement aux manuelles ou encore au  sous-catégorie d'automatique."
   ]
  },
  {
   "cell_type": "markdown",
   "id": "13967fe2",
   "metadata": {},
   "source": [
    "## <font color = 'red' id = 'section_9'> 9. Lien entre les variables"
   ]
  },
  {
   "cell_type": "code",
   "execution_count": 62,
   "id": "f108a4b7",
   "metadata": {},
   "outputs": [
    {
     "data": {
      "text/plain": [
       "<AxesSubplot:>"
      ]
     },
     "execution_count": 62,
     "metadata": {},
     "output_type": "execute_result"
    },
    {
     "data": {
      "image/png": "[encoded data removed]",
      "text/plain": [
       "<Figure size 1080x360 with 2 Axes>"
      ]
     },
     "metadata": {
      "needs_background": "light"
     },
     "output_type": "display_data"
    }
   ],
   "source": [
    "sns.heatmap(data_selct.corr(), annot =True)"
   ]
  },
  {
   "cell_type": "markdown",
   "id": "9ccf369b",
   "metadata": {},
   "source": [
    "# Commentaire:  \n",
    "On observe une  correlation forte entre les faatures **Conso_exurb** et **conso_mxte** avec **CO2**, on va donc supprimer ces deux variables et ainsi enrégistrer le fichier au format csv pour une modélisation (prediction de CO2).\n",
    "\n",
    "On va également supprimer certains qui n'apportent de contributionn à l'émission de C02"
   ]
  },
  {
   "cell_type": "code",
   "execution_count": 78,
   "id": "f90d96ed",
   "metadata": {},
   "outputs": [],
   "source": [
    "data_selct_ = data_selct.copy()"
   ]
  },
  {
   "cell_type": "code",
   "execution_count": 79,
   "id": "24ea2e35",
   "metadata": {},
   "outputs": [],
   "source": [
    "data_selct_.drop(['lib_mod_doss'], inplace =True, axis = 1)\n",
    "data_selct_.drop(['conso_exurb'], inplace =True, axis = 1)\n",
    "data_selct_.drop(['conso_mixte'], inplace =True, axis = 1)\n",
    "data_selct_.drop(['conso_urb'], inplace =True, axis = 1)\n",
    "data_selct_.drop(['puiss_admin_98'], inplace =True, axis = 1)\n"
   ]
  },
  {
   "cell_type": "code",
   "execution_count": 80,
   "id": "6cc39327",
   "metadata": {},
   "outputs": [
    {
     "data": {
      "text/plain": [
       "<AxesSubplot:>"
      ]
     },
     "execution_count": 80,
     "metadata": {},
     "output_type": "execute_result"
    },
    {
     "data": {
      "image/png": "[encoded data removed]",
      "text/plain": [
       "<Figure size 1080x360 with 2 Axes>"
      ]
     },
     "metadata": {
      "needs_background": "light"
     },
     "output_type": "display_data"
    }
   ],
   "source": [
    "sns.heatmap(data_selct_.corr(), annot =True, linewidths=0.1)"
   ]
  },
  {
   "cell_type": "markdown",
   "id": "4c62cb68",
   "metadata": {},
   "source": [
    "## <font color = 'red' id = 'section_10'> 10. Enregistrement de fichier"
   ]
  },
  {
   "cell_type": "code",
   "execution_count": 82,
   "id": "319c4a98",
   "metadata": {},
   "outputs": [],
   "source": [
    "data_selct_.to_csv(\"data_model.csv\", index =False)"
   ]
  }
 ],
 "metadata": {
  "kernelspec": {
   "display_name": "Python 3 (ipykernel)",
   "language": "python",
   "name": "python3"
  },
  "language_info": {
   "codemirror_mode": {
    "name": "ipython",
    "version": 3
   },
   "file_extension": ".py",
   "mimetype": "text/x-python",
   "name": "python",
   "nbconvert_exporter": "python",
   "pygments_lexer": "ipython3",
   "version": "3.9.12"
  }
 },
 "nbformat": 4,
 "nbformat_minor": 5
}
