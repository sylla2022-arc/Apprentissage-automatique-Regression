{
 "cells": [
  {
   "cell_type": "markdown",
   "id": "03daec40",
   "metadata": {},
   "source": [
    "## <font color = 'green' id = \"section\" >Notebook 2: Apprentissage automatique, Regression: Polution CO2</font>"
   ]
  },
  {
   "cell_type": "markdown",
   "id": "8c7fc33c",
   "metadata": {},
   "source": [
    "# <font color=\"blue\">Sommaire</font>\n",
    "1. [Importation des librairies](#section_1)    \n",
    "2. [Lecture du Dataset](#section_2) \n",
    "3. [Approche de modélisation](#section_3)     \n",
    "    3.1. [Separation de la variable prédictive des explicatives](#section_3_1)    \n",
    "    3.2. [Separation variables numériques et catégorielles](#section_3_2)   \n",
    "    3.3. [Création du preprocessor](#section_3_3)    \n",
    "    3.4. [Séparation données train et test](#section_3_4) \n",
    "4. [Prediction de CO2](#section_4)       \n",
    "    4.1. [Prediction de CO2: DummyRegressor](#section_4_1)    \n",
    "    4.2. [Prediction de CO2: LinearRegression](#section_4_2)   \n",
    "    4.3. [Prediction de CO2: SGDRegressor](#section_4_3)    \n",
    "    4.4. [Prediction de CO2: RandomForestRegressor](#section_4_4)    "
   ]
  },
  {
   "cell_type": "markdown",
   "id": "2e082814",
   "metadata": {},
   "source": [
    "# <font color ='red' id = 'section_1' > 1.Importation des librairies </font>"
   ]
  },
  {
   "cell_type": "code",
   "execution_count": 1,
   "id": "39273929",
   "metadata": {},
   "outputs": [
    {
     "name": "stdout",
     "output_type": "stream",
     "text": [
      "No Warning Shown\n"
     ]
    }
   ],
   "source": [
    "import warnings\n",
    "warnings.filterwarnings('ignore')\n",
    "warnings.warn('DelftStack')\n",
    "warnings.warn('Do not show this message')\n",
    "print(\"No Warning Shown\")"
   ]
  },
  {
   "cell_type": "code",
   "execution_count": 2,
   "id": "82bfb92a",
   "metadata": {},
   "outputs": [],
   "source": [
    "import pandas as pd\n",
    "import numpy as np\n",
    "import scipy.stats as st\n",
    "import seaborn as sns\n",
    "import matplotlib.pyplot as plt\n",
    "from scipy import stats\n",
    "import ast\n",
    "import scipy as sp\n",
    "import time\n",
    "import pickle\n",
    "from datetime import datetime\n",
    "#-------------------------------------------------------------------\n",
    "from tqdm import tqdm\n",
    "import gc\n",
    "#------------------------------------------------------------------\n",
    "import plotly.graph_objs as go\n",
    "import plotly.express as px\n",
    "from textwrap import wrap\n",
    "#-------------------------------------------------\n",
    "from sklearn.model_selection import train_test_split\n",
    "from sklearn.impute import KNNImputer\n",
    "from sklearn.metrics import *\n",
    "\n",
    "#-------------------------------------------------\n",
    "from sklearn.pipeline import Pipeline\n",
    "from sklearn.pipeline import make_pipeline\n",
    "\n",
    "from sklearn.preprocessing import OneHotEncoder, StandardScaler, MinMaxScaler\n",
    "from sklearn.compose import ColumnTransformer\n",
    "from sklearn.compose import TransformedTargetRegressor, make_column_transformer\n",
    "\n",
    "#--------------------------------------------------------\n",
    "from sklearn.dummy import DummyRegressor\n",
    "from sklearn.linear_model import LinearRegression, SGDRegressor\n",
    "\n",
    "#--------------------------------------------------------\n",
    "from sklearn.ensemble import RandomForestRegressor, GradientBoostingRegressor\n",
    "\n",
    "#------------------------------------------------\n",
    "from xgboost import XGBRegressor\n",
    "\n",
    "#-----------------------------------------------------------\n",
    "from sklearn.model_selection import GridSearchCV"
   ]
  },
  {
   "cell_type": "code",
   "execution_count": 3,
   "id": "03ba9a09",
   "metadata": {},
   "outputs": [],
   "source": [
    "pd.set_option(\"display.max_columns\", 500)\n",
    "pd.set_option(\"display.max_rows\", 500)"
   ]
  },
  {
   "cell_type": "markdown",
   "id": "dbeb2921",
   "metadata": {},
   "source": [
    "## Checklist\n",
    "\n",
    "Depuis 2001, **l’ADEME** acquiert tous les ans ces données auprès de **l’Union Technique de l’Automobile du motocycle et du Cycle UTAC** (en charge de l’homologation des véhicules avant leur mise en vente) en accord avec le ministère du développement durable.\n",
    "Pour chaque véhicule les données d’origine (transmises par l’Utac) sont les suivantes :\n",
    "\n",
    "* **Les consommations de carburant**\n",
    "\n",
    "* **Les émissions de dioxyde de carbone (CO2)**\n",
    "\n",
    "* **Les émissions des polluants de l’air** (réglementés dans le cadre de la norme Euro)\n",
    "\n",
    "* **L’ensemble des caractéristiques techniques des véhicules** (gammes, marques, modèles, n° de CNIT, type d’énergie ...)\n",
    "\n",
    "\n",
    "\n",
    "# L'inventaire des varaibles pertinentes:\n",
    "\n",
    "Les données comprenent des variables pertinentes suivantes:\n",
    "\n",
    "* **lib_mrq_utac**: La marque, il y'a 12.\n",
    "\n",
    "* **lib_mod**: Le modèle commerciale, il y'a 20.\n",
    "\n",
    "* **cod_cbr**: Le type de carburant, il y a 5.\n",
    "\n",
    "* **hybride**: Information permettant d’identifier les véhicules hybrides (O/N)\n",
    "\n",
    "* **puiss_max** : Puissance maximale\n",
    "\n",
    "* **typ_boite_nb_rapp**: Type boite de vitesse et le nombre de rapport.\n",
    "\n",
    "* **conso_urb**: Consommation urbaine de carburant (en l/100km),\n",
    "\n",
    "* **conso_exurb**: consommation extra urbaine de carburant (en l/100km),\n",
    "\n",
    "* **conso_mixte**: Consommation mixte de carburant (en l/100km),\n",
    "\n",
    "* **co2**: Emission de CO2 (en g/km),\n",
    "\n",
    "* **masse_ordma_min**: Masse en ordre de marche mini\n",
    "\n",
    "* **masse_ordma_max**: Masse en ordre de marche max\n",
    " \n",
    "* **Carrosserie**: Carrosserie\n",
    "\n",
    "* **gamme**: Gamme du véhicule\n",
    "\n",
    "\n",
    "\n",
    "# Objectif\n",
    "\n",
    "Notre objectif majeur dans ce notebook 2 est de :\n",
    "\n",
    "Prédire les emisisions de **CO2** des vehicules en fonction de certaines informations (Variables explicatives)\n",
    "\n",
    "* En utilisant 4 à 5 modéles différents\n",
    "\n",
    "* En comparant  les scores\n",
    "    \n",
    "* En choissisant le meilleur modèle\n",
    "\n",
    "\n",
    "# Description des données\n",
    "\n",
    "Lien vers les données: https://www.data.gouv.fr/fr/datasets/emissions-de-co2-et-de-polluants-des-vehicules-commercialises-en-france/\n"
   ]
  },
  {
   "cell_type": "markdown",
   "id": "4aa43bf0",
   "metadata": {},
   "source": [
    "# <font color=\"red\" id=\"section_2\"> 2. Chargement, lecture, apercu et infos des données </font>"
   ]
  },
  {
   "cell_type": "code",
   "execution_count": 4,
   "id": "564f490c",
   "metadata": {},
   "outputs": [],
   "source": [
    "data_model = pd.read_csv(\"data_model.csv\")"
   ]
  },
  {
   "cell_type": "code",
   "execution_count": 5,
   "id": "2e663a59",
   "metadata": {},
   "outputs": [
    {
     "data": {
      "text/html": [
       "<div>\n",
       "<style scoped>\n",
       "    .dataframe tbody tr th:only-of-type {\n",
       "        vertical-align: middle;\n",
       "    }\n",
       "\n",
       "    .dataframe tbody tr th {\n",
       "        vertical-align: top;\n",
       "    }\n",
       "\n",
       "    .dataframe thead th {\n",
       "        text-align: right;\n",
       "    }\n",
       "</style>\n",
       "<table border=\"1\" class=\"dataframe\">\n",
       "  <thead>\n",
       "    <tr style=\"text-align: right;\">\n",
       "      <th></th>\n",
       "      <th>lib_mrq</th>\n",
       "      <th>cnit</th>\n",
       "      <th>cod_cbr</th>\n",
       "      <th>hybride</th>\n",
       "      <th>puiss_max</th>\n",
       "      <th>Carrosserie</th>\n",
       "      <th>gamme</th>\n",
       "      <th>co2</th>\n",
       "      <th>masse_ordma_min</th>\n",
       "      <th>masse_ordma_max</th>\n",
       "      <th>Type_boite</th>\n",
       "      <th>Nb_rapp</th>\n",
       "    </tr>\n",
       "  </thead>\n",
       "  <tbody>\n",
       "    <tr>\n",
       "      <th>0</th>\n",
       "      <td>ALFA-ROMEO</td>\n",
       "      <td>M10ALFVP000G340</td>\n",
       "      <td>ES</td>\n",
       "      <td>non</td>\n",
       "      <td>147</td>\n",
       "      <td>BERLINE</td>\n",
       "      <td>MOY-SUPER</td>\n",
       "      <td>182.0</td>\n",
       "      <td>1505.0</td>\n",
       "      <td>1505.0</td>\n",
       "      <td>M</td>\n",
       "      <td>6.0</td>\n",
       "    </tr>\n",
       "    <tr>\n",
       "      <th>1</th>\n",
       "      <td>ALFA-ROMEO</td>\n",
       "      <td>M10ALFVP000H341</td>\n",
       "      <td>ES</td>\n",
       "      <td>non</td>\n",
       "      <td>147</td>\n",
       "      <td>BERLINE</td>\n",
       "      <td>MOY-SUPER</td>\n",
       "      <td>186.0</td>\n",
       "      <td>1555.0</td>\n",
       "      <td>1555.0</td>\n",
       "      <td>M</td>\n",
       "      <td>6.0</td>\n",
       "    </tr>\n",
       "  </tbody>\n",
       "</table>\n",
       "</div>"
      ],
      "text/plain": [
       "      lib_mrq             cnit cod_cbr hybride puiss_max Carrosserie  \\\n",
       "0  ALFA-ROMEO  M10ALFVP000G340      ES     non       147     BERLINE   \n",
       "1  ALFA-ROMEO  M10ALFVP000H341      ES     non       147     BERLINE   \n",
       "\n",
       "       gamme    co2  masse_ordma_min  masse_ordma_max Type_boite  Nb_rapp  \n",
       "0  MOY-SUPER  182.0           1505.0           1505.0          M      6.0  \n",
       "1  MOY-SUPER  186.0           1555.0           1555.0          M      6.0  "
      ]
     },
     "metadata": {},
     "output_type": "display_data"
    },
    {
     "data": {
      "text/html": [
       "<div>\n",
       "<style scoped>\n",
       "    .dataframe tbody tr th:only-of-type {\n",
       "        vertical-align: middle;\n",
       "    }\n",
       "\n",
       "    .dataframe tbody tr th {\n",
       "        vertical-align: top;\n",
       "    }\n",
       "\n",
       "    .dataframe thead th {\n",
       "        text-align: right;\n",
       "    }\n",
       "</style>\n",
       "<table border=\"1\" class=\"dataframe\">\n",
       "  <thead>\n",
       "    <tr style=\"text-align: right;\">\n",
       "      <th></th>\n",
       "      <th>lib_mrq</th>\n",
       "      <th>cnit</th>\n",
       "      <th>cod_cbr</th>\n",
       "      <th>hybride</th>\n",
       "      <th>puiss_max</th>\n",
       "      <th>Carrosserie</th>\n",
       "      <th>gamme</th>\n",
       "      <th>co2</th>\n",
       "      <th>masse_ordma_min</th>\n",
       "      <th>masse_ordma_max</th>\n",
       "      <th>Type_boite</th>\n",
       "      <th>Nb_rapp</th>\n",
       "    </tr>\n",
       "  </thead>\n",
       "  <tbody>\n",
       "    <tr>\n",
       "      <th>55026</th>\n",
       "      <td>VOLVO</td>\n",
       "      <td>M1GVLVVP874Z718</td>\n",
       "      <td>ES</td>\n",
       "      <td>non</td>\n",
       "      <td>224</td>\n",
       "      <td>TS TERRAINS/CHEMINS</td>\n",
       "      <td>SUPERIEURE</td>\n",
       "      <td>139.0</td>\n",
       "      <td>1788.0</td>\n",
       "      <td>1788.0</td>\n",
       "      <td>A</td>\n",
       "      <td>6.0</td>\n",
       "    </tr>\n",
       "    <tr>\n",
       "      <th>55027</th>\n",
       "      <td>VOLVO</td>\n",
       "      <td>M10VLVVP8967562</td>\n",
       "      <td>ES</td>\n",
       "      <td>non</td>\n",
       "      <td>225</td>\n",
       "      <td>TS TERRAINS/CHEMINS</td>\n",
       "      <td>SUPERIEURE</td>\n",
       "      <td>248.0</td>\n",
       "      <td>1815.0</td>\n",
       "      <td>1815.0</td>\n",
       "      <td>A</td>\n",
       "      <td>8.0</td>\n",
       "    </tr>\n",
       "  </tbody>\n",
       "</table>\n",
       "</div>"
      ],
      "text/plain": [
       "      lib_mrq             cnit cod_cbr hybride puiss_max          Carrosserie  \\\n",
       "55026   VOLVO  M1GVLVVP874Z718      ES     non       224  TS TERRAINS/CHEMINS   \n",
       "55027   VOLVO  M10VLVVP8967562      ES     non       225  TS TERRAINS/CHEMINS   \n",
       "\n",
       "            gamme    co2  masse_ordma_min  masse_ordma_max Type_boite  Nb_rapp  \n",
       "55026  SUPERIEURE  139.0           1788.0           1788.0          A      6.0  \n",
       "55027  SUPERIEURE  248.0           1815.0           1815.0          A      8.0  "
      ]
     },
     "metadata": {},
     "output_type": "display_data"
    }
   ],
   "source": [
    "display(data_model.head(2))\n",
    "display(data_model.tail(2))"
   ]
  },
  {
   "cell_type": "code",
   "execution_count": 6,
   "id": "3d5f00cc",
   "metadata": {},
   "outputs": [
    {
     "name": "stdout",
     "output_type": "stream",
     "text": [
      "<class 'pandas.core.frame.DataFrame'>\n",
      "RangeIndex: 55028 entries, 0 to 55027\n",
      "Data columns (total 12 columns):\n",
      " #   Column           Non-Null Count  Dtype  \n",
      "---  ------           --------------  -----  \n",
      " 0   lib_mrq          55028 non-null  object \n",
      " 1   cnit             55028 non-null  object \n",
      " 2   cod_cbr          55028 non-null  object \n",
      " 3   hybride          55028 non-null  object \n",
      " 4   puiss_max        55028 non-null  object \n",
      " 5   Carrosserie      55028 non-null  object \n",
      " 6   gamme            55028 non-null  object \n",
      " 7   co2              55028 non-null  float64\n",
      " 8   masse_ordma_min  55028 non-null  float64\n",
      " 9   masse_ordma_max  55028 non-null  float64\n",
      " 10  Type_boite       55028 non-null  object \n",
      " 11  Nb_rapp          55028 non-null  float64\n",
      "dtypes: float64(4), object(8)\n",
      "memory usage: 5.0+ MB\n"
     ]
    }
   ],
   "source": [
    "data_model.info()"
   ]
  },
  {
   "cell_type": "code",
   "execution_count": 7,
   "id": "075664ae",
   "metadata": {},
   "outputs": [
    {
     "data": {
      "text/plain": [
       "0"
      ]
     },
     "execution_count": 7,
     "metadata": {},
     "output_type": "execute_result"
    }
   ],
   "source": [
    "data_model.duplicated().sum()"
   ]
  },
  {
   "cell_type": "markdown",
   "id": "12deaef1",
   "metadata": {},
   "source": [
    "# <font color=\"red\" id=\"section_3\" > 3. Approche modélisation"
   ]
  },
  {
   "cell_type": "markdown",
   "id": "6fd767cd",
   "metadata": {},
   "source": [
    "## <font color=\"red\" id=\"section_3_1\" > 3.1  Separation de la variable prédictive des explicatives"
   ]
  },
  {
   "cell_type": "code",
   "execution_count": 8,
   "id": "f1bbc7ee",
   "metadata": {},
   "outputs": [],
   "source": [
    "Y = data_model['co2']\n",
    "X = data_model.drop(['co2'] ,axis =1)"
   ]
  },
  {
   "cell_type": "code",
   "execution_count": 9,
   "id": "2688a383",
   "metadata": {},
   "outputs": [
    {
     "data": {
      "text/plain": [
       "(55028, 11)"
      ]
     },
     "execution_count": 9,
     "metadata": {},
     "output_type": "execute_result"
    }
   ],
   "source": [
    "X.shape"
   ]
  },
  {
   "cell_type": "markdown",
   "id": "cf9ee640",
   "metadata": {},
   "source": [
    "## <font color=\"red\" id=\"section_3_2\" > 3.2 Separation variables numériques et catégorielles"
   ]
  },
  {
   "cell_type": "code",
   "execution_count": 10,
   "id": "2f2369f6",
   "metadata": {},
   "outputs": [
    {
     "data": {
      "text/plain": [
       "['masse_ordma_min', 'masse_ordma_max', 'Nb_rapp']"
      ]
     },
     "execution_count": 10,
     "metadata": {},
     "output_type": "execute_result"
    }
   ],
   "source": [
    "var_num = X.select_dtypes(include = ['float', 'int']).columns.to_list()\n",
    "var_num"
   ]
  },
  {
   "cell_type": "code",
   "execution_count": 11,
   "id": "8eb7d0d4",
   "metadata": {},
   "outputs": [
    {
     "data": {
      "text/plain": [
       "['lib_mrq',\n",
       " 'cnit',\n",
       " 'cod_cbr',\n",
       " 'hybride',\n",
       " 'puiss_max',\n",
       " 'Carrosserie',\n",
       " 'gamme',\n",
       " 'Type_boite']"
      ]
     },
     "execution_count": 11,
     "metadata": {},
     "output_type": "execute_result"
    }
   ],
   "source": [
    "var_cat = X.select_dtypes(include = ['object']).columns.to_list()\n",
    "var_cat"
   ]
  },
  {
   "cell_type": "markdown",
   "id": "7c096f37",
   "metadata": {},
   "source": [
    "## <font color=\"red\" id=\"section_3_3\" > 3.3  Création du preprocessor\n",
    "  \n",
    " Ici, nous allons normaliser les données numérique avec **StandarScaler** et encoder les catégorielles avec **OneHotEncoder**, le tout dans une pipeline qu'on pourra appeler à chaque fois."
   ]
  },
  {
   "cell_type": "code",
   "execution_count": 12,
   "id": "01fab4f0",
   "metadata": {},
   "outputs": [],
   "source": [
    "numerical_pipiline = make_pipeline(StandardScaler())\n",
    "categoriacal_pipiline = make_pipeline(OneHotEncoder(handle_unknown = 'ignore'))\n",
    "preprocessor = make_column_transformer( \n",
    "                          (numerical_pipiline, var_num),\n",
    "                          (categoriacal_pipiline, var_cat),\n",
    "                           remainder=\"passthrough\"\n",
    "                        )\n",
    "#handle_unknown = 'ignore' permet d'ignorer les catégorielle non lu lors du fit afin d'éviter des erre"
   ]
  },
  {
   "cell_type": "markdown",
   "id": "3072f95a",
   "metadata": {},
   "source": [
    "## <font color=\"red\" id=\"section_3_4\" > 3.4  Séparation données train et test"
   ]
  },
  {
   "cell_type": "code",
   "execution_count": 13,
   "id": "9d7be715",
   "metadata": {},
   "outputs": [],
   "source": [
    "X_train, X_test, y_train, y_test = train_test_split(X,Y, test_size = 0.2, random_state =5)"
   ]
  },
  {
   "cell_type": "code",
   "execution_count": 14,
   "id": "c27a37c9",
   "metadata": {},
   "outputs": [
    {
     "data": {
      "text/plain": [
       "<Figure size 1080x1080 with 0 Axes>"
      ]
     },
     "metadata": {},
     "output_type": "display_data"
    },
    {
     "data": {
      "image/png": "[encoded data removed]",
      "text/plain": [
       "<Figure size 540x540 with 12 Axes>"
      ]
     },
     "metadata": {
      "needs_background": "light"
     },
     "output_type": "display_data"
    }
   ],
   "source": [
    "plt.figure(figsize = (15,15))\n",
    "sns.pairplot(X_train, kind ='reg', diag_kind = 'kde')\n",
    "plt.show()"
   ]
  },
  {
   "cell_type": "code",
   "execution_count": 15,
   "id": "bc65c79c",
   "metadata": {},
   "outputs": [
    {
     "data": {
      "text/plain": [
       "(11006, 11)"
      ]
     },
     "execution_count": 15,
     "metadata": {},
     "output_type": "execute_result"
    }
   ],
   "source": [
    "X_test.shape"
   ]
  },
  {
   "cell_type": "markdown",
   "id": "2254f351",
   "metadata": {},
   "source": [
    "## <font color=\"red\" id=\"section_4\" > 4.  Prediction de CO2\n",
    "    \n",
    "Pour chacun de nos modèles:\n",
    "   * **DummyRegressor**,\n",
    "   * **LinearRegression**, \n",
    "   * **SGDRegressor**, \n",
    "   * **RandomForestRegressor**,\n",
    "   * **GradientBoostingRegressor**,\n",
    "   * **XGBRegressor**, \n",
    "    \n",
    "nous allons predire le niveai d'émission de **Co2** puis établir une comparaison sur la performance des modèles."
   ]
  },
  {
   "cell_type": "markdown",
   "id": "a474cfec",
   "metadata": {},
   "source": [
    "## <font color=\"red\" id=\"section_4_1\" > 4.1  Prediction de CO2: DummyRegressor"
   ]
  },
  {
   "cell_type": "code",
   "execution_count": 16,
   "id": "c74d9abe",
   "metadata": {},
   "outputs": [
    {
     "data": {
      "text/html": [
       "<style>#sk-container-id-1 {color: black;background-color: white;}#sk-container-id-1 pre{padding: 0;}#sk-container-id-1 div.sk-toggleable {background-color: white;}#sk-container-id-1 label.sk-toggleable__label {cursor: pointer;display: block;width: 100%;margin-bottom: 0;padding: 0.3em;box-sizing: border-box;text-align: center;}#sk-container-id-1 label.sk-toggleable__label-arrow:before {content: \"▸\";float: left;margin-right: 0.25em;color: #696969;}#sk-container-id-1 label.sk-toggleable__label-arrow:hover:before {color: black;}#sk-container-id-1 div.sk-estimator:hover label.sk-toggleable__label-arrow:before {color: black;}#sk-container-id-1 div.sk-toggleable__content {max-height: 0;max-width: 0;overflow: hidden;text-align: left;background-color: #f0f8ff;}#sk-container-id-1 div.sk-toggleable__content pre {margin: 0.2em;color: black;border-radius: 0.25em;background-color: #f0f8ff;}#sk-container-id-1 input.sk-toggleable__control:checked~div.sk-toggleable__content {max-height: 200px;max-width: 100%;overflow: auto;}#sk-container-id-1 input.sk-toggleable__control:checked~label.sk-toggleable__label-arrow:before {content: \"▾\";}#sk-container-id-1 div.sk-estimator input.sk-toggleable__control:checked~label.sk-toggleable__label {background-color: #d4ebff;}#sk-container-id-1 div.sk-label input.sk-toggleable__control:checked~label.sk-toggleable__label {background-color: #d4ebff;}#sk-container-id-1 input.sk-hidden--visually {border: 0;clip: rect(1px 1px 1px 1px);clip: rect(1px, 1px, 1px, 1px);height: 1px;margin: -1px;overflow: hidden;padding: 0;position: absolute;width: 1px;}#sk-container-id-1 div.sk-estimator {font-family: monospace;background-color: #f0f8ff;border: 1px dotted black;border-radius: 0.25em;box-sizing: border-box;margin-bottom: 0.5em;}#sk-container-id-1 div.sk-estimator:hover {background-color: #d4ebff;}#sk-container-id-1 div.sk-parallel-item::after {content: \"\";width: 100%;border-bottom: 1px solid gray;flex-grow: 1;}#sk-container-id-1 div.sk-label:hover label.sk-toggleable__label {background-color: #d4ebff;}#sk-container-id-1 div.sk-serial::before {content: \"\";position: absolute;border-left: 1px solid gray;box-sizing: border-box;top: 0;bottom: 0;left: 50%;z-index: 0;}#sk-container-id-1 div.sk-serial {display: flex;flex-direction: column;align-items: center;background-color: white;padding-right: 0.2em;padding-left: 0.2em;position: relative;}#sk-container-id-1 div.sk-item {position: relative;z-index: 1;}#sk-container-id-1 div.sk-parallel {display: flex;align-items: stretch;justify-content: center;background-color: white;position: relative;}#sk-container-id-1 div.sk-item::before, #sk-container-id-1 div.sk-parallel-item::before {content: \"\";position: absolute;border-left: 1px solid gray;box-sizing: border-box;top: 0;bottom: 0;left: 50%;z-index: -1;}#sk-container-id-1 div.sk-parallel-item {display: flex;flex-direction: column;z-index: 1;position: relative;background-color: white;}#sk-container-id-1 div.sk-parallel-item:first-child::after {align-self: flex-end;width: 50%;}#sk-container-id-1 div.sk-parallel-item:last-child::after {align-self: flex-start;width: 50%;}#sk-container-id-1 div.sk-parallel-item:only-child::after {width: 0;}#sk-container-id-1 div.sk-dashed-wrapped {border: 1px dashed gray;margin: 0 0.4em 0.5em 0.4em;box-sizing: border-box;padding-bottom: 0.4em;background-color: white;}#sk-container-id-1 div.sk-label label {font-family: monospace;font-weight: bold;display: inline-block;line-height: 1.2em;}#sk-container-id-1 div.sk-label-container {text-align: center;}#sk-container-id-1 div.sk-container {/* jupyter's `normalize.less` sets `[hidden] { display: none; }` but bootstrap.min.css set `[hidden] { display: none !important; }` so we also need the `!important` here to be able to override the default hidden behavior on the sphinx rendered scikit-learn.org. See: https://github.com/scikit-learn/scikit-learn/issues/21755 */display: inline-block !important;position: relative;}#sk-container-id-1 div.sk-text-repr-fallback {display: none;}</style><div id=\"sk-container-id-1\" class=\"sk-top-container\"><div class=\"sk-text-repr-fallback\"><pre>Pipeline(steps=[(&#x27;columntransformer&#x27;,\n",
       "                 ColumnTransformer(remainder=&#x27;passthrough&#x27;,\n",
       "                                   transformers=[(&#x27;pipeline-1&#x27;,\n",
       "                                                  Pipeline(steps=[(&#x27;standardscaler&#x27;,\n",
       "                                                                   StandardScaler())]),\n",
       "                                                  [&#x27;masse_ordma_min&#x27;,\n",
       "                                                   &#x27;masse_ordma_max&#x27;,\n",
       "                                                   &#x27;Nb_rapp&#x27;]),\n",
       "                                                 (&#x27;pipeline-2&#x27;,\n",
       "                                                  Pipeline(steps=[(&#x27;onehotencoder&#x27;,\n",
       "                                                                   OneHotEncoder(handle_unknown=&#x27;ignore&#x27;))]),\n",
       "                                                  [&#x27;lib_mrq&#x27;, &#x27;cnit&#x27;, &#x27;cod_cbr&#x27;,\n",
       "                                                   &#x27;hybride&#x27;, &#x27;puiss_max&#x27;,\n",
       "                                                   &#x27;Carrosserie&#x27;, &#x27;gamme&#x27;,\n",
       "                                                   &#x27;Type_boite&#x27;])])),\n",
       "                (&#x27;transformedtargetregressor&#x27;,\n",
       "                 TransformedTargetRegressor(regressor=DummyRegressor()))])</pre><b>In a Jupyter environment, please rerun this cell to show the HTML representation or trust the notebook. <br />On GitHub, the HTML representation is unable to render, please try loading this page with nbviewer.org.</b></div><div class=\"sk-container\" hidden><div class=\"sk-item sk-dashed-wrapped\"><div class=\"sk-label-container\"><div class=\"sk-label sk-toggleable\"><input class=\"sk-toggleable__control sk-hidden--visually\" id=\"sk-estimator-id-1\" type=\"checkbox\" ><label for=\"sk-estimator-id-1\" class=\"sk-toggleable__label sk-toggleable__label-arrow\">Pipeline</label><div class=\"sk-toggleable__content\"><pre>Pipeline(steps=[(&#x27;columntransformer&#x27;,\n",
       "                 ColumnTransformer(remainder=&#x27;passthrough&#x27;,\n",
       "                                   transformers=[(&#x27;pipeline-1&#x27;,\n",
       "                                                  Pipeline(steps=[(&#x27;standardscaler&#x27;,\n",
       "                                                                   StandardScaler())]),\n",
       "                                                  [&#x27;masse_ordma_min&#x27;,\n",
       "                                                   &#x27;masse_ordma_max&#x27;,\n",
       "                                                   &#x27;Nb_rapp&#x27;]),\n",
       "                                                 (&#x27;pipeline-2&#x27;,\n",
       "                                                  Pipeline(steps=[(&#x27;onehotencoder&#x27;,\n",
       "                                                                   OneHotEncoder(handle_unknown=&#x27;ignore&#x27;))]),\n",
       "                                                  [&#x27;lib_mrq&#x27;, &#x27;cnit&#x27;, &#x27;cod_cbr&#x27;,\n",
       "                                                   &#x27;hybride&#x27;, &#x27;puiss_max&#x27;,\n",
       "                                                   &#x27;Carrosserie&#x27;, &#x27;gamme&#x27;,\n",
       "                                                   &#x27;Type_boite&#x27;])])),\n",
       "                (&#x27;transformedtargetregressor&#x27;,\n",
       "                 TransformedTargetRegressor(regressor=DummyRegressor()))])</pre></div></div></div><div class=\"sk-serial\"><div class=\"sk-item sk-dashed-wrapped\"><div class=\"sk-label-container\"><div class=\"sk-label sk-toggleable\"><input class=\"sk-toggleable__control sk-hidden--visually\" id=\"sk-estimator-id-2\" type=\"checkbox\" ><label for=\"sk-estimator-id-2\" class=\"sk-toggleable__label sk-toggleable__label-arrow\">columntransformer: ColumnTransformer</label><div class=\"sk-toggleable__content\"><pre>ColumnTransformer(remainder=&#x27;passthrough&#x27;,\n",
       "                  transformers=[(&#x27;pipeline-1&#x27;,\n",
       "                                 Pipeline(steps=[(&#x27;standardscaler&#x27;,\n",
       "                                                  StandardScaler())]),\n",
       "                                 [&#x27;masse_ordma_min&#x27;, &#x27;masse_ordma_max&#x27;,\n",
       "                                  &#x27;Nb_rapp&#x27;]),\n",
       "                                (&#x27;pipeline-2&#x27;,\n",
       "                                 Pipeline(steps=[(&#x27;onehotencoder&#x27;,\n",
       "                                                  OneHotEncoder(handle_unknown=&#x27;ignore&#x27;))]),\n",
       "                                 [&#x27;lib_mrq&#x27;, &#x27;cnit&#x27;, &#x27;cod_cbr&#x27;, &#x27;hybride&#x27;,\n",
       "                                  &#x27;puiss_max&#x27;, &#x27;Carrosserie&#x27;, &#x27;gamme&#x27;,\n",
       "                                  &#x27;Type_boite&#x27;])])</pre></div></div></div><div class=\"sk-parallel\"><div class=\"sk-parallel-item\"><div class=\"sk-item\"><div class=\"sk-label-container\"><div class=\"sk-label sk-toggleable\"><input class=\"sk-toggleable__control sk-hidden--visually\" id=\"sk-estimator-id-3\" type=\"checkbox\" ><label for=\"sk-estimator-id-3\" class=\"sk-toggleable__label sk-toggleable__label-arrow\">pipeline-1</label><div class=\"sk-toggleable__content\"><pre>[&#x27;masse_ordma_min&#x27;, &#x27;masse_ordma_max&#x27;, &#x27;Nb_rapp&#x27;]</pre></div></div></div><div class=\"sk-serial\"><div class=\"sk-item\"><div class=\"sk-serial\"><div class=\"sk-item\"><div class=\"sk-estimator sk-toggleable\"><input class=\"sk-toggleable__control sk-hidden--visually\" id=\"sk-estimator-id-4\" type=\"checkbox\" ><label for=\"sk-estimator-id-4\" class=\"sk-toggleable__label sk-toggleable__label-arrow\">StandardScaler</label><div class=\"sk-toggleable__content\"><pre>StandardScaler()</pre></div></div></div></div></div></div></div></div><div class=\"sk-parallel-item\"><div class=\"sk-item\"><div class=\"sk-label-container\"><div class=\"sk-label sk-toggleable\"><input class=\"sk-toggleable__control sk-hidden--visually\" id=\"sk-estimator-id-5\" type=\"checkbox\" ><label for=\"sk-estimator-id-5\" class=\"sk-toggleable__label sk-toggleable__label-arrow\">pipeline-2</label><div class=\"sk-toggleable__content\"><pre>[&#x27;lib_mrq&#x27;, &#x27;cnit&#x27;, &#x27;cod_cbr&#x27;, &#x27;hybride&#x27;, &#x27;puiss_max&#x27;, &#x27;Carrosserie&#x27;, &#x27;gamme&#x27;, &#x27;Type_boite&#x27;]</pre></div></div></div><div class=\"sk-serial\"><div class=\"sk-item\"><div class=\"sk-serial\"><div class=\"sk-item\"><div class=\"sk-estimator sk-toggleable\"><input class=\"sk-toggleable__control sk-hidden--visually\" id=\"sk-estimator-id-6\" type=\"checkbox\" ><label for=\"sk-estimator-id-6\" class=\"sk-toggleable__label sk-toggleable__label-arrow\">OneHotEncoder</label><div class=\"sk-toggleable__content\"><pre>OneHotEncoder(handle_unknown=&#x27;ignore&#x27;)</pre></div></div></div></div></div></div></div></div><div class=\"sk-parallel-item\"><div class=\"sk-item\"><div class=\"sk-label-container\"><div class=\"sk-label sk-toggleable\"><input class=\"sk-toggleable__control sk-hidden--visually\" id=\"sk-estimator-id-7\" type=\"checkbox\" ><label for=\"sk-estimator-id-7\" class=\"sk-toggleable__label sk-toggleable__label-arrow\">remainder</label><div class=\"sk-toggleable__content\"><pre>[]</pre></div></div></div><div class=\"sk-serial\"><div class=\"sk-item\"><div class=\"sk-estimator sk-toggleable\"><input class=\"sk-toggleable__control sk-hidden--visually\" id=\"sk-estimator-id-8\" type=\"checkbox\" ><label for=\"sk-estimator-id-8\" class=\"sk-toggleable__label sk-toggleable__label-arrow\">passthrough</label><div class=\"sk-toggleable__content\"><pre>passthrough</pre></div></div></div></div></div></div></div></div><div class=\"sk-item sk-dashed-wrapped\"><div class=\"sk-label-container\"><div class=\"sk-label sk-toggleable\"><input class=\"sk-toggleable__control sk-hidden--visually\" id=\"sk-estimator-id-9\" type=\"checkbox\" ><label for=\"sk-estimator-id-9\" class=\"sk-toggleable__label sk-toggleable__label-arrow\">transformedtargetregressor: TransformedTargetRegressor</label><div class=\"sk-toggleable__content\"><pre>TransformedTargetRegressor(regressor=DummyRegressor())</pre></div></div></div><div class=\"sk-parallel\"><div class=\"sk-parallel-item\"><div class=\"sk-item\"><div class=\"sk-label-container\"><div class=\"sk-label sk-toggleable\"><input class=\"sk-toggleable__control sk-hidden--visually\" id=\"sk-estimator-id-10\" type=\"checkbox\" ><label for=\"sk-estimator-id-10\" class=\"sk-toggleable__label sk-toggleable__label-arrow\">regressor: DummyRegressor</label><div class=\"sk-toggleable__content\"><pre>DummyRegressor()</pre></div></div></div><div class=\"sk-serial\"><div class=\"sk-item\"><div class=\"sk-estimator sk-toggleable\"><input class=\"sk-toggleable__control sk-hidden--visually\" id=\"sk-estimator-id-11\" type=\"checkbox\" ><label for=\"sk-estimator-id-11\" class=\"sk-toggleable__label sk-toggleable__label-arrow\">DummyRegressor</label><div class=\"sk-toggleable__content\"><pre>DummyRegressor()</pre></div></div></div></div></div></div></div></div></div></div></div></div>"
      ],
      "text/plain": [
       "Pipeline(steps=[('columntransformer',\n",
       "                 ColumnTransformer(remainder='passthrough',\n",
       "                                   transformers=[('pipeline-1',\n",
       "                                                  Pipeline(steps=[('standardscaler',\n",
       "                                                                   StandardScaler())]),\n",
       "                                                  ['masse_ordma_min',\n",
       "                                                   'masse_ordma_max',\n",
       "                                                   'Nb_rapp']),\n",
       "                                                 ('pipeline-2',\n",
       "                                                  Pipeline(steps=[('onehotencoder',\n",
       "                                                                   OneHotEncoder(handle_unknown='ignore'))]),\n",
       "                                                  ['lib_mrq', 'cnit', 'cod_cbr',\n",
       "                                                   'hybride', 'puiss_max',\n",
       "                                                   'Carrosserie', 'gamme',\n",
       "                                                   'Type_boite'])])),\n",
       "                ('transformedtargetregressor',\n",
       "                 TransformedTargetRegressor(regressor=DummyRegressor()))])"
      ]
     },
     "execution_count": 16,
     "metadata": {},
     "output_type": "execute_result"
    }
   ],
   "source": [
    "model_dum = make_pipeline( preprocessor,\n",
    "                  TransformedTargetRegressor(regressor = DummyRegressor())   \n",
    ")\n",
    "model_dum.fit(X_train, y_train)"
   ]
  },
  {
   "cell_type": "markdown",
   "id": "c5375ac1",
   "metadata": {},
   "source": [
    "## <font color=\"red\" id=\"section_4_1_1\" > 4.1.1 Prediction et performance du model"
   ]
  },
  {
   "cell_type": "code",
   "execution_count": 17,
   "id": "f07b8866",
   "metadata": {},
   "outputs": [],
   "source": [
    "y_pred_dum = model_dum.predict(X_test)"
   ]
  },
  {
   "cell_type": "code",
   "execution_count": 18,
   "id": "e4986429",
   "metadata": {},
   "outputs": [
    {
     "data": {
      "text/plain": [
       "array([201.6630094, 201.6630094, 201.6630094, ..., 201.6630094,\n",
       "       201.6630094, 201.6630094])"
      ]
     },
     "execution_count": 18,
     "metadata": {},
     "output_type": "execute_result"
    }
   ],
   "source": [
    "y_pred_dum"
   ]
  },
  {
   "cell_type": "markdown",
   "id": "17b2a014",
   "metadata": {},
   "source": [
    "### Comparaison: Val réelle vs val predict"
   ]
  },
  {
   "cell_type": "code",
   "execution_count": 19,
   "id": "4bb5f4b2",
   "metadata": {},
   "outputs": [
    {
     "data": {
      "text/html": [
       "<div>\n",
       "<style scoped>\n",
       "    .dataframe tbody tr th:only-of-type {\n",
       "        vertical-align: middle;\n",
       "    }\n",
       "\n",
       "    .dataframe tbody tr th {\n",
       "        vertical-align: top;\n",
       "    }\n",
       "\n",
       "    .dataframe thead th {\n",
       "        text-align: right;\n",
       "    }\n",
       "</style>\n",
       "<table border=\"1\" class=\"dataframe\">\n",
       "  <thead>\n",
       "    <tr style=\"text-align: right;\">\n",
       "      <th></th>\n",
       "      <th>Valeurs réelles</th>\n",
       "      <th>Valeurs predict</th>\n",
       "    </tr>\n",
       "  </thead>\n",
       "  <tbody>\n",
       "    <tr>\n",
       "      <th>0</th>\n",
       "      <td>197.0</td>\n",
       "      <td>201.663009</td>\n",
       "    </tr>\n",
       "    <tr>\n",
       "      <th>1</th>\n",
       "      <td>234.0</td>\n",
       "      <td>201.663009</td>\n",
       "    </tr>\n",
       "    <tr>\n",
       "      <th>2</th>\n",
       "      <td>162.0</td>\n",
       "      <td>201.663009</td>\n",
       "    </tr>\n",
       "    <tr>\n",
       "      <th>3</th>\n",
       "      <td>150.0</td>\n",
       "      <td>201.663009</td>\n",
       "    </tr>\n",
       "    <tr>\n",
       "      <th>4</th>\n",
       "      <td>189.0</td>\n",
       "      <td>201.663009</td>\n",
       "    </tr>\n",
       "    <tr>\n",
       "      <th>5</th>\n",
       "      <td>149.0</td>\n",
       "      <td>201.663009</td>\n",
       "    </tr>\n",
       "  </tbody>\n",
       "</table>\n",
       "</div>"
      ],
      "text/plain": [
       "   Valeurs réelles  Valeurs predict\n",
       "0            197.0       201.663009\n",
       "1            234.0       201.663009\n",
       "2            162.0       201.663009\n",
       "3            150.0       201.663009\n",
       "4            189.0       201.663009\n",
       "5            149.0       201.663009"
      ]
     },
     "execution_count": 19,
     "metadata": {},
     "output_type": "execute_result"
    }
   ],
   "source": [
    "pd.DataFrame({'Valeurs réelles': y_test.values.ravel(), 'Valeurs predict': y_pred_dum}).head(6)"
   ]
  },
  {
   "cell_type": "markdown",
   "id": "93b925c6",
   "metadata": {},
   "source": [
    "### Score de performance"
   ]
  },
  {
   "cell_type": "code",
   "execution_count": 20,
   "id": "95955cf1",
   "metadata": {},
   "outputs": [
    {
     "name": "stdout",
     "output_type": "stream",
     "text": [
      "Le score de performance sur le training set est: 0.0\n"
     ]
    }
   ],
   "source": [
    "print(f\"Le score de performance sur le training set est:\", model_dum.score(X_train, y_train))"
   ]
  },
  {
   "cell_type": "code",
   "execution_count": 21,
   "id": "d4c017e6",
   "metadata": {},
   "outputs": [
    {
     "name": "stdout",
     "output_type": "stream",
     "text": [
      "Le score R2 de performance sur le  test set est: -0.0;\n",
      "La mean absolute error (MAE) est :22.0;\n",
      "La RMSE est :4.677;\n",
      "La median  absolute error est :12.0.\n"
     ]
    }
   ],
   "source": [
    "print(\"Le score R2 de performance sur le  test set est: {};\" .format(np.round(model_dum.score(X_test, y_test), 5)))\n",
    "print(\"La mean absolute error (MAE) est :{};\".format(np.round(np.round(mean_absolute_error(y_test,y_pred_dum)), 2)))\n",
    "print(\"La RMSE est :{};\" .format(np.round(np.sqrt(mean_absolute_error(y_test,y_pred_dum)), 3)))\n",
    "print(\"La median  absolute error est :{}.\".format(np.round(median_absolute_error(y_test,y_pred_dum))))"
   ]
  },
  {
   "cell_type": "markdown",
   "id": "cdf72969",
   "metadata": {},
   "source": [
    "## Visualisation"
   ]
  },
  {
   "cell_type": "code",
   "execution_count": 22,
   "id": "47b4d3a7",
   "metadata": {},
   "outputs": [
    {
     "data": {
      "text/plain": [
       "Text(0.5, 1.0, 'DummyRegressor, prediction de CO2')"
      ]
     },
     "execution_count": 22,
     "metadata": {},
     "output_type": "execute_result"
    },
    {
     "data": {
      "image/png": "[encoded data removed]",
      "text/plain": [
       "<Figure size 432x432 with 1 Axes>"
      ]
     },
     "metadata": {
      "needs_background": "light"
     },
     "output_type": "display_data"
    }
   ],
   "source": [
    "fig, ax = plt.subplots(figsize = (6,6))\n",
    "sns.scatterplot(x = y_test, y = y_pred_dum)\n",
    "ax.plot([0,1], [0,1], ls ='--', c = 'red', transform = ax.transAxes)\n",
    "plt.xlabel(\"Valeurs réelles\", fontsize = 14)\n",
    "plt.ylabel(\"Valeurs predictes\", fontsize = 14)\n",
    "ax.set_title(\"DummyRegressor, prediction de CO2\", fontsize = 14)"
   ]
  },
  {
   "cell_type": "markdown",
   "id": "9c6abb0a",
   "metadata": {},
   "source": [
    "# Commentaire: \n",
    "Ce qu'on constate c'est ce que ce modéle n'a rien appris sur ce dataset, et c'est complétement normal car dummyRegressor ne tient pas compte des données pour prédire.\n",
    "On l'a juste utiisé comme moyen de référence."
   ]
  },
  {
   "cell_type": "markdown",
   "id": "32ac8055",
   "metadata": {},
   "source": [
    "## <font color=\"red\" id=\"section_4_2\" > 4.2  Prediction de CO2: LinearRegression"
   ]
  },
  {
   "cell_type": "markdown",
   "id": "b8505a28",
   "metadata": {},
   "source": [
    "## Optimisation des hyperparamètres"
   ]
  },
  {
   "cell_type": "code",
   "execution_count": 23,
   "id": "cd60ddd2",
   "metadata": {},
   "outputs": [
    {
     "name": "stdout",
     "output_type": "stream",
     "text": [
      "Execution time est:57.43357181549072\n"
     ]
    }
   ],
   "source": [
    "t0 = time.time() \n",
    "params_lr = {\"regressor__fit_intercept\": [False, True],# sur False; les données doivent être centrées\n",
    "             \"regressor__normalize\": [False, True] # s'il fallait normaliser ou pas  \n",
    "}\n",
    "lr_grid_cv = GridSearchCV(TransformedTargetRegressor(regressor = LinearRegression()),\n",
    "                          param_grid = params_lr,\n",
    "                          cv = 5,\n",
    "                          scoring = ('r2',\"neg_mean_absolute_error\"),\n",
    "                          refit = \"neg_mean_absolute_error\",\n",
    "                          return_train_score =True,\n",
    "                          n_jobs =-1)\n",
    "\n",
    "mlr_cv = Pipeline([('preprocessor', preprocessor),\n",
    "                        ('grid_searchcv_mlr', lr_grid_cv)\n",
    "    \n",
    "                  ])\n",
    "\n",
    "mlr_cv.fit(X_train, y_train)\n",
    "print(\"Execution time est:{}\".format(time.time() - t0))"
   ]
  },
  {
   "cell_type": "code",
   "execution_count": 24,
   "id": "d7e7f160",
   "metadata": {},
   "outputs": [
    {
     "data": {
      "text/html": [
       "<div>\n",
       "<style scoped>\n",
       "    .dataframe tbody tr th:only-of-type {\n",
       "        vertical-align: middle;\n",
       "    }\n",
       "\n",
       "    .dataframe tbody tr th {\n",
       "        vertical-align: top;\n",
       "    }\n",
       "\n",
       "    .dataframe thead th {\n",
       "        text-align: right;\n",
       "    }\n",
       "</style>\n",
       "<table border=\"1\" class=\"dataframe\">\n",
       "  <thead>\n",
       "    <tr style=\"text-align: right;\">\n",
       "      <th></th>\n",
       "      <th>mean_fit_time</th>\n",
       "      <th>std_fit_time</th>\n",
       "      <th>mean_score_time</th>\n",
       "      <th>std_score_time</th>\n",
       "      <th>param_regressor__fit_intercept</th>\n",
       "      <th>param_regressor__normalize</th>\n",
       "      <th>params</th>\n",
       "      <th>split0_test_r2</th>\n",
       "      <th>split1_test_r2</th>\n",
       "      <th>split2_test_r2</th>\n",
       "      <th>split3_test_r2</th>\n",
       "      <th>split4_test_r2</th>\n",
       "      <th>mean_test_r2</th>\n",
       "      <th>std_test_r2</th>\n",
       "      <th>rank_test_r2</th>\n",
       "      <th>split0_train_r2</th>\n",
       "      <th>split1_train_r2</th>\n",
       "      <th>split2_train_r2</th>\n",
       "      <th>split3_train_r2</th>\n",
       "      <th>split4_train_r2</th>\n",
       "      <th>mean_train_r2</th>\n",
       "      <th>std_train_r2</th>\n",
       "      <th>split0_test_neg_mean_absolute_error</th>\n",
       "      <th>split1_test_neg_mean_absolute_error</th>\n",
       "      <th>split2_test_neg_mean_absolute_error</th>\n",
       "      <th>split3_test_neg_mean_absolute_error</th>\n",
       "      <th>split4_test_neg_mean_absolute_error</th>\n",
       "      <th>mean_test_neg_mean_absolute_error</th>\n",
       "      <th>std_test_neg_mean_absolute_error</th>\n",
       "      <th>rank_test_neg_mean_absolute_error</th>\n",
       "      <th>split0_train_neg_mean_absolute_error</th>\n",
       "      <th>split1_train_neg_mean_absolute_error</th>\n",
       "      <th>split2_train_neg_mean_absolute_error</th>\n",
       "      <th>split3_train_neg_mean_absolute_error</th>\n",
       "      <th>split4_train_neg_mean_absolute_error</th>\n",
       "      <th>mean_train_neg_mean_absolute_error</th>\n",
       "      <th>std_train_neg_mean_absolute_error</th>\n",
       "    </tr>\n",
       "  </thead>\n",
       "  <tbody>\n",
       "    <tr>\n",
       "      <th>0</th>\n",
       "      <td>11.892888</td>\n",
       "      <td>1.330671</td>\n",
       "      <td>0.007203</td>\n",
       "      <td>0.004708</td>\n",
       "      <td>False</td>\n",
       "      <td>False</td>\n",
       "      <td>{'regressor__fit_intercept': False, 'regressor...</td>\n",
       "      <td>-0.280514</td>\n",
       "      <td>-1.197983</td>\n",
       "      <td>-2.370022</td>\n",
       "      <td>0.733021</td>\n",
       "      <td>-2.910589</td>\n",
       "      <td>-1.205217</td>\n",
       "      <td>1.332438</td>\n",
       "      <td>2</td>\n",
       "      <td>0.999911</td>\n",
       "      <td>0.999979</td>\n",
       "      <td>0.999897</td>\n",
       "      <td>0.999897</td>\n",
       "      <td>0.999914</td>\n",
       "      <td>0.99992</td>\n",
       "      <td>0.00003</td>\n",
       "      <td>-29.020244</td>\n",
       "      <td>-39.857484</td>\n",
       "      <td>-47.118012</td>\n",
       "      <td>-13.436459</td>\n",
       "      <td>-50.553931</td>\n",
       "      <td>-35.997226</td>\n",
       "      <td>13.476926</td>\n",
       "      <td>2</td>\n",
       "      <td>-0.006808</td>\n",
       "      <td>-0.004078</td>\n",
       "      <td>-0.008539</td>\n",
       "      <td>-0.007813</td>\n",
       "      <td>-0.006310</td>\n",
       "      <td>-0.006710</td>\n",
       "      <td>0.001527</td>\n",
       "    </tr>\n",
       "    <tr>\n",
       "      <th>1</th>\n",
       "      <td>11.426848</td>\n",
       "      <td>1.649550</td>\n",
       "      <td>0.004203</td>\n",
       "      <td>0.001328</td>\n",
       "      <td>False</td>\n",
       "      <td>True</td>\n",
       "      <td>{'regressor__fit_intercept': False, 'regressor...</td>\n",
       "      <td>-0.280514</td>\n",
       "      <td>-1.197983</td>\n",
       "      <td>-2.370022</td>\n",
       "      <td>0.733021</td>\n",
       "      <td>-2.910589</td>\n",
       "      <td>-1.205217</td>\n",
       "      <td>1.332438</td>\n",
       "      <td>2</td>\n",
       "      <td>0.999911</td>\n",
       "      <td>0.999979</td>\n",
       "      <td>0.999897</td>\n",
       "      <td>0.999897</td>\n",
       "      <td>0.999914</td>\n",
       "      <td>0.99992</td>\n",
       "      <td>0.00003</td>\n",
       "      <td>-29.020244</td>\n",
       "      <td>-39.857484</td>\n",
       "      <td>-47.118012</td>\n",
       "      <td>-13.436459</td>\n",
       "      <td>-50.553931</td>\n",
       "      <td>-35.997226</td>\n",
       "      <td>13.476926</td>\n",
       "      <td>2</td>\n",
       "      <td>-0.006808</td>\n",
       "      <td>-0.004078</td>\n",
       "      <td>-0.008539</td>\n",
       "      <td>-0.007813</td>\n",
       "      <td>-0.006310</td>\n",
       "      <td>-0.006710</td>\n",
       "      <td>0.001527</td>\n",
       "    </tr>\n",
       "    <tr>\n",
       "      <th>2</th>\n",
       "      <td>9.273490</td>\n",
       "      <td>1.013076</td>\n",
       "      <td>0.007201</td>\n",
       "      <td>0.004444</td>\n",
       "      <td>True</td>\n",
       "      <td>False</td>\n",
       "      <td>{'regressor__fit_intercept': True, 'regressor_...</td>\n",
       "      <td>-0.280180</td>\n",
       "      <td>-1.197574</td>\n",
       "      <td>-2.370031</td>\n",
       "      <td>0.733427</td>\n",
       "      <td>-2.910446</td>\n",
       "      <td>-1.204961</td>\n",
       "      <td>1.332568</td>\n",
       "      <td>1</td>\n",
       "      <td>0.999911</td>\n",
       "      <td>0.999979</td>\n",
       "      <td>0.999897</td>\n",
       "      <td>0.999897</td>\n",
       "      <td>0.999914</td>\n",
       "      <td>0.99992</td>\n",
       "      <td>0.00003</td>\n",
       "      <td>-29.018708</td>\n",
       "      <td>-39.850649</td>\n",
       "      <td>-47.117014</td>\n",
       "      <td>-13.429828</td>\n",
       "      <td>-50.552661</td>\n",
       "      <td>-35.993772</td>\n",
       "      <td>13.478474</td>\n",
       "      <td>1</td>\n",
       "      <td>-0.006808</td>\n",
       "      <td>-0.004078</td>\n",
       "      <td>-0.008538</td>\n",
       "      <td>-0.007813</td>\n",
       "      <td>-0.006310</td>\n",
       "      <td>-0.006709</td>\n",
       "      <td>0.001527</td>\n",
       "    </tr>\n",
       "    <tr>\n",
       "      <th>3</th>\n",
       "      <td>0.897266</td>\n",
       "      <td>0.130200</td>\n",
       "      <td>0.003998</td>\n",
       "      <td>0.000897</td>\n",
       "      <td>True</td>\n",
       "      <td>True</td>\n",
       "      <td>{'regressor__fit_intercept': True, 'regressor_...</td>\n",
       "      <td>-105.360886</td>\n",
       "      <td>-1.579334</td>\n",
       "      <td>-4.772769</td>\n",
       "      <td>-672.092826</td>\n",
       "      <td>-5.688615</td>\n",
       "      <td>-157.898886</td>\n",
       "      <td>260.079613</td>\n",
       "      <td>4</td>\n",
       "      <td>0.999911</td>\n",
       "      <td>0.999979</td>\n",
       "      <td>0.999897</td>\n",
       "      <td>0.999900</td>\n",
       "      <td>0.999914</td>\n",
       "      <td>0.99992</td>\n",
       "      <td>0.00003</td>\n",
       "      <td>-266.671230</td>\n",
       "      <td>-43.138511</td>\n",
       "      <td>-62.656681</td>\n",
       "      <td>-684.248770</td>\n",
       "      <td>-66.774309</td>\n",
       "      <td>-224.697900</td>\n",
       "      <td>243.766196</td>\n",
       "      <td>4</td>\n",
       "      <td>-0.006707</td>\n",
       "      <td>-0.004078</td>\n",
       "      <td>-0.008538</td>\n",
       "      <td>-0.007335</td>\n",
       "      <td>-0.006309</td>\n",
       "      <td>-0.006593</td>\n",
       "      <td>0.001466</td>\n",
       "    </tr>\n",
       "  </tbody>\n",
       "</table>\n",
       "</div>"
      ],
      "text/plain": [
       "   mean_fit_time  std_fit_time  mean_score_time  std_score_time  \\\n",
       "0      11.892888      1.330671         0.007203        0.004708   \n",
       "1      11.426848      1.649550         0.004203        0.001328   \n",
       "2       9.273490      1.013076         0.007201        0.004444   \n",
       "3       0.897266      0.130200         0.003998        0.000897   \n",
       "\n",
       "  param_regressor__fit_intercept param_regressor__normalize  \\\n",
       "0                          False                      False   \n",
       "1                          False                       True   \n",
       "2                           True                      False   \n",
       "3                           True                       True   \n",
       "\n",
       "                                              params  split0_test_r2  \\\n",
       "0  {'regressor__fit_intercept': False, 'regressor...       -0.280514   \n",
       "1  {'regressor__fit_intercept': False, 'regressor...       -0.280514   \n",
       "2  {'regressor__fit_intercept': True, 'regressor_...       -0.280180   \n",
       "3  {'regressor__fit_intercept': True, 'regressor_...     -105.360886   \n",
       "\n",
       "   split1_test_r2  split2_test_r2  split3_test_r2  split4_test_r2  \\\n",
       "0       -1.197983       -2.370022        0.733021       -2.910589   \n",
       "1       -1.197983       -2.370022        0.733021       -2.910589   \n",
       "2       -1.197574       -2.370031        0.733427       -2.910446   \n",
       "3       -1.579334       -4.772769     -672.092826       -5.688615   \n",
       "\n",
       "   mean_test_r2  std_test_r2  rank_test_r2  split0_train_r2  split1_train_r2  \\\n",
       "0     -1.205217     1.332438             2         0.999911         0.999979   \n",
       "1     -1.205217     1.332438             2         0.999911         0.999979   \n",
       "2     -1.204961     1.332568             1         0.999911         0.999979   \n",
       "3   -157.898886   260.079613             4         0.999911         0.999979   \n",
       "\n",
       "   split2_train_r2  split3_train_r2  split4_train_r2  mean_train_r2  \\\n",
       "0         0.999897         0.999897         0.999914        0.99992   \n",
       "1         0.999897         0.999897         0.999914        0.99992   \n",
       "2         0.999897         0.999897         0.999914        0.99992   \n",
       "3         0.999897         0.999900         0.999914        0.99992   \n",
       "\n",
       "   std_train_r2  split0_test_neg_mean_absolute_error  \\\n",
       "0       0.00003                           -29.020244   \n",
       "1       0.00003                           -29.020244   \n",
       "2       0.00003                           -29.018708   \n",
       "3       0.00003                          -266.671230   \n",
       "\n",
       "   split1_test_neg_mean_absolute_error  split2_test_neg_mean_absolute_error  \\\n",
       "0                           -39.857484                           -47.118012   \n",
       "1                           -39.857484                           -47.118012   \n",
       "2                           -39.850649                           -47.117014   \n",
       "3                           -43.138511                           -62.656681   \n",
       "\n",
       "   split3_test_neg_mean_absolute_error  split4_test_neg_mean_absolute_error  \\\n",
       "0                           -13.436459                           -50.553931   \n",
       "1                           -13.436459                           -50.553931   \n",
       "2                           -13.429828                           -50.552661   \n",
       "3                          -684.248770                           -66.774309   \n",
       "\n",
       "   mean_test_neg_mean_absolute_error  std_test_neg_mean_absolute_error  \\\n",
       "0                         -35.997226                         13.476926   \n",
       "1                         -35.997226                         13.476926   \n",
       "2                         -35.993772                         13.478474   \n",
       "3                        -224.697900                        243.766196   \n",
       "\n",
       "   rank_test_neg_mean_absolute_error  split0_train_neg_mean_absolute_error  \\\n",
       "0                                  2                             -0.006808   \n",
       "1                                  2                             -0.006808   \n",
       "2                                  1                             -0.006808   \n",
       "3                                  4                             -0.006707   \n",
       "\n",
       "   split1_train_neg_mean_absolute_error  split2_train_neg_mean_absolute_error  \\\n",
       "0                             -0.004078                             -0.008539   \n",
       "1                             -0.004078                             -0.008539   \n",
       "2                             -0.004078                             -0.008538   \n",
       "3                             -0.004078                             -0.008538   \n",
       "\n",
       "   split3_train_neg_mean_absolute_error  split4_train_neg_mean_absolute_error  \\\n",
       "0                             -0.007813                             -0.006310   \n",
       "1                             -0.007813                             -0.006310   \n",
       "2                             -0.007813                             -0.006310   \n",
       "3                             -0.007335                             -0.006309   \n",
       "\n",
       "   mean_train_neg_mean_absolute_error  std_train_neg_mean_absolute_error  \n",
       "0                           -0.006710                           0.001527  \n",
       "1                           -0.006710                           0.001527  \n",
       "2                           -0.006709                           0.001527  \n",
       "3                           -0.006593                           0.001466  "
      ]
     },
     "execution_count": 24,
     "metadata": {},
     "output_type": "execute_result"
    }
   ],
   "source": [
    "resultat_mlr = pd.DataFrame.from_dict(mlr_cv.named_steps['grid_searchcv_mlr'].cv_results_)\n",
    "resultat_mlr"
   ]
  },
  {
   "cell_type": "markdown",
   "id": "bcbe1f79",
   "metadata": {},
   "source": [
    "## Commentaire:\n",
    "Nous allons à présent extraire les information pertinentes nous concernant dans cette sous section."
   ]
  },
  {
   "cell_type": "code",
   "execution_count": 25,
   "id": "f0bb05d9",
   "metadata": {},
   "outputs": [
    {
     "name": "stdout",
     "output_type": "stream",
     "text": [
      "Le meilleur score NMAE: -35.994;\n",
      "Meilleur score R2: -1.205;\n",
      "Meilleurt trainin time: 368579.61s; \n",
      "Meilleurs paramètres: {'regressor__fit_intercept': True, 'regressor__normalize': False}.\n"
     ]
    }
   ],
   "source": [
    "best_nmae = np.round(mlr_cv.named_steps['grid_searchcv_mlr'].best_score_,3)\n",
    "best_score_R2 = np.round(np.mean(resultat_mlr[resultat_mlr['rank_test_r2']==1]['mean_test_r2']), 3)\n",
    "best_params = mlr_cv.named_steps['grid_searchcv_mlr'].best_params_\n",
    "best_fit_time_training = np.round(np.mean(resultat_mlr[\"mean_fit_time\"])*X_train.shape[0], 2)\n",
    "print(\"Le meilleur score NMAE: {};\\nMeilleur score R2: {};\\nMeilleurt trainin time: {}s; \\nMeilleurs paramètres: {}.\"\\\n",
    "      .format(best_nmae, best_score_R2 , best_fit_time_training, best_params))"
   ]
  },
  {
   "cell_type": "code",
   "execution_count": 26,
   "id": "2b57ba1e",
   "metadata": {},
   "outputs": [
    {
     "data": {
      "text/html": [
       "<style>#sk-container-id-2 {color: black;background-color: white;}#sk-container-id-2 pre{padding: 0;}#sk-container-id-2 div.sk-toggleable {background-color: white;}#sk-container-id-2 label.sk-toggleable__label {cursor: pointer;display: block;width: 100%;margin-bottom: 0;padding: 0.3em;box-sizing: border-box;text-align: center;}#sk-container-id-2 label.sk-toggleable__label-arrow:before {content: \"▸\";float: left;margin-right: 0.25em;color: #696969;}#sk-container-id-2 label.sk-toggleable__label-arrow:hover:before {color: black;}#sk-container-id-2 div.sk-estimator:hover label.sk-toggleable__label-arrow:before {color: black;}#sk-container-id-2 div.sk-toggleable__content {max-height: 0;max-width: 0;overflow: hidden;text-align: left;background-color: #f0f8ff;}#sk-container-id-2 div.sk-toggleable__content pre {margin: 0.2em;color: black;border-radius: 0.25em;background-color: #f0f8ff;}#sk-container-id-2 input.sk-toggleable__control:checked~div.sk-toggleable__content {max-height: 200px;max-width: 100%;overflow: auto;}#sk-container-id-2 input.sk-toggleable__control:checked~label.sk-toggleable__label-arrow:before {content: \"▾\";}#sk-container-id-2 div.sk-estimator input.sk-toggleable__control:checked~label.sk-toggleable__label {background-color: #d4ebff;}#sk-container-id-2 div.sk-label input.sk-toggleable__control:checked~label.sk-toggleable__label {background-color: #d4ebff;}#sk-container-id-2 input.sk-hidden--visually {border: 0;clip: rect(1px 1px 1px 1px);clip: rect(1px, 1px, 1px, 1px);height: 1px;margin: -1px;overflow: hidden;padding: 0;position: absolute;width: 1px;}#sk-container-id-2 div.sk-estimator {font-family: monospace;background-color: #f0f8ff;border: 1px dotted black;border-radius: 0.25em;box-sizing: border-box;margin-bottom: 0.5em;}#sk-container-id-2 div.sk-estimator:hover {background-color: #d4ebff;}#sk-container-id-2 div.sk-parallel-item::after {content: \"\";width: 100%;border-bottom: 1px solid gray;flex-grow: 1;}#sk-container-id-2 div.sk-label:hover label.sk-toggleable__label {background-color: #d4ebff;}#sk-container-id-2 div.sk-serial::before {content: \"\";position: absolute;border-left: 1px solid gray;box-sizing: border-box;top: 0;bottom: 0;left: 50%;z-index: 0;}#sk-container-id-2 div.sk-serial {display: flex;flex-direction: column;align-items: center;background-color: white;padding-right: 0.2em;padding-left: 0.2em;position: relative;}#sk-container-id-2 div.sk-item {position: relative;z-index: 1;}#sk-container-id-2 div.sk-parallel {display: flex;align-items: stretch;justify-content: center;background-color: white;position: relative;}#sk-container-id-2 div.sk-item::before, #sk-container-id-2 div.sk-parallel-item::before {content: \"\";position: absolute;border-left: 1px solid gray;box-sizing: border-box;top: 0;bottom: 0;left: 50%;z-index: -1;}#sk-container-id-2 div.sk-parallel-item {display: flex;flex-direction: column;z-index: 1;position: relative;background-color: white;}#sk-container-id-2 div.sk-parallel-item:first-child::after {align-self: flex-end;width: 50%;}#sk-container-id-2 div.sk-parallel-item:last-child::after {align-self: flex-start;width: 50%;}#sk-container-id-2 div.sk-parallel-item:only-child::after {width: 0;}#sk-container-id-2 div.sk-dashed-wrapped {border: 1px dashed gray;margin: 0 0.4em 0.5em 0.4em;box-sizing: border-box;padding-bottom: 0.4em;background-color: white;}#sk-container-id-2 div.sk-label label {font-family: monospace;font-weight: bold;display: inline-block;line-height: 1.2em;}#sk-container-id-2 div.sk-label-container {text-align: center;}#sk-container-id-2 div.sk-container {/* jupyter's `normalize.less` sets `[hidden] { display: none; }` but bootstrap.min.css set `[hidden] { display: none !important; }` so we also need the `!important` here to be able to override the default hidden behavior on the sphinx rendered scikit-learn.org. See: https://github.com/scikit-learn/scikit-learn/issues/21755 */display: inline-block !important;position: relative;}#sk-container-id-2 div.sk-text-repr-fallback {display: none;}</style><div id=\"sk-container-id-2\" class=\"sk-top-container\"><div class=\"sk-text-repr-fallback\"><pre>Pipeline(steps=[(&#x27;columntransformer&#x27;,\n",
       "                 ColumnTransformer(remainder=&#x27;passthrough&#x27;,\n",
       "                                   transformers=[(&#x27;pipeline-1&#x27;,\n",
       "                                                  Pipeline(steps=[(&#x27;standardscaler&#x27;,\n",
       "                                                                   StandardScaler())]),\n",
       "                                                  [&#x27;masse_ordma_min&#x27;,\n",
       "                                                   &#x27;masse_ordma_max&#x27;,\n",
       "                                                   &#x27;Nb_rapp&#x27;]),\n",
       "                                                 (&#x27;pipeline-2&#x27;,\n",
       "                                                  Pipeline(steps=[(&#x27;onehotencoder&#x27;,\n",
       "                                                                   OneHotEncoder(handle_unknown=&#x27;ignore&#x27;))]),\n",
       "                                                  [&#x27;lib_mrq&#x27;, &#x27;cnit&#x27;, &#x27;cod_cbr&#x27;,\n",
       "                                                   &#x27;hybride&#x27;, &#x27;puiss_max&#x27;,\n",
       "                                                   &#x27;Carrosserie&#x27;, &#x27;gamme&#x27;,\n",
       "                                                   &#x27;Type_boite&#x27;])])),\n",
       "                (&#x27;transformedtargetregressor&#x27;,\n",
       "                 TransformedTargetRegressor(regressor=LinearRegression(normalize=False)))])</pre><b>In a Jupyter environment, please rerun this cell to show the HTML representation or trust the notebook. <br />On GitHub, the HTML representation is unable to render, please try loading this page with nbviewer.org.</b></div><div class=\"sk-container\" hidden><div class=\"sk-item sk-dashed-wrapped\"><div class=\"sk-label-container\"><div class=\"sk-label sk-toggleable\"><input class=\"sk-toggleable__control sk-hidden--visually\" id=\"sk-estimator-id-12\" type=\"checkbox\" ><label for=\"sk-estimator-id-12\" class=\"sk-toggleable__label sk-toggleable__label-arrow\">Pipeline</label><div class=\"sk-toggleable__content\"><pre>Pipeline(steps=[(&#x27;columntransformer&#x27;,\n",
       "                 ColumnTransformer(remainder=&#x27;passthrough&#x27;,\n",
       "                                   transformers=[(&#x27;pipeline-1&#x27;,\n",
       "                                                  Pipeline(steps=[(&#x27;standardscaler&#x27;,\n",
       "                                                                   StandardScaler())]),\n",
       "                                                  [&#x27;masse_ordma_min&#x27;,\n",
       "                                                   &#x27;masse_ordma_max&#x27;,\n",
       "                                                   &#x27;Nb_rapp&#x27;]),\n",
       "                                                 (&#x27;pipeline-2&#x27;,\n",
       "                                                  Pipeline(steps=[(&#x27;onehotencoder&#x27;,\n",
       "                                                                   OneHotEncoder(handle_unknown=&#x27;ignore&#x27;))]),\n",
       "                                                  [&#x27;lib_mrq&#x27;, &#x27;cnit&#x27;, &#x27;cod_cbr&#x27;,\n",
       "                                                   &#x27;hybride&#x27;, &#x27;puiss_max&#x27;,\n",
       "                                                   &#x27;Carrosserie&#x27;, &#x27;gamme&#x27;,\n",
       "                                                   &#x27;Type_boite&#x27;])])),\n",
       "                (&#x27;transformedtargetregressor&#x27;,\n",
       "                 TransformedTargetRegressor(regressor=LinearRegression(normalize=False)))])</pre></div></div></div><div class=\"sk-serial\"><div class=\"sk-item sk-dashed-wrapped\"><div class=\"sk-label-container\"><div class=\"sk-label sk-toggleable\"><input class=\"sk-toggleable__control sk-hidden--visually\" id=\"sk-estimator-id-13\" type=\"checkbox\" ><label for=\"sk-estimator-id-13\" class=\"sk-toggleable__label sk-toggleable__label-arrow\">columntransformer: ColumnTransformer</label><div class=\"sk-toggleable__content\"><pre>ColumnTransformer(remainder=&#x27;passthrough&#x27;,\n",
       "                  transformers=[(&#x27;pipeline-1&#x27;,\n",
       "                                 Pipeline(steps=[(&#x27;standardscaler&#x27;,\n",
       "                                                  StandardScaler())]),\n",
       "                                 [&#x27;masse_ordma_min&#x27;, &#x27;masse_ordma_max&#x27;,\n",
       "                                  &#x27;Nb_rapp&#x27;]),\n",
       "                                (&#x27;pipeline-2&#x27;,\n",
       "                                 Pipeline(steps=[(&#x27;onehotencoder&#x27;,\n",
       "                                                  OneHotEncoder(handle_unknown=&#x27;ignore&#x27;))]),\n",
       "                                 [&#x27;lib_mrq&#x27;, &#x27;cnit&#x27;, &#x27;cod_cbr&#x27;, &#x27;hybride&#x27;,\n",
       "                                  &#x27;puiss_max&#x27;, &#x27;Carrosserie&#x27;, &#x27;gamme&#x27;,\n",
       "                                  &#x27;Type_boite&#x27;])])</pre></div></div></div><div class=\"sk-parallel\"><div class=\"sk-parallel-item\"><div class=\"sk-item\"><div class=\"sk-label-container\"><div class=\"sk-label sk-toggleable\"><input class=\"sk-toggleable__control sk-hidden--visually\" id=\"sk-estimator-id-14\" type=\"checkbox\" ><label for=\"sk-estimator-id-14\" class=\"sk-toggleable__label sk-toggleable__label-arrow\">pipeline-1</label><div class=\"sk-toggleable__content\"><pre>[&#x27;masse_ordma_min&#x27;, &#x27;masse_ordma_max&#x27;, &#x27;Nb_rapp&#x27;]</pre></div></div></div><div class=\"sk-serial\"><div class=\"sk-item\"><div class=\"sk-serial\"><div class=\"sk-item\"><div class=\"sk-estimator sk-toggleable\"><input class=\"sk-toggleable__control sk-hidden--visually\" id=\"sk-estimator-id-15\" type=\"checkbox\" ><label for=\"sk-estimator-id-15\" class=\"sk-toggleable__label sk-toggleable__label-arrow\">StandardScaler</label><div class=\"sk-toggleable__content\"><pre>StandardScaler()</pre></div></div></div></div></div></div></div></div><div class=\"sk-parallel-item\"><div class=\"sk-item\"><div class=\"sk-label-container\"><div class=\"sk-label sk-toggleable\"><input class=\"sk-toggleable__control sk-hidden--visually\" id=\"sk-estimator-id-16\" type=\"checkbox\" ><label for=\"sk-estimator-id-16\" class=\"sk-toggleable__label sk-toggleable__label-arrow\">pipeline-2</label><div class=\"sk-toggleable__content\"><pre>[&#x27;lib_mrq&#x27;, &#x27;cnit&#x27;, &#x27;cod_cbr&#x27;, &#x27;hybride&#x27;, &#x27;puiss_max&#x27;, &#x27;Carrosserie&#x27;, &#x27;gamme&#x27;, &#x27;Type_boite&#x27;]</pre></div></div></div><div class=\"sk-serial\"><div class=\"sk-item\"><div class=\"sk-serial\"><div class=\"sk-item\"><div class=\"sk-estimator sk-toggleable\"><input class=\"sk-toggleable__control sk-hidden--visually\" id=\"sk-estimator-id-17\" type=\"checkbox\" ><label for=\"sk-estimator-id-17\" class=\"sk-toggleable__label sk-toggleable__label-arrow\">OneHotEncoder</label><div class=\"sk-toggleable__content\"><pre>OneHotEncoder(handle_unknown=&#x27;ignore&#x27;)</pre></div></div></div></div></div></div></div></div><div class=\"sk-parallel-item\"><div class=\"sk-item\"><div class=\"sk-label-container\"><div class=\"sk-label sk-toggleable\"><input class=\"sk-toggleable__control sk-hidden--visually\" id=\"sk-estimator-id-18\" type=\"checkbox\" ><label for=\"sk-estimator-id-18\" class=\"sk-toggleable__label sk-toggleable__label-arrow\">remainder</label><div class=\"sk-toggleable__content\"><pre>[]</pre></div></div></div><div class=\"sk-serial\"><div class=\"sk-item\"><div class=\"sk-estimator sk-toggleable\"><input class=\"sk-toggleable__control sk-hidden--visually\" id=\"sk-estimator-id-19\" type=\"checkbox\" ><label for=\"sk-estimator-id-19\" class=\"sk-toggleable__label sk-toggleable__label-arrow\">passthrough</label><div class=\"sk-toggleable__content\"><pre>passthrough</pre></div></div></div></div></div></div></div></div><div class=\"sk-item sk-dashed-wrapped\"><div class=\"sk-label-container\"><div class=\"sk-label sk-toggleable\"><input class=\"sk-toggleable__control sk-hidden--visually\" id=\"sk-estimator-id-20\" type=\"checkbox\" ><label for=\"sk-estimator-id-20\" class=\"sk-toggleable__label sk-toggleable__label-arrow\">transformedtargetregressor: TransformedTargetRegressor</label><div class=\"sk-toggleable__content\"><pre>TransformedTargetRegressor(regressor=LinearRegression(normalize=False))</pre></div></div></div><div class=\"sk-parallel\"><div class=\"sk-parallel-item\"><div class=\"sk-item\"><div class=\"sk-label-container\"><div class=\"sk-label sk-toggleable\"><input class=\"sk-toggleable__control sk-hidden--visually\" id=\"sk-estimator-id-21\" type=\"checkbox\" ><label for=\"sk-estimator-id-21\" class=\"sk-toggleable__label sk-toggleable__label-arrow\">regressor: LinearRegression</label><div class=\"sk-toggleable__content\"><pre>LinearRegression(normalize=False)</pre></div></div></div><div class=\"sk-serial\"><div class=\"sk-item\"><div class=\"sk-estimator sk-toggleable\"><input class=\"sk-toggleable__control sk-hidden--visually\" id=\"sk-estimator-id-22\" type=\"checkbox\" ><label for=\"sk-estimator-id-22\" class=\"sk-toggleable__label sk-toggleable__label-arrow\">LinearRegression</label><div class=\"sk-toggleable__content\"><pre>LinearRegression(normalize=False)</pre></div></div></div></div></div></div></div></div></div></div></div></div>"
      ],
      "text/plain": [
       "Pipeline(steps=[('columntransformer',\n",
       "                 ColumnTransformer(remainder='passthrough',\n",
       "                                   transformers=[('pipeline-1',\n",
       "                                                  Pipeline(steps=[('standardscaler',\n",
       "                                                                   StandardScaler())]),\n",
       "                                                  ['masse_ordma_min',\n",
       "                                                   'masse_ordma_max',\n",
       "                                                   'Nb_rapp']),\n",
       "                                                 ('pipeline-2',\n",
       "                                                  Pipeline(steps=[('onehotencoder',\n",
       "                                                                   OneHotEncoder(handle_unknown='ignore'))]),\n",
       "                                                  ['lib_mrq', 'cnit', 'cod_cbr',\n",
       "                                                   'hybride', 'puiss_max',\n",
       "                                                   'Carrosserie', 'gamme',\n",
       "                                                   'Type_boite'])])),\n",
       "                ('transformedtargetregressor',\n",
       "                 TransformedTargetRegressor(regressor=LinearRegression(normalize=False)))])"
      ]
     },
     "execution_count": 26,
     "metadata": {},
     "output_type": "execute_result"
    }
   ],
   "source": [
    "model_lr = make_pipeline( preprocessor,\n",
    "                  TransformedTargetRegressor(regressor = LinearRegression(fit_intercept =True,\n",
    "                                                                          normalize =False ))   \n",
    ")\n",
    "model_lr.fit(X_train, y_train)"
   ]
  },
  {
   "cell_type": "markdown",
   "id": "c95b014e",
   "metadata": {},
   "source": [
    "## <font color=\"red\" id=\"section_4_2_1\" > 4.2.1 Prediction et performance du model"
   ]
  },
  {
   "cell_type": "code",
   "execution_count": 27,
   "id": "9470024f",
   "metadata": {},
   "outputs": [],
   "source": [
    "y_pred_lr = model_lr.predict(X_test)"
   ]
  },
  {
   "cell_type": "code",
   "execution_count": 28,
   "id": "edc8c77f",
   "metadata": {},
   "outputs": [
    {
     "data": {
      "text/plain": [
       "array([ 85.36223684, 216.67073379, 149.6554401 , ...,  91.7175036 ,\n",
       "       201.16782867, 227.5574614 ])"
      ]
     },
     "execution_count": 28,
     "metadata": {},
     "output_type": "execute_result"
    }
   ],
   "source": [
    "y_pred_lr"
   ]
  },
  {
   "cell_type": "markdown",
   "id": "0e02392f",
   "metadata": {},
   "source": [
    "### Comparaison: Val réelle vs val predict"
   ]
  },
  {
   "cell_type": "code",
   "execution_count": 29,
   "id": "d9f8e452",
   "metadata": {},
   "outputs": [
    {
     "data": {
      "text/html": [
       "<div>\n",
       "<style scoped>\n",
       "    .dataframe tbody tr th:only-of-type {\n",
       "        vertical-align: middle;\n",
       "    }\n",
       "\n",
       "    .dataframe tbody tr th {\n",
       "        vertical-align: top;\n",
       "    }\n",
       "\n",
       "    .dataframe thead th {\n",
       "        text-align: right;\n",
       "    }\n",
       "</style>\n",
       "<table border=\"1\" class=\"dataframe\">\n",
       "  <thead>\n",
       "    <tr style=\"text-align: right;\">\n",
       "      <th></th>\n",
       "      <th>Valeurs réelles</th>\n",
       "      <th>Valeurs predict</th>\n",
       "    </tr>\n",
       "  </thead>\n",
       "  <tbody>\n",
       "    <tr>\n",
       "      <th>0</th>\n",
       "      <td>197.0</td>\n",
       "      <td>85.362237</td>\n",
       "    </tr>\n",
       "    <tr>\n",
       "      <th>1</th>\n",
       "      <td>234.0</td>\n",
       "      <td>216.670734</td>\n",
       "    </tr>\n",
       "    <tr>\n",
       "      <th>2</th>\n",
       "      <td>162.0</td>\n",
       "      <td>149.655440</td>\n",
       "    </tr>\n",
       "    <tr>\n",
       "      <th>3</th>\n",
       "      <td>150.0</td>\n",
       "      <td>155.022601</td>\n",
       "    </tr>\n",
       "    <tr>\n",
       "      <th>4</th>\n",
       "      <td>189.0</td>\n",
       "      <td>114.914411</td>\n",
       "    </tr>\n",
       "    <tr>\n",
       "      <th>5</th>\n",
       "      <td>149.0</td>\n",
       "      <td>124.052952</td>\n",
       "    </tr>\n",
       "  </tbody>\n",
       "</table>\n",
       "</div>"
      ],
      "text/plain": [
       "   Valeurs réelles  Valeurs predict\n",
       "0            197.0        85.362237\n",
       "1            234.0       216.670734\n",
       "2            162.0       149.655440\n",
       "3            150.0       155.022601\n",
       "4            189.0       114.914411\n",
       "5            149.0       124.052952"
      ]
     },
     "execution_count": 29,
     "metadata": {},
     "output_type": "execute_result"
    }
   ],
   "source": [
    "pd.DataFrame({'Valeurs réelles': y_test.values.ravel(), 'Valeurs predict': y_pred_lr}).head(6)"
   ]
  },
  {
   "cell_type": "markdown",
   "id": "135ca1c4",
   "metadata": {},
   "source": [
    "### Score de performance"
   ]
  },
  {
   "cell_type": "code",
   "execution_count": 30,
   "id": "56680463",
   "metadata": {},
   "outputs": [
    {
     "name": "stdout",
     "output_type": "stream",
     "text": [
      "Le score de performance sur le training set est: 0.9998995348004273\n"
     ]
    }
   ],
   "source": [
    "print(f\"Le score de performance sur le training set est:\", model_lr.score(X_train, y_train))"
   ]
  },
  {
   "cell_type": "code",
   "execution_count": 31,
   "id": "4ecadedf",
   "metadata": {},
   "outputs": [
    {
     "name": "stdout",
     "output_type": "stream",
     "text": [
      "Le score R2 de performance sur le  test set est: -3.01192;\n",
      "La mean absolute error (MAE) est :50.0;\n",
      "La RMSE est :7.054;\n",
      "La median  absolute error est :38.0.\n"
     ]
    }
   ],
   "source": [
    "print(\"Le score R2 de performance sur le  test set est: {};\" .format(np.round(model_lr.score(X_test, y_test), 5)))\n",
    "print(\"La mean absolute error (MAE) est :{};\".format(np.round(np.round(mean_absolute_error(y_test,y_pred_lr)), 2)))\n",
    "print(\"La RMSE est :{};\" .format(np.round(np.sqrt(mean_absolute_error(y_test,y_pred_lr)), 3)))\n",
    "print(\"La median  absolute error est :{}.\".format(np.round(median_absolute_error(y_test,y_pred_lr))))"
   ]
  },
  {
   "cell_type": "markdown",
   "id": "4e9c7f81",
   "metadata": {},
   "source": [
    "## <font color=\"red\" id=\"section_4_2_2\" > 4.2.2 Visualisation"
   ]
  },
  {
   "cell_type": "code",
   "execution_count": 32,
   "id": "d1f4e875",
   "metadata": {},
   "outputs": [
    {
     "data": {
      "image/png": "[encoded data removed]",
      "text/plain": [
       "<Figure size 432x432 with 1 Axes>"
      ]
     },
     "metadata": {
      "needs_background": "light"
     },
     "output_type": "display_data"
    }
   ],
   "source": [
    "fig, ax = plt.subplots(figsize = (6,6))\n",
    "sns.scatterplot(x = y_test, y = y_pred_lr)\n",
    "ax.plot([0,1], [0,1], ls ='--', c = 'red', transform = ax.transAxes)\n",
    "plt.xlabel(\"Valeurs réelles\", fontsize = 14)\n",
    "plt.ylabel(\"Valeurs predictes\", fontsize = 14)\n",
    "ax.set_title(\"LinearRegression, prediction de CO2\", fontsize = 14)\n",
    "plt.show()"
   ]
  },
  {
   "cell_type": "markdown",
   "id": "9a3bb23a",
   "metadata": {},
   "source": [
    "# Commentaire: \n",
    "Ce qu'on constate c'est ce que ce modéle ne s'adapte pas à ce jeux de données."
   ]
  },
  {
   "cell_type": "code",
   "execution_count": null,
   "id": "27f1cd08",
   "metadata": {},
   "outputs": [],
   "source": []
  }
 ],
 "metadata": {
  "kernelspec": {
   "display_name": "Python 3 (ipykernel)",
   "language": "python",
   "name": "python3"
  },
  "language_info": {
   "codemirror_mode": {
    "name": "ipython",
    "version": 3
   },
   "file_extension": ".py",
   "mimetype": "text/x-python",
   "name": "python",
   "nbconvert_exporter": "python",
   "pygments_lexer": "ipython3",
   "version": "3.9.12"
  }
 },
 "nbformat": 4,
 "nbformat_minor": 5
}
