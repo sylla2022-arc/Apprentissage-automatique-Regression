{
 "cells": [
  {
   "cell_type": "markdown",
   "id": "03daec40",
   "metadata": {},
   "source": [
    "## <font color = 'green' id = \"section\" >Notebook 2: Apprentissage automatique, Regression: Polution CO2</font>"
   ]
  },
  {
   "cell_type": "markdown",
   "id": "8c7fc33c",
   "metadata": {},
   "source": [
    "# <font color=\"blue\">Sommaire</font>\n",
    "1. [Importation des librairies](#section_1)    \n",
    "2. [Lecture du Dataset](#section_2) \n",
    "3. [Approche de modélisation](#section_3)     \n",
    "    3.1. [Separation de la variable prédictive des explicatives](#section_3_1)    \n",
    "    3.2. [Separation variables numériques et catégorielles](#section_3_2)   \n",
    "    3.3. [Création du preprocessor](#section_3_3)    \n",
    "    3.4. [Séparation données train et test](#section_3_4) \n",
    "4. [Prediction de CO2](#section_4)       \n",
    "    4.1. [Prediction de CO2: DummyRegressor](#section_4_1)    \n",
    "    4.2. [Prediction de CO2: LinearRegression](#section_4_2)   \n",
    "    4.3. [Prediction de CO2: SGDRegressor](#section_4_3)    \n",
    "    4.4. [Prediction de CO2: RandomForestRegressor](#section_4_4)      \n",
    "    4.5. [Prediction de CO2: GradientBoostinggRegressor](#section_4_5)    \n",
    "    4.6. [Prediction de CO2: XGBRegresssor](#section_4_6)  \n",
    "5. [Choix du meilleur modèle](#section_5)"
   ]
  },
  {
   "cell_type": "markdown",
   "id": "2e082814",
   "metadata": {},
   "source": [
    "# <font color ='red' id = 'section_1' > 1.Importation des librairies </font>"
   ]
  },
  {
   "cell_type": "code",
   "execution_count": 146,
   "id": "39273929",
   "metadata": {},
   "outputs": [
    {
     "name": "stdout",
     "output_type": "stream",
     "text": [
      "No Warning Shown\n"
     ]
    }
   ],
   "source": [
    "import warnings\n",
    "warnings.filterwarnings('ignore')\n",
    "warnings.warn('DelftStack')\n",
    "warnings.warn('Do not show this message')\n",
    "print(\"No Warning Shown\")"
   ]
  },
  {
   "cell_type": "code",
   "execution_count": 46,
   "id": "82bfb92a",
   "metadata": {},
   "outputs": [],
   "source": [
    "import pandas as pd\n",
    "import numpy as np\n",
    "import scipy.stats as st\n",
    "import seaborn as sns\n",
    "import matplotlib.pyplot as plt\n",
    "from scipy import stats\n",
    "import ast\n",
    "import scipy as sp\n",
    "import time\n",
    "import pickle\n",
    "from datetime import datetime\n",
    "from get_feat_names import *\n",
    "#-------------------------------------------------------------------\n",
    "from tqdm import tqdm\n",
    "import gc\n",
    "#------------------------------------------------------------------\n",
    "import plotly.graph_objs as go\n",
    "import plotly.express as px\n",
    "from textwrap import wrap\n",
    "#-------------------------------------------------\n",
    "import sklearn\n",
    "from sklearn.model_selection import train_test_split\n",
    "from sklearn.impute import KNNImputer\n",
    "from sklearn.metrics import *\n",
    "\n",
    "#-------------------------------------------------\n",
    "from sklearn.pipeline import Pipeline\n",
    "from sklearn.pipeline import make_pipeline\n",
    "\n",
    "from sklearn.preprocessing import OneHotEncoder, StandardScaler, MinMaxScaler\n",
    "from sklearn.compose import ColumnTransformer\n",
    "from sklearn.compose import TransformedTargetRegressor, make_column_transformer\n",
    "\n",
    "#--------------------------------------------------------\n",
    "from sklearn.dummy import DummyRegressor\n",
    "from sklearn.linear_model import LinearRegression, SGDRegressor\n",
    "\n",
    "#--------------------------------------------------------\n",
    "from sklearn.ensemble import RandomForestRegressor, GradientBoostingRegressor\n",
    "from sklearn.inspection import permutation_importance\n",
    "#------------------------------------------------\n",
    "from xgboost import XGBRegressor\n",
    "\n",
    "#-----------------------------------------------------------\n",
    "from sklearn.model_selection import GridSearchCV"
   ]
  },
  {
   "cell_type": "code",
   "execution_count": 47,
   "id": "03ba9a09",
   "metadata": {},
   "outputs": [],
   "source": [
    "pd.set_option(\"display.max_columns\", 500)\n",
    "pd.set_option(\"display.max_rows\", 500)"
   ]
  },
  {
   "cell_type": "markdown",
   "id": "dbeb2921",
   "metadata": {},
   "source": [
    "## Checklist\n",
    "\n",
    "Depuis 2001, **l’ADEME** acquiert tous les ans ces données auprès de **l’Union Technique de l’Automobile du motocycle et du Cycle UTAC** (en charge de l’homologation des véhicules avant leur mise en vente) en accord avec le ministère du développement durable.\n",
    "Pour chaque véhicule les données d’origine (transmises par l’Utac) sont les suivantes :\n",
    "\n",
    "* **Les consommations de carburant**\n",
    "\n",
    "* **Les émissions de dioxyde de carbone (CO2)**\n",
    "\n",
    "* **Les émissions des polluants de l’air** (réglementés dans le cadre de la norme Euro)\n",
    "\n",
    "* **L’ensemble des caractéristiques techniques des véhicules** (gammes, marques, modèles, n° de CNIT, type d’énergie ...)\n",
    "\n",
    "\n",
    "\n",
    "# L'inventaire des varaibles pertinentes:\n",
    "\n",
    "Les données comprenent des variables pertinentes suivantes:\n",
    "\n",
    "* **lib_mrq_utac**: La marque, il y'a 12.\n",
    "\n",
    "* **lib_mod**: Le modèle commerciale, il y'a 20.\n",
    "\n",
    "* **cod_cbr**: Le type de carburant, il y a 5.\n",
    "\n",
    "* **hybride**: Information permettant d’identifier les véhicules hybrides (O/N)\n",
    "\n",
    "* **puiss_max** : Puissance maximale\n",
    "\n",
    "* **typ_boite_nb_rapp**: Type boite de vitesse et le nombre de rapport.\n",
    "\n",
    "* **conso_urb**: Consommation urbaine de carburant (en l/100km),\n",
    "\n",
    "* **conso_exurb**: consommation extra urbaine de carburant (en l/100km),\n",
    "\n",
    "* **conso_mixte**: Consommation mixte de carburant (en l/100km),\n",
    "\n",
    "* **co2**: Emission de CO2 (en g/km),\n",
    "\n",
    "* **masse_ordma_min**: Masse en ordre de marche mini\n",
    "\n",
    "* **masse_ordma_max**: Masse en ordre de marche max\n",
    " \n",
    "* **Carrosserie**: Carrosserie\n",
    "\n",
    "* **gamme**: Gamme du véhicule\n",
    "\n",
    "\n",
    "\n",
    "# Objectif\n",
    "\n",
    "Notre objectif majeur dans ce notebook 2 est de :\n",
    "\n",
    "Prédire les emisisions de **CO2** des vehicules en fonction de certaines informations (Variables explicatives)\n",
    "\n",
    "* En utilisant 4 à 5 modéles différents\n",
    "\n",
    "* En comparant  les scores\n",
    "    \n",
    "* En choissisant le meilleur modèle\n",
    "\n",
    "\n",
    "# Description des données\n",
    "\n",
    "Lien vers les données: https://www.data.gouv.fr/fr/datasets/emissions-de-co2-et-de-polluants-des-vehicules-commercialises-en-france/\n"
   ]
  },
  {
   "cell_type": "markdown",
   "id": "4aa43bf0",
   "metadata": {},
   "source": [
    "# <font color=\"red\" id=\"section_2\"> 2. Chargement, lecture, apercu et infos des données </font>"
   ]
  },
  {
   "cell_type": "code",
   "execution_count": 48,
   "id": "564f490c",
   "metadata": {},
   "outputs": [],
   "source": [
    "data_model = pd.read_csv(\"data_model.csv\")"
   ]
  },
  {
   "cell_type": "code",
   "execution_count": 49,
   "id": "2e663a59",
   "metadata": {},
   "outputs": [
    {
     "data": {
      "text/html": [
       "<div>\n",
       "<style scoped>\n",
       "    .dataframe tbody tr th:only-of-type {\n",
       "        vertical-align: middle;\n",
       "    }\n",
       "\n",
       "    .dataframe tbody tr th {\n",
       "        vertical-align: top;\n",
       "    }\n",
       "\n",
       "    .dataframe thead th {\n",
       "        text-align: right;\n",
       "    }\n",
       "</style>\n",
       "<table border=\"1\" class=\"dataframe\">\n",
       "  <thead>\n",
       "    <tr style=\"text-align: right;\">\n",
       "      <th></th>\n",
       "      <th>lib_mrq</th>\n",
       "      <th>cnit</th>\n",
       "      <th>cod_cbr</th>\n",
       "      <th>hybride</th>\n",
       "      <th>puiss_max</th>\n",
       "      <th>Carrosserie</th>\n",
       "      <th>gamme</th>\n",
       "      <th>co2</th>\n",
       "      <th>masse_ordma_min</th>\n",
       "      <th>masse_ordma_max</th>\n",
       "      <th>Type_boite</th>\n",
       "      <th>Nb_rapp</th>\n",
       "    </tr>\n",
       "  </thead>\n",
       "  <tbody>\n",
       "    <tr>\n",
       "      <th>0</th>\n",
       "      <td>ALFA-ROMEO</td>\n",
       "      <td>M10ALFVP000G340</td>\n",
       "      <td>ES</td>\n",
       "      <td>non</td>\n",
       "      <td>147</td>\n",
       "      <td>BERLINE</td>\n",
       "      <td>MOY-SUPER</td>\n",
       "      <td>182.0</td>\n",
       "      <td>1505.0</td>\n",
       "      <td>1505.0</td>\n",
       "      <td>M</td>\n",
       "      <td>6.0</td>\n",
       "    </tr>\n",
       "    <tr>\n",
       "      <th>1</th>\n",
       "      <td>ALFA-ROMEO</td>\n",
       "      <td>M10ALFVP000H341</td>\n",
       "      <td>ES</td>\n",
       "      <td>non</td>\n",
       "      <td>147</td>\n",
       "      <td>BERLINE</td>\n",
       "      <td>MOY-SUPER</td>\n",
       "      <td>186.0</td>\n",
       "      <td>1555.0</td>\n",
       "      <td>1555.0</td>\n",
       "      <td>M</td>\n",
       "      <td>6.0</td>\n",
       "    </tr>\n",
       "  </tbody>\n",
       "</table>\n",
       "</div>"
      ],
      "text/plain": [
       "      lib_mrq             cnit cod_cbr hybride puiss_max Carrosserie  \\\n",
       "0  ALFA-ROMEO  M10ALFVP000G340      ES     non       147     BERLINE   \n",
       "1  ALFA-ROMEO  M10ALFVP000H341      ES     non       147     BERLINE   \n",
       "\n",
       "       gamme    co2  masse_ordma_min  masse_ordma_max Type_boite  Nb_rapp  \n",
       "0  MOY-SUPER  182.0           1505.0           1505.0          M      6.0  \n",
       "1  MOY-SUPER  186.0           1555.0           1555.0          M      6.0  "
      ]
     },
     "metadata": {},
     "output_type": "display_data"
    },
    {
     "data": {
      "text/html": [
       "<div>\n",
       "<style scoped>\n",
       "    .dataframe tbody tr th:only-of-type {\n",
       "        vertical-align: middle;\n",
       "    }\n",
       "\n",
       "    .dataframe tbody tr th {\n",
       "        vertical-align: top;\n",
       "    }\n",
       "\n",
       "    .dataframe thead th {\n",
       "        text-align: right;\n",
       "    }\n",
       "</style>\n",
       "<table border=\"1\" class=\"dataframe\">\n",
       "  <thead>\n",
       "    <tr style=\"text-align: right;\">\n",
       "      <th></th>\n",
       "      <th>lib_mrq</th>\n",
       "      <th>cnit</th>\n",
       "      <th>cod_cbr</th>\n",
       "      <th>hybride</th>\n",
       "      <th>puiss_max</th>\n",
       "      <th>Carrosserie</th>\n",
       "      <th>gamme</th>\n",
       "      <th>co2</th>\n",
       "      <th>masse_ordma_min</th>\n",
       "      <th>masse_ordma_max</th>\n",
       "      <th>Type_boite</th>\n",
       "      <th>Nb_rapp</th>\n",
       "    </tr>\n",
       "  </thead>\n",
       "  <tbody>\n",
       "    <tr>\n",
       "      <th>55026</th>\n",
       "      <td>VOLVO</td>\n",
       "      <td>M1GVLVVP874Z718</td>\n",
       "      <td>ES</td>\n",
       "      <td>non</td>\n",
       "      <td>224</td>\n",
       "      <td>TS TERRAINS/CHEMINS</td>\n",
       "      <td>SUPERIEURE</td>\n",
       "      <td>139.0</td>\n",
       "      <td>1788.0</td>\n",
       "      <td>1788.0</td>\n",
       "      <td>A</td>\n",
       "      <td>6.0</td>\n",
       "    </tr>\n",
       "    <tr>\n",
       "      <th>55027</th>\n",
       "      <td>VOLVO</td>\n",
       "      <td>M10VLVVP8967562</td>\n",
       "      <td>ES</td>\n",
       "      <td>non</td>\n",
       "      <td>225</td>\n",
       "      <td>TS TERRAINS/CHEMINS</td>\n",
       "      <td>SUPERIEURE</td>\n",
       "      <td>248.0</td>\n",
       "      <td>1815.0</td>\n",
       "      <td>1815.0</td>\n",
       "      <td>A</td>\n",
       "      <td>8.0</td>\n",
       "    </tr>\n",
       "  </tbody>\n",
       "</table>\n",
       "</div>"
      ],
      "text/plain": [
       "      lib_mrq             cnit cod_cbr hybride puiss_max          Carrosserie  \\\n",
       "55026   VOLVO  M1GVLVVP874Z718      ES     non       224  TS TERRAINS/CHEMINS   \n",
       "55027   VOLVO  M10VLVVP8967562      ES     non       225  TS TERRAINS/CHEMINS   \n",
       "\n",
       "            gamme    co2  masse_ordma_min  masse_ordma_max Type_boite  Nb_rapp  \n",
       "55026  SUPERIEURE  139.0           1788.0           1788.0          A      6.0  \n",
       "55027  SUPERIEURE  248.0           1815.0           1815.0          A      8.0  "
      ]
     },
     "metadata": {},
     "output_type": "display_data"
    }
   ],
   "source": [
    "display(data_model.head(2))\n",
    "display(data_model.tail(2))"
   ]
  },
  {
   "cell_type": "code",
   "execution_count": 50,
   "id": "3d5f00cc",
   "metadata": {},
   "outputs": [
    {
     "name": "stdout",
     "output_type": "stream",
     "text": [
      "<class 'pandas.core.frame.DataFrame'>\n",
      "RangeIndex: 55028 entries, 0 to 55027\n",
      "Data columns (total 12 columns):\n",
      " #   Column           Non-Null Count  Dtype  \n",
      "---  ------           --------------  -----  \n",
      " 0   lib_mrq          55028 non-null  object \n",
      " 1   cnit             55028 non-null  object \n",
      " 2   cod_cbr          55028 non-null  object \n",
      " 3   hybride          55028 non-null  object \n",
      " 4   puiss_max        55028 non-null  object \n",
      " 5   Carrosserie      55028 non-null  object \n",
      " 6   gamme            55028 non-null  object \n",
      " 7   co2              55028 non-null  float64\n",
      " 8   masse_ordma_min  55028 non-null  float64\n",
      " 9   masse_ordma_max  55028 non-null  float64\n",
      " 10  Type_boite       55028 non-null  object \n",
      " 11  Nb_rapp          55028 non-null  float64\n",
      "dtypes: float64(4), object(8)\n",
      "memory usage: 5.0+ MB\n"
     ]
    }
   ],
   "source": [
    "data_model.info()"
   ]
  },
  {
   "cell_type": "code",
   "execution_count": 51,
   "id": "075664ae",
   "metadata": {},
   "outputs": [
    {
     "data": {
      "text/plain": [
       "0"
      ]
     },
     "execution_count": 51,
     "metadata": {},
     "output_type": "execute_result"
    }
   ],
   "source": [
    "data_model.duplicated().sum()"
   ]
  },
  {
   "cell_type": "markdown",
   "id": "12deaef1",
   "metadata": {},
   "source": [
    "# <font color=\"red\" id=\"section_3\" > 3. Approche modélisation"
   ]
  },
  {
   "cell_type": "markdown",
   "id": "6fd767cd",
   "metadata": {},
   "source": [
    "## <font color=\"red\" id=\"section_3_1\" > 3.1  Separation de la variable prédictive des explicatives"
   ]
  },
  {
   "cell_type": "code",
   "execution_count": 52,
   "id": "f1bbc7ee",
   "metadata": {},
   "outputs": [],
   "source": [
    "Y = data_model['co2']\n",
    "X = data_model.drop(['co2'] ,axis =1)"
   ]
  },
  {
   "cell_type": "code",
   "execution_count": 53,
   "id": "2688a383",
   "metadata": {},
   "outputs": [
    {
     "data": {
      "text/plain": [
       "(55028, 11)"
      ]
     },
     "execution_count": 53,
     "metadata": {},
     "output_type": "execute_result"
    }
   ],
   "source": [
    "X.shape"
   ]
  },
  {
   "cell_type": "markdown",
   "id": "cf9ee640",
   "metadata": {},
   "source": [
    "## <font color=\"red\" id=\"section_3_2\" > 3.2 Separation variables numériques et catégorielles"
   ]
  },
  {
   "cell_type": "code",
   "execution_count": 54,
   "id": "2f2369f6",
   "metadata": {},
   "outputs": [
    {
     "data": {
      "text/plain": [
       "['masse_ordma_min', 'masse_ordma_max', 'Nb_rapp']"
      ]
     },
     "execution_count": 54,
     "metadata": {},
     "output_type": "execute_result"
    }
   ],
   "source": [
    "var_num = X.select_dtypes(include = ['float', 'int']).columns.to_list()\n",
    "var_num"
   ]
  },
  {
   "cell_type": "code",
   "execution_count": 55,
   "id": "8eb7d0d4",
   "metadata": {},
   "outputs": [
    {
     "data": {
      "text/plain": [
       "['lib_mrq',\n",
       " 'cnit',\n",
       " 'cod_cbr',\n",
       " 'hybride',\n",
       " 'puiss_max',\n",
       " 'Carrosserie',\n",
       " 'gamme',\n",
       " 'Type_boite']"
      ]
     },
     "execution_count": 55,
     "metadata": {},
     "output_type": "execute_result"
    }
   ],
   "source": [
    "var_cat = X.select_dtypes(include = ['object']).columns.to_list()\n",
    "var_cat"
   ]
  },
  {
   "cell_type": "markdown",
   "id": "7c096f37",
   "metadata": {},
   "source": [
    "## <font color=\"red\" id=\"section_3_3\" > 3.3  Création du preprocessor\n",
    "  \n",
    " Ici, nous allons normaliser les données numérique avec **StandarScaler** et encoder les catégorielles avec **OneHotEncoder**, le tout dans une pipeline qu'on pourra appeler à chaque fois."
   ]
  },
  {
   "cell_type": "code",
   "execution_count": 56,
   "id": "01fab4f0",
   "metadata": {},
   "outputs": [],
   "source": [
    "numerical_pipiline = make_pipeline(StandardScaler())\n",
    "categoriacal_pipiline = make_pipeline(OneHotEncoder(handle_unknown = 'ignore'))\n",
    "preprocessor = make_column_transformer( \n",
    "                          (numerical_pipiline, var_num),\n",
    "                          (categoriacal_pipiline, var_cat),\n",
    "                           remainder=\"passthrough\"\n",
    "                        )\n",
    "#handle_unknown = 'ignore' permet d'ignorer les catégorielle non lu lors du fit afin d'éviter des erre"
   ]
  },
  {
   "cell_type": "markdown",
   "id": "3072f95a",
   "metadata": {},
   "source": [
    "## <font color=\"red\" id=\"section_3_4\" > 3.4  Séparation données train et test"
   ]
  },
  {
   "cell_type": "code",
   "execution_count": 57,
   "id": "9d7be715",
   "metadata": {},
   "outputs": [],
   "source": [
    "X_train, X_test, y_train, y_test = train_test_split(X,Y, test_size = 0.2, random_state =5)"
   ]
  },
  {
   "cell_type": "code",
   "execution_count": 58,
   "id": "c27a37c9",
   "metadata": {},
   "outputs": [
    {
     "data": {
      "text/plain": [
       "<Figure size 1080x1080 with 0 Axes>"
      ]
     },
     "metadata": {},
     "output_type": "display_data"
    },
    {
     "data": {
      "image/png": "[encoded data removed]",
      "text/plain": [
       "<Figure size 540x540 with 12 Axes>"
      ]
     },
     "metadata": {
      "needs_background": "light"
     },
     "output_type": "display_data"
    }
   ],
   "source": [
    "plt.figure(figsize = (15,15))\n",
    "sns.pairplot(X_train, kind ='reg', diag_kind = 'kde')\n",
    "plt.show()"
   ]
  },
  {
   "cell_type": "code",
   "execution_count": 59,
   "id": "bc65c79c",
   "metadata": {},
   "outputs": [
    {
     "data": {
      "text/plain": [
       "(11006, 11)"
      ]
     },
     "execution_count": 59,
     "metadata": {},
     "output_type": "execute_result"
    }
   ],
   "source": [
    "X_test.shape"
   ]
  },
  {
   "cell_type": "markdown",
   "id": "2254f351",
   "metadata": {},
   "source": [
    "## <font color=\"red\" id=\"section_4\" > 4.  Prediction de CO2\n",
    "    \n",
    "Pour chacun de nos modèles:\n",
    "   * **DummyRegressor**,\n",
    "   * **LinearRegression**, \n",
    "   * **SGDRegressor**, \n",
    "   * **RandomForestRegressor**,\n",
    "   * **GradientBoostingRegressor**,\n",
    "   * **XGBRegressor**, \n",
    "    \n",
    "nous allons predire le niveai d'émission de **Co2** puis établir une comparaison sur la performance des modèles."
   ]
  },
  {
   "cell_type": "markdown",
   "id": "a474cfec",
   "metadata": {},
   "source": [
    "## <font color=\"red\" id=\"section_4_1\" > 4.1  Prediction de CO2: DummyRegressor"
   ]
  },
  {
   "cell_type": "code",
   "execution_count": 60,
   "id": "c74d9abe",
   "metadata": {},
   "outputs": [
    {
     "data": {
      "text/html": [
       "<style>#sk-container-id-2 {color: black;background-color: white;}#sk-container-id-2 pre{padding: 0;}#sk-container-id-2 div.sk-toggleable {background-color: white;}#sk-container-id-2 label.sk-toggleable__label {cursor: pointer;display: block;width: 100%;margin-bottom: 0;padding: 0.3em;box-sizing: border-box;text-align: center;}#sk-container-id-2 label.sk-toggleable__label-arrow:before {content: \"▸\";float: left;margin-right: 0.25em;color: #696969;}#sk-container-id-2 label.sk-toggleable__label-arrow:hover:before {color: black;}#sk-container-id-2 div.sk-estimator:hover label.sk-toggleable__label-arrow:before {color: black;}#sk-container-id-2 div.sk-toggleable__content {max-height: 0;max-width: 0;overflow: hidden;text-align: left;background-color: #f0f8ff;}#sk-container-id-2 div.sk-toggleable__content pre {margin: 0.2em;color: black;border-radius: 0.25em;background-color: #f0f8ff;}#sk-container-id-2 input.sk-toggleable__control:checked~div.sk-toggleable__content {max-height: 200px;max-width: 100%;overflow: auto;}#sk-container-id-2 input.sk-toggleable__control:checked~label.sk-toggleable__label-arrow:before {content: \"▾\";}#sk-container-id-2 div.sk-estimator input.sk-toggleable__control:checked~label.sk-toggleable__label {background-color: #d4ebff;}#sk-container-id-2 div.sk-label input.sk-toggleable__control:checked~label.sk-toggleable__label {background-color: #d4ebff;}#sk-container-id-2 input.sk-hidden--visually {border: 0;clip: rect(1px 1px 1px 1px);clip: rect(1px, 1px, 1px, 1px);height: 1px;margin: -1px;overflow: hidden;padding: 0;position: absolute;width: 1px;}#sk-container-id-2 div.sk-estimator {font-family: monospace;background-color: #f0f8ff;border: 1px dotted black;border-radius: 0.25em;box-sizing: border-box;margin-bottom: 0.5em;}#sk-container-id-2 div.sk-estimator:hover {background-color: #d4ebff;}#sk-container-id-2 div.sk-parallel-item::after {content: \"\";width: 100%;border-bottom: 1px solid gray;flex-grow: 1;}#sk-container-id-2 div.sk-label:hover label.sk-toggleable__label {background-color: #d4ebff;}#sk-container-id-2 div.sk-serial::before {content: \"\";position: absolute;border-left: 1px solid gray;box-sizing: border-box;top: 0;bottom: 0;left: 50%;z-index: 0;}#sk-container-id-2 div.sk-serial {display: flex;flex-direction: column;align-items: center;background-color: white;padding-right: 0.2em;padding-left: 0.2em;position: relative;}#sk-container-id-2 div.sk-item {position: relative;z-index: 1;}#sk-container-id-2 div.sk-parallel {display: flex;align-items: stretch;justify-content: center;background-color: white;position: relative;}#sk-container-id-2 div.sk-item::before, #sk-container-id-2 div.sk-parallel-item::before {content: \"\";position: absolute;border-left: 1px solid gray;box-sizing: border-box;top: 0;bottom: 0;left: 50%;z-index: -1;}#sk-container-id-2 div.sk-parallel-item {display: flex;flex-direction: column;z-index: 1;position: relative;background-color: white;}#sk-container-id-2 div.sk-parallel-item:first-child::after {align-self: flex-end;width: 50%;}#sk-container-id-2 div.sk-parallel-item:last-child::after {align-self: flex-start;width: 50%;}#sk-container-id-2 div.sk-parallel-item:only-child::after {width: 0;}#sk-container-id-2 div.sk-dashed-wrapped {border: 1px dashed gray;margin: 0 0.4em 0.5em 0.4em;box-sizing: border-box;padding-bottom: 0.4em;background-color: white;}#sk-container-id-2 div.sk-label label {font-family: monospace;font-weight: bold;display: inline-block;line-height: 1.2em;}#sk-container-id-2 div.sk-label-container {text-align: center;}#sk-container-id-2 div.sk-container {/* jupyter's `normalize.less` sets `[hidden] { display: none; }` but bootstrap.min.css set `[hidden] { display: none !important; }` so we also need the `!important` here to be able to override the default hidden behavior on the sphinx rendered scikit-learn.org. See: https://github.com/scikit-learn/scikit-learn/issues/21755 */display: inline-block !important;position: relative;}#sk-container-id-2 div.sk-text-repr-fallback {display: none;}</style><div id=\"sk-container-id-2\" class=\"sk-top-container\"><div class=\"sk-text-repr-fallback\"><pre>Pipeline(steps=[(&#x27;columntransformer&#x27;,\n",
       "                 ColumnTransformer(remainder=&#x27;passthrough&#x27;,\n",
       "                                   transformers=[(&#x27;pipeline-1&#x27;,\n",
       "                                                  Pipeline(steps=[(&#x27;standardscaler&#x27;,\n",
       "                                                                   StandardScaler())]),\n",
       "                                                  [&#x27;masse_ordma_min&#x27;,\n",
       "                                                   &#x27;masse_ordma_max&#x27;,\n",
       "                                                   &#x27;Nb_rapp&#x27;]),\n",
       "                                                 (&#x27;pipeline-2&#x27;,\n",
       "                                                  Pipeline(steps=[(&#x27;onehotencoder&#x27;,\n",
       "                                                                   OneHotEncoder(handle_unknown=&#x27;ignore&#x27;))]),\n",
       "                                                  [&#x27;lib_mrq&#x27;, &#x27;cnit&#x27;, &#x27;cod_cbr&#x27;,\n",
       "                                                   &#x27;hybride&#x27;, &#x27;puiss_max&#x27;,\n",
       "                                                   &#x27;Carrosserie&#x27;, &#x27;gamme&#x27;,\n",
       "                                                   &#x27;Type_boite&#x27;])])),\n",
       "                (&#x27;transformedtargetregressor&#x27;,\n",
       "                 TransformedTargetRegressor(regressor=DummyRegressor()))])</pre><b>In a Jupyter environment, please rerun this cell to show the HTML representation or trust the notebook. <br />On GitHub, the HTML representation is unable to render, please try loading this page with nbviewer.org.</b></div><div class=\"sk-container\" hidden><div class=\"sk-item sk-dashed-wrapped\"><div class=\"sk-label-container\"><div class=\"sk-label sk-toggleable\"><input class=\"sk-toggleable__control sk-hidden--visually\" id=\"sk-estimator-id-12\" type=\"checkbox\" ><label for=\"sk-estimator-id-12\" class=\"sk-toggleable__label sk-toggleable__label-arrow\">Pipeline</label><div class=\"sk-toggleable__content\"><pre>Pipeline(steps=[(&#x27;columntransformer&#x27;,\n",
       "                 ColumnTransformer(remainder=&#x27;passthrough&#x27;,\n",
       "                                   transformers=[(&#x27;pipeline-1&#x27;,\n",
       "                                                  Pipeline(steps=[(&#x27;standardscaler&#x27;,\n",
       "                                                                   StandardScaler())]),\n",
       "                                                  [&#x27;masse_ordma_min&#x27;,\n",
       "                                                   &#x27;masse_ordma_max&#x27;,\n",
       "                                                   &#x27;Nb_rapp&#x27;]),\n",
       "                                                 (&#x27;pipeline-2&#x27;,\n",
       "                                                  Pipeline(steps=[(&#x27;onehotencoder&#x27;,\n",
       "                                                                   OneHotEncoder(handle_unknown=&#x27;ignore&#x27;))]),\n",
       "                                                  [&#x27;lib_mrq&#x27;, &#x27;cnit&#x27;, &#x27;cod_cbr&#x27;,\n",
       "                                                   &#x27;hybride&#x27;, &#x27;puiss_max&#x27;,\n",
       "                                                   &#x27;Carrosserie&#x27;, &#x27;gamme&#x27;,\n",
       "                                                   &#x27;Type_boite&#x27;])])),\n",
       "                (&#x27;transformedtargetregressor&#x27;,\n",
       "                 TransformedTargetRegressor(regressor=DummyRegressor()))])</pre></div></div></div><div class=\"sk-serial\"><div class=\"sk-item sk-dashed-wrapped\"><div class=\"sk-label-container\"><div class=\"sk-label sk-toggleable\"><input class=\"sk-toggleable__control sk-hidden--visually\" id=\"sk-estimator-id-13\" type=\"checkbox\" ><label for=\"sk-estimator-id-13\" class=\"sk-toggleable__label sk-toggleable__label-arrow\">columntransformer: ColumnTransformer</label><div class=\"sk-toggleable__content\"><pre>ColumnTransformer(remainder=&#x27;passthrough&#x27;,\n",
       "                  transformers=[(&#x27;pipeline-1&#x27;,\n",
       "                                 Pipeline(steps=[(&#x27;standardscaler&#x27;,\n",
       "                                                  StandardScaler())]),\n",
       "                                 [&#x27;masse_ordma_min&#x27;, &#x27;masse_ordma_max&#x27;,\n",
       "                                  &#x27;Nb_rapp&#x27;]),\n",
       "                                (&#x27;pipeline-2&#x27;,\n",
       "                                 Pipeline(steps=[(&#x27;onehotencoder&#x27;,\n",
       "                                                  OneHotEncoder(handle_unknown=&#x27;ignore&#x27;))]),\n",
       "                                 [&#x27;lib_mrq&#x27;, &#x27;cnit&#x27;, &#x27;cod_cbr&#x27;, &#x27;hybride&#x27;,\n",
       "                                  &#x27;puiss_max&#x27;, &#x27;Carrosserie&#x27;, &#x27;gamme&#x27;,\n",
       "                                  &#x27;Type_boite&#x27;])])</pre></div></div></div><div class=\"sk-parallel\"><div class=\"sk-parallel-item\"><div class=\"sk-item\"><div class=\"sk-label-container\"><div class=\"sk-label sk-toggleable\"><input class=\"sk-toggleable__control sk-hidden--visually\" id=\"sk-estimator-id-14\" type=\"checkbox\" ><label for=\"sk-estimator-id-14\" class=\"sk-toggleable__label sk-toggleable__label-arrow\">pipeline-1</label><div class=\"sk-toggleable__content\"><pre>[&#x27;masse_ordma_min&#x27;, &#x27;masse_ordma_max&#x27;, &#x27;Nb_rapp&#x27;]</pre></div></div></div><div class=\"sk-serial\"><div class=\"sk-item\"><div class=\"sk-serial\"><div class=\"sk-item\"><div class=\"sk-estimator sk-toggleable\"><input class=\"sk-toggleable__control sk-hidden--visually\" id=\"sk-estimator-id-15\" type=\"checkbox\" ><label for=\"sk-estimator-id-15\" class=\"sk-toggleable__label sk-toggleable__label-arrow\">StandardScaler</label><div class=\"sk-toggleable__content\"><pre>StandardScaler()</pre></div></div></div></div></div></div></div></div><div class=\"sk-parallel-item\"><div class=\"sk-item\"><div class=\"sk-label-container\"><div class=\"sk-label sk-toggleable\"><input class=\"sk-toggleable__control sk-hidden--visually\" id=\"sk-estimator-id-16\" type=\"checkbox\" ><label for=\"sk-estimator-id-16\" class=\"sk-toggleable__label sk-toggleable__label-arrow\">pipeline-2</label><div class=\"sk-toggleable__content\"><pre>[&#x27;lib_mrq&#x27;, &#x27;cnit&#x27;, &#x27;cod_cbr&#x27;, &#x27;hybride&#x27;, &#x27;puiss_max&#x27;, &#x27;Carrosserie&#x27;, &#x27;gamme&#x27;, &#x27;Type_boite&#x27;]</pre></div></div></div><div class=\"sk-serial\"><div class=\"sk-item\"><div class=\"sk-serial\"><div class=\"sk-item\"><div class=\"sk-estimator sk-toggleable\"><input class=\"sk-toggleable__control sk-hidden--visually\" id=\"sk-estimator-id-17\" type=\"checkbox\" ><label for=\"sk-estimator-id-17\" class=\"sk-toggleable__label sk-toggleable__label-arrow\">OneHotEncoder</label><div class=\"sk-toggleable__content\"><pre>OneHotEncoder(handle_unknown=&#x27;ignore&#x27;)</pre></div></div></div></div></div></div></div></div><div class=\"sk-parallel-item\"><div class=\"sk-item\"><div class=\"sk-label-container\"><div class=\"sk-label sk-toggleable\"><input class=\"sk-toggleable__control sk-hidden--visually\" id=\"sk-estimator-id-18\" type=\"checkbox\" ><label for=\"sk-estimator-id-18\" class=\"sk-toggleable__label sk-toggleable__label-arrow\">remainder</label><div class=\"sk-toggleable__content\"><pre>[]</pre></div></div></div><div class=\"sk-serial\"><div class=\"sk-item\"><div class=\"sk-estimator sk-toggleable\"><input class=\"sk-toggleable__control sk-hidden--visually\" id=\"sk-estimator-id-19\" type=\"checkbox\" ><label for=\"sk-estimator-id-19\" class=\"sk-toggleable__label sk-toggleable__label-arrow\">passthrough</label><div class=\"sk-toggleable__content\"><pre>passthrough</pre></div></div></div></div></div></div></div></div><div class=\"sk-item sk-dashed-wrapped\"><div class=\"sk-label-container\"><div class=\"sk-label sk-toggleable\"><input class=\"sk-toggleable__control sk-hidden--visually\" id=\"sk-estimator-id-20\" type=\"checkbox\" ><label for=\"sk-estimator-id-20\" class=\"sk-toggleable__label sk-toggleable__label-arrow\">transformedtargetregressor: TransformedTargetRegressor</label><div class=\"sk-toggleable__content\"><pre>TransformedTargetRegressor(regressor=DummyRegressor())</pre></div></div></div><div class=\"sk-parallel\"><div class=\"sk-parallel-item\"><div class=\"sk-item\"><div class=\"sk-label-container\"><div class=\"sk-label sk-toggleable\"><input class=\"sk-toggleable__control sk-hidden--visually\" id=\"sk-estimator-id-21\" type=\"checkbox\" ><label for=\"sk-estimator-id-21\" class=\"sk-toggleable__label sk-toggleable__label-arrow\">regressor: DummyRegressor</label><div class=\"sk-toggleable__content\"><pre>DummyRegressor()</pre></div></div></div><div class=\"sk-serial\"><div class=\"sk-item\"><div class=\"sk-estimator sk-toggleable\"><input class=\"sk-toggleable__control sk-hidden--visually\" id=\"sk-estimator-id-22\" type=\"checkbox\" ><label for=\"sk-estimator-id-22\" class=\"sk-toggleable__label sk-toggleable__label-arrow\">DummyRegressor</label><div class=\"sk-toggleable__content\"><pre>DummyRegressor()</pre></div></div></div></div></div></div></div></div></div></div></div></div>"
      ],
      "text/plain": [
       "Pipeline(steps=[('columntransformer',\n",
       "                 ColumnTransformer(remainder='passthrough',\n",
       "                                   transformers=[('pipeline-1',\n",
       "                                                  Pipeline(steps=[('standardscaler',\n",
       "                                                                   StandardScaler())]),\n",
       "                                                  ['masse_ordma_min',\n",
       "                                                   'masse_ordma_max',\n",
       "                                                   'Nb_rapp']),\n",
       "                                                 ('pipeline-2',\n",
       "                                                  Pipeline(steps=[('onehotencoder',\n",
       "                                                                   OneHotEncoder(handle_unknown='ignore'))]),\n",
       "                                                  ['lib_mrq', 'cnit', 'cod_cbr',\n",
       "                                                   'hybride', 'puiss_max',\n",
       "                                                   'Carrosserie', 'gamme',\n",
       "                                                   'Type_boite'])])),\n",
       "                ('transformedtargetregressor',\n",
       "                 TransformedTargetRegressor(regressor=DummyRegressor()))])"
      ]
     },
     "execution_count": 60,
     "metadata": {},
     "output_type": "execute_result"
    }
   ],
   "source": [
    "model_dum = make_pipeline( preprocessor,\n",
    "                  TransformedTargetRegressor(regressor = DummyRegressor())   \n",
    ")\n",
    "model_dum.fit(X_train, y_train)"
   ]
  },
  {
   "cell_type": "markdown",
   "id": "c5375ac1",
   "metadata": {},
   "source": [
    "## <font color=\"red\" id=\"section_4_1_1\" > 4.1.1 Prediction et performance du model"
   ]
  },
  {
   "cell_type": "code",
   "execution_count": 61,
   "id": "f07b8866",
   "metadata": {},
   "outputs": [],
   "source": [
    "y_pred_dum = model_dum.predict(X_test)"
   ]
  },
  {
   "cell_type": "code",
   "execution_count": 62,
   "id": "e4986429",
   "metadata": {},
   "outputs": [
    {
     "data": {
      "text/plain": [
       "array([201.6630094, 201.6630094, 201.6630094, ..., 201.6630094,\n",
       "       201.6630094, 201.6630094])"
      ]
     },
     "execution_count": 62,
     "metadata": {},
     "output_type": "execute_result"
    }
   ],
   "source": [
    "y_pred_dum"
   ]
  },
  {
   "cell_type": "markdown",
   "id": "17b2a014",
   "metadata": {},
   "source": [
    "### Comparaison: Val réelle vs val predict"
   ]
  },
  {
   "cell_type": "code",
   "execution_count": 63,
   "id": "4bb5f4b2",
   "metadata": {},
   "outputs": [
    {
     "data": {
      "text/html": [
       "<div>\n",
       "<style scoped>\n",
       "    .dataframe tbody tr th:only-of-type {\n",
       "        vertical-align: middle;\n",
       "    }\n",
       "\n",
       "    .dataframe tbody tr th {\n",
       "        vertical-align: top;\n",
       "    }\n",
       "\n",
       "    .dataframe thead th {\n",
       "        text-align: right;\n",
       "    }\n",
       "</style>\n",
       "<table border=\"1\" class=\"dataframe\">\n",
       "  <thead>\n",
       "    <tr style=\"text-align: right;\">\n",
       "      <th></th>\n",
       "      <th>Valeurs réelles</th>\n",
       "      <th>Valeurs predict</th>\n",
       "    </tr>\n",
       "  </thead>\n",
       "  <tbody>\n",
       "    <tr>\n",
       "      <th>0</th>\n",
       "      <td>197.0</td>\n",
       "      <td>201.663009</td>\n",
       "    </tr>\n",
       "    <tr>\n",
       "      <th>1</th>\n",
       "      <td>234.0</td>\n",
       "      <td>201.663009</td>\n",
       "    </tr>\n",
       "    <tr>\n",
       "      <th>2</th>\n",
       "      <td>162.0</td>\n",
       "      <td>201.663009</td>\n",
       "    </tr>\n",
       "    <tr>\n",
       "      <th>3</th>\n",
       "      <td>150.0</td>\n",
       "      <td>201.663009</td>\n",
       "    </tr>\n",
       "    <tr>\n",
       "      <th>4</th>\n",
       "      <td>189.0</td>\n",
       "      <td>201.663009</td>\n",
       "    </tr>\n",
       "    <tr>\n",
       "      <th>5</th>\n",
       "      <td>149.0</td>\n",
       "      <td>201.663009</td>\n",
       "    </tr>\n",
       "  </tbody>\n",
       "</table>\n",
       "</div>"
      ],
      "text/plain": [
       "   Valeurs réelles  Valeurs predict\n",
       "0            197.0       201.663009\n",
       "1            234.0       201.663009\n",
       "2            162.0       201.663009\n",
       "3            150.0       201.663009\n",
       "4            189.0       201.663009\n",
       "5            149.0       201.663009"
      ]
     },
     "execution_count": 63,
     "metadata": {},
     "output_type": "execute_result"
    }
   ],
   "source": [
    "pd.DataFrame({'Valeurs réelles': y_test.values.ravel(), 'Valeurs predict': y_pred_dum}).head(6)"
   ]
  },
  {
   "cell_type": "markdown",
   "id": "93b925c6",
   "metadata": {},
   "source": [
    "### Score de performance"
   ]
  },
  {
   "cell_type": "code",
   "execution_count": 64,
   "id": "95955cf1",
   "metadata": {},
   "outputs": [
    {
     "name": "stdout",
     "output_type": "stream",
     "text": [
      "Le score de performance sur le training set est: 0.0\n"
     ]
    }
   ],
   "source": [
    "print(f\"Le score de performance sur le training set est:\", model_dum.score(X_train, y_train))"
   ]
  },
  {
   "cell_type": "code",
   "execution_count": 65,
   "id": "d4c017e6",
   "metadata": {},
   "outputs": [
    {
     "name": "stdout",
     "output_type": "stream",
     "text": [
      "Le score R2 de performance sur le  test set est: -0.0;\n",
      "La mean absolute error (MAE) est :22.0;\n",
      "La RMSE est :4.677;\n",
      "La median  absolute error est :12.0.\n"
     ]
    }
   ],
   "source": [
    "print(\"Le score R2 de performance sur le  test set est: {};\" .format(np.round(model_dum.score(X_test, y_test), 5)))\n",
    "print(\"La mean absolute error (MAE) est :{};\".format(np.round(np.round(mean_absolute_error(y_test,y_pred_dum)), 2)))\n",
    "print(\"La RMSE est :{};\" .format(np.round(np.sqrt(mean_absolute_error(y_test,y_pred_dum)), 3)))\n",
    "print(\"La median  absolute error est :{}.\".format(np.round(median_absolute_error(y_test,y_pred_dum))))"
   ]
  },
  {
   "cell_type": "markdown",
   "id": "cdf72969",
   "metadata": {},
   "source": [
    "## Visualisation"
   ]
  },
  {
   "cell_type": "code",
   "execution_count": 66,
   "id": "47b4d3a7",
   "metadata": {},
   "outputs": [
    {
     "data": {
      "text/plain": [
       "Text(0.5, 1.0, 'DummyRegressor, prediction de CO2')"
      ]
     },
     "execution_count": 66,
     "metadata": {},
     "output_type": "execute_result"
    },
    {
     "data": {
      "image/png": "[encoded data removed]",
      "text/plain": [
       "<Figure size 432x432 with 1 Axes>"
      ]
     },
     "metadata": {
      "needs_background": "light"
     },
     "output_type": "display_data"
    }
   ],
   "source": [
    "fig, ax = plt.subplots(figsize = (6,6))\n",
    "sns.scatterplot(x = y_test, y = y_pred_dum)\n",
    "ax.plot([0,1], [0,1], ls ='--', c = 'red', transform = ax.transAxes)\n",
    "plt.xlabel(\"Valeurs réelles\", fontsize = 14)\n",
    "plt.ylabel(\"Valeurs predictes\", fontsize = 14)\n",
    "ax.set_title(\"DummyRegressor, prediction de CO2\", fontsize = 14)"
   ]
  },
  {
   "cell_type": "markdown",
   "id": "9c6abb0a",
   "metadata": {},
   "source": [
    "# Commentaire: \n",
    "Ce qu'on constate c'est ce que ce modéle n'a rien appris sur ce dataset, et c'est complétement normal car dummyRegressor ne tient pas compte des données pour prédire.\n",
    "On l'a juste utiisé comme moyen de référence."
   ]
  },
  {
   "cell_type": "markdown",
   "id": "32ac8055",
   "metadata": {},
   "source": [
    "## <font color=\"red\" id=\"section_4_2\" > 4.2  Prediction de CO2: LinearRegression"
   ]
  },
  {
   "cell_type": "markdown",
   "id": "b8505a28",
   "metadata": {},
   "source": [
    "## Optimisation des hyperparamètres"
   ]
  },
  {
   "cell_type": "code",
   "execution_count": 67,
   "id": "cd60ddd2",
   "metadata": {},
   "outputs": [
    {
     "name": "stdout",
     "output_type": "stream",
     "text": [
      "Execution time est:87.51372623443604\n"
     ]
    }
   ],
   "source": [
    "t0 = time.time() \n",
    "params_lr = {\"regressor__fit_intercept\": [False, True],# sur False; les données doivent être centrées\n",
    "             \"regressor__normalize\": [False, True] # s'il fallait normaliser ou pas  \n",
    "}\n",
    "lr_grid_cv = GridSearchCV(TransformedTargetRegressor(regressor = LinearRegression()),\n",
    "                          param_grid = params_lr,\n",
    "                          cv = 5,\n",
    "                          scoring = ('r2',\"neg_mean_absolute_error\"),\n",
    "                          refit = \"neg_mean_absolute_error\",\n",
    "                          return_train_score =True,\n",
    "                          n_jobs =-1)\n",
    "\n",
    "mlr_cv = Pipeline([('preprocessor', preprocessor),\n",
    "                        ('grid_searchcv_mlr', lr_grid_cv)\n",
    "    \n",
    "                  ])\n",
    "\n",
    "mlr_cv.fit(X_train, y_train)\n",
    "print(\"Execution time est:{}\".format(time.time() - t0))"
   ]
  },
  {
   "cell_type": "code",
   "execution_count": 68,
   "id": "d7e7f160",
   "metadata": {},
   "outputs": [
    {
     "data": {
      "text/html": [
       "<div>\n",
       "<style scoped>\n",
       "    .dataframe tbody tr th:only-of-type {\n",
       "        vertical-align: middle;\n",
       "    }\n",
       "\n",
       "    .dataframe tbody tr th {\n",
       "        vertical-align: top;\n",
       "    }\n",
       "\n",
       "    .dataframe thead th {\n",
       "        text-align: right;\n",
       "    }\n",
       "</style>\n",
       "<table border=\"1\" class=\"dataframe\">\n",
       "  <thead>\n",
       "    <tr style=\"text-align: right;\">\n",
       "      <th></th>\n",
       "      <th>mean_fit_time</th>\n",
       "      <th>std_fit_time</th>\n",
       "      <th>mean_score_time</th>\n",
       "      <th>std_score_time</th>\n",
       "      <th>param_regressor__fit_intercept</th>\n",
       "      <th>param_regressor__normalize</th>\n",
       "      <th>params</th>\n",
       "      <th>split0_test_r2</th>\n",
       "      <th>split1_test_r2</th>\n",
       "      <th>split2_test_r2</th>\n",
       "      <th>split3_test_r2</th>\n",
       "      <th>split4_test_r2</th>\n",
       "      <th>mean_test_r2</th>\n",
       "      <th>std_test_r2</th>\n",
       "      <th>rank_test_r2</th>\n",
       "      <th>split0_train_r2</th>\n",
       "      <th>split1_train_r2</th>\n",
       "      <th>split2_train_r2</th>\n",
       "      <th>split3_train_r2</th>\n",
       "      <th>split4_train_r2</th>\n",
       "      <th>mean_train_r2</th>\n",
       "      <th>std_train_r2</th>\n",
       "      <th>split0_test_neg_mean_absolute_error</th>\n",
       "      <th>split1_test_neg_mean_absolute_error</th>\n",
       "      <th>split2_test_neg_mean_absolute_error</th>\n",
       "      <th>split3_test_neg_mean_absolute_error</th>\n",
       "      <th>split4_test_neg_mean_absolute_error</th>\n",
       "      <th>mean_test_neg_mean_absolute_error</th>\n",
       "      <th>std_test_neg_mean_absolute_error</th>\n",
       "      <th>rank_test_neg_mean_absolute_error</th>\n",
       "      <th>split0_train_neg_mean_absolute_error</th>\n",
       "      <th>split1_train_neg_mean_absolute_error</th>\n",
       "      <th>split2_train_neg_mean_absolute_error</th>\n",
       "      <th>split3_train_neg_mean_absolute_error</th>\n",
       "      <th>split4_train_neg_mean_absolute_error</th>\n",
       "      <th>mean_train_neg_mean_absolute_error</th>\n",
       "      <th>std_train_neg_mean_absolute_error</th>\n",
       "    </tr>\n",
       "  </thead>\n",
       "  <tbody>\n",
       "    <tr>\n",
       "      <th>0</th>\n",
       "      <td>15.072343</td>\n",
       "      <td>2.033884</td>\n",
       "      <td>0.012000</td>\n",
       "      <td>0.010120</td>\n",
       "      <td>False</td>\n",
       "      <td>False</td>\n",
       "      <td>{'regressor__fit_intercept': False, 'regressor...</td>\n",
       "      <td>-0.280514</td>\n",
       "      <td>-1.197983</td>\n",
       "      <td>-2.370022</td>\n",
       "      <td>0.733021</td>\n",
       "      <td>-2.910589</td>\n",
       "      <td>-1.205217</td>\n",
       "      <td>1.332438</td>\n",
       "      <td>2</td>\n",
       "      <td>0.999911</td>\n",
       "      <td>0.999979</td>\n",
       "      <td>0.999897</td>\n",
       "      <td>0.999897</td>\n",
       "      <td>0.999914</td>\n",
       "      <td>0.99992</td>\n",
       "      <td>0.00003</td>\n",
       "      <td>-29.020244</td>\n",
       "      <td>-39.857484</td>\n",
       "      <td>-47.118012</td>\n",
       "      <td>-13.436459</td>\n",
       "      <td>-50.553931</td>\n",
       "      <td>-35.997226</td>\n",
       "      <td>13.476926</td>\n",
       "      <td>2</td>\n",
       "      <td>-0.006808</td>\n",
       "      <td>-0.004078</td>\n",
       "      <td>-0.008539</td>\n",
       "      <td>-0.007813</td>\n",
       "      <td>-0.006310</td>\n",
       "      <td>-0.006710</td>\n",
       "      <td>0.001527</td>\n",
       "    </tr>\n",
       "    <tr>\n",
       "      <th>1</th>\n",
       "      <td>15.027205</td>\n",
       "      <td>2.446247</td>\n",
       "      <td>0.005199</td>\n",
       "      <td>0.001469</td>\n",
       "      <td>False</td>\n",
       "      <td>True</td>\n",
       "      <td>{'regressor__fit_intercept': False, 'regressor...</td>\n",
       "      <td>-0.280514</td>\n",
       "      <td>-1.197983</td>\n",
       "      <td>-2.370022</td>\n",
       "      <td>0.733021</td>\n",
       "      <td>-2.910589</td>\n",
       "      <td>-1.205217</td>\n",
       "      <td>1.332438</td>\n",
       "      <td>2</td>\n",
       "      <td>0.999911</td>\n",
       "      <td>0.999979</td>\n",
       "      <td>0.999897</td>\n",
       "      <td>0.999897</td>\n",
       "      <td>0.999914</td>\n",
       "      <td>0.99992</td>\n",
       "      <td>0.00003</td>\n",
       "      <td>-29.020244</td>\n",
       "      <td>-39.857484</td>\n",
       "      <td>-47.118012</td>\n",
       "      <td>-13.436459</td>\n",
       "      <td>-50.553931</td>\n",
       "      <td>-35.997226</td>\n",
       "      <td>13.476926</td>\n",
       "      <td>2</td>\n",
       "      <td>-0.006808</td>\n",
       "      <td>-0.004078</td>\n",
       "      <td>-0.008539</td>\n",
       "      <td>-0.007813</td>\n",
       "      <td>-0.006310</td>\n",
       "      <td>-0.006710</td>\n",
       "      <td>0.001527</td>\n",
       "    </tr>\n",
       "    <tr>\n",
       "      <th>2</th>\n",
       "      <td>12.629056</td>\n",
       "      <td>1.741235</td>\n",
       "      <td>0.008807</td>\n",
       "      <td>0.007711</td>\n",
       "      <td>True</td>\n",
       "      <td>False</td>\n",
       "      <td>{'regressor__fit_intercept': True, 'regressor_...</td>\n",
       "      <td>-0.280180</td>\n",
       "      <td>-1.197574</td>\n",
       "      <td>-2.370031</td>\n",
       "      <td>0.733427</td>\n",
       "      <td>-2.910446</td>\n",
       "      <td>-1.204961</td>\n",
       "      <td>1.332568</td>\n",
       "      <td>1</td>\n",
       "      <td>0.999911</td>\n",
       "      <td>0.999979</td>\n",
       "      <td>0.999897</td>\n",
       "      <td>0.999897</td>\n",
       "      <td>0.999914</td>\n",
       "      <td>0.99992</td>\n",
       "      <td>0.00003</td>\n",
       "      <td>-29.018708</td>\n",
       "      <td>-39.850649</td>\n",
       "      <td>-47.117014</td>\n",
       "      <td>-13.429828</td>\n",
       "      <td>-50.552661</td>\n",
       "      <td>-35.993772</td>\n",
       "      <td>13.478474</td>\n",
       "      <td>1</td>\n",
       "      <td>-0.006808</td>\n",
       "      <td>-0.004078</td>\n",
       "      <td>-0.008538</td>\n",
       "      <td>-0.007813</td>\n",
       "      <td>-0.006310</td>\n",
       "      <td>-0.006709</td>\n",
       "      <td>0.001527</td>\n",
       "    </tr>\n",
       "    <tr>\n",
       "      <th>3</th>\n",
       "      <td>1.033493</td>\n",
       "      <td>0.245645</td>\n",
       "      <td>0.006003</td>\n",
       "      <td>0.001268</td>\n",
       "      <td>True</td>\n",
       "      <td>True</td>\n",
       "      <td>{'regressor__fit_intercept': True, 'regressor_...</td>\n",
       "      <td>-105.360886</td>\n",
       "      <td>-1.579334</td>\n",
       "      <td>-4.772769</td>\n",
       "      <td>-672.092826</td>\n",
       "      <td>-5.688615</td>\n",
       "      <td>-157.898886</td>\n",
       "      <td>260.079613</td>\n",
       "      <td>4</td>\n",
       "      <td>0.999911</td>\n",
       "      <td>0.999979</td>\n",
       "      <td>0.999897</td>\n",
       "      <td>0.999900</td>\n",
       "      <td>0.999914</td>\n",
       "      <td>0.99992</td>\n",
       "      <td>0.00003</td>\n",
       "      <td>-266.671230</td>\n",
       "      <td>-43.138511</td>\n",
       "      <td>-62.656681</td>\n",
       "      <td>-684.248770</td>\n",
       "      <td>-66.774309</td>\n",
       "      <td>-224.697900</td>\n",
       "      <td>243.766196</td>\n",
       "      <td>4</td>\n",
       "      <td>-0.006707</td>\n",
       "      <td>-0.004078</td>\n",
       "      <td>-0.008538</td>\n",
       "      <td>-0.007335</td>\n",
       "      <td>-0.006309</td>\n",
       "      <td>-0.006593</td>\n",
       "      <td>0.001466</td>\n",
       "    </tr>\n",
       "  </tbody>\n",
       "</table>\n",
       "</div>"
      ],
      "text/plain": [
       "   mean_fit_time  std_fit_time  mean_score_time  std_score_time  \\\n",
       "0      15.072343      2.033884         0.012000        0.010120   \n",
       "1      15.027205      2.446247         0.005199        0.001469   \n",
       "2      12.629056      1.741235         0.008807        0.007711   \n",
       "3       1.033493      0.245645         0.006003        0.001268   \n",
       "\n",
       "  param_regressor__fit_intercept param_regressor__normalize  \\\n",
       "0                          False                      False   \n",
       "1                          False                       True   \n",
       "2                           True                      False   \n",
       "3                           True                       True   \n",
       "\n",
       "                                              params  split0_test_r2  \\\n",
       "0  {'regressor__fit_intercept': False, 'regressor...       -0.280514   \n",
       "1  {'regressor__fit_intercept': False, 'regressor...       -0.280514   \n",
       "2  {'regressor__fit_intercept': True, 'regressor_...       -0.280180   \n",
       "3  {'regressor__fit_intercept': True, 'regressor_...     -105.360886   \n",
       "\n",
       "   split1_test_r2  split2_test_r2  split3_test_r2  split4_test_r2  \\\n",
       "0       -1.197983       -2.370022        0.733021       -2.910589   \n",
       "1       -1.197983       -2.370022        0.733021       -2.910589   \n",
       "2       -1.197574       -2.370031        0.733427       -2.910446   \n",
       "3       -1.579334       -4.772769     -672.092826       -5.688615   \n",
       "\n",
       "   mean_test_r2  std_test_r2  rank_test_r2  split0_train_r2  split1_train_r2  \\\n",
       "0     -1.205217     1.332438             2         0.999911         0.999979   \n",
       "1     -1.205217     1.332438             2         0.999911         0.999979   \n",
       "2     -1.204961     1.332568             1         0.999911         0.999979   \n",
       "3   -157.898886   260.079613             4         0.999911         0.999979   \n",
       "\n",
       "   split2_train_r2  split3_train_r2  split4_train_r2  mean_train_r2  \\\n",
       "0         0.999897         0.999897         0.999914        0.99992   \n",
       "1         0.999897         0.999897         0.999914        0.99992   \n",
       "2         0.999897         0.999897         0.999914        0.99992   \n",
       "3         0.999897         0.999900         0.999914        0.99992   \n",
       "\n",
       "   std_train_r2  split0_test_neg_mean_absolute_error  \\\n",
       "0       0.00003                           -29.020244   \n",
       "1       0.00003                           -29.020244   \n",
       "2       0.00003                           -29.018708   \n",
       "3       0.00003                          -266.671230   \n",
       "\n",
       "   split1_test_neg_mean_absolute_error  split2_test_neg_mean_absolute_error  \\\n",
       "0                           -39.857484                           -47.118012   \n",
       "1                           -39.857484                           -47.118012   \n",
       "2                           -39.850649                           -47.117014   \n",
       "3                           -43.138511                           -62.656681   \n",
       "\n",
       "   split3_test_neg_mean_absolute_error  split4_test_neg_mean_absolute_error  \\\n",
       "0                           -13.436459                           -50.553931   \n",
       "1                           -13.436459                           -50.553931   \n",
       "2                           -13.429828                           -50.552661   \n",
       "3                          -684.248770                           -66.774309   \n",
       "\n",
       "   mean_test_neg_mean_absolute_error  std_test_neg_mean_absolute_error  \\\n",
       "0                         -35.997226                         13.476926   \n",
       "1                         -35.997226                         13.476926   \n",
       "2                         -35.993772                         13.478474   \n",
       "3                        -224.697900                        243.766196   \n",
       "\n",
       "   rank_test_neg_mean_absolute_error  split0_train_neg_mean_absolute_error  \\\n",
       "0                                  2                             -0.006808   \n",
       "1                                  2                             -0.006808   \n",
       "2                                  1                             -0.006808   \n",
       "3                                  4                             -0.006707   \n",
       "\n",
       "   split1_train_neg_mean_absolute_error  split2_train_neg_mean_absolute_error  \\\n",
       "0                             -0.004078                             -0.008539   \n",
       "1                             -0.004078                             -0.008539   \n",
       "2                             -0.004078                             -0.008538   \n",
       "3                             -0.004078                             -0.008538   \n",
       "\n",
       "   split3_train_neg_mean_absolute_error  split4_train_neg_mean_absolute_error  \\\n",
       "0                             -0.007813                             -0.006310   \n",
       "1                             -0.007813                             -0.006310   \n",
       "2                             -0.007813                             -0.006310   \n",
       "3                             -0.007335                             -0.006309   \n",
       "\n",
       "   mean_train_neg_mean_absolute_error  std_train_neg_mean_absolute_error  \n",
       "0                           -0.006710                           0.001527  \n",
       "1                           -0.006710                           0.001527  \n",
       "2                           -0.006709                           0.001527  \n",
       "3                           -0.006593                           0.001466  "
      ]
     },
     "execution_count": 68,
     "metadata": {},
     "output_type": "execute_result"
    }
   ],
   "source": [
    "resultat_mlr = pd.DataFrame.from_dict(mlr_cv.named_steps['grid_searchcv_mlr'].cv_results_)\n",
    "resultat_mlr"
   ]
  },
  {
   "cell_type": "markdown",
   "id": "bcbe1f79",
   "metadata": {},
   "source": [
    "## Commentaire:\n",
    "Nous allons à présent extraire les information pertinentes nous concernant dans cette sous section."
   ]
  },
  {
   "cell_type": "code",
   "execution_count": 69,
   "id": "f0bb05d9",
   "metadata": {},
   "outputs": [
    {
     "name": "stdout",
     "output_type": "stream",
     "text": [
      "Le meilleur score NMAE: -35.994;\n",
      "Meilleur score R2: -1.205;\n",
      "Meilleurt trainin time: 481623.75s; \n",
      "Meilleurs paramètres: {'regressor__fit_intercept': True, 'regressor__normalize': False}.\n"
     ]
    }
   ],
   "source": [
    "best_nmae = np.round(mlr_cv.named_steps['grid_searchcv_mlr'].best_score_,3)\n",
    "best_score_R2 = np.round(np.mean(resultat_mlr[resultat_mlr['rank_test_r2']==1]['mean_test_r2']), 3)\n",
    "best_params = mlr_cv.named_steps['grid_searchcv_mlr'].best_params_\n",
    "best_fit_time_training = np.round(np.mean(resultat_mlr[\"mean_fit_time\"])*X_train.shape[0], 2)\n",
    "print(\"Le meilleur score NMAE: {};\\nMeilleur score R2: {};\\nMeilleurt trainin time: {}s; \\nMeilleurs paramètres: {}.\"\\\n",
    "      .format(best_nmae, best_score_R2 , best_fit_time_training, best_params))"
   ]
  },
  {
   "cell_type": "code",
   "execution_count": 70,
   "id": "2b57ba1e",
   "metadata": {},
   "outputs": [
    {
     "data": {
      "text/html": [
       "<style>#sk-container-id-3 {color: black;background-color: white;}#sk-container-id-3 pre{padding: 0;}#sk-container-id-3 div.sk-toggleable {background-color: white;}#sk-container-id-3 label.sk-toggleable__label {cursor: pointer;display: block;width: 100%;margin-bottom: 0;padding: 0.3em;box-sizing: border-box;text-align: center;}#sk-container-id-3 label.sk-toggleable__label-arrow:before {content: \"▸\";float: left;margin-right: 0.25em;color: #696969;}#sk-container-id-3 label.sk-toggleable__label-arrow:hover:before {color: black;}#sk-container-id-3 div.sk-estimator:hover label.sk-toggleable__label-arrow:before {color: black;}#sk-container-id-3 div.sk-toggleable__content {max-height: 0;max-width: 0;overflow: hidden;text-align: left;background-color: #f0f8ff;}#sk-container-id-3 div.sk-toggleable__content pre {margin: 0.2em;color: black;border-radius: 0.25em;background-color: #f0f8ff;}#sk-container-id-3 input.sk-toggleable__control:checked~div.sk-toggleable__content {max-height: 200px;max-width: 100%;overflow: auto;}#sk-container-id-3 input.sk-toggleable__control:checked~label.sk-toggleable__label-arrow:before {content: \"▾\";}#sk-container-id-3 div.sk-estimator input.sk-toggleable__control:checked~label.sk-toggleable__label {background-color: #d4ebff;}#sk-container-id-3 div.sk-label input.sk-toggleable__control:checked~label.sk-toggleable__label {background-color: #d4ebff;}#sk-container-id-3 input.sk-hidden--visually {border: 0;clip: rect(1px 1px 1px 1px);clip: rect(1px, 1px, 1px, 1px);height: 1px;margin: -1px;overflow: hidden;padding: 0;position: absolute;width: 1px;}#sk-container-id-3 div.sk-estimator {font-family: monospace;background-color: #f0f8ff;border: 1px dotted black;border-radius: 0.25em;box-sizing: border-box;margin-bottom: 0.5em;}#sk-container-id-3 div.sk-estimator:hover {background-color: #d4ebff;}#sk-container-id-3 div.sk-parallel-item::after {content: \"\";width: 100%;border-bottom: 1px solid gray;flex-grow: 1;}#sk-container-id-3 div.sk-label:hover label.sk-toggleable__label {background-color: #d4ebff;}#sk-container-id-3 div.sk-serial::before {content: \"\";position: absolute;border-left: 1px solid gray;box-sizing: border-box;top: 0;bottom: 0;left: 50%;z-index: 0;}#sk-container-id-3 div.sk-serial {display: flex;flex-direction: column;align-items: center;background-color: white;padding-right: 0.2em;padding-left: 0.2em;position: relative;}#sk-container-id-3 div.sk-item {position: relative;z-index: 1;}#sk-container-id-3 div.sk-parallel {display: flex;align-items: stretch;justify-content: center;background-color: white;position: relative;}#sk-container-id-3 div.sk-item::before, #sk-container-id-3 div.sk-parallel-item::before {content: \"\";position: absolute;border-left: 1px solid gray;box-sizing: border-box;top: 0;bottom: 0;left: 50%;z-index: -1;}#sk-container-id-3 div.sk-parallel-item {display: flex;flex-direction: column;z-index: 1;position: relative;background-color: white;}#sk-container-id-3 div.sk-parallel-item:first-child::after {align-self: flex-end;width: 50%;}#sk-container-id-3 div.sk-parallel-item:last-child::after {align-self: flex-start;width: 50%;}#sk-container-id-3 div.sk-parallel-item:only-child::after {width: 0;}#sk-container-id-3 div.sk-dashed-wrapped {border: 1px dashed gray;margin: 0 0.4em 0.5em 0.4em;box-sizing: border-box;padding-bottom: 0.4em;background-color: white;}#sk-container-id-3 div.sk-label label {font-family: monospace;font-weight: bold;display: inline-block;line-height: 1.2em;}#sk-container-id-3 div.sk-label-container {text-align: center;}#sk-container-id-3 div.sk-container {/* jupyter's `normalize.less` sets `[hidden] { display: none; }` but bootstrap.min.css set `[hidden] { display: none !important; }` so we also need the `!important` here to be able to override the default hidden behavior on the sphinx rendered scikit-learn.org. See: https://github.com/scikit-learn/scikit-learn/issues/21755 */display: inline-block !important;position: relative;}#sk-container-id-3 div.sk-text-repr-fallback {display: none;}</style><div id=\"sk-container-id-3\" class=\"sk-top-container\"><div class=\"sk-text-repr-fallback\"><pre>Pipeline(steps=[(&#x27;columntransformer&#x27;,\n",
       "                 ColumnTransformer(remainder=&#x27;passthrough&#x27;,\n",
       "                                   transformers=[(&#x27;pipeline-1&#x27;,\n",
       "                                                  Pipeline(steps=[(&#x27;standardscaler&#x27;,\n",
       "                                                                   StandardScaler())]),\n",
       "                                                  [&#x27;masse_ordma_min&#x27;,\n",
       "                                                   &#x27;masse_ordma_max&#x27;,\n",
       "                                                   &#x27;Nb_rapp&#x27;]),\n",
       "                                                 (&#x27;pipeline-2&#x27;,\n",
       "                                                  Pipeline(steps=[(&#x27;onehotencoder&#x27;,\n",
       "                                                                   OneHotEncoder(handle_unknown=&#x27;ignore&#x27;))]),\n",
       "                                                  [&#x27;lib_mrq&#x27;, &#x27;cnit&#x27;, &#x27;cod_cbr&#x27;,\n",
       "                                                   &#x27;hybride&#x27;, &#x27;puiss_max&#x27;,\n",
       "                                                   &#x27;Carrosserie&#x27;, &#x27;gamme&#x27;,\n",
       "                                                   &#x27;Type_boite&#x27;])])),\n",
       "                (&#x27;transformedtargetregressor&#x27;,\n",
       "                 TransformedTargetRegressor(regressor=LinearRegression(normalize=False)))])</pre><b>In a Jupyter environment, please rerun this cell to show the HTML representation or trust the notebook. <br />On GitHub, the HTML representation is unable to render, please try loading this page with nbviewer.org.</b></div><div class=\"sk-container\" hidden><div class=\"sk-item sk-dashed-wrapped\"><div class=\"sk-label-container\"><div class=\"sk-label sk-toggleable\"><input class=\"sk-toggleable__control sk-hidden--visually\" id=\"sk-estimator-id-23\" type=\"checkbox\" ><label for=\"sk-estimator-id-23\" class=\"sk-toggleable__label sk-toggleable__label-arrow\">Pipeline</label><div class=\"sk-toggleable__content\"><pre>Pipeline(steps=[(&#x27;columntransformer&#x27;,\n",
       "                 ColumnTransformer(remainder=&#x27;passthrough&#x27;,\n",
       "                                   transformers=[(&#x27;pipeline-1&#x27;,\n",
       "                                                  Pipeline(steps=[(&#x27;standardscaler&#x27;,\n",
       "                                                                   StandardScaler())]),\n",
       "                                                  [&#x27;masse_ordma_min&#x27;,\n",
       "                                                   &#x27;masse_ordma_max&#x27;,\n",
       "                                                   &#x27;Nb_rapp&#x27;]),\n",
       "                                                 (&#x27;pipeline-2&#x27;,\n",
       "                                                  Pipeline(steps=[(&#x27;onehotencoder&#x27;,\n",
       "                                                                   OneHotEncoder(handle_unknown=&#x27;ignore&#x27;))]),\n",
       "                                                  [&#x27;lib_mrq&#x27;, &#x27;cnit&#x27;, &#x27;cod_cbr&#x27;,\n",
       "                                                   &#x27;hybride&#x27;, &#x27;puiss_max&#x27;,\n",
       "                                                   &#x27;Carrosserie&#x27;, &#x27;gamme&#x27;,\n",
       "                                                   &#x27;Type_boite&#x27;])])),\n",
       "                (&#x27;transformedtargetregressor&#x27;,\n",
       "                 TransformedTargetRegressor(regressor=LinearRegression(normalize=False)))])</pre></div></div></div><div class=\"sk-serial\"><div class=\"sk-item sk-dashed-wrapped\"><div class=\"sk-label-container\"><div class=\"sk-label sk-toggleable\"><input class=\"sk-toggleable__control sk-hidden--visually\" id=\"sk-estimator-id-24\" type=\"checkbox\" ><label for=\"sk-estimator-id-24\" class=\"sk-toggleable__label sk-toggleable__label-arrow\">columntransformer: ColumnTransformer</label><div class=\"sk-toggleable__content\"><pre>ColumnTransformer(remainder=&#x27;passthrough&#x27;,\n",
       "                  transformers=[(&#x27;pipeline-1&#x27;,\n",
       "                                 Pipeline(steps=[(&#x27;standardscaler&#x27;,\n",
       "                                                  StandardScaler())]),\n",
       "                                 [&#x27;masse_ordma_min&#x27;, &#x27;masse_ordma_max&#x27;,\n",
       "                                  &#x27;Nb_rapp&#x27;]),\n",
       "                                (&#x27;pipeline-2&#x27;,\n",
       "                                 Pipeline(steps=[(&#x27;onehotencoder&#x27;,\n",
       "                                                  OneHotEncoder(handle_unknown=&#x27;ignore&#x27;))]),\n",
       "                                 [&#x27;lib_mrq&#x27;, &#x27;cnit&#x27;, &#x27;cod_cbr&#x27;, &#x27;hybride&#x27;,\n",
       "                                  &#x27;puiss_max&#x27;, &#x27;Carrosserie&#x27;, &#x27;gamme&#x27;,\n",
       "                                  &#x27;Type_boite&#x27;])])</pre></div></div></div><div class=\"sk-parallel\"><div class=\"sk-parallel-item\"><div class=\"sk-item\"><div class=\"sk-label-container\"><div class=\"sk-label sk-toggleable\"><input class=\"sk-toggleable__control sk-hidden--visually\" id=\"sk-estimator-id-25\" type=\"checkbox\" ><label for=\"sk-estimator-id-25\" class=\"sk-toggleable__label sk-toggleable__label-arrow\">pipeline-1</label><div class=\"sk-toggleable__content\"><pre>[&#x27;masse_ordma_min&#x27;, &#x27;masse_ordma_max&#x27;, &#x27;Nb_rapp&#x27;]</pre></div></div></div><div class=\"sk-serial\"><div class=\"sk-item\"><div class=\"sk-serial\"><div class=\"sk-item\"><div class=\"sk-estimator sk-toggleable\"><input class=\"sk-toggleable__control sk-hidden--visually\" id=\"sk-estimator-id-26\" type=\"checkbox\" ><label for=\"sk-estimator-id-26\" class=\"sk-toggleable__label sk-toggleable__label-arrow\">StandardScaler</label><div class=\"sk-toggleable__content\"><pre>StandardScaler()</pre></div></div></div></div></div></div></div></div><div class=\"sk-parallel-item\"><div class=\"sk-item\"><div class=\"sk-label-container\"><div class=\"sk-label sk-toggleable\"><input class=\"sk-toggleable__control sk-hidden--visually\" id=\"sk-estimator-id-27\" type=\"checkbox\" ><label for=\"sk-estimator-id-27\" class=\"sk-toggleable__label sk-toggleable__label-arrow\">pipeline-2</label><div class=\"sk-toggleable__content\"><pre>[&#x27;lib_mrq&#x27;, &#x27;cnit&#x27;, &#x27;cod_cbr&#x27;, &#x27;hybride&#x27;, &#x27;puiss_max&#x27;, &#x27;Carrosserie&#x27;, &#x27;gamme&#x27;, &#x27;Type_boite&#x27;]</pre></div></div></div><div class=\"sk-serial\"><div class=\"sk-item\"><div class=\"sk-serial\"><div class=\"sk-item\"><div class=\"sk-estimator sk-toggleable\"><input class=\"sk-toggleable__control sk-hidden--visually\" id=\"sk-estimator-id-28\" type=\"checkbox\" ><label for=\"sk-estimator-id-28\" class=\"sk-toggleable__label sk-toggleable__label-arrow\">OneHotEncoder</label><div class=\"sk-toggleable__content\"><pre>OneHotEncoder(handle_unknown=&#x27;ignore&#x27;)</pre></div></div></div></div></div></div></div></div><div class=\"sk-parallel-item\"><div class=\"sk-item\"><div class=\"sk-label-container\"><div class=\"sk-label sk-toggleable\"><input class=\"sk-toggleable__control sk-hidden--visually\" id=\"sk-estimator-id-29\" type=\"checkbox\" ><label for=\"sk-estimator-id-29\" class=\"sk-toggleable__label sk-toggleable__label-arrow\">remainder</label><div class=\"sk-toggleable__content\"><pre>[]</pre></div></div></div><div class=\"sk-serial\"><div class=\"sk-item\"><div class=\"sk-estimator sk-toggleable\"><input class=\"sk-toggleable__control sk-hidden--visually\" id=\"sk-estimator-id-30\" type=\"checkbox\" ><label for=\"sk-estimator-id-30\" class=\"sk-toggleable__label sk-toggleable__label-arrow\">passthrough</label><div class=\"sk-toggleable__content\"><pre>passthrough</pre></div></div></div></div></div></div></div></div><div class=\"sk-item sk-dashed-wrapped\"><div class=\"sk-label-container\"><div class=\"sk-label sk-toggleable\"><input class=\"sk-toggleable__control sk-hidden--visually\" id=\"sk-estimator-id-31\" type=\"checkbox\" ><label for=\"sk-estimator-id-31\" class=\"sk-toggleable__label sk-toggleable__label-arrow\">transformedtargetregressor: TransformedTargetRegressor</label><div class=\"sk-toggleable__content\"><pre>TransformedTargetRegressor(regressor=LinearRegression(normalize=False))</pre></div></div></div><div class=\"sk-parallel\"><div class=\"sk-parallel-item\"><div class=\"sk-item\"><div class=\"sk-label-container\"><div class=\"sk-label sk-toggleable\"><input class=\"sk-toggleable__control sk-hidden--visually\" id=\"sk-estimator-id-32\" type=\"checkbox\" ><label for=\"sk-estimator-id-32\" class=\"sk-toggleable__label sk-toggleable__label-arrow\">regressor: LinearRegression</label><div class=\"sk-toggleable__content\"><pre>LinearRegression(normalize=False)</pre></div></div></div><div class=\"sk-serial\"><div class=\"sk-item\"><div class=\"sk-estimator sk-toggleable\"><input class=\"sk-toggleable__control sk-hidden--visually\" id=\"sk-estimator-id-33\" type=\"checkbox\" ><label for=\"sk-estimator-id-33\" class=\"sk-toggleable__label sk-toggleable__label-arrow\">LinearRegression</label><div class=\"sk-toggleable__content\"><pre>LinearRegression(normalize=False)</pre></div></div></div></div></div></div></div></div></div></div></div></div>"
      ],
      "text/plain": [
       "Pipeline(steps=[('columntransformer',\n",
       "                 ColumnTransformer(remainder='passthrough',\n",
       "                                   transformers=[('pipeline-1',\n",
       "                                                  Pipeline(steps=[('standardscaler',\n",
       "                                                                   StandardScaler())]),\n",
       "                                                  ['masse_ordma_min',\n",
       "                                                   'masse_ordma_max',\n",
       "                                                   'Nb_rapp']),\n",
       "                                                 ('pipeline-2',\n",
       "                                                  Pipeline(steps=[('onehotencoder',\n",
       "                                                                   OneHotEncoder(handle_unknown='ignore'))]),\n",
       "                                                  ['lib_mrq', 'cnit', 'cod_cbr',\n",
       "                                                   'hybride', 'puiss_max',\n",
       "                                                   'Carrosserie', 'gamme',\n",
       "                                                   'Type_boite'])])),\n",
       "                ('transformedtargetregressor',\n",
       "                 TransformedTargetRegressor(regressor=LinearRegression(normalize=False)))])"
      ]
     },
     "execution_count": 70,
     "metadata": {},
     "output_type": "execute_result"
    }
   ],
   "source": [
    "model_lr = make_pipeline( preprocessor,\n",
    "                  TransformedTargetRegressor(regressor = LinearRegression(fit_intercept =True,\n",
    "                                                                          normalize =False))   \n",
    ")\n",
    "model_lr.fit(X_train, y_train)"
   ]
  },
  {
   "cell_type": "markdown",
   "id": "c95b014e",
   "metadata": {},
   "source": [
    "## <font color=\"red\" id=\"section_4_2_1\" > 4.2.1 Prediction et performance du model"
   ]
  },
  {
   "cell_type": "code",
   "execution_count": 71,
   "id": "9470024f",
   "metadata": {},
   "outputs": [],
   "source": [
    "y_pred_lr = model_lr.predict(X_test)"
   ]
  },
  {
   "cell_type": "code",
   "execution_count": 72,
   "id": "edc8c77f",
   "metadata": {},
   "outputs": [
    {
     "data": {
      "text/plain": [
       "array([ 85.36223684, 216.67073379, 149.6554401 , ...,  91.7175036 ,\n",
       "       201.16782867, 227.5574614 ])"
      ]
     },
     "execution_count": 72,
     "metadata": {},
     "output_type": "execute_result"
    }
   ],
   "source": [
    "y_pred_lr"
   ]
  },
  {
   "cell_type": "markdown",
   "id": "0e02392f",
   "metadata": {},
   "source": [
    "### Comparaison: Val réelle vs val predict"
   ]
  },
  {
   "cell_type": "code",
   "execution_count": 73,
   "id": "d9f8e452",
   "metadata": {},
   "outputs": [
    {
     "data": {
      "text/html": [
       "<div>\n",
       "<style scoped>\n",
       "    .dataframe tbody tr th:only-of-type {\n",
       "        vertical-align: middle;\n",
       "    }\n",
       "\n",
       "    .dataframe tbody tr th {\n",
       "        vertical-align: top;\n",
       "    }\n",
       "\n",
       "    .dataframe thead th {\n",
       "        text-align: right;\n",
       "    }\n",
       "</style>\n",
       "<table border=\"1\" class=\"dataframe\">\n",
       "  <thead>\n",
       "    <tr style=\"text-align: right;\">\n",
       "      <th></th>\n",
       "      <th>Valeurs réelles</th>\n",
       "      <th>Valeurs predict</th>\n",
       "    </tr>\n",
       "  </thead>\n",
       "  <tbody>\n",
       "    <tr>\n",
       "      <th>0</th>\n",
       "      <td>197.0</td>\n",
       "      <td>85.362237</td>\n",
       "    </tr>\n",
       "    <tr>\n",
       "      <th>1</th>\n",
       "      <td>234.0</td>\n",
       "      <td>216.670734</td>\n",
       "    </tr>\n",
       "    <tr>\n",
       "      <th>2</th>\n",
       "      <td>162.0</td>\n",
       "      <td>149.655440</td>\n",
       "    </tr>\n",
       "    <tr>\n",
       "      <th>3</th>\n",
       "      <td>150.0</td>\n",
       "      <td>155.022601</td>\n",
       "    </tr>\n",
       "    <tr>\n",
       "      <th>4</th>\n",
       "      <td>189.0</td>\n",
       "      <td>114.914411</td>\n",
       "    </tr>\n",
       "    <tr>\n",
       "      <th>5</th>\n",
       "      <td>149.0</td>\n",
       "      <td>124.052952</td>\n",
       "    </tr>\n",
       "  </tbody>\n",
       "</table>\n",
       "</div>"
      ],
      "text/plain": [
       "   Valeurs réelles  Valeurs predict\n",
       "0            197.0        85.362237\n",
       "1            234.0       216.670734\n",
       "2            162.0       149.655440\n",
       "3            150.0       155.022601\n",
       "4            189.0       114.914411\n",
       "5            149.0       124.052952"
      ]
     },
     "execution_count": 73,
     "metadata": {},
     "output_type": "execute_result"
    }
   ],
   "source": [
    "pd.DataFrame({'Valeurs réelles': y_test.values.ravel(), 'Valeurs predict': y_pred_lr}).head(6)"
   ]
  },
  {
   "cell_type": "markdown",
   "id": "135ca1c4",
   "metadata": {},
   "source": [
    "### Score de performance"
   ]
  },
  {
   "cell_type": "code",
   "execution_count": 74,
   "id": "56680463",
   "metadata": {},
   "outputs": [
    {
     "name": "stdout",
     "output_type": "stream",
     "text": [
      "Le score de performance sur le training set est: 0.9998995348004273\n"
     ]
    }
   ],
   "source": [
    "print(f\"Le score de performance sur le training set est:\", model_lr.score(X_train, y_train))"
   ]
  },
  {
   "cell_type": "code",
   "execution_count": 75,
   "id": "4ecadedf",
   "metadata": {},
   "outputs": [
    {
     "name": "stdout",
     "output_type": "stream",
     "text": [
      "Le score R2 de performance sur le  test set est: -3.01192;\n",
      "La mean absolute error (MAE) est :50.0;\n",
      "La RMSE est :7.054;\n",
      "La median  absolute error est :38.0.\n"
     ]
    }
   ],
   "source": [
    "print(\"Le score R2 de performance sur le  test set est: {};\" .format(np.round(model_lr.score(X_test, y_test), 5)))\n",
    "print(\"La mean absolute error (MAE) est :{};\".format(np.round(np.round(mean_absolute_error(y_test,y_pred_lr)), 2)))\n",
    "print(\"La RMSE est :{};\" .format(np.round(np.sqrt(mean_absolute_error(y_test,y_pred_lr)), 3)))\n",
    "print(\"La median  absolute error est :{}.\".format(np.round(median_absolute_error(y_test,y_pred_lr))))"
   ]
  },
  {
   "cell_type": "markdown",
   "id": "4e9c7f81",
   "metadata": {},
   "source": [
    "## <font color=\"red\" id=\"section_4_2_2\" > 4.2.2 Visualisation"
   ]
  },
  {
   "cell_type": "code",
   "execution_count": 76,
   "id": "d1f4e875",
   "metadata": {},
   "outputs": [
    {
     "data": {
      "image/png": "[encoded data removed]",
      "text/plain": [
       "<Figure size 432x432 with 1 Axes>"
      ]
     },
     "metadata": {
      "needs_background": "light"
     },
     "output_type": "display_data"
    }
   ],
   "source": [
    "fig, ax = plt.subplots(figsize = (6,6))\n",
    "sns.scatterplot(x = y_test, y = y_pred_lr)\n",
    "ax.plot([0,1], [0,1], ls ='--', c = 'red', transform = ax.transAxes)\n",
    "plt.xlabel(\"Valeurs réelles\", fontsize = 14)\n",
    "plt.ylabel(\"Valeurs predictes\", fontsize = 14)\n",
    "ax.set_title(\"LinearRegression, prediction de CO2\", fontsize = 14)\n",
    "plt.show()"
   ]
  },
  {
   "cell_type": "markdown",
   "id": "9a3bb23a",
   "metadata": {},
   "source": [
    "# Commentaire: \n",
    "Ce qu'on constate c'est ce que ce modéle ne s'adapte pas à ce jeux de données."
   ]
  },
  {
   "cell_type": "markdown",
   "id": "7f1974d4",
   "metadata": {},
   "source": [
    "## <font color=\"red\" id=\"section_4_3\" > 4.3  Prediction de CO2: SGDRegressor\n",
    "  \n",
    "SGD signifie **Stochastic Gradient Descent** : le gradient de la perte est estimé pour chaque échantillon à la fois et le modèle est mis à jour en cours de route avec un calendrier de force décroissant (c'est-à-dire le taux d'apprentissage).\n",
    "    \n",
    "Lien documentation = https://scikit-learn.org/stable/modules/generated/sklearn.linear_model.SGDRegressor.html"
   ]
  },
  {
   "cell_type": "markdown",
   "id": "09807dd2",
   "metadata": {},
   "source": [
    "## Optimisation des hyperparamètres"
   ]
  },
  {
   "cell_type": "code",
   "execution_count": 77,
   "id": "bb531c73",
   "metadata": {},
   "outputs": [
    {
     "name": "stdout",
     "output_type": "stream",
     "text": [
      "Le temps d'éxécution de la tache est: 1078.8826222419739s\n"
     ]
    }
   ],
   "source": [
    "t0 = time.time()\n",
    "params_sgdr = {'regressor__penalty': ['l1', 'l2'] ,\n",
    "              'regressor__alpha':  np.linspace(0, 0.0002, 3) ,\n",
    "              'regressor__epsilon': np.linspace(0, 0.2, 3)\n",
    "}\n",
    "grid_sgdr = GridSearchCV( TransformedTargetRegressor(regressor = SGDRegressor(random_state = 5)),\n",
    "                         param_grid =params_sgdr,\n",
    "                         cv =5,\n",
    "                         scoring = (\"r2\", \"neg_mean_absolute_error\"),\n",
    "                         refit = 'neg_mean_absolute_error',\n",
    "                         return_train_score = True,\n",
    "                         verbose = 0,\n",
    "                         n_jobs =-1\n",
    "                        )\n",
    "mdgd_cv = Pipeline([('preprocessor', preprocessor),\n",
    "                  ('grid_search_msgdr',grid_sgdr )\n",
    "                   ])\n",
    "mdgd_cv.fit(X_train, y_train)\n",
    "print(\"Le temps d'éxécution de la tache est: {}s\" .format(time.time() - t0))"
   ]
  },
  {
   "cell_type": "markdown",
   "id": "3d8c06f3",
   "metadata": {},
   "source": [
    "## Affichage des resultats d'optimisation"
   ]
  },
  {
   "cell_type": "code",
   "execution_count": 78,
   "id": "4cbeb393",
   "metadata": {},
   "outputs": [],
   "source": [
    "def opt_result(pipeline, model_grid):\n",
    "    df_resultats = pd.DataFrame.from_dict(pipeline.named_steps[model_grid].cv_results_).\\\n",
    "    sort_values('rank_test_neg_mean_absolute_error')\n",
    "    best_nmae = np.round(np.mean(df_resultats[\"mean_test_neg_mean_absolute_error\"]), 2)\n",
    "    best_score_R2 = np.round(np.mean(df_resultats[df_resultats.rank_test_r2 ==1]['mean_test_r2']), 4)\n",
    "    best_time_training = np.round(np.mean(df_resultats['mean_fit_time']*X_train.shape[0]), 2)\n",
    "    best_params = pipeline.named_steps[model_grid].best_params_\n",
    "    print(\"Le meilleur score Nmae est:{};\\n Le meileur score R2: {}; \\n Le temps de fit moyen: {}; \\nLes meilleurs paramètres :{}\"\\\n",
    "          .format(best_nmae, best_score_R2, best_time_training, best_params))\n",
    "    return df_resultats"
   ]
  },
  {
   "cell_type": "code",
   "execution_count": 79,
   "id": "900a968f",
   "metadata": {},
   "outputs": [
    {
     "name": "stdout",
     "output_type": "stream",
     "text": [
      "Le meilleur score Nmae est:-10.58;\n",
      " Le meileur score R2: 0.7925; \n",
      " Le temps de fit moyen: 2028507.54; \n",
      "Les meilleurs paramètres :{'regressor__alpha': 0.0002, 'regressor__epsilon': 0.0, 'regressor__penalty': 'l1'}\n"
     ]
    },
    {
     "data": {
      "text/html": [
       "<div>\n",
       "<style scoped>\n",
       "    .dataframe tbody tr th:only-of-type {\n",
       "        vertical-align: middle;\n",
       "    }\n",
       "\n",
       "    .dataframe tbody tr th {\n",
       "        vertical-align: top;\n",
       "    }\n",
       "\n",
       "    .dataframe thead th {\n",
       "        text-align: right;\n",
       "    }\n",
       "</style>\n",
       "<table border=\"1\" class=\"dataframe\">\n",
       "  <thead>\n",
       "    <tr style=\"text-align: right;\">\n",
       "      <th></th>\n",
       "      <th>mean_fit_time</th>\n",
       "      <th>std_fit_time</th>\n",
       "      <th>mean_score_time</th>\n",
       "      <th>std_score_time</th>\n",
       "      <th>param_regressor__alpha</th>\n",
       "      <th>param_regressor__epsilon</th>\n",
       "      <th>param_regressor__penalty</th>\n",
       "      <th>params</th>\n",
       "      <th>split0_test_r2</th>\n",
       "      <th>split1_test_r2</th>\n",
       "      <th>split2_test_r2</th>\n",
       "      <th>split3_test_r2</th>\n",
       "      <th>split4_test_r2</th>\n",
       "      <th>mean_test_r2</th>\n",
       "      <th>std_test_r2</th>\n",
       "      <th>rank_test_r2</th>\n",
       "      <th>split0_train_r2</th>\n",
       "      <th>split1_train_r2</th>\n",
       "      <th>split2_train_r2</th>\n",
       "      <th>split3_train_r2</th>\n",
       "      <th>split4_train_r2</th>\n",
       "      <th>mean_train_r2</th>\n",
       "      <th>std_train_r2</th>\n",
       "      <th>split0_test_neg_mean_absolute_error</th>\n",
       "      <th>split1_test_neg_mean_absolute_error</th>\n",
       "      <th>split2_test_neg_mean_absolute_error</th>\n",
       "      <th>split3_test_neg_mean_absolute_error</th>\n",
       "      <th>split4_test_neg_mean_absolute_error</th>\n",
       "      <th>mean_test_neg_mean_absolute_error</th>\n",
       "      <th>std_test_neg_mean_absolute_error</th>\n",
       "      <th>rank_test_neg_mean_absolute_error</th>\n",
       "      <th>split0_train_neg_mean_absolute_error</th>\n",
       "      <th>split1_train_neg_mean_absolute_error</th>\n",
       "      <th>split2_train_neg_mean_absolute_error</th>\n",
       "      <th>split3_train_neg_mean_absolute_error</th>\n",
       "      <th>split4_train_neg_mean_absolute_error</th>\n",
       "      <th>mean_train_neg_mean_absolute_error</th>\n",
       "      <th>std_train_neg_mean_absolute_error</th>\n",
       "    </tr>\n",
       "  </thead>\n",
       "  <tbody>\n",
       "    <tr>\n",
       "      <th>12</th>\n",
       "      <td>55.390112</td>\n",
       "      <td>2.303317</td>\n",
       "      <td>0.375627</td>\n",
       "      <td>0.604046</td>\n",
       "      <td>0.0002</td>\n",
       "      <td>0.0</td>\n",
       "      <td>l1</td>\n",
       "      <td>{'regressor__alpha': 0.0002, 'regressor__epsil...</td>\n",
       "      <td>0.796752</td>\n",
       "      <td>0.781829</td>\n",
       "      <td>0.782588</td>\n",
       "      <td>0.808039</td>\n",
       "      <td>0.790847</td>\n",
       "      <td>0.792011</td>\n",
       "      <td>0.009728</td>\n",
       "      <td>12</td>\n",
       "      <td>0.847630</td>\n",
       "      <td>0.848405</td>\n",
       "      <td>0.850185</td>\n",
       "      <td>0.844451</td>\n",
       "      <td>0.847250</td>\n",
       "      <td>0.847584</td>\n",
       "      <td>0.001864</td>\n",
       "      <td>-10.506797</td>\n",
       "      <td>-10.559500</td>\n",
       "      <td>-10.644368</td>\n",
       "      <td>-10.404906</td>\n",
       "      <td>-10.413899</td>\n",
       "      <td>-10.505894</td>\n",
       "      <td>0.090234</td>\n",
       "      <td>1</td>\n",
       "      <td>-9.529803</td>\n",
       "      <td>-9.516659</td>\n",
       "      <td>-9.474141</td>\n",
       "      <td>-9.529983</td>\n",
       "      <td>-9.522908</td>\n",
       "      <td>-9.514699</td>\n",
       "      <td>0.020871</td>\n",
       "    </tr>\n",
       "    <tr>\n",
       "      <th>10</th>\n",
       "      <td>55.440693</td>\n",
       "      <td>0.652452</td>\n",
       "      <td>0.006801</td>\n",
       "      <td>0.003430</td>\n",
       "      <td>0.0001</td>\n",
       "      <td>0.2</td>\n",
       "      <td>l1</td>\n",
       "      <td>{'regressor__alpha': 0.0001, 'regressor__epsil...</td>\n",
       "      <td>0.796663</td>\n",
       "      <td>0.781952</td>\n",
       "      <td>0.782846</td>\n",
       "      <td>0.808409</td>\n",
       "      <td>0.791120</td>\n",
       "      <td>0.792198</td>\n",
       "      <td>0.009760</td>\n",
       "      <td>9</td>\n",
       "      <td>0.855698</td>\n",
       "      <td>0.856594</td>\n",
       "      <td>0.858338</td>\n",
       "      <td>0.852628</td>\n",
       "      <td>0.855164</td>\n",
       "      <td>0.855684</td>\n",
       "      <td>0.001870</td>\n",
       "      <td>-10.491992</td>\n",
       "      <td>-10.546121</td>\n",
       "      <td>-10.659173</td>\n",
       "      <td>-10.438107</td>\n",
       "      <td>-10.408283</td>\n",
       "      <td>-10.508735</td>\n",
       "      <td>0.088757</td>\n",
       "      <td>2</td>\n",
       "      <td>-9.157176</td>\n",
       "      <td>-9.141484</td>\n",
       "      <td>-9.132193</td>\n",
       "      <td>-9.209988</td>\n",
       "      <td>-9.161583</td>\n",
       "      <td>-9.160485</td>\n",
       "      <td>0.026923</td>\n",
       "    </tr>\n",
       "    <tr>\n",
       "      <th>14</th>\n",
       "      <td>54.754562</td>\n",
       "      <td>2.944159</td>\n",
       "      <td>0.033905</td>\n",
       "      <td>0.020187</td>\n",
       "      <td>0.0002</td>\n",
       "      <td>0.1</td>\n",
       "      <td>l1</td>\n",
       "      <td>{'regressor__alpha': 0.0002, 'regressor__epsil...</td>\n",
       "      <td>0.796916</td>\n",
       "      <td>0.781908</td>\n",
       "      <td>0.783240</td>\n",
       "      <td>0.807845</td>\n",
       "      <td>0.790697</td>\n",
       "      <td>0.792121</td>\n",
       "      <td>0.009544</td>\n",
       "      <td>10</td>\n",
       "      <td>0.847565</td>\n",
       "      <td>0.848517</td>\n",
       "      <td>0.850266</td>\n",
       "      <td>0.844450</td>\n",
       "      <td>0.847231</td>\n",
       "      <td>0.847606</td>\n",
       "      <td>0.001898</td>\n",
       "      <td>-10.515352</td>\n",
       "      <td>-10.541289</td>\n",
       "      <td>-10.634384</td>\n",
       "      <td>-10.418540</td>\n",
       "      <td>-10.438103</td>\n",
       "      <td>-10.509534</td>\n",
       "      <td>0.077475</td>\n",
       "      <td>3</td>\n",
       "      <td>-9.543446</td>\n",
       "      <td>-9.499919</td>\n",
       "      <td>-9.477073</td>\n",
       "      <td>-9.541192</td>\n",
       "      <td>-9.544273</td>\n",
       "      <td>-9.521181</td>\n",
       "      <td>0.027666</td>\n",
       "    </tr>\n",
       "  </tbody>\n",
       "</table>\n",
       "</div>"
      ],
      "text/plain": [
       "    mean_fit_time  std_fit_time  mean_score_time  std_score_time  \\\n",
       "12      55.390112      2.303317         0.375627        0.604046   \n",
       "10      55.440693      0.652452         0.006801        0.003430   \n",
       "14      54.754562      2.944159         0.033905        0.020187   \n",
       "\n",
       "   param_regressor__alpha param_regressor__epsilon param_regressor__penalty  \\\n",
       "12                 0.0002                      0.0                       l1   \n",
       "10                 0.0001                      0.2                       l1   \n",
       "14                 0.0002                      0.1                       l1   \n",
       "\n",
       "                                               params  split0_test_r2  \\\n",
       "12  {'regressor__alpha': 0.0002, 'regressor__epsil...        0.796752   \n",
       "10  {'regressor__alpha': 0.0001, 'regressor__epsil...        0.796663   \n",
       "14  {'regressor__alpha': 0.0002, 'regressor__epsil...        0.796916   \n",
       "\n",
       "    split1_test_r2  split2_test_r2  split3_test_r2  split4_test_r2  \\\n",
       "12        0.781829        0.782588        0.808039        0.790847   \n",
       "10        0.781952        0.782846        0.808409        0.791120   \n",
       "14        0.781908        0.783240        0.807845        0.790697   \n",
       "\n",
       "    mean_test_r2  std_test_r2  rank_test_r2  split0_train_r2  split1_train_r2  \\\n",
       "12      0.792011     0.009728            12         0.847630         0.848405   \n",
       "10      0.792198     0.009760             9         0.855698         0.856594   \n",
       "14      0.792121     0.009544            10         0.847565         0.848517   \n",
       "\n",
       "    split2_train_r2  split3_train_r2  split4_train_r2  mean_train_r2  \\\n",
       "12         0.850185         0.844451         0.847250       0.847584   \n",
       "10         0.858338         0.852628         0.855164       0.855684   \n",
       "14         0.850266         0.844450         0.847231       0.847606   \n",
       "\n",
       "    std_train_r2  split0_test_neg_mean_absolute_error  \\\n",
       "12      0.001864                           -10.506797   \n",
       "10      0.001870                           -10.491992   \n",
       "14      0.001898                           -10.515352   \n",
       "\n",
       "    split1_test_neg_mean_absolute_error  split2_test_neg_mean_absolute_error  \\\n",
       "12                           -10.559500                           -10.644368   \n",
       "10                           -10.546121                           -10.659173   \n",
       "14                           -10.541289                           -10.634384   \n",
       "\n",
       "    split3_test_neg_mean_absolute_error  split4_test_neg_mean_absolute_error  \\\n",
       "12                           -10.404906                           -10.413899   \n",
       "10                           -10.438107                           -10.408283   \n",
       "14                           -10.418540                           -10.438103   \n",
       "\n",
       "    mean_test_neg_mean_absolute_error  std_test_neg_mean_absolute_error  \\\n",
       "12                         -10.505894                          0.090234   \n",
       "10                         -10.508735                          0.088757   \n",
       "14                         -10.509534                          0.077475   \n",
       "\n",
       "    rank_test_neg_mean_absolute_error  split0_train_neg_mean_absolute_error  \\\n",
       "12                                  1                             -9.529803   \n",
       "10                                  2                             -9.157176   \n",
       "14                                  3                             -9.543446   \n",
       "\n",
       "    split1_train_neg_mean_absolute_error  \\\n",
       "12                             -9.516659   \n",
       "10                             -9.141484   \n",
       "14                             -9.499919   \n",
       "\n",
       "    split2_train_neg_mean_absolute_error  \\\n",
       "12                             -9.474141   \n",
       "10                             -9.132193   \n",
       "14                             -9.477073   \n",
       "\n",
       "    split3_train_neg_mean_absolute_error  \\\n",
       "12                             -9.529983   \n",
       "10                             -9.209988   \n",
       "14                             -9.541192   \n",
       "\n",
       "    split4_train_neg_mean_absolute_error  mean_train_neg_mean_absolute_error  \\\n",
       "12                             -9.522908                           -9.514699   \n",
       "10                             -9.161583                           -9.160485   \n",
       "14                             -9.544273                           -9.521181   \n",
       "\n",
       "    std_train_neg_mean_absolute_error  \n",
       "12                           0.020871  \n",
       "10                           0.026923  \n",
       "14                           0.027666  "
      ]
     },
     "execution_count": 79,
     "metadata": {},
     "output_type": "execute_result"
    }
   ],
   "source": [
    "df_results_msdgr = opt_result(mdgd_cv,'grid_search_msgdr' )\n",
    "df_results_msdgr.head(3)"
   ]
  },
  {
   "cell_type": "markdown",
   "id": "42736e25",
   "metadata": {},
   "source": [
    "## Prediction"
   ]
  },
  {
   "cell_type": "code",
   "execution_count": 81,
   "id": "ce376fb0",
   "metadata": {},
   "outputs": [
    {
     "data": {
      "text/html": [
       "<style>#sk-container-id-4 {color: black;background-color: white;}#sk-container-id-4 pre{padding: 0;}#sk-container-id-4 div.sk-toggleable {background-color: white;}#sk-container-id-4 label.sk-toggleable__label {cursor: pointer;display: block;width: 100%;margin-bottom: 0;padding: 0.3em;box-sizing: border-box;text-align: center;}#sk-container-id-4 label.sk-toggleable__label-arrow:before {content: \"▸\";float: left;margin-right: 0.25em;color: #696969;}#sk-container-id-4 label.sk-toggleable__label-arrow:hover:before {color: black;}#sk-container-id-4 div.sk-estimator:hover label.sk-toggleable__label-arrow:before {color: black;}#sk-container-id-4 div.sk-toggleable__content {max-height: 0;max-width: 0;overflow: hidden;text-align: left;background-color: #f0f8ff;}#sk-container-id-4 div.sk-toggleable__content pre {margin: 0.2em;color: black;border-radius: 0.25em;background-color: #f0f8ff;}#sk-container-id-4 input.sk-toggleable__control:checked~div.sk-toggleable__content {max-height: 200px;max-width: 100%;overflow: auto;}#sk-container-id-4 input.sk-toggleable__control:checked~label.sk-toggleable__label-arrow:before {content: \"▾\";}#sk-container-id-4 div.sk-estimator input.sk-toggleable__control:checked~label.sk-toggleable__label {background-color: #d4ebff;}#sk-container-id-4 div.sk-label input.sk-toggleable__control:checked~label.sk-toggleable__label {background-color: #d4ebff;}#sk-container-id-4 input.sk-hidden--visually {border: 0;clip: rect(1px 1px 1px 1px);clip: rect(1px, 1px, 1px, 1px);height: 1px;margin: -1px;overflow: hidden;padding: 0;position: absolute;width: 1px;}#sk-container-id-4 div.sk-estimator {font-family: monospace;background-color: #f0f8ff;border: 1px dotted black;border-radius: 0.25em;box-sizing: border-box;margin-bottom: 0.5em;}#sk-container-id-4 div.sk-estimator:hover {background-color: #d4ebff;}#sk-container-id-4 div.sk-parallel-item::after {content: \"\";width: 100%;border-bottom: 1px solid gray;flex-grow: 1;}#sk-container-id-4 div.sk-label:hover label.sk-toggleable__label {background-color: #d4ebff;}#sk-container-id-4 div.sk-serial::before {content: \"\";position: absolute;border-left: 1px solid gray;box-sizing: border-box;top: 0;bottom: 0;left: 50%;z-index: 0;}#sk-container-id-4 div.sk-serial {display: flex;flex-direction: column;align-items: center;background-color: white;padding-right: 0.2em;padding-left: 0.2em;position: relative;}#sk-container-id-4 div.sk-item {position: relative;z-index: 1;}#sk-container-id-4 div.sk-parallel {display: flex;align-items: stretch;justify-content: center;background-color: white;position: relative;}#sk-container-id-4 div.sk-item::before, #sk-container-id-4 div.sk-parallel-item::before {content: \"\";position: absolute;border-left: 1px solid gray;box-sizing: border-box;top: 0;bottom: 0;left: 50%;z-index: -1;}#sk-container-id-4 div.sk-parallel-item {display: flex;flex-direction: column;z-index: 1;position: relative;background-color: white;}#sk-container-id-4 div.sk-parallel-item:first-child::after {align-self: flex-end;width: 50%;}#sk-container-id-4 div.sk-parallel-item:last-child::after {align-self: flex-start;width: 50%;}#sk-container-id-4 div.sk-parallel-item:only-child::after {width: 0;}#sk-container-id-4 div.sk-dashed-wrapped {border: 1px dashed gray;margin: 0 0.4em 0.5em 0.4em;box-sizing: border-box;padding-bottom: 0.4em;background-color: white;}#sk-container-id-4 div.sk-label label {font-family: monospace;font-weight: bold;display: inline-block;line-height: 1.2em;}#sk-container-id-4 div.sk-label-container {text-align: center;}#sk-container-id-4 div.sk-container {/* jupyter's `normalize.less` sets `[hidden] { display: none; }` but bootstrap.min.css set `[hidden] { display: none !important; }` so we also need the `!important` here to be able to override the default hidden behavior on the sphinx rendered scikit-learn.org. See: https://github.com/scikit-learn/scikit-learn/issues/21755 */display: inline-block !important;position: relative;}#sk-container-id-4 div.sk-text-repr-fallback {display: none;}</style><div id=\"sk-container-id-4\" class=\"sk-top-container\"><div class=\"sk-text-repr-fallback\"><pre>Pipeline(steps=[(&#x27;columntransformer&#x27;,\n",
       "                 ColumnTransformer(remainder=&#x27;passthrough&#x27;,\n",
       "                                   transformers=[(&#x27;pipeline-1&#x27;,\n",
       "                                                  Pipeline(steps=[(&#x27;standardscaler&#x27;,\n",
       "                                                                   StandardScaler())]),\n",
       "                                                  [&#x27;masse_ordma_min&#x27;,\n",
       "                                                   &#x27;masse_ordma_max&#x27;,\n",
       "                                                   &#x27;Nb_rapp&#x27;]),\n",
       "                                                 (&#x27;pipeline-2&#x27;,\n",
       "                                                  Pipeline(steps=[(&#x27;onehotencoder&#x27;,\n",
       "                                                                   OneHotEncoder(handle_unknown=&#x27;ignore&#x27;))]),\n",
       "                                                  [&#x27;lib_mrq&#x27;, &#x27;cnit&#x27;, &#x27;cod_cbr&#x27;,\n",
       "                                                   &#x27;hybride&#x27;, &#x27;puiss_max&#x27;,\n",
       "                                                   &#x27;Carrosserie&#x27;, &#x27;gamme&#x27;,\n",
       "                                                   &#x27;Type_boite&#x27;])])),\n",
       "                (&#x27;transformedtargetregressor&#x27;,\n",
       "                 TransformedTargetRegressor(regressor=SGDRegressor(alpha=0.0002,\n",
       "                                                                   epsilon=0,\n",
       "                                                                   penalty=&#x27;l1&#x27;,\n",
       "                                                                   random_state=5)))])</pre><b>In a Jupyter environment, please rerun this cell to show the HTML representation or trust the notebook. <br />On GitHub, the HTML representation is unable to render, please try loading this page with nbviewer.org.</b></div><div class=\"sk-container\" hidden><div class=\"sk-item sk-dashed-wrapped\"><div class=\"sk-label-container\"><div class=\"sk-label sk-toggleable\"><input class=\"sk-toggleable__control sk-hidden--visually\" id=\"sk-estimator-id-34\" type=\"checkbox\" ><label for=\"sk-estimator-id-34\" class=\"sk-toggleable__label sk-toggleable__label-arrow\">Pipeline</label><div class=\"sk-toggleable__content\"><pre>Pipeline(steps=[(&#x27;columntransformer&#x27;,\n",
       "                 ColumnTransformer(remainder=&#x27;passthrough&#x27;,\n",
       "                                   transformers=[(&#x27;pipeline-1&#x27;,\n",
       "                                                  Pipeline(steps=[(&#x27;standardscaler&#x27;,\n",
       "                                                                   StandardScaler())]),\n",
       "                                                  [&#x27;masse_ordma_min&#x27;,\n",
       "                                                   &#x27;masse_ordma_max&#x27;,\n",
       "                                                   &#x27;Nb_rapp&#x27;]),\n",
       "                                                 (&#x27;pipeline-2&#x27;,\n",
       "                                                  Pipeline(steps=[(&#x27;onehotencoder&#x27;,\n",
       "                                                                   OneHotEncoder(handle_unknown=&#x27;ignore&#x27;))]),\n",
       "                                                  [&#x27;lib_mrq&#x27;, &#x27;cnit&#x27;, &#x27;cod_cbr&#x27;,\n",
       "                                                   &#x27;hybride&#x27;, &#x27;puiss_max&#x27;,\n",
       "                                                   &#x27;Carrosserie&#x27;, &#x27;gamme&#x27;,\n",
       "                                                   &#x27;Type_boite&#x27;])])),\n",
       "                (&#x27;transformedtargetregressor&#x27;,\n",
       "                 TransformedTargetRegressor(regressor=SGDRegressor(alpha=0.0002,\n",
       "                                                                   epsilon=0,\n",
       "                                                                   penalty=&#x27;l1&#x27;,\n",
       "                                                                   random_state=5)))])</pre></div></div></div><div class=\"sk-serial\"><div class=\"sk-item sk-dashed-wrapped\"><div class=\"sk-label-container\"><div class=\"sk-label sk-toggleable\"><input class=\"sk-toggleable__control sk-hidden--visually\" id=\"sk-estimator-id-35\" type=\"checkbox\" ><label for=\"sk-estimator-id-35\" class=\"sk-toggleable__label sk-toggleable__label-arrow\">columntransformer: ColumnTransformer</label><div class=\"sk-toggleable__content\"><pre>ColumnTransformer(remainder=&#x27;passthrough&#x27;,\n",
       "                  transformers=[(&#x27;pipeline-1&#x27;,\n",
       "                                 Pipeline(steps=[(&#x27;standardscaler&#x27;,\n",
       "                                                  StandardScaler())]),\n",
       "                                 [&#x27;masse_ordma_min&#x27;, &#x27;masse_ordma_max&#x27;,\n",
       "                                  &#x27;Nb_rapp&#x27;]),\n",
       "                                (&#x27;pipeline-2&#x27;,\n",
       "                                 Pipeline(steps=[(&#x27;onehotencoder&#x27;,\n",
       "                                                  OneHotEncoder(handle_unknown=&#x27;ignore&#x27;))]),\n",
       "                                 [&#x27;lib_mrq&#x27;, &#x27;cnit&#x27;, &#x27;cod_cbr&#x27;, &#x27;hybride&#x27;,\n",
       "                                  &#x27;puiss_max&#x27;, &#x27;Carrosserie&#x27;, &#x27;gamme&#x27;,\n",
       "                                  &#x27;Type_boite&#x27;])])</pre></div></div></div><div class=\"sk-parallel\"><div class=\"sk-parallel-item\"><div class=\"sk-item\"><div class=\"sk-label-container\"><div class=\"sk-label sk-toggleable\"><input class=\"sk-toggleable__control sk-hidden--visually\" id=\"sk-estimator-id-36\" type=\"checkbox\" ><label for=\"sk-estimator-id-36\" class=\"sk-toggleable__label sk-toggleable__label-arrow\">pipeline-1</label><div class=\"sk-toggleable__content\"><pre>[&#x27;masse_ordma_min&#x27;, &#x27;masse_ordma_max&#x27;, &#x27;Nb_rapp&#x27;]</pre></div></div></div><div class=\"sk-serial\"><div class=\"sk-item\"><div class=\"sk-serial\"><div class=\"sk-item\"><div class=\"sk-estimator sk-toggleable\"><input class=\"sk-toggleable__control sk-hidden--visually\" id=\"sk-estimator-id-37\" type=\"checkbox\" ><label for=\"sk-estimator-id-37\" class=\"sk-toggleable__label sk-toggleable__label-arrow\">StandardScaler</label><div class=\"sk-toggleable__content\"><pre>StandardScaler()</pre></div></div></div></div></div></div></div></div><div class=\"sk-parallel-item\"><div class=\"sk-item\"><div class=\"sk-label-container\"><div class=\"sk-label sk-toggleable\"><input class=\"sk-toggleable__control sk-hidden--visually\" id=\"sk-estimator-id-38\" type=\"checkbox\" ><label for=\"sk-estimator-id-38\" class=\"sk-toggleable__label sk-toggleable__label-arrow\">pipeline-2</label><div class=\"sk-toggleable__content\"><pre>[&#x27;lib_mrq&#x27;, &#x27;cnit&#x27;, &#x27;cod_cbr&#x27;, &#x27;hybride&#x27;, &#x27;puiss_max&#x27;, &#x27;Carrosserie&#x27;, &#x27;gamme&#x27;, &#x27;Type_boite&#x27;]</pre></div></div></div><div class=\"sk-serial\"><div class=\"sk-item\"><div class=\"sk-serial\"><div class=\"sk-item\"><div class=\"sk-estimator sk-toggleable\"><input class=\"sk-toggleable__control sk-hidden--visually\" id=\"sk-estimator-id-39\" type=\"checkbox\" ><label for=\"sk-estimator-id-39\" class=\"sk-toggleable__label sk-toggleable__label-arrow\">OneHotEncoder</label><div class=\"sk-toggleable__content\"><pre>OneHotEncoder(handle_unknown=&#x27;ignore&#x27;)</pre></div></div></div></div></div></div></div></div><div class=\"sk-parallel-item\"><div class=\"sk-item\"><div class=\"sk-label-container\"><div class=\"sk-label sk-toggleable\"><input class=\"sk-toggleable__control sk-hidden--visually\" id=\"sk-estimator-id-40\" type=\"checkbox\" ><label for=\"sk-estimator-id-40\" class=\"sk-toggleable__label sk-toggleable__label-arrow\">remainder</label><div class=\"sk-toggleable__content\"><pre>[]</pre></div></div></div><div class=\"sk-serial\"><div class=\"sk-item\"><div class=\"sk-estimator sk-toggleable\"><input class=\"sk-toggleable__control sk-hidden--visually\" id=\"sk-estimator-id-41\" type=\"checkbox\" ><label for=\"sk-estimator-id-41\" class=\"sk-toggleable__label sk-toggleable__label-arrow\">passthrough</label><div class=\"sk-toggleable__content\"><pre>passthrough</pre></div></div></div></div></div></div></div></div><div class=\"sk-item sk-dashed-wrapped\"><div class=\"sk-label-container\"><div class=\"sk-label sk-toggleable\"><input class=\"sk-toggleable__control sk-hidden--visually\" id=\"sk-estimator-id-42\" type=\"checkbox\" ><label for=\"sk-estimator-id-42\" class=\"sk-toggleable__label sk-toggleable__label-arrow\">transformedtargetregressor: TransformedTargetRegressor</label><div class=\"sk-toggleable__content\"><pre>TransformedTargetRegressor(regressor=SGDRegressor(alpha=0.0002, epsilon=0,\n",
       "                                                  penalty=&#x27;l1&#x27;,\n",
       "                                                  random_state=5))</pre></div></div></div><div class=\"sk-parallel\"><div class=\"sk-parallel-item\"><div class=\"sk-item\"><div class=\"sk-label-container\"><div class=\"sk-label sk-toggleable\"><input class=\"sk-toggleable__control sk-hidden--visually\" id=\"sk-estimator-id-43\" type=\"checkbox\" ><label for=\"sk-estimator-id-43\" class=\"sk-toggleable__label sk-toggleable__label-arrow\">regressor: SGDRegressor</label><div class=\"sk-toggleable__content\"><pre>SGDRegressor(alpha=0.0002, epsilon=0, penalty=&#x27;l1&#x27;, random_state=5)</pre></div></div></div><div class=\"sk-serial\"><div class=\"sk-item\"><div class=\"sk-estimator sk-toggleable\"><input class=\"sk-toggleable__control sk-hidden--visually\" id=\"sk-estimator-id-44\" type=\"checkbox\" ><label for=\"sk-estimator-id-44\" class=\"sk-toggleable__label sk-toggleable__label-arrow\">SGDRegressor</label><div class=\"sk-toggleable__content\"><pre>SGDRegressor(alpha=0.0002, epsilon=0, penalty=&#x27;l1&#x27;, random_state=5)</pre></div></div></div></div></div></div></div></div></div></div></div></div>"
      ],
      "text/plain": [
       "Pipeline(steps=[('columntransformer',\n",
       "                 ColumnTransformer(remainder='passthrough',\n",
       "                                   transformers=[('pipeline-1',\n",
       "                                                  Pipeline(steps=[('standardscaler',\n",
       "                                                                   StandardScaler())]),\n",
       "                                                  ['masse_ordma_min',\n",
       "                                                   'masse_ordma_max',\n",
       "                                                   'Nb_rapp']),\n",
       "                                                 ('pipeline-2',\n",
       "                                                  Pipeline(steps=[('onehotencoder',\n",
       "                                                                   OneHotEncoder(handle_unknown='ignore'))]),\n",
       "                                                  ['lib_mrq', 'cnit', 'cod_cbr',\n",
       "                                                   'hybride', 'puiss_max',\n",
       "                                                   'Carrosserie', 'gamme',\n",
       "                                                   'Type_boite'])])),\n",
       "                ('transformedtargetregressor',\n",
       "                 TransformedTargetRegressor(regressor=SGDRegressor(alpha=0.0002,\n",
       "                                                                   epsilon=0,\n",
       "                                                                   penalty='l1',\n",
       "                                                                   random_state=5)))])"
      ]
     },
     "execution_count": 81,
     "metadata": {},
     "output_type": "execute_result"
    }
   ],
   "source": [
    "model_sgr = make_pipeline(preprocessor, TransformedTargetRegressor(regressor = SGDRegressor(alpha = 0.0002,\n",
    "                                                                epsilon = 0, penalty ='l1', random_state =5))\n",
    "    \n",
    ")\n",
    "model_sgr.fit(X_train, y_train)"
   ]
  },
  {
   "cell_type": "code",
   "execution_count": 82,
   "id": "9a59461f",
   "metadata": {},
   "outputs": [],
   "source": [
    "y_pred_sgdr = model_sgr.predict(X_test)"
   ]
  },
  {
   "cell_type": "markdown",
   "id": "81dc70b6",
   "metadata": {},
   "source": [
    "## Comparaison valeur réelles et valeurs predictes"
   ]
  },
  {
   "cell_type": "code",
   "execution_count": 83,
   "id": "9290b0e3",
   "metadata": {},
   "outputs": [
    {
     "data": {
      "text/html": [
       "<div>\n",
       "<style scoped>\n",
       "    .dataframe tbody tr th:only-of-type {\n",
       "        vertical-align: middle;\n",
       "    }\n",
       "\n",
       "    .dataframe tbody tr th {\n",
       "        vertical-align: top;\n",
       "    }\n",
       "\n",
       "    .dataframe thead th {\n",
       "        text-align: right;\n",
       "    }\n",
       "</style>\n",
       "<table border=\"1\" class=\"dataframe\">\n",
       "  <thead>\n",
       "    <tr style=\"text-align: right;\">\n",
       "      <th></th>\n",
       "      <th>Valeurs réelles</th>\n",
       "      <th>Valeurs predictes</th>\n",
       "    </tr>\n",
       "  </thead>\n",
       "  <tbody>\n",
       "    <tr>\n",
       "      <th>0</th>\n",
       "      <td>197.0</td>\n",
       "      <td>202.045828</td>\n",
       "    </tr>\n",
       "    <tr>\n",
       "      <th>1</th>\n",
       "      <td>234.0</td>\n",
       "      <td>211.820409</td>\n",
       "    </tr>\n",
       "    <tr>\n",
       "      <th>2</th>\n",
       "      <td>162.0</td>\n",
       "      <td>158.410110</td>\n",
       "    </tr>\n",
       "    <tr>\n",
       "      <th>3</th>\n",
       "      <td>150.0</td>\n",
       "      <td>152.480316</td>\n",
       "    </tr>\n",
       "    <tr>\n",
       "      <th>4</th>\n",
       "      <td>189.0</td>\n",
       "      <td>201.307025</td>\n",
       "    </tr>\n",
       "  </tbody>\n",
       "</table>\n",
       "</div>"
      ],
      "text/plain": [
       "   Valeurs réelles  Valeurs predictes\n",
       "0            197.0         202.045828\n",
       "1            234.0         211.820409\n",
       "2            162.0         158.410110\n",
       "3            150.0         152.480316\n",
       "4            189.0         201.307025"
      ]
     },
     "execution_count": 83,
     "metadata": {},
     "output_type": "execute_result"
    }
   ],
   "source": [
    "pd.DataFrame.from_dict({'Valeurs réelles': y_test.values.ravel(), \"Valeurs predictes\": y_pred_sgdr}).head()"
   ]
  },
  {
   "cell_type": "markdown",
   "id": "f4c00f9b",
   "metadata": {},
   "source": [
    "## Estimation des erreurs"
   ]
  },
  {
   "cell_type": "code",
   "execution_count": 84,
   "id": "360d74e1",
   "metadata": {},
   "outputs": [],
   "source": [
    "def estimattion_erreur(y_pred, model):\n",
    "    print(\"Le score R2 de performance sur le training set est: {};\" .format(np.round(model.score(X_train, y_train), 5)))\n",
    "    print(\"Le score R2 de performance sur le  test set est: {};\" .format(np.round(model.score(X_test, y_test), 5)))\n",
    "    print(\"La mean absolute error (MAE) est :{};\".format(np.round(np.round(mean_absolute_error(y_test,y_pred)), 2)))\n",
    "    print(\"La RMSE est :{};\" .format(np.round(np.sqrt(mean_absolute_error(y_test,y_pred)), 3)))\n",
    "    print(\"La median  absolute error est :{}.\".format(np.round(median_absolute_error(y_test,y_pred))))"
   ]
  },
  {
   "cell_type": "code",
   "execution_count": 85,
   "id": "b574cb55",
   "metadata": {},
   "outputs": [
    {
     "name": "stdout",
     "output_type": "stream",
     "text": [
      "Le score R2 de performance sur le training set est: 0.84249;\n",
      "Le score R2 de performance sur le  test set est: 0.79539;\n",
      "La mean absolute error (MAE) est :10.0;\n",
      "La RMSE est :3.228;\n",
      "La median  absolute error est :8.0.\n"
     ]
    }
   ],
   "source": [
    "estimattion_erreur(y_pred_sgdr,model_sgr )"
   ]
  },
  {
   "cell_type": "markdown",
   "id": "564516d8",
   "metadata": {},
   "source": [
    "## Visualisation "
   ]
  },
  {
   "cell_type": "code",
   "execution_count": 86,
   "id": "0b7e98b6",
   "metadata": {},
   "outputs": [],
   "source": [
    "def visualisation(y_pred, model):\n",
    "    fig, ax = plt.subplots( figsize = (12,6))\n",
    "    sns.scatterplot( x = y_test, y = y_pred)\n",
    "    ax.plot([0,1], [0,1], ls ='--', c ='red', transform = ax.transAxes)\n",
    "    plt.ylabel(\"Valeurs predictes\", fontsize = 14)\n",
    "    plt.xlabel(\"Valeurs réélles\", fontsize = 14)\n",
    "    ax.set_title(\"Prediction de CO2 par {}\".format(model), fontsize = 16)\n",
    "    plt.show()"
   ]
  },
  {
   "cell_type": "code",
   "execution_count": 87,
   "id": "9e6ebc2e",
   "metadata": {},
   "outputs": [
    {
     "data": {
      "image/png": "[encoded data removed]",
      "text/plain": [
       "<Figure size 864x432 with 1 Axes>"
      ]
     },
     "metadata": {
      "needs_background": "light"
     },
     "output_type": "display_data"
    }
   ],
   "source": [
    "visualisation(y_pred_sgdr, 'SGDRegressor')"
   ]
  },
  {
   "cell_type": "markdown",
   "id": "00e19ec9",
   "metadata": {},
   "source": [
    "# Commentaire:\n",
    "Au regard des valeurs du score **R2**, des **RMSE** et de la **visualisation graphique**, on se rend-compte que notre modèle s'est adapté à ce jeu de données avec presque **80%** de chance de prédire la bonne valeurs et ce  avec des erreurs moins importantes."
   ]
  },
  {
   "cell_type": "markdown",
   "id": "0c71693f",
   "metadata": {},
   "source": [
    "## <font color=\"red\" id=\"section_4_4\" > 4.4  Prediction de CO2: RandomForestRegressor\n",
    "  \n",
    "* Une **Random Forest** ou **forêt aléatoire** en français est un estimateur qui ajuste un **certain nombre d'arbres** de décision de classification sur divers sous-échantillons de l'ensemble de données et utilise la **moyenne** pour améliorer la **précision prédictive** et contrôler le **surajustement**. \n",
    "    \n",
    "    \n",
    "* La taille du sous-échantillon est contrôlée avec le **max_samples** paramètre si **bootstrap=True** (par défaut), sinon l'ensemble de données entier est utilisé pour construire chaque arbre.\n",
    "    \n",
    "    \n",
    "* Lien documentation = https://scikit-learn.org/stable/modules/generated/sklearn.ensemble.RandomForestRegressor.html"
   ]
  },
  {
   "cell_type": "markdown",
   "id": "64f48d22",
   "metadata": {},
   "source": [
    "## Optimisation des hyper paramètres"
   ]
  },
  {
   "cell_type": "code",
   "execution_count": 88,
   "id": "633d883d",
   "metadata": {},
   "outputs": [
    {
     "name": "stdout",
     "output_type": "stream",
     "text": [
      "Fitting 5 folds for each of 12 candidates, totalling 60 fits\n",
      "Le temps total pour executer la tache vaut : 4984.0\n"
     ]
    }
   ],
   "source": [
    "t0 = time.time()\n",
    "params_mrfr = {'regressor__n_estimators' : [100,200, 300],\n",
    "               'regressor__max_features': ['sqrt', 'log2'],\n",
    "               'regressor__max_depth': [30, 50]\n",
    "}\n",
    "mrfr_grid = GridSearchCV(TransformedTargetRegressor(regressor = RandomForestRegressor(random_state =5)),\n",
    "                         param_grid = params_mrfr,\n",
    "                         cv = 5,\n",
    "                         scoring = (\"r2\", \"neg_mean_absolute_error\"),\n",
    "                         refit = 'neg_mean_absolute_error',\n",
    "                         return_train_score = True,\n",
    "                        verbose = 10,\n",
    "                         n_jobs =-1\n",
    "                          )\n",
    "mrfr_cv = Pipeline([ ('preprocessor', preprocessor),\n",
    "                    ('grid_search_mrfr', mrfr_grid)       \n",
    "])\n",
    "\n",
    "mrfr_cv.fit(X_train, y_train)\n",
    "print('Le temps total pour executer la tache vaut : {}'.format(np.round(time.time() - t0)))"
   ]
  },
  {
   "cell_type": "markdown",
   "id": "3be4bcf5",
   "metadata": {},
   "source": [
    "## Recupération des résultats"
   ]
  },
  {
   "cell_type": "code",
   "execution_count": 89,
   "id": "3975b400",
   "metadata": {},
   "outputs": [
    {
     "name": "stdout",
     "output_type": "stream",
     "text": [
      "Le meilleur score Nmae est:-18.28;\n",
      " Le meileur score R2: 0.6573; \n",
      " Le temps de fit moyen: 13035925.92; \n",
      "Les meilleurs paramètres :{'regressor__max_depth': 50, 'regressor__max_features': 'sqrt', 'regressor__n_estimators': 300}\n"
     ]
    },
    {
     "data": {
      "text/html": [
       "<div>\n",
       "<style scoped>\n",
       "    .dataframe tbody tr th:only-of-type {\n",
       "        vertical-align: middle;\n",
       "    }\n",
       "\n",
       "    .dataframe tbody tr th {\n",
       "        vertical-align: top;\n",
       "    }\n",
       "\n",
       "    .dataframe thead th {\n",
       "        text-align: right;\n",
       "    }\n",
       "</style>\n",
       "<table border=\"1\" class=\"dataframe\">\n",
       "  <thead>\n",
       "    <tr style=\"text-align: right;\">\n",
       "      <th></th>\n",
       "      <th>mean_fit_time</th>\n",
       "      <th>std_fit_time</th>\n",
       "      <th>mean_score_time</th>\n",
       "      <th>std_score_time</th>\n",
       "      <th>param_regressor__max_depth</th>\n",
       "      <th>param_regressor__max_features</th>\n",
       "      <th>param_regressor__n_estimators</th>\n",
       "      <th>params</th>\n",
       "      <th>split0_test_r2</th>\n",
       "      <th>split1_test_r2</th>\n",
       "      <th>split2_test_r2</th>\n",
       "      <th>split3_test_r2</th>\n",
       "      <th>split4_test_r2</th>\n",
       "      <th>mean_test_r2</th>\n",
       "      <th>std_test_r2</th>\n",
       "      <th>rank_test_r2</th>\n",
       "      <th>split0_train_r2</th>\n",
       "      <th>split1_train_r2</th>\n",
       "      <th>split2_train_r2</th>\n",
       "      <th>split3_train_r2</th>\n",
       "      <th>split4_train_r2</th>\n",
       "      <th>mean_train_r2</th>\n",
       "      <th>std_train_r2</th>\n",
       "      <th>split0_test_neg_mean_absolute_error</th>\n",
       "      <th>split1_test_neg_mean_absolute_error</th>\n",
       "      <th>split2_test_neg_mean_absolute_error</th>\n",
       "      <th>split3_test_neg_mean_absolute_error</th>\n",
       "      <th>split4_test_neg_mean_absolute_error</th>\n",
       "      <th>mean_test_neg_mean_absolute_error</th>\n",
       "      <th>std_test_neg_mean_absolute_error</th>\n",
       "      <th>rank_test_neg_mean_absolute_error</th>\n",
       "      <th>split0_train_neg_mean_absolute_error</th>\n",
       "      <th>split1_train_neg_mean_absolute_error</th>\n",
       "      <th>split2_train_neg_mean_absolute_error</th>\n",
       "      <th>split3_train_neg_mean_absolute_error</th>\n",
       "      <th>split4_train_neg_mean_absolute_error</th>\n",
       "      <th>mean_train_neg_mean_absolute_error</th>\n",
       "      <th>std_train_neg_mean_absolute_error</th>\n",
       "    </tr>\n",
       "  </thead>\n",
       "  <tbody>\n",
       "    <tr>\n",
       "      <th>8</th>\n",
       "      <td>941.287449</td>\n",
       "      <td>51.040443</td>\n",
       "      <td>0.881778</td>\n",
       "      <td>0.152552</td>\n",
       "      <td>50</td>\n",
       "      <td>sqrt</td>\n",
       "      <td>300</td>\n",
       "      <td>{'regressor__max_depth': 50, 'regressor__max_f...</td>\n",
       "      <td>0.664314</td>\n",
       "      <td>0.650244</td>\n",
       "      <td>0.660374</td>\n",
       "      <td>0.666355</td>\n",
       "      <td>0.645458</td>\n",
       "      <td>0.657349</td>\n",
       "      <td>0.008132</td>\n",
       "      <td>1</td>\n",
       "      <td>0.694691</td>\n",
       "      <td>0.701911</td>\n",
       "      <td>0.699516</td>\n",
       "      <td>0.696953</td>\n",
       "      <td>0.685611</td>\n",
       "      <td>0.695736</td>\n",
       "      <td>0.005612</td>\n",
       "      <td>-13.669492</td>\n",
       "      <td>-13.575108</td>\n",
       "      <td>-13.828692</td>\n",
       "      <td>-13.769835</td>\n",
       "      <td>-13.679669</td>\n",
       "      <td>-13.704559</td>\n",
       "      <td>0.087495</td>\n",
       "      <td>1</td>\n",
       "      <td>-13.313460</td>\n",
       "      <td>-13.206884</td>\n",
       "      <td>-13.295876</td>\n",
       "      <td>-13.213530</td>\n",
       "      <td>-13.563373</td>\n",
       "      <td>-13.318625</td>\n",
       "      <td>0.129597</td>\n",
       "    </tr>\n",
       "    <tr>\n",
       "      <th>7</th>\n",
       "      <td>745.532212</td>\n",
       "      <td>45.683903</td>\n",
       "      <td>0.830474</td>\n",
       "      <td>0.121082</td>\n",
       "      <td>50</td>\n",
       "      <td>sqrt</td>\n",
       "      <td>200</td>\n",
       "      <td>{'regressor__max_depth': 50, 'regressor__max_f...</td>\n",
       "      <td>0.661307</td>\n",
       "      <td>0.647791</td>\n",
       "      <td>0.650380</td>\n",
       "      <td>0.664927</td>\n",
       "      <td>0.646520</td>\n",
       "      <td>0.654185</td>\n",
       "      <td>0.007486</td>\n",
       "      <td>2</td>\n",
       "      <td>0.692608</td>\n",
       "      <td>0.700534</td>\n",
       "      <td>0.689636</td>\n",
       "      <td>0.694739</td>\n",
       "      <td>0.686084</td>\n",
       "      <td>0.692721</td>\n",
       "      <td>0.004872</td>\n",
       "      <td>-13.676606</td>\n",
       "      <td>-13.592403</td>\n",
       "      <td>-13.992817</td>\n",
       "      <td>-13.829713</td>\n",
       "      <td>-13.681883</td>\n",
       "      <td>-13.754684</td>\n",
       "      <td>0.141469</td>\n",
       "      <td>2</td>\n",
       "      <td>-13.322659</td>\n",
       "      <td>-13.210732</td>\n",
       "      <td>-13.465908</td>\n",
       "      <td>-13.278142</td>\n",
       "      <td>-13.565728</td>\n",
       "      <td>-13.368634</td>\n",
       "      <td>0.129262</td>\n",
       "    </tr>\n",
       "    <tr>\n",
       "      <th>6</th>\n",
       "      <td>453.218586</td>\n",
       "      <td>14.400569</td>\n",
       "      <td>0.791260</td>\n",
       "      <td>0.241880</td>\n",
       "      <td>50</td>\n",
       "      <td>sqrt</td>\n",
       "      <td>100</td>\n",
       "      <td>{'regressor__max_depth': 50, 'regressor__max_f...</td>\n",
       "      <td>0.665342</td>\n",
       "      <td>0.644574</td>\n",
       "      <td>0.642397</td>\n",
       "      <td>0.655363</td>\n",
       "      <td>0.646669</td>\n",
       "      <td>0.650869</td>\n",
       "      <td>0.008470</td>\n",
       "      <td>3</td>\n",
       "      <td>0.694705</td>\n",
       "      <td>0.698536</td>\n",
       "      <td>0.681758</td>\n",
       "      <td>0.685689</td>\n",
       "      <td>0.684254</td>\n",
       "      <td>0.688988</td>\n",
       "      <td>0.006472</td>\n",
       "      <td>-13.529065</td>\n",
       "      <td>-13.628397</td>\n",
       "      <td>-14.131717</td>\n",
       "      <td>-13.976208</td>\n",
       "      <td>-13.701162</td>\n",
       "      <td>-13.793310</td>\n",
       "      <td>0.225159</td>\n",
       "      <td>3</td>\n",
       "      <td>-13.193995</td>\n",
       "      <td>-13.245186</td>\n",
       "      <td>-13.603263</td>\n",
       "      <td>-13.414772</td>\n",
       "      <td>-13.594688</td>\n",
       "      <td>-13.410380</td>\n",
       "      <td>0.170472</td>\n",
       "    </tr>\n",
       "    <tr>\n",
       "      <th>2</th>\n",
       "      <td>509.156617</td>\n",
       "      <td>5.583202</td>\n",
       "      <td>0.926475</td>\n",
       "      <td>0.033098</td>\n",
       "      <td>30</td>\n",
       "      <td>sqrt</td>\n",
       "      <td>300</td>\n",
       "      <td>{'regressor__max_depth': 30, 'regressor__max_f...</td>\n",
       "      <td>0.503201</td>\n",
       "      <td>0.501734</td>\n",
       "      <td>0.508904</td>\n",
       "      <td>0.519444</td>\n",
       "      <td>0.482835</td>\n",
       "      <td>0.503224</td>\n",
       "      <td>0.011944</td>\n",
       "      <td>4</td>\n",
       "      <td>0.516711</td>\n",
       "      <td>0.540197</td>\n",
       "      <td>0.535558</td>\n",
       "      <td>0.534247</td>\n",
       "      <td>0.506940</td>\n",
       "      <td>0.526731</td>\n",
       "      <td>0.012711</td>\n",
       "      <td>-16.371949</td>\n",
       "      <td>-15.941796</td>\n",
       "      <td>-16.206049</td>\n",
       "      <td>-16.273266</td>\n",
       "      <td>-16.234223</td>\n",
       "      <td>-16.205457</td>\n",
       "      <td>0.143292</td>\n",
       "      <td>4</td>\n",
       "      <td>-16.205984</td>\n",
       "      <td>-15.836274</td>\n",
       "      <td>-15.913963</td>\n",
       "      <td>-15.825757</td>\n",
       "      <td>-16.395396</td>\n",
       "      <td>-16.035475</td>\n",
       "      <td>0.226735</td>\n",
       "    </tr>\n",
       "    <tr>\n",
       "      <th>1</th>\n",
       "      <td>345.649088</td>\n",
       "      <td>3.450967</td>\n",
       "      <td>0.499538</td>\n",
       "      <td>0.060731</td>\n",
       "      <td>30</td>\n",
       "      <td>sqrt</td>\n",
       "      <td>200</td>\n",
       "      <td>{'regressor__max_depth': 30, 'regressor__max_f...</td>\n",
       "      <td>0.507538</td>\n",
       "      <td>0.506961</td>\n",
       "      <td>0.500926</td>\n",
       "      <td>0.511295</td>\n",
       "      <td>0.484171</td>\n",
       "      <td>0.502178</td>\n",
       "      <td>0.009598</td>\n",
       "      <td>5</td>\n",
       "      <td>0.521048</td>\n",
       "      <td>0.546907</td>\n",
       "      <td>0.527344</td>\n",
       "      <td>0.526094</td>\n",
       "      <td>0.508470</td>\n",
       "      <td>0.525972</td>\n",
       "      <td>0.012415</td>\n",
       "      <td>-16.304483</td>\n",
       "      <td>-15.788417</td>\n",
       "      <td>-16.354720</td>\n",
       "      <td>-16.444602</td>\n",
       "      <td>-16.224000</td>\n",
       "      <td>-16.223244</td>\n",
       "      <td>0.228893</td>\n",
       "      <td>5</td>\n",
       "      <td>-16.140115</td>\n",
       "      <td>-15.673330</td>\n",
       "      <td>-16.064981</td>\n",
       "      <td>-15.993279</td>\n",
       "      <td>-16.381837</td>\n",
       "      <td>-16.050708</td>\n",
       "      <td>0.229589</td>\n",
       "    </tr>\n",
       "  </tbody>\n",
       "</table>\n",
       "</div>"
      ],
      "text/plain": [
       "   mean_fit_time  std_fit_time  mean_score_time  std_score_time  \\\n",
       "8     941.287449     51.040443         0.881778        0.152552   \n",
       "7     745.532212     45.683903         0.830474        0.121082   \n",
       "6     453.218586     14.400569         0.791260        0.241880   \n",
       "2     509.156617      5.583202         0.926475        0.033098   \n",
       "1     345.649088      3.450967         0.499538        0.060731   \n",
       "\n",
       "  param_regressor__max_depth param_regressor__max_features  \\\n",
       "8                         50                          sqrt   \n",
       "7                         50                          sqrt   \n",
       "6                         50                          sqrt   \n",
       "2                         30                          sqrt   \n",
       "1                         30                          sqrt   \n",
       "\n",
       "  param_regressor__n_estimators  \\\n",
       "8                           300   \n",
       "7                           200   \n",
       "6                           100   \n",
       "2                           300   \n",
       "1                           200   \n",
       "\n",
       "                                              params  split0_test_r2  \\\n",
       "8  {'regressor__max_depth': 50, 'regressor__max_f...        0.664314   \n",
       "7  {'regressor__max_depth': 50, 'regressor__max_f...        0.661307   \n",
       "6  {'regressor__max_depth': 50, 'regressor__max_f...        0.665342   \n",
       "2  {'regressor__max_depth': 30, 'regressor__max_f...        0.503201   \n",
       "1  {'regressor__max_depth': 30, 'regressor__max_f...        0.507538   \n",
       "\n",
       "   split1_test_r2  split2_test_r2  split3_test_r2  split4_test_r2  \\\n",
       "8        0.650244        0.660374        0.666355        0.645458   \n",
       "7        0.647791        0.650380        0.664927        0.646520   \n",
       "6        0.644574        0.642397        0.655363        0.646669   \n",
       "2        0.501734        0.508904        0.519444        0.482835   \n",
       "1        0.506961        0.500926        0.511295        0.484171   \n",
       "\n",
       "   mean_test_r2  std_test_r2  rank_test_r2  split0_train_r2  split1_train_r2  \\\n",
       "8      0.657349     0.008132             1         0.694691         0.701911   \n",
       "7      0.654185     0.007486             2         0.692608         0.700534   \n",
       "6      0.650869     0.008470             3         0.694705         0.698536   \n",
       "2      0.503224     0.011944             4         0.516711         0.540197   \n",
       "1      0.502178     0.009598             5         0.521048         0.546907   \n",
       "\n",
       "   split2_train_r2  split3_train_r2  split4_train_r2  mean_train_r2  \\\n",
       "8         0.699516         0.696953         0.685611       0.695736   \n",
       "7         0.689636         0.694739         0.686084       0.692721   \n",
       "6         0.681758         0.685689         0.684254       0.688988   \n",
       "2         0.535558         0.534247         0.506940       0.526731   \n",
       "1         0.527344         0.526094         0.508470       0.525972   \n",
       "\n",
       "   std_train_r2  split0_test_neg_mean_absolute_error  \\\n",
       "8      0.005612                           -13.669492   \n",
       "7      0.004872                           -13.676606   \n",
       "6      0.006472                           -13.529065   \n",
       "2      0.012711                           -16.371949   \n",
       "1      0.012415                           -16.304483   \n",
       "\n",
       "   split1_test_neg_mean_absolute_error  split2_test_neg_mean_absolute_error  \\\n",
       "8                           -13.575108                           -13.828692   \n",
       "7                           -13.592403                           -13.992817   \n",
       "6                           -13.628397                           -14.131717   \n",
       "2                           -15.941796                           -16.206049   \n",
       "1                           -15.788417                           -16.354720   \n",
       "\n",
       "   split3_test_neg_mean_absolute_error  split4_test_neg_mean_absolute_error  \\\n",
       "8                           -13.769835                           -13.679669   \n",
       "7                           -13.829713                           -13.681883   \n",
       "6                           -13.976208                           -13.701162   \n",
       "2                           -16.273266                           -16.234223   \n",
       "1                           -16.444602                           -16.224000   \n",
       "\n",
       "   mean_test_neg_mean_absolute_error  std_test_neg_mean_absolute_error  \\\n",
       "8                         -13.704559                          0.087495   \n",
       "7                         -13.754684                          0.141469   \n",
       "6                         -13.793310                          0.225159   \n",
       "2                         -16.205457                          0.143292   \n",
       "1                         -16.223244                          0.228893   \n",
       "\n",
       "   rank_test_neg_mean_absolute_error  split0_train_neg_mean_absolute_error  \\\n",
       "8                                  1                            -13.313460   \n",
       "7                                  2                            -13.322659   \n",
       "6                                  3                            -13.193995   \n",
       "2                                  4                            -16.205984   \n",
       "1                                  5                            -16.140115   \n",
       "\n",
       "   split1_train_neg_mean_absolute_error  split2_train_neg_mean_absolute_error  \\\n",
       "8                            -13.206884                            -13.295876   \n",
       "7                            -13.210732                            -13.465908   \n",
       "6                            -13.245186                            -13.603263   \n",
       "2                            -15.836274                            -15.913963   \n",
       "1                            -15.673330                            -16.064981   \n",
       "\n",
       "   split3_train_neg_mean_absolute_error  split4_train_neg_mean_absolute_error  \\\n",
       "8                            -13.213530                            -13.563373   \n",
       "7                            -13.278142                            -13.565728   \n",
       "6                            -13.414772                            -13.594688   \n",
       "2                            -15.825757                            -16.395396   \n",
       "1                            -15.993279                            -16.381837   \n",
       "\n",
       "   mean_train_neg_mean_absolute_error  std_train_neg_mean_absolute_error  \n",
       "8                          -13.318625                           0.129597  \n",
       "7                          -13.368634                           0.129262  \n",
       "6                          -13.410380                           0.170472  \n",
       "2                          -16.035475                           0.226735  \n",
       "1                          -16.050708                           0.229589  "
      ]
     },
     "execution_count": 89,
     "metadata": {},
     "output_type": "execute_result"
    }
   ],
   "source": [
    "df_resulats_mrfr = opt_result(mrfr_cv,'grid_search_mrfr')\n",
    "df_resulats_mrfr.head()"
   ]
  },
  {
   "cell_type": "markdown",
   "id": "8d61793b",
   "metadata": {},
   "source": [
    "## Entrainement et prédiction"
   ]
  },
  {
   "cell_type": "code",
   "execution_count": 90,
   "id": "65d40aac",
   "metadata": {},
   "outputs": [
    {
     "name": "stdout",
     "output_type": "stream",
     "text": [
      "Le temps total pour executer la tache vaut : 527.0\n"
     ]
    }
   ],
   "source": [
    "t0 = time.time()\n",
    "model_rfr = make_pipeline(preprocessor,\n",
    "    TransformedTargetRegressor(RandomForestRegressor(n_estimators =300 , max_depth =50 , max_features = 'sqrt', \n",
    "                                                                         random_state =5)))\n",
    "model_rfr.fit(X_train, y_train)\n",
    "print('Le temps total pour executer la tache vaut : {}'.format(np.round(time.time() - t0)))"
   ]
  },
  {
   "cell_type": "code",
   "execution_count": 91,
   "id": "c5b6b89a",
   "metadata": {},
   "outputs": [],
   "source": [
    "y_pred_rfr = model_rfr.predict(X_test)"
   ]
  },
  {
   "cell_type": "markdown",
   "id": "51183469",
   "metadata": {},
   "source": [
    "##  Comparaison: Valeurs réelles vs Valeurs prédictes"
   ]
  },
  {
   "cell_type": "code",
   "execution_count": 92,
   "id": "724ac77c",
   "metadata": {},
   "outputs": [
    {
     "data": {
      "text/html": [
       "<div>\n",
       "<style scoped>\n",
       "    .dataframe tbody tr th:only-of-type {\n",
       "        vertical-align: middle;\n",
       "    }\n",
       "\n",
       "    .dataframe tbody tr th {\n",
       "        vertical-align: top;\n",
       "    }\n",
       "\n",
       "    .dataframe thead th {\n",
       "        text-align: right;\n",
       "    }\n",
       "</style>\n",
       "<table border=\"1\" class=\"dataframe\">\n",
       "  <thead>\n",
       "    <tr style=\"text-align: right;\">\n",
       "      <th></th>\n",
       "      <th>Valeurs réelles</th>\n",
       "      <th>Valeurs prédictes</th>\n",
       "    </tr>\n",
       "  </thead>\n",
       "  <tbody>\n",
       "    <tr>\n",
       "      <th>0</th>\n",
       "      <td>197.0</td>\n",
       "      <td>203.692461</td>\n",
       "    </tr>\n",
       "    <tr>\n",
       "      <th>1</th>\n",
       "      <td>234.0</td>\n",
       "      <td>212.786304</td>\n",
       "    </tr>\n",
       "    <tr>\n",
       "      <th>2</th>\n",
       "      <td>162.0</td>\n",
       "      <td>179.088485</td>\n",
       "    </tr>\n",
       "    <tr>\n",
       "      <th>3</th>\n",
       "      <td>150.0</td>\n",
       "      <td>182.418480</td>\n",
       "    </tr>\n",
       "    <tr>\n",
       "      <th>4</th>\n",
       "      <td>189.0</td>\n",
       "      <td>203.692461</td>\n",
       "    </tr>\n",
       "  </tbody>\n",
       "</table>\n",
       "</div>"
      ],
      "text/plain": [
       "   Valeurs réelles  Valeurs prédictes\n",
       "0            197.0         203.692461\n",
       "1            234.0         212.786304\n",
       "2            162.0         179.088485\n",
       "3            150.0         182.418480\n",
       "4            189.0         203.692461"
      ]
     },
     "execution_count": 92,
     "metadata": {},
     "output_type": "execute_result"
    }
   ],
   "source": [
    "pd.DataFrame.from_dict({\"Valeurs réelles\": y_test.values.ravel(), 'Valeurs prédictes': y_pred_rfr}).head()"
   ]
  },
  {
   "cell_type": "markdown",
   "id": "36b9feb3",
   "metadata": {},
   "source": [
    "## Estimation d'erreurs"
   ]
  },
  {
   "cell_type": "code",
   "execution_count": 93,
   "id": "e1f87541",
   "metadata": {},
   "outputs": [
    {
     "name": "stdout",
     "output_type": "stream",
     "text": [
      "Le score R2 de performance sur le training set est: 0.68576;\n",
      "Le score R2 de performance sur le  test set est: 0.65496;\n",
      "La mean absolute error (MAE) est :14.0;\n",
      "La RMSE est :3.689;\n",
      "La median  absolute error est :9.0.\n"
     ]
    }
   ],
   "source": [
    "estimattion_erreur(y_pred_rfr,model_rfr )"
   ]
  },
  {
   "cell_type": "markdown",
   "id": "cfaee21f",
   "metadata": {},
   "source": [
    "##  Visualisation"
   ]
  },
  {
   "cell_type": "code",
   "execution_count": 94,
   "id": "b13e141e",
   "metadata": {},
   "outputs": [
    {
     "data": {
      "image/png": "[encoded data removed]",
      "text/plain": [
       "<Figure size 864x432 with 1 Axes>"
      ]
     },
     "metadata": {
      "needs_background": "light"
     },
     "output_type": "display_data"
    }
   ],
   "source": [
    "visualisation(y_pred_rfr, 'Random Forest Regressor' )"
   ]
  },
  {
   "cell_type": "markdown",
   "id": "37a37ec4",
   "metadata": {},
   "source": [
    "## Commentaires: \n",
    "Le modèle *RandomForestRegressor* s'est plus ou moins adapté à notre jeu de données avec une précision de prédiction de **66%** environ. \n",
    "Et en terme de valeurs absolue, nous constations des **erreurs de prédictions** à **4 pas prés**."
   ]
  },
  {
   "cell_type": "markdown",
   "id": "9a948b4a",
   "metadata": {},
   "source": [
    "## Featutes importances"
   ]
  },
  {
   "cell_type": "code",
   "execution_count": 95,
   "id": "ded8d584",
   "metadata": {},
   "outputs": [
    {
     "data": {
      "text/plain": [
       "array([1.04585186e-01, 1.11423822e-01, 2.83500495e-02, ...,\n",
       "       1.33481607e-05, 7.31778884e-07, 5.66248981e-03])"
      ]
     },
     "execution_count": 95,
     "metadata": {},
     "output_type": "execute_result"
    }
   ],
   "source": [
    "feature_importance_rfr = model_rfr.named_steps[\"transformedtargetregressor\"].regressor_.feature_importances_.flatten()\n",
    "feature_importance_rfr"
   ]
  },
  {
   "cell_type": "code",
   "execution_count": 96,
   "id": "244231cc",
   "metadata": {},
   "outputs": [
    {
     "data": {
      "text/html": [
       "<div>\n",
       "<style scoped>\n",
       "    .dataframe tbody tr th:only-of-type {\n",
       "        vertical-align: middle;\n",
       "    }\n",
       "\n",
       "    .dataframe tbody tr th {\n",
       "        vertical-align: top;\n",
       "    }\n",
       "\n",
       "    .dataframe thead th {\n",
       "        text-align: right;\n",
       "    }\n",
       "</style>\n",
       "<table border=\"1\" class=\"dataframe\">\n",
       "  <thead>\n",
       "    <tr style=\"text-align: right;\">\n",
       "      <th></th>\n",
       "      <th>importances</th>\n",
       "    </tr>\n",
       "  </thead>\n",
       "  <tbody>\n",
       "    <tr>\n",
       "      <th>pipeline-1__masse_ordma_max</th>\n",
       "      <td>0.111424</td>\n",
       "    </tr>\n",
       "    <tr>\n",
       "      <th>pipeline-1__masse_ordma_min</th>\n",
       "      <td>0.104585</td>\n",
       "    </tr>\n",
       "    <tr>\n",
       "      <th>onehotencoder__x5_MINIBUS</th>\n",
       "      <td>0.082279</td>\n",
       "    </tr>\n",
       "    <tr>\n",
       "      <th>onehotencoder__x5_BERLINE</th>\n",
       "      <td>0.062694</td>\n",
       "    </tr>\n",
       "    <tr>\n",
       "      <th>pipeline-1__Nb_rapp</th>\n",
       "      <td>0.028350</td>\n",
       "    </tr>\n",
       "    <tr>\n",
       "      <th>onehotencoder__x6_INFERIEURE</th>\n",
       "      <td>0.027801</td>\n",
       "    </tr>\n",
       "    <tr>\n",
       "      <th>onehotencoder__x4_190</th>\n",
       "      <td>0.024909</td>\n",
       "    </tr>\n",
       "    <tr>\n",
       "      <th>onehotencoder__x0_MERCEDES</th>\n",
       "      <td>0.023454</td>\n",
       "    </tr>\n",
       "    <tr>\n",
       "      <th>onehotencoder__x7_A</th>\n",
       "      <td>0.022407</td>\n",
       "    </tr>\n",
       "    <tr>\n",
       "      <th>onehotencoder__x2_ES</th>\n",
       "      <td>0.018990</td>\n",
       "    </tr>\n",
       "  </tbody>\n",
       "</table>\n",
       "</div>"
      ],
      "text/plain": [
       "                              importances\n",
       "pipeline-1__masse_ordma_max      0.111424\n",
       "pipeline-1__masse_ordma_min      0.104585\n",
       "onehotencoder__x5_MINIBUS        0.082279\n",
       "onehotencoder__x5_BERLINE        0.062694\n",
       "pipeline-1__Nb_rapp              0.028350\n",
       "onehotencoder__x6_INFERIEURE     0.027801\n",
       "onehotencoder__x4_190            0.024909\n",
       "onehotencoder__x0_MERCEDES       0.023454\n",
       "onehotencoder__x7_A              0.022407\n",
       "onehotencoder__x2_ES             0.018990"
      ]
     },
     "execution_count": 96,
     "metadata": {},
     "output_type": "execute_result"
    }
   ],
   "source": [
    "#Stockage dans un dataframe à la sortie et trie par ordre decroissant sur les importancesdf_\n",
    "df_rfr= pd.DataFrame(feature_importance_rfr,\n",
    "                          index=get_feature_names(preprocessor),\n",
    "                          columns=[\"importances\"]).sort_values(by = \"importances\", ascending =False)\n",
    "df_rfr = df_rfr.iloc[:10]\n",
    "df_rfr"
   ]
  },
  {
   "cell_type": "code",
   "execution_count": 97,
   "id": "ab13f5e3",
   "metadata": {},
   "outputs": [
    {
     "data": {
      "text/plain": [
       "0.0009556284509844346"
      ]
     },
     "execution_count": 97,
     "metadata": {},
     "output_type": "execute_result"
    }
   ],
   "source": [
    "std_rfr = np.std([tree for tree in model_rfr.named_steps[\"transformedtargetregressor\"].regressor_.feature_importances_])\n",
    "std_rfr"
   ]
  },
  {
   "cell_type": "code",
   "execution_count": 98,
   "id": "62406af1",
   "metadata": {},
   "outputs": [
    {
     "data": {
      "image/png": "[encoded data removed]",
      "text/plain": [
       "<Figure size 1008x432 with 1 Axes>"
      ]
     },
     "metadata": {
      "needs_background": "light"
     },
     "output_type": "display_data"
    }
   ],
   "source": [
    "fig, ax = plt.subplots(figsize =(14,6))\n",
    "df_rfr.plot.bar(yerr=std_rfr, ax=ax, color ='red')\n",
    "ax.set_title(\"Feature importances du modèle : Random Forest Regressor\", fontsize = 16)\n",
    "ax.set_ylabel(\"Diminution moyenne des impuretés\", fontsize = 12)\n",
    "plt.xticks(rotation =45)\n",
    "fig.tight_layout()"
   ]
  },
  {
   "cell_type": "markdown",
   "id": "d659c05a",
   "metadata": {},
   "source": [
    "# Commentaire :\n",
    "\n",
    "Les fonctionnanlité qui impacte plus l'emission de **CO2** sont **masse_ordina_max**, **masse_ordina_max**, **Minibus**, et **Berline**. "
   ]
  },
  {
   "cell_type": "markdown",
   "id": "a33a77c2",
   "metadata": {},
   "source": [
    "## <font color=\"red\" id=\"section_4_5\" > 4.5  Prediction de CO2: GradientBoostingRegressor\n",
    "  \n",
    "* Cet estimateur construit un **modèle additif** de manière **progressive**; il permet l'optimisation de **fonctions de perte** différentiables arbitraires. À chaque étape, un arbre de régression est ajusté sur le **gradient négatif** de la fonction de perte donnée. \n",
    "    \n",
    "\n",
    "    \n",
    "* Lien documentation = https://scikit-learn.org/stable/modules/generated/sklearn.ensemble.GradientBoostingRegressor.html"
   ]
  },
  {
   "cell_type": "markdown",
   "id": "fb40cd15",
   "metadata": {},
   "source": [
    "## Optimisation des hyperparamètres"
   ]
  },
  {
   "cell_type": "code",
   "execution_count": 99,
   "id": "6e90f097",
   "metadata": {},
   "outputs": [
    {
     "name": "stdout",
     "output_type": "stream",
     "text": [
      "Fitting 5 folds for each of 6 candidates, totalling 30 fits\n",
      "le temps total d'execution est: 14554.632640361786s\n"
     ]
    }
   ],
   "source": [
    "t0 = time.time()\n",
    "params_gbr = {'regressor__loss': ['squared_error', 'absolute_error', 'huber'],\n",
    "              'regressor__n_estimators':[100, 300]  \n",
    "                }\n",
    "mgbr_grid = GridSearchCV(TransformedTargetRegressor(regressor = GradientBoostingRegressor( max_features= 'auto',\n",
    "                                                                                          random_state = 5)),\n",
    "                        param_grid = params_gbr,\n",
    "                        cv= 5,\n",
    "                        scoring = ('r2', 'neg_mean_absolute_error'),\n",
    "                        refit= 'neg_mean_absolute_error',\n",
    "                         return_train_score = True,\n",
    "                         n_jobs = -1,\n",
    "                         verbose = 3\n",
    "                         \n",
    "                        )\n",
    "mgbr_cv = Pipeline([('preprocessor', preprocessor),\n",
    "                  ('mgbr_search_grid',mgbr_grid )\n",
    "                   ])\n",
    "mgbr_cv.fit(X_train, y_train)\n",
    "print(\"le temps total d'execution est: {}s\".format(time.time()-t0))"
   ]
  },
  {
   "cell_type": "markdown",
   "id": "2c24718b",
   "metadata": {},
   "source": [
    "## Affichage des résultats d'optimisation"
   ]
  },
  {
   "cell_type": "code",
   "execution_count": 100,
   "id": "8542bd92",
   "metadata": {},
   "outputs": [
    {
     "name": "stdout",
     "output_type": "stream",
     "text": [
      "Le meilleur score Nmae est:-9.97;\n",
      " Le meileur score R2: 0.8285; \n",
      " Le temps de fit moyen: 76748818.23; \n",
      "Les meilleurs paramètres :{'regressor__loss': 'huber', 'regressor__n_estimators': 300}\n"
     ]
    },
    {
     "data": {
      "text/html": [
       "<div>\n",
       "<style scoped>\n",
       "    .dataframe tbody tr th:only-of-type {\n",
       "        vertical-align: middle;\n",
       "    }\n",
       "\n",
       "    .dataframe tbody tr th {\n",
       "        vertical-align: top;\n",
       "    }\n",
       "\n",
       "    .dataframe thead th {\n",
       "        text-align: right;\n",
       "    }\n",
       "</style>\n",
       "<table border=\"1\" class=\"dataframe\">\n",
       "  <thead>\n",
       "    <tr style=\"text-align: right;\">\n",
       "      <th></th>\n",
       "      <th>mean_fit_time</th>\n",
       "      <th>std_fit_time</th>\n",
       "      <th>mean_score_time</th>\n",
       "      <th>std_score_time</th>\n",
       "      <th>param_regressor__loss</th>\n",
       "      <th>param_regressor__n_estimators</th>\n",
       "      <th>params</th>\n",
       "      <th>split0_test_r2</th>\n",
       "      <th>split1_test_r2</th>\n",
       "      <th>split2_test_r2</th>\n",
       "      <th>split3_test_r2</th>\n",
       "      <th>split4_test_r2</th>\n",
       "      <th>mean_test_r2</th>\n",
       "      <th>std_test_r2</th>\n",
       "      <th>rank_test_r2</th>\n",
       "      <th>split0_train_r2</th>\n",
       "      <th>split1_train_r2</th>\n",
       "      <th>split2_train_r2</th>\n",
       "      <th>split3_train_r2</th>\n",
       "      <th>split4_train_r2</th>\n",
       "      <th>mean_train_r2</th>\n",
       "      <th>std_train_r2</th>\n",
       "      <th>split0_test_neg_mean_absolute_error</th>\n",
       "      <th>split1_test_neg_mean_absolute_error</th>\n",
       "      <th>split2_test_neg_mean_absolute_error</th>\n",
       "      <th>split3_test_neg_mean_absolute_error</th>\n",
       "      <th>split4_test_neg_mean_absolute_error</th>\n",
       "      <th>mean_test_neg_mean_absolute_error</th>\n",
       "      <th>std_test_neg_mean_absolute_error</th>\n",
       "      <th>rank_test_neg_mean_absolute_error</th>\n",
       "      <th>split0_train_neg_mean_absolute_error</th>\n",
       "      <th>split1_train_neg_mean_absolute_error</th>\n",
       "      <th>split2_train_neg_mean_absolute_error</th>\n",
       "      <th>split3_train_neg_mean_absolute_error</th>\n",
       "      <th>split4_train_neg_mean_absolute_error</th>\n",
       "      <th>mean_train_neg_mean_absolute_error</th>\n",
       "      <th>std_train_neg_mean_absolute_error</th>\n",
       "    </tr>\n",
       "  </thead>\n",
       "  <tbody>\n",
       "    <tr>\n",
       "      <th>5</th>\n",
       "      <td>2717.093039</td>\n",
       "      <td>347.394719</td>\n",
       "      <td>0.185537</td>\n",
       "      <td>0.052635</td>\n",
       "      <td>huber</td>\n",
       "      <td>300</td>\n",
       "      <td>{'regressor__loss': 'huber', 'regressor__n_est...</td>\n",
       "      <td>0.834827</td>\n",
       "      <td>0.804344</td>\n",
       "      <td>0.820618</td>\n",
       "      <td>0.837988</td>\n",
       "      <td>0.811435</td>\n",
       "      <td>0.821842</td>\n",
       "      <td>0.013002</td>\n",
       "      <td>2</td>\n",
       "      <td>0.834506</td>\n",
       "      <td>0.837736</td>\n",
       "      <td>0.840418</td>\n",
       "      <td>0.836466</td>\n",
       "      <td>0.836108</td>\n",
       "      <td>0.837047</td>\n",
       "      <td>0.001976</td>\n",
       "      <td>-9.311496</td>\n",
       "      <td>-9.516264</td>\n",
       "      <td>-9.395370</td>\n",
       "      <td>-9.277399</td>\n",
       "      <td>-9.455192</td>\n",
       "      <td>-9.391144</td>\n",
       "      <td>0.088382</td>\n",
       "      <td>1</td>\n",
       "      <td>-9.274904</td>\n",
       "      <td>-9.177497</td>\n",
       "      <td>-9.156405</td>\n",
       "      <td>-9.213410</td>\n",
       "      <td>-9.202703</td>\n",
       "      <td>-9.204984</td>\n",
       "      <td>0.040201</td>\n",
       "    </tr>\n",
       "    <tr>\n",
       "      <th>1</th>\n",
       "      <td>2755.622594</td>\n",
       "      <td>109.046281</td>\n",
       "      <td>0.161811</td>\n",
       "      <td>0.029751</td>\n",
       "      <td>squared_error</td>\n",
       "      <td>300</td>\n",
       "      <td>{'regressor__loss': 'squared_error', 'regresso...</td>\n",
       "      <td>0.829726</td>\n",
       "      <td>0.823116</td>\n",
       "      <td>0.822765</td>\n",
       "      <td>0.838180</td>\n",
       "      <td>0.828655</td>\n",
       "      <td>0.828489</td>\n",
       "      <td>0.005605</td>\n",
       "      <td>1</td>\n",
       "      <td>0.855561</td>\n",
       "      <td>0.856614</td>\n",
       "      <td>0.856906</td>\n",
       "      <td>0.853022</td>\n",
       "      <td>0.857081</td>\n",
       "      <td>0.855837</td>\n",
       "      <td>0.001503</td>\n",
       "      <td>-9.743815</td>\n",
       "      <td>-9.798691</td>\n",
       "      <td>-9.846702</td>\n",
       "      <td>-9.691827</td>\n",
       "      <td>-9.723223</td>\n",
       "      <td>-9.760851</td>\n",
       "      <td>0.055268</td>\n",
       "      <td>2</td>\n",
       "      <td>-9.566866</td>\n",
       "      <td>-9.475669</td>\n",
       "      <td>-9.496115</td>\n",
       "      <td>-9.565198</td>\n",
       "      <td>-9.478957</td>\n",
       "      <td>-9.516561</td>\n",
       "      <td>0.040989</td>\n",
       "    </tr>\n",
       "    <tr>\n",
       "      <th>4</th>\n",
       "      <td>802.834828</td>\n",
       "      <td>0.453131</td>\n",
       "      <td>0.052205</td>\n",
       "      <td>0.008518</td>\n",
       "      <td>huber</td>\n",
       "      <td>100</td>\n",
       "      <td>{'regressor__loss': 'huber', 'regressor__n_est...</td>\n",
       "      <td>0.800413</td>\n",
       "      <td>0.768866</td>\n",
       "      <td>0.786383</td>\n",
       "      <td>0.804013</td>\n",
       "      <td>0.775388</td>\n",
       "      <td>0.787012</td>\n",
       "      <td>0.013663</td>\n",
       "      <td>4</td>\n",
       "      <td>0.791330</td>\n",
       "      <td>0.797885</td>\n",
       "      <td>0.790942</td>\n",
       "      <td>0.790804</td>\n",
       "      <td>0.794930</td>\n",
       "      <td>0.793178</td>\n",
       "      <td>0.002803</td>\n",
       "      <td>-9.818653</td>\n",
       "      <td>-10.050121</td>\n",
       "      <td>-9.919316</td>\n",
       "      <td>-9.796166</td>\n",
       "      <td>-9.979113</td>\n",
       "      <td>-9.912674</td>\n",
       "      <td>0.095670</td>\n",
       "      <td>3</td>\n",
       "      <td>-9.851624</td>\n",
       "      <td>-9.800838</td>\n",
       "      <td>-9.846911</td>\n",
       "      <td>-9.816679</td>\n",
       "      <td>-9.825083</td>\n",
       "      <td>-9.828227</td>\n",
       "      <td>0.018920</td>\n",
       "    </tr>\n",
       "  </tbody>\n",
       "</table>\n",
       "</div>"
      ],
      "text/plain": [
       "   mean_fit_time  std_fit_time  mean_score_time  std_score_time  \\\n",
       "5    2717.093039    347.394719         0.185537        0.052635   \n",
       "1    2755.622594    109.046281         0.161811        0.029751   \n",
       "4     802.834828      0.453131         0.052205        0.008518   \n",
       "\n",
       "  param_regressor__loss param_regressor__n_estimators  \\\n",
       "5                 huber                           300   \n",
       "1         squared_error                           300   \n",
       "4                 huber                           100   \n",
       "\n",
       "                                              params  split0_test_r2  \\\n",
       "5  {'regressor__loss': 'huber', 'regressor__n_est...        0.834827   \n",
       "1  {'regressor__loss': 'squared_error', 'regresso...        0.829726   \n",
       "4  {'regressor__loss': 'huber', 'regressor__n_est...        0.800413   \n",
       "\n",
       "   split1_test_r2  split2_test_r2  split3_test_r2  split4_test_r2  \\\n",
       "5        0.804344        0.820618        0.837988        0.811435   \n",
       "1        0.823116        0.822765        0.838180        0.828655   \n",
       "4        0.768866        0.786383        0.804013        0.775388   \n",
       "\n",
       "   mean_test_r2  std_test_r2  rank_test_r2  split0_train_r2  split1_train_r2  \\\n",
       "5      0.821842     0.013002             2         0.834506         0.837736   \n",
       "1      0.828489     0.005605             1         0.855561         0.856614   \n",
       "4      0.787012     0.013663             4         0.791330         0.797885   \n",
       "\n",
       "   split2_train_r2  split3_train_r2  split4_train_r2  mean_train_r2  \\\n",
       "5         0.840418         0.836466         0.836108       0.837047   \n",
       "1         0.856906         0.853022         0.857081       0.855837   \n",
       "4         0.790942         0.790804         0.794930       0.793178   \n",
       "\n",
       "   std_train_r2  split0_test_neg_mean_absolute_error  \\\n",
       "5      0.001976                            -9.311496   \n",
       "1      0.001503                            -9.743815   \n",
       "4      0.002803                            -9.818653   \n",
       "\n",
       "   split1_test_neg_mean_absolute_error  split2_test_neg_mean_absolute_error  \\\n",
       "5                            -9.516264                            -9.395370   \n",
       "1                            -9.798691                            -9.846702   \n",
       "4                           -10.050121                            -9.919316   \n",
       "\n",
       "   split3_test_neg_mean_absolute_error  split4_test_neg_mean_absolute_error  \\\n",
       "5                            -9.277399                            -9.455192   \n",
       "1                            -9.691827                            -9.723223   \n",
       "4                            -9.796166                            -9.979113   \n",
       "\n",
       "   mean_test_neg_mean_absolute_error  std_test_neg_mean_absolute_error  \\\n",
       "5                          -9.391144                          0.088382   \n",
       "1                          -9.760851                          0.055268   \n",
       "4                          -9.912674                          0.095670   \n",
       "\n",
       "   rank_test_neg_mean_absolute_error  split0_train_neg_mean_absolute_error  \\\n",
       "5                                  1                             -9.274904   \n",
       "1                                  2                             -9.566866   \n",
       "4                                  3                             -9.851624   \n",
       "\n",
       "   split1_train_neg_mean_absolute_error  split2_train_neg_mean_absolute_error  \\\n",
       "5                             -9.177497                             -9.156405   \n",
       "1                             -9.475669                             -9.496115   \n",
       "4                             -9.800838                             -9.846911   \n",
       "\n",
       "   split3_train_neg_mean_absolute_error  split4_train_neg_mean_absolute_error  \\\n",
       "5                             -9.213410                             -9.202703   \n",
       "1                             -9.565198                             -9.478957   \n",
       "4                             -9.816679                             -9.825083   \n",
       "\n",
       "   mean_train_neg_mean_absolute_error  std_train_neg_mean_absolute_error  \n",
       "5                           -9.204984                           0.040201  \n",
       "1                           -9.516561                           0.040989  \n",
       "4                           -9.828227                           0.018920  "
      ]
     },
     "execution_count": 100,
     "metadata": {},
     "output_type": "execute_result"
    }
   ],
   "source": [
    "resultats_mgbr = opt_result(mgbr_cv, 'mgbr_search_grid')\n",
    "resultats_mgbr.head(3)"
   ]
  },
  {
   "cell_type": "markdown",
   "id": "1b1b40b6",
   "metadata": {},
   "source": [
    "## Entrainement et Prediction"
   ]
  },
  {
   "cell_type": "code",
   "execution_count": 101,
   "id": "fc66ad64",
   "metadata": {},
   "outputs": [
    {
     "name": "stdout",
     "output_type": "stream",
     "text": [
      "Le temps total pour executer la tache vaut : 100.0s\n"
     ]
    }
   ],
   "source": [
    "t0 = time.time()\n",
    "model_gbr = make_pipeline(preprocessor,\n",
    "                          TransformedTargetRegressor(regressor = GradientBoostingRegressor(n_estimators=300 ,\n",
    "                                                        loss ='huber' , max_features = 'auto', random_state = 5))\n",
    "                                                              )\n",
    "model_gbr.fit(X_train, y_train)\n",
    "print('Le temps total pour executer la tache vaut : {}s'.format(np.round(time.time() - t0)))"
   ]
  },
  {
   "cell_type": "code",
   "execution_count": 102,
   "id": "f52ba057",
   "metadata": {},
   "outputs": [
    {
     "data": {
      "text/plain": [
       "array([204.19476789, 217.29142228, 157.1086232 , ..., 204.61731692,\n",
       "       260.42675522, 206.31277727])"
      ]
     },
     "execution_count": 102,
     "metadata": {},
     "output_type": "execute_result"
    }
   ],
   "source": [
    "y_pred_gbr = model_gbr.predict(X_test)\n",
    "y_pred_gbr"
   ]
  },
  {
   "cell_type": "markdown",
   "id": "1e45cbf7",
   "metadata": {},
   "source": [
    "## Comparaison valeurs réelles vs valeurs predictes"
   ]
  },
  {
   "cell_type": "code",
   "execution_count": 103,
   "id": "74a79a29",
   "metadata": {},
   "outputs": [
    {
     "data": {
      "text/html": [
       "<div>\n",
       "<style scoped>\n",
       "    .dataframe tbody tr th:only-of-type {\n",
       "        vertical-align: middle;\n",
       "    }\n",
       "\n",
       "    .dataframe tbody tr th {\n",
       "        vertical-align: top;\n",
       "    }\n",
       "\n",
       "    .dataframe thead th {\n",
       "        text-align: right;\n",
       "    }\n",
       "</style>\n",
       "<table border=\"1\" class=\"dataframe\">\n",
       "  <thead>\n",
       "    <tr style=\"text-align: right;\">\n",
       "      <th></th>\n",
       "      <th>Valeurs réelles</th>\n",
       "      <th>Valeurs predictes</th>\n",
       "    </tr>\n",
       "  </thead>\n",
       "  <tbody>\n",
       "    <tr>\n",
       "      <th>0</th>\n",
       "      <td>197.0</td>\n",
       "      <td>204.194768</td>\n",
       "    </tr>\n",
       "    <tr>\n",
       "      <th>1</th>\n",
       "      <td>234.0</td>\n",
       "      <td>217.291422</td>\n",
       "    </tr>\n",
       "    <tr>\n",
       "      <th>2</th>\n",
       "      <td>162.0</td>\n",
       "      <td>157.108623</td>\n",
       "    </tr>\n",
       "    <tr>\n",
       "      <th>3</th>\n",
       "      <td>150.0</td>\n",
       "      <td>161.017870</td>\n",
       "    </tr>\n",
       "    <tr>\n",
       "      <th>4</th>\n",
       "      <td>189.0</td>\n",
       "      <td>203.748599</td>\n",
       "    </tr>\n",
       "  </tbody>\n",
       "</table>\n",
       "</div>"
      ],
      "text/plain": [
       "   Valeurs réelles  Valeurs predictes\n",
       "0            197.0         204.194768\n",
       "1            234.0         217.291422\n",
       "2            162.0         157.108623\n",
       "3            150.0         161.017870\n",
       "4            189.0         203.748599"
      ]
     },
     "execution_count": 103,
     "metadata": {},
     "output_type": "execute_result"
    }
   ],
   "source": [
    "pd.DataFrame.from_dict({\"Valeurs réelles\": y_test.values.ravel(), \"Valeurs predictes\":y_pred_gbr }).head()"
   ]
  },
  {
   "cell_type": "markdown",
   "id": "14e06199",
   "metadata": {},
   "source": [
    "##  Estimation d'erreurs"
   ]
  },
  {
   "cell_type": "code",
   "execution_count": 104,
   "id": "9bbd7d68",
   "metadata": {},
   "outputs": [
    {
     "name": "stdout",
     "output_type": "stream",
     "text": [
      "Le score R2 de performance sur le training set est: 0.8365;\n",
      "Le score R2 de performance sur le  test set est: 0.83522;\n",
      "La mean absolute error (MAE) est :9.0;\n",
      "La RMSE est :3.043;\n",
      "La median  absolute error est :7.0.\n"
     ]
    }
   ],
   "source": [
    "estimattion_erreur(y_pred_gbr, model_gbr)"
   ]
  },
  {
   "cell_type": "markdown",
   "id": "a9711784",
   "metadata": {},
   "source": [
    "## Visualisation"
   ]
  },
  {
   "cell_type": "code",
   "execution_count": 105,
   "id": "714d2a10",
   "metadata": {},
   "outputs": [
    {
     "data": {
      "image/png": "[encoded data removed]",
      "text/plain": [
       "<Figure size 864x432 with 1 Axes>"
      ]
     },
     "metadata": {
      "needs_background": "light"
     },
     "output_type": "display_data"
    }
   ],
   "source": [
    "visualisation(y_pred_gbr, 'Gradient Boosting Regressor')"
   ]
  },
  {
   "cell_type": "markdown",
   "id": "6561d27f",
   "metadata": {},
   "source": [
    "## Commentaires:\n"
   ]
  },
  {
   "cell_type": "markdown",
   "id": "21c7973f",
   "metadata": {},
   "source": [
    "## Featutes importances"
   ]
  },
  {
   "cell_type": "code",
   "execution_count": 106,
   "id": "7d0e175d",
   "metadata": {},
   "outputs": [
    {
     "data": {
      "text/plain": [
       "array([7.21997353e-02, 5.93382854e-01, 3.80578631e-03, ...,\n",
       "       0.00000000e+00, 0.00000000e+00, 1.91202486e-04])"
      ]
     },
     "execution_count": 106,
     "metadata": {},
     "output_type": "execute_result"
    }
   ],
   "source": [
    "feature_importance = model_gbr.named_steps[\"transformedtargetregressor\"].regressor_.feature_importances_.flatten()\n",
    "feature_importance"
   ]
  },
  {
   "cell_type": "code",
   "execution_count": 107,
   "id": "23ebc767",
   "metadata": {},
   "outputs": [
    {
     "data": {
      "text/html": [
       "<div>\n",
       "<style scoped>\n",
       "    .dataframe tbody tr th:only-of-type {\n",
       "        vertical-align: middle;\n",
       "    }\n",
       "\n",
       "    .dataframe tbody tr th {\n",
       "        vertical-align: top;\n",
       "    }\n",
       "\n",
       "    .dataframe thead th {\n",
       "        text-align: right;\n",
       "    }\n",
       "</style>\n",
       "<table border=\"1\" class=\"dataframe\">\n",
       "  <thead>\n",
       "    <tr style=\"text-align: right;\">\n",
       "      <th></th>\n",
       "      <th>importances</th>\n",
       "    </tr>\n",
       "  </thead>\n",
       "  <tbody>\n",
       "    <tr>\n",
       "      <th>pipeline-1__masse_ordma_max</th>\n",
       "      <td>0.593383</td>\n",
       "    </tr>\n",
       "    <tr>\n",
       "      <th>onehotencoder__x2_ES</th>\n",
       "      <td>0.139215</td>\n",
       "    </tr>\n",
       "    <tr>\n",
       "      <th>pipeline-1__masse_ordma_min</th>\n",
       "      <td>0.072200</td>\n",
       "    </tr>\n",
       "    <tr>\n",
       "      <th>onehotencoder__x7_A</th>\n",
       "      <td>0.057326</td>\n",
       "    </tr>\n",
       "    <tr>\n",
       "      <th>onehotencoder__x4_140</th>\n",
       "      <td>0.026129</td>\n",
       "    </tr>\n",
       "    <tr>\n",
       "      <th>onehotencoder__x5_MINIBUS</th>\n",
       "      <td>0.020477</td>\n",
       "    </tr>\n",
       "    <tr>\n",
       "      <th>onehotencoder__x5_COUPE</th>\n",
       "      <td>0.014883</td>\n",
       "    </tr>\n",
       "    <tr>\n",
       "      <th>onehotencoder__x0_ASTON MARTIN</th>\n",
       "      <td>0.010970</td>\n",
       "    </tr>\n",
       "    <tr>\n",
       "      <th>onehotencoder__x4_190</th>\n",
       "      <td>0.009454</td>\n",
       "    </tr>\n",
       "    <tr>\n",
       "      <th>onehotencoder__x6_LUXE</th>\n",
       "      <td>0.006001</td>\n",
       "    </tr>\n",
       "  </tbody>\n",
       "</table>\n",
       "</div>"
      ],
      "text/plain": [
       "                                importances\n",
       "pipeline-1__masse_ordma_max        0.593383\n",
       "onehotencoder__x2_ES               0.139215\n",
       "pipeline-1__masse_ordma_min        0.072200\n",
       "onehotencoder__x7_A                0.057326\n",
       "onehotencoder__x4_140              0.026129\n",
       "onehotencoder__x5_MINIBUS          0.020477\n",
       "onehotencoder__x5_COUPE            0.014883\n",
       "onehotencoder__x0_ASTON MARTIN     0.010970\n",
       "onehotencoder__x4_190              0.009454\n",
       "onehotencoder__x6_LUXE             0.006001"
      ]
     },
     "execution_count": 107,
     "metadata": {},
     "output_type": "execute_result"
    }
   ],
   "source": [
    "#Stockage dans un dataframe à la sortie et trie par ordre decroissant sur les importancesdf_\n",
    "df_gbr= pd.DataFrame(feature_importance,\n",
    "                          index=get_feature_names(preprocessor),\n",
    "                          columns=[\"importances\"]).sort_values(by = \"importances\", ascending =False)\n",
    "df_gbr = df_gbr.iloc[:10]\n",
    "df_gbr"
   ]
  },
  {
   "cell_type": "code",
   "execution_count": 108,
   "id": "695cb722",
   "metadata": {},
   "outputs": [
    {
     "data": {
      "text/plain": [
       "0.0029351950152565216"
      ]
     },
     "execution_count": 108,
     "metadata": {},
     "output_type": "execute_result"
    }
   ],
   "source": [
    "std = np.std([tree for tree in model_gbr.named_steps[\"transformedtargetregressor\"].regressor_.feature_importances_])\n",
    "std"
   ]
  },
  {
   "cell_type": "code",
   "execution_count": 110,
   "id": "b4b332a1",
   "metadata": {},
   "outputs": [
    {
     "data": {
      "image/png": "[encoded data removed]",
      "text/plain": [
       "<Figure size 1008x432 with 1 Axes>"
      ]
     },
     "metadata": {
      "needs_background": "light"
     },
     "output_type": "display_data"
    }
   ],
   "source": [
    "fig, ax = plt.subplots(figsize =(14,6))\n",
    "df_gbr.plot.bar(yerr=std, ax=ax, color ='red')\n",
    "ax.set_title(\"Feature importances du modèle : GBRegressor\", fontsize = 14)\n",
    "ax.set_ylabel(\"Diminution moyenne des impuretés\", fontsize = 12)\n",
    "plt.xticks(rotation =80)\n",
    "fig.tight_layout()"
   ]
  },
  {
   "cell_type": "markdown",
   "id": "68ea9c4e",
   "metadata": {},
   "source": [
    "# Commentaire :\n",
    "\n",
    "Les fonctionnanlité qui impacte plus l'emission de **CO2** sont **masse_ordina_max** et  **ES (type de carburant : Essence)**. Ce qui semble être logique. "
   ]
  },
  {
   "cell_type": "markdown",
   "id": "181c25ca",
   "metadata": {},
   "source": [
    "## <font color=\"red\" id=\"section_4_6\" > 4.6  Prediction de CO2: XGBRegressor\n",
    "\n",
    "### XGBoost (comme eXtreme Gradient Boosting) \n",
    "**Le Boosting de Gradient est un algorithme d’apprentissage supervisé dont le principe et de combiner les résultats d’un ensemble de modèles plus simple et plus faibles afin de fournir une meilleur prédiction.**\n",
    "\n",
    "Pour décrire succinctement le principe, le l’algorithme travaille de manière séquentielle. Contrairement par exemple au Random Forest. cete façon de faire va le rendre plus lent bien sur mais il va surtout permettre à l’algorithme de s’améliorer par capitalisation par rapport aux exécutions précédentes. Il commence donc par construire un premier modèle qu’il va bien sur évaluer (on est bien sur de l’apprentissage supervisé). A partir de cette première évaluation, chaque individu va être alors pondérée en fonction de la performance de la prédiction. Etc.\n",
    "\n",
    "Lien documentation = https://xgboost.readthedocs.io/en/stable/python/examples/index.html"
   ]
  },
  {
   "cell_type": "code",
   "execution_count": 18,
   "id": "e2258670",
   "metadata": {},
   "outputs": [
    {
     "name": "stdout",
     "output_type": "stream",
     "text": [
      "Fitting 5 folds for each of 4 candidates, totalling 20 fits\n",
      "Le temps total pour executer la tache est: 339.7394666671753\n"
     ]
    }
   ],
   "source": [
    "t0 = time.time()\n",
    "params_xgb = {'regressor__learning_rate' : np.linspace(0, 1, 2),\n",
    "             #'regressor__max_depth': [4, 7, 10],\n",
    "             'regressor__n_estimators': [100, 300]}\n",
    "mxgbr_grid = GridSearchCV( TransformedTargetRegressor(regressor = XGBRegressor(max_depth = 15, random_state = 5)),\n",
    "                          param_grid = params_xgb,\n",
    "                          cv =  5,\n",
    "                          verbose =2,\n",
    "                          scoring = ('r2', 'neg_mean_absolute_error'),\n",
    "                         refit= 'neg_mean_absolute_error',\n",
    "                         return_train_score = True,\n",
    "                         n_jobs =-1)\n",
    "                         \n",
    "mgbr_cv = Pipeline([('preprocessor', preprocessor),\n",
    "                   ('mxgbr_search_grid',mxgbr_grid )\n",
    "                  ])\n",
    "mgbr_cv.fit(X_train, y_train)\n",
    "print(\"Le temps total pour executer la tache est: {}\".format(time.time() - t0))"
   ]
  },
  {
   "cell_type": "markdown",
   "id": "db9fe307",
   "metadata": {},
   "source": [
    "## Affichage des resultats d'optimisation"
   ]
  },
  {
   "cell_type": "code",
   "execution_count": 26,
   "id": "1acdd45e",
   "metadata": {},
   "outputs": [
    {
     "name": "stdout",
     "output_type": "stream",
     "text": [
      "Le meilleur score Nmae est:-104.79;\n",
      " Le meileur score R2: 0.8553; \n",
      " Le temps de fit moyen: 2313072.01; \n",
      "Les meilleurs paramètres :{'regressor__learning_rate': 1.0, 'regressor__n_estimators': 300}\n"
     ]
    },
    {
     "data": {
      "text/html": [
       "<div>\n",
       "<style scoped>\n",
       "    .dataframe tbody tr th:only-of-type {\n",
       "        vertical-align: middle;\n",
       "    }\n",
       "\n",
       "    .dataframe tbody tr th {\n",
       "        vertical-align: top;\n",
       "    }\n",
       "\n",
       "    .dataframe thead th {\n",
       "        text-align: right;\n",
       "    }\n",
       "</style>\n",
       "<table border=\"1\" class=\"dataframe\">\n",
       "  <thead>\n",
       "    <tr style=\"text-align: right;\">\n",
       "      <th></th>\n",
       "      <th>mean_fit_time</th>\n",
       "      <th>std_fit_time</th>\n",
       "      <th>mean_score_time</th>\n",
       "      <th>std_score_time</th>\n",
       "      <th>param_regressor__learning_rate</th>\n",
       "      <th>param_regressor__n_estimators</th>\n",
       "      <th>params</th>\n",
       "      <th>split0_test_r2</th>\n",
       "      <th>split1_test_r2</th>\n",
       "      <th>split2_test_r2</th>\n",
       "      <th>split3_test_r2</th>\n",
       "      <th>split4_test_r2</th>\n",
       "      <th>mean_test_r2</th>\n",
       "      <th>std_test_r2</th>\n",
       "      <th>rank_test_r2</th>\n",
       "      <th>split0_train_r2</th>\n",
       "      <th>split1_train_r2</th>\n",
       "      <th>split2_train_r2</th>\n",
       "      <th>split3_train_r2</th>\n",
       "      <th>split4_train_r2</th>\n",
       "      <th>mean_train_r2</th>\n",
       "      <th>std_train_r2</th>\n",
       "      <th>split0_test_neg_mean_absolute_error</th>\n",
       "      <th>split1_test_neg_mean_absolute_error</th>\n",
       "      <th>split2_test_neg_mean_absolute_error</th>\n",
       "      <th>split3_test_neg_mean_absolute_error</th>\n",
       "      <th>split4_test_neg_mean_absolute_error</th>\n",
       "      <th>mean_test_neg_mean_absolute_error</th>\n",
       "      <th>std_test_neg_mean_absolute_error</th>\n",
       "      <th>rank_test_neg_mean_absolute_error</th>\n",
       "      <th>split0_train_neg_mean_absolute_error</th>\n",
       "      <th>split1_train_neg_mean_absolute_error</th>\n",
       "      <th>split2_train_neg_mean_absolute_error</th>\n",
       "      <th>split3_train_neg_mean_absolute_error</th>\n",
       "      <th>split4_train_neg_mean_absolute_error</th>\n",
       "      <th>mean_train_neg_mean_absolute_error</th>\n",
       "      <th>std_train_neg_mean_absolute_error</th>\n",
       "    </tr>\n",
       "  </thead>\n",
       "  <tbody>\n",
       "    <tr>\n",
       "      <th>3</th>\n",
       "      <td>70.353321</td>\n",
       "      <td>9.675343</td>\n",
       "      <td>0.287034</td>\n",
       "      <td>0.026300</td>\n",
       "      <td>1.0</td>\n",
       "      <td>300</td>\n",
       "      <td>{'regressor__learning_rate': 1.0, 'regressor__...</td>\n",
       "      <td>0.864193</td>\n",
       "      <td>0.851995</td>\n",
       "      <td>0.847776</td>\n",
       "      <td>0.854384</td>\n",
       "      <td>0.856601</td>\n",
       "      <td>0.854990</td>\n",
       "      <td>0.005453</td>\n",
       "      <td>2</td>\n",
       "      <td>0.956977</td>\n",
       "      <td>0.956952</td>\n",
       "      <td>0.955845</td>\n",
       "      <td>0.956214</td>\n",
       "      <td>0.958061</td>\n",
       "      <td>0.956810</td>\n",
       "      <td>0.000762</td>\n",
       "      <td>-8.182154</td>\n",
       "      <td>-8.471536</td>\n",
       "      <td>-8.481390</td>\n",
       "      <td>-8.402639</td>\n",
       "      <td>-8.331344</td>\n",
       "      <td>-8.373812</td>\n",
       "      <td>0.109991</td>\n",
       "      <td>1</td>\n",
       "      <td>-5.681684</td>\n",
       "      <td>-5.724058</td>\n",
       "      <td>-5.812282</td>\n",
       "      <td>-5.754003</td>\n",
       "      <td>-5.650350</td>\n",
       "      <td>-5.724475</td>\n",
       "      <td>0.056405</td>\n",
       "    </tr>\n",
       "    <tr>\n",
       "      <th>2</th>\n",
       "      <td>28.672115</td>\n",
       "      <td>0.624590</td>\n",
       "      <td>0.124213</td>\n",
       "      <td>0.023815</td>\n",
       "      <td>1.0</td>\n",
       "      <td>100</td>\n",
       "      <td>{'regressor__learning_rate': 1.0, 'regressor__...</td>\n",
       "      <td>0.864387</td>\n",
       "      <td>0.852500</td>\n",
       "      <td>0.848629</td>\n",
       "      <td>0.854205</td>\n",
       "      <td>0.856898</td>\n",
       "      <td>0.855324</td>\n",
       "      <td>0.005266</td>\n",
       "      <td>1</td>\n",
       "      <td>0.933966</td>\n",
       "      <td>0.936195</td>\n",
       "      <td>0.934940</td>\n",
       "      <td>0.934378</td>\n",
       "      <td>0.938034</td>\n",
       "      <td>0.935502</td>\n",
       "      <td>0.001472</td>\n",
       "      <td>-8.310721</td>\n",
       "      <td>-8.540754</td>\n",
       "      <td>-8.582397</td>\n",
       "      <td>-8.525748</td>\n",
       "      <td>-8.432869</td>\n",
       "      <td>-8.478498</td>\n",
       "      <td>0.097092</td>\n",
       "      <td>2</td>\n",
       "      <td>-6.801376</td>\n",
       "      <td>-6.690806</td>\n",
       "      <td>-6.803061</td>\n",
       "      <td>-6.792497</td>\n",
       "      <td>-6.633159</td>\n",
       "      <td>-6.744179</td>\n",
       "      <td>0.069638</td>\n",
       "    </tr>\n",
       "    <tr>\n",
       "      <th>0</th>\n",
       "      <td>28.021013</td>\n",
       "      <td>1.962470</td>\n",
       "      <td>0.070205</td>\n",
       "      <td>0.007985</td>\n",
       "      <td>0.0</td>\n",
       "      <td>100</td>\n",
       "      <td>{'regressor__learning_rate': 0.0, 'regressor__...</td>\n",
       "      <td>-34.653875</td>\n",
       "      <td>-34.404935</td>\n",
       "      <td>-34.539150</td>\n",
       "      <td>-33.945615</td>\n",
       "      <td>-35.173816</td>\n",
       "      <td>-34.543478</td>\n",
       "      <td>0.396526</td>\n",
       "      <td>3</td>\n",
       "      <td>-34.508861</td>\n",
       "      <td>-34.572287</td>\n",
       "      <td>-34.537804</td>\n",
       "      <td>-34.689320</td>\n",
       "      <td>-34.382315</td>\n",
       "      <td>-34.538117</td>\n",
       "      <td>0.099157</td>\n",
       "      <td>-201.142135</td>\n",
       "      <td>-201.490839</td>\n",
       "      <td>-200.959715</td>\n",
       "      <td>-200.863774</td>\n",
       "      <td>-201.358549</td>\n",
       "      <td>-201.163002</td>\n",
       "      <td>0.235378</td>\n",
       "      <td>3</td>\n",
       "      <td>-201.168228</td>\n",
       "      <td>-201.081045</td>\n",
       "      <td>-201.213830</td>\n",
       "      <td>-201.237814</td>\n",
       "      <td>-201.114127</td>\n",
       "      <td>-201.163009</td>\n",
       "      <td>0.058844</td>\n",
       "    </tr>\n",
       "    <tr>\n",
       "      <th>1</th>\n",
       "      <td>83.127738</td>\n",
       "      <td>8.464056</td>\n",
       "      <td>0.395832</td>\n",
       "      <td>0.104608</td>\n",
       "      <td>0.0</td>\n",
       "      <td>300</td>\n",
       "      <td>{'regressor__learning_rate': 0.0, 'regressor__...</td>\n",
       "      <td>-34.653875</td>\n",
       "      <td>-34.404935</td>\n",
       "      <td>-34.539150</td>\n",
       "      <td>-33.945615</td>\n",
       "      <td>-35.173816</td>\n",
       "      <td>-34.543478</td>\n",
       "      <td>0.396526</td>\n",
       "      <td>3</td>\n",
       "      <td>-34.508861</td>\n",
       "      <td>-34.572287</td>\n",
       "      <td>-34.537804</td>\n",
       "      <td>-34.689320</td>\n",
       "      <td>-34.382315</td>\n",
       "      <td>-34.538117</td>\n",
       "      <td>0.099157</td>\n",
       "      <td>-201.142135</td>\n",
       "      <td>-201.490839</td>\n",
       "      <td>-200.959715</td>\n",
       "      <td>-200.863774</td>\n",
       "      <td>-201.358549</td>\n",
       "      <td>-201.163002</td>\n",
       "      <td>0.235378</td>\n",
       "      <td>3</td>\n",
       "      <td>-201.168228</td>\n",
       "      <td>-201.081045</td>\n",
       "      <td>-201.213830</td>\n",
       "      <td>-201.237814</td>\n",
       "      <td>-201.114127</td>\n",
       "      <td>-201.163009</td>\n",
       "      <td>0.058844</td>\n",
       "    </tr>\n",
       "  </tbody>\n",
       "</table>\n",
       "</div>"
      ],
      "text/plain": [
       "   mean_fit_time  std_fit_time  mean_score_time  std_score_time  \\\n",
       "3      70.353321      9.675343         0.287034        0.026300   \n",
       "2      28.672115      0.624590         0.124213        0.023815   \n",
       "0      28.021013      1.962470         0.070205        0.007985   \n",
       "1      83.127738      8.464056         0.395832        0.104608   \n",
       "\n",
       "  param_regressor__learning_rate param_regressor__n_estimators  \\\n",
       "3                            1.0                           300   \n",
       "2                            1.0                           100   \n",
       "0                            0.0                           100   \n",
       "1                            0.0                           300   \n",
       "\n",
       "                                              params  split0_test_r2  \\\n",
       "3  {'regressor__learning_rate': 1.0, 'regressor__...        0.864193   \n",
       "2  {'regressor__learning_rate': 1.0, 'regressor__...        0.864387   \n",
       "0  {'regressor__learning_rate': 0.0, 'regressor__...      -34.653875   \n",
       "1  {'regressor__learning_rate': 0.0, 'regressor__...      -34.653875   \n",
       "\n",
       "   split1_test_r2  split2_test_r2  split3_test_r2  split4_test_r2  \\\n",
       "3        0.851995        0.847776        0.854384        0.856601   \n",
       "2        0.852500        0.848629        0.854205        0.856898   \n",
       "0      -34.404935      -34.539150      -33.945615      -35.173816   \n",
       "1      -34.404935      -34.539150      -33.945615      -35.173816   \n",
       "\n",
       "   mean_test_r2  std_test_r2  rank_test_r2  split0_train_r2  split1_train_r2  \\\n",
       "3      0.854990     0.005453             2         0.956977         0.956952   \n",
       "2      0.855324     0.005266             1         0.933966         0.936195   \n",
       "0    -34.543478     0.396526             3       -34.508861       -34.572287   \n",
       "1    -34.543478     0.396526             3       -34.508861       -34.572287   \n",
       "\n",
       "   split2_train_r2  split3_train_r2  split4_train_r2  mean_train_r2  \\\n",
       "3         0.955845         0.956214         0.958061       0.956810   \n",
       "2         0.934940         0.934378         0.938034       0.935502   \n",
       "0       -34.537804       -34.689320       -34.382315     -34.538117   \n",
       "1       -34.537804       -34.689320       -34.382315     -34.538117   \n",
       "\n",
       "   std_train_r2  split0_test_neg_mean_absolute_error  \\\n",
       "3      0.000762                            -8.182154   \n",
       "2      0.001472                            -8.310721   \n",
       "0      0.099157                          -201.142135   \n",
       "1      0.099157                          -201.142135   \n",
       "\n",
       "   split1_test_neg_mean_absolute_error  split2_test_neg_mean_absolute_error  \\\n",
       "3                            -8.471536                            -8.481390   \n",
       "2                            -8.540754                            -8.582397   \n",
       "0                          -201.490839                          -200.959715   \n",
       "1                          -201.490839                          -200.959715   \n",
       "\n",
       "   split3_test_neg_mean_absolute_error  split4_test_neg_mean_absolute_error  \\\n",
       "3                            -8.402639                            -8.331344   \n",
       "2                            -8.525748                            -8.432869   \n",
       "0                          -200.863774                          -201.358549   \n",
       "1                          -200.863774                          -201.358549   \n",
       "\n",
       "   mean_test_neg_mean_absolute_error  std_test_neg_mean_absolute_error  \\\n",
       "3                          -8.373812                          0.109991   \n",
       "2                          -8.478498                          0.097092   \n",
       "0                        -201.163002                          0.235378   \n",
       "1                        -201.163002                          0.235378   \n",
       "\n",
       "   rank_test_neg_mean_absolute_error  split0_train_neg_mean_absolute_error  \\\n",
       "3                                  1                             -5.681684   \n",
       "2                                  2                             -6.801376   \n",
       "0                                  3                           -201.168228   \n",
       "1                                  3                           -201.168228   \n",
       "\n",
       "   split1_train_neg_mean_absolute_error  split2_train_neg_mean_absolute_error  \\\n",
       "3                             -5.724058                             -5.812282   \n",
       "2                             -6.690806                             -6.803061   \n",
       "0                           -201.081045                           -201.213830   \n",
       "1                           -201.081045                           -201.213830   \n",
       "\n",
       "   split3_train_neg_mean_absolute_error  split4_train_neg_mean_absolute_error  \\\n",
       "3                             -5.754003                             -5.650350   \n",
       "2                             -6.792497                             -6.633159   \n",
       "0                           -201.237814                           -201.114127   \n",
       "1                           -201.237814                           -201.114127   \n",
       "\n",
       "   mean_train_neg_mean_absolute_error  std_train_neg_mean_absolute_error  \n",
       "3                           -5.724475                           0.056405  \n",
       "2                           -6.744179                           0.069638  \n",
       "0                         -201.163009                           0.058844  \n",
       "1                         -201.163009                           0.058844  "
      ]
     },
     "execution_count": 26,
     "metadata": {},
     "output_type": "execute_result"
    }
   ],
   "source": [
    "df_resulats_mxgbr = opt_result(mgbr_cv, 'mxgbr_search_grid' )\n",
    "df_resulats_mxgbr.head()"
   ]
  },
  {
   "cell_type": "markdown",
   "id": "d4aa0f98",
   "metadata": {},
   "source": [
    "## Entrainement et prédiction"
   ]
  },
  {
   "cell_type": "code",
   "execution_count": 29,
   "id": "d9dfa36d",
   "metadata": {},
   "outputs": [
    {
     "data": {
      "text/html": [
       "<style>#sk-container-id-1 {color: black;background-color: white;}#sk-container-id-1 pre{padding: 0;}#sk-container-id-1 div.sk-toggleable {background-color: white;}#sk-container-id-1 label.sk-toggleable__label {cursor: pointer;display: block;width: 100%;margin-bottom: 0;padding: 0.3em;box-sizing: border-box;text-align: center;}#sk-container-id-1 label.sk-toggleable__label-arrow:before {content: \"▸\";float: left;margin-right: 0.25em;color: #696969;}#sk-container-id-1 label.sk-toggleable__label-arrow:hover:before {color: black;}#sk-container-id-1 div.sk-estimator:hover label.sk-toggleable__label-arrow:before {color: black;}#sk-container-id-1 div.sk-toggleable__content {max-height: 0;max-width: 0;overflow: hidden;text-align: left;background-color: #f0f8ff;}#sk-container-id-1 div.sk-toggleable__content pre {margin: 0.2em;color: black;border-radius: 0.25em;background-color: #f0f8ff;}#sk-container-id-1 input.sk-toggleable__control:checked~div.sk-toggleable__content {max-height: 200px;max-width: 100%;overflow: auto;}#sk-container-id-1 input.sk-toggleable__control:checked~label.sk-toggleable__label-arrow:before {content: \"▾\";}#sk-container-id-1 div.sk-estimator input.sk-toggleable__control:checked~label.sk-toggleable__label {background-color: #d4ebff;}#sk-container-id-1 div.sk-label input.sk-toggleable__control:checked~label.sk-toggleable__label {background-color: #d4ebff;}#sk-container-id-1 input.sk-hidden--visually {border: 0;clip: rect(1px 1px 1px 1px);clip: rect(1px, 1px, 1px, 1px);height: 1px;margin: -1px;overflow: hidden;padding: 0;position: absolute;width: 1px;}#sk-container-id-1 div.sk-estimator {font-family: monospace;background-color: #f0f8ff;border: 1px dotted black;border-radius: 0.25em;box-sizing: border-box;margin-bottom: 0.5em;}#sk-container-id-1 div.sk-estimator:hover {background-color: #d4ebff;}#sk-container-id-1 div.sk-parallel-item::after {content: \"\";width: 100%;border-bottom: 1px solid gray;flex-grow: 1;}#sk-container-id-1 div.sk-label:hover label.sk-toggleable__label {background-color: #d4ebff;}#sk-container-id-1 div.sk-serial::before {content: \"\";position: absolute;border-left: 1px solid gray;box-sizing: border-box;top: 0;bottom: 0;left: 50%;z-index: 0;}#sk-container-id-1 div.sk-serial {display: flex;flex-direction: column;align-items: center;background-color: white;padding-right: 0.2em;padding-left: 0.2em;position: relative;}#sk-container-id-1 div.sk-item {position: relative;z-index: 1;}#sk-container-id-1 div.sk-parallel {display: flex;align-items: stretch;justify-content: center;background-color: white;position: relative;}#sk-container-id-1 div.sk-item::before, #sk-container-id-1 div.sk-parallel-item::before {content: \"\";position: absolute;border-left: 1px solid gray;box-sizing: border-box;top: 0;bottom: 0;left: 50%;z-index: -1;}#sk-container-id-1 div.sk-parallel-item {display: flex;flex-direction: column;z-index: 1;position: relative;background-color: white;}#sk-container-id-1 div.sk-parallel-item:first-child::after {align-self: flex-end;width: 50%;}#sk-container-id-1 div.sk-parallel-item:last-child::after {align-self: flex-start;width: 50%;}#sk-container-id-1 div.sk-parallel-item:only-child::after {width: 0;}#sk-container-id-1 div.sk-dashed-wrapped {border: 1px dashed gray;margin: 0 0.4em 0.5em 0.4em;box-sizing: border-box;padding-bottom: 0.4em;background-color: white;}#sk-container-id-1 div.sk-label label {font-family: monospace;font-weight: bold;display: inline-block;line-height: 1.2em;}#sk-container-id-1 div.sk-label-container {text-align: center;}#sk-container-id-1 div.sk-container {/* jupyter's `normalize.less` sets `[hidden] { display: none; }` but bootstrap.min.css set `[hidden] { display: none !important; }` so we also need the `!important` here to be able to override the default hidden behavior on the sphinx rendered scikit-learn.org. See: https://github.com/scikit-learn/scikit-learn/issues/21755 */display: inline-block !important;position: relative;}#sk-container-id-1 div.sk-text-repr-fallback {display: none;}</style><div id=\"sk-container-id-1\" class=\"sk-top-container\"><div class=\"sk-text-repr-fallback\"><pre>Pipeline(steps=[(&#x27;columntransformer&#x27;,\n",
       "                 ColumnTransformer(remainder=&#x27;passthrough&#x27;,\n",
       "                                   transformers=[(&#x27;pipeline-1&#x27;,\n",
       "                                                  Pipeline(steps=[(&#x27;standardscaler&#x27;,\n",
       "                                                                   StandardScaler())]),\n",
       "                                                  [&#x27;masse_ordma_min&#x27;,\n",
       "                                                   &#x27;masse_ordma_max&#x27;,\n",
       "                                                   &#x27;Nb_rapp&#x27;]),\n",
       "                                                 (&#x27;pipeline-2&#x27;,\n",
       "                                                  Pipeline(steps=[(&#x27;onehotencoder&#x27;,\n",
       "                                                                   OneHotEncoder(handle_unknown=&#x27;ignore&#x27;))]),\n",
       "                                                  [&#x27;lib_mrq&#x27;, &#x27;cnit&#x27;, &#x27;cod_cbr&#x27;,\n",
       "                                                   &#x27;hybride&#x27;, &#x27;puiss_max&#x27;,\n",
       "                                                   &#x27;...\n",
       "                                                                   gpu_id=None,\n",
       "                                                                   grow_policy=None,\n",
       "                                                                   importance_type=None,\n",
       "                                                                   interaction_constraints=None,\n",
       "                                                                   learning_rate=1,\n",
       "                                                                   max_bin=None,\n",
       "                                                                   max_cat_threshold=None,\n",
       "                                                                   max_cat_to_onehot=None,\n",
       "                                                                   max_delta_step=None,\n",
       "                                                                   max_depth=15,\n",
       "                                                                   max_leaves=None,\n",
       "                                                                   min_child_weight=None,\n",
       "                                                                   missing=nan,\n",
       "                                                                   monotone_constraints=None,\n",
       "                                                                   n_estimators=300,\n",
       "                                                                   n_jobs=None,\n",
       "                                                                   num_parallel_tree=None,\n",
       "                                                                   predictor=None,\n",
       "                                                                   random_state=None, ...)))])</pre><b>In a Jupyter environment, please rerun this cell to show the HTML representation or trust the notebook. <br />On GitHub, the HTML representation is unable to render, please try loading this page with nbviewer.org.</b></div><div class=\"sk-container\" hidden><div class=\"sk-item sk-dashed-wrapped\"><div class=\"sk-label-container\"><div class=\"sk-label sk-toggleable\"><input class=\"sk-toggleable__control sk-hidden--visually\" id=\"sk-estimator-id-1\" type=\"checkbox\" ><label for=\"sk-estimator-id-1\" class=\"sk-toggleable__label sk-toggleable__label-arrow\">Pipeline</label><div class=\"sk-toggleable__content\"><pre>Pipeline(steps=[(&#x27;columntransformer&#x27;,\n",
       "                 ColumnTransformer(remainder=&#x27;passthrough&#x27;,\n",
       "                                   transformers=[(&#x27;pipeline-1&#x27;,\n",
       "                                                  Pipeline(steps=[(&#x27;standardscaler&#x27;,\n",
       "                                                                   StandardScaler())]),\n",
       "                                                  [&#x27;masse_ordma_min&#x27;,\n",
       "                                                   &#x27;masse_ordma_max&#x27;,\n",
       "                                                   &#x27;Nb_rapp&#x27;]),\n",
       "                                                 (&#x27;pipeline-2&#x27;,\n",
       "                                                  Pipeline(steps=[(&#x27;onehotencoder&#x27;,\n",
       "                                                                   OneHotEncoder(handle_unknown=&#x27;ignore&#x27;))]),\n",
       "                                                  [&#x27;lib_mrq&#x27;, &#x27;cnit&#x27;, &#x27;cod_cbr&#x27;,\n",
       "                                                   &#x27;hybride&#x27;, &#x27;puiss_max&#x27;,\n",
       "                                                   &#x27;...\n",
       "                                                                   gpu_id=None,\n",
       "                                                                   grow_policy=None,\n",
       "                                                                   importance_type=None,\n",
       "                                                                   interaction_constraints=None,\n",
       "                                                                   learning_rate=1,\n",
       "                                                                   max_bin=None,\n",
       "                                                                   max_cat_threshold=None,\n",
       "                                                                   max_cat_to_onehot=None,\n",
       "                                                                   max_delta_step=None,\n",
       "                                                                   max_depth=15,\n",
       "                                                                   max_leaves=None,\n",
       "                                                                   min_child_weight=None,\n",
       "                                                                   missing=nan,\n",
       "                                                                   monotone_constraints=None,\n",
       "                                                                   n_estimators=300,\n",
       "                                                                   n_jobs=None,\n",
       "                                                                   num_parallel_tree=None,\n",
       "                                                                   predictor=None,\n",
       "                                                                   random_state=None, ...)))])</pre></div></div></div><div class=\"sk-serial\"><div class=\"sk-item sk-dashed-wrapped\"><div class=\"sk-label-container\"><div class=\"sk-label sk-toggleable\"><input class=\"sk-toggleable__control sk-hidden--visually\" id=\"sk-estimator-id-2\" type=\"checkbox\" ><label for=\"sk-estimator-id-2\" class=\"sk-toggleable__label sk-toggleable__label-arrow\">columntransformer: ColumnTransformer</label><div class=\"sk-toggleable__content\"><pre>ColumnTransformer(remainder=&#x27;passthrough&#x27;,\n",
       "                  transformers=[(&#x27;pipeline-1&#x27;,\n",
       "                                 Pipeline(steps=[(&#x27;standardscaler&#x27;,\n",
       "                                                  StandardScaler())]),\n",
       "                                 [&#x27;masse_ordma_min&#x27;, &#x27;masse_ordma_max&#x27;,\n",
       "                                  &#x27;Nb_rapp&#x27;]),\n",
       "                                (&#x27;pipeline-2&#x27;,\n",
       "                                 Pipeline(steps=[(&#x27;onehotencoder&#x27;,\n",
       "                                                  OneHotEncoder(handle_unknown=&#x27;ignore&#x27;))]),\n",
       "                                 [&#x27;lib_mrq&#x27;, &#x27;cnit&#x27;, &#x27;cod_cbr&#x27;, &#x27;hybride&#x27;,\n",
       "                                  &#x27;puiss_max&#x27;, &#x27;Carrosserie&#x27;, &#x27;gamme&#x27;,\n",
       "                                  &#x27;Type_boite&#x27;])])</pre></div></div></div><div class=\"sk-parallel\"><div class=\"sk-parallel-item\"><div class=\"sk-item\"><div class=\"sk-label-container\"><div class=\"sk-label sk-toggleable\"><input class=\"sk-toggleable__control sk-hidden--visually\" id=\"sk-estimator-id-3\" type=\"checkbox\" ><label for=\"sk-estimator-id-3\" class=\"sk-toggleable__label sk-toggleable__label-arrow\">pipeline-1</label><div class=\"sk-toggleable__content\"><pre>[&#x27;masse_ordma_min&#x27;, &#x27;masse_ordma_max&#x27;, &#x27;Nb_rapp&#x27;]</pre></div></div></div><div class=\"sk-serial\"><div class=\"sk-item\"><div class=\"sk-serial\"><div class=\"sk-item\"><div class=\"sk-estimator sk-toggleable\"><input class=\"sk-toggleable__control sk-hidden--visually\" id=\"sk-estimator-id-4\" type=\"checkbox\" ><label for=\"sk-estimator-id-4\" class=\"sk-toggleable__label sk-toggleable__label-arrow\">StandardScaler</label><div class=\"sk-toggleable__content\"><pre>StandardScaler()</pre></div></div></div></div></div></div></div></div><div class=\"sk-parallel-item\"><div class=\"sk-item\"><div class=\"sk-label-container\"><div class=\"sk-label sk-toggleable\"><input class=\"sk-toggleable__control sk-hidden--visually\" id=\"sk-estimator-id-5\" type=\"checkbox\" ><label for=\"sk-estimator-id-5\" class=\"sk-toggleable__label sk-toggleable__label-arrow\">pipeline-2</label><div class=\"sk-toggleable__content\"><pre>[&#x27;lib_mrq&#x27;, &#x27;cnit&#x27;, &#x27;cod_cbr&#x27;, &#x27;hybride&#x27;, &#x27;puiss_max&#x27;, &#x27;Carrosserie&#x27;, &#x27;gamme&#x27;, &#x27;Type_boite&#x27;]</pre></div></div></div><div class=\"sk-serial\"><div class=\"sk-item\"><div class=\"sk-serial\"><div class=\"sk-item\"><div class=\"sk-estimator sk-toggleable\"><input class=\"sk-toggleable__control sk-hidden--visually\" id=\"sk-estimator-id-6\" type=\"checkbox\" ><label for=\"sk-estimator-id-6\" class=\"sk-toggleable__label sk-toggleable__label-arrow\">OneHotEncoder</label><div class=\"sk-toggleable__content\"><pre>OneHotEncoder(handle_unknown=&#x27;ignore&#x27;)</pre></div></div></div></div></div></div></div></div><div class=\"sk-parallel-item\"><div class=\"sk-item\"><div class=\"sk-label-container\"><div class=\"sk-label sk-toggleable\"><input class=\"sk-toggleable__control sk-hidden--visually\" id=\"sk-estimator-id-7\" type=\"checkbox\" ><label for=\"sk-estimator-id-7\" class=\"sk-toggleable__label sk-toggleable__label-arrow\">remainder</label><div class=\"sk-toggleable__content\"><pre>[]</pre></div></div></div><div class=\"sk-serial\"><div class=\"sk-item\"><div class=\"sk-estimator sk-toggleable\"><input class=\"sk-toggleable__control sk-hidden--visually\" id=\"sk-estimator-id-8\" type=\"checkbox\" ><label for=\"sk-estimator-id-8\" class=\"sk-toggleable__label sk-toggleable__label-arrow\">passthrough</label><div class=\"sk-toggleable__content\"><pre>passthrough</pre></div></div></div></div></div></div></div></div><div class=\"sk-item sk-dashed-wrapped\"><div class=\"sk-label-container\"><div class=\"sk-label sk-toggleable\"><input class=\"sk-toggleable__control sk-hidden--visually\" id=\"sk-estimator-id-9\" type=\"checkbox\" ><label for=\"sk-estimator-id-9\" class=\"sk-toggleable__label sk-toggleable__label-arrow\">transformedtargetregressor: TransformedTargetRegressor</label><div class=\"sk-toggleable__content\"><pre>TransformedTargetRegressor(regressor=XGBRegressor(base_score=None, booster=None,\n",
       "                                                  callbacks=None,\n",
       "                                                  colsample_bylevel=None,\n",
       "                                                  colsample_bynode=None,\n",
       "                                                  colsample_bytree=None,\n",
       "                                                  early_stopping_rounds=None,\n",
       "                                                  enable_categorical=False,\n",
       "                                                  eval_metric=None,\n",
       "                                                  feature_types=None,\n",
       "                                                  gamma=None, gpu_id=None,\n",
       "                                                  grow_policy=None,\n",
       "                                                  importance_type=None,\n",
       "                                                  interaction_constraints=None,\n",
       "                                                  learning_rate=1, max_bin=None,\n",
       "                                                  max_cat_threshold=None,\n",
       "                                                  max_cat_to_onehot=None,\n",
       "                                                  max_delta_step=None,\n",
       "                                                  max_depth=15, max_leaves=None,\n",
       "                                                  min_child_weight=None,\n",
       "                                                  missing=nan,\n",
       "                                                  monotone_constraints=None,\n",
       "                                                  n_estimators=300, n_jobs=None,\n",
       "                                                  num_parallel_tree=None,\n",
       "                                                  predictor=None,\n",
       "                                                  random_state=None, ...))</pre></div></div></div><div class=\"sk-parallel\"><div class=\"sk-parallel-item\"><div class=\"sk-item\"><div class=\"sk-label-container\"><div class=\"sk-label sk-toggleable\"><input class=\"sk-toggleable__control sk-hidden--visually\" id=\"sk-estimator-id-10\" type=\"checkbox\" ><label for=\"sk-estimator-id-10\" class=\"sk-toggleable__label sk-toggleable__label-arrow\">regressor: XGBRegressor</label><div class=\"sk-toggleable__content\"><pre>XGBRegressor(base_score=None, booster=None, callbacks=None,\n",
       "             colsample_bylevel=None, colsample_bynode=None,\n",
       "             colsample_bytree=None, early_stopping_rounds=None,\n",
       "             enable_categorical=False, eval_metric=None, feature_types=None,\n",
       "             gamma=None, gpu_id=None, grow_policy=None, importance_type=None,\n",
       "             interaction_constraints=None, learning_rate=1, max_bin=None,\n",
       "             max_cat_threshold=None, max_cat_to_onehot=None,\n",
       "             max_delta_step=None, max_depth=15, max_leaves=None,\n",
       "             min_child_weight=None, missing=nan, monotone_constraints=None,\n",
       "             n_estimators=300, n_jobs=None, num_parallel_tree=None,\n",
       "             predictor=None, random_state=None, ...)</pre></div></div></div><div class=\"sk-serial\"><div class=\"sk-item\"><div class=\"sk-estimator sk-toggleable\"><input class=\"sk-toggleable__control sk-hidden--visually\" id=\"sk-estimator-id-11\" type=\"checkbox\" ><label for=\"sk-estimator-id-11\" class=\"sk-toggleable__label sk-toggleable__label-arrow\">XGBRegressor</label><div class=\"sk-toggleable__content\"><pre>XGBRegressor(base_score=None, booster=None, callbacks=None,\n",
       "             colsample_bylevel=None, colsample_bynode=None,\n",
       "             colsample_bytree=None, early_stopping_rounds=None,\n",
       "             enable_categorical=False, eval_metric=None, feature_types=None,\n",
       "             gamma=None, gpu_id=None, grow_policy=None, importance_type=None,\n",
       "             interaction_constraints=None, learning_rate=1, max_bin=None,\n",
       "             max_cat_threshold=None, max_cat_to_onehot=None,\n",
       "             max_delta_step=None, max_depth=15, max_leaves=None,\n",
       "             min_child_weight=None, missing=nan, monotone_constraints=None,\n",
       "             n_estimators=300, n_jobs=None, num_parallel_tree=None,\n",
       "             predictor=None, random_state=None, ...)</pre></div></div></div></div></div></div></div></div></div></div></div></div>"
      ],
      "text/plain": [
       "Pipeline(steps=[('columntransformer',\n",
       "                 ColumnTransformer(remainder='passthrough',\n",
       "                                   transformers=[('pipeline-1',\n",
       "                                                  Pipeline(steps=[('standardscaler',\n",
       "                                                                   StandardScaler())]),\n",
       "                                                  ['masse_ordma_min',\n",
       "                                                   'masse_ordma_max',\n",
       "                                                   'Nb_rapp']),\n",
       "                                                 ('pipeline-2',\n",
       "                                                  Pipeline(steps=[('onehotencoder',\n",
       "                                                                   OneHotEncoder(handle_unknown='ignore'))]),\n",
       "                                                  ['lib_mrq', 'cnit', 'cod_cbr',\n",
       "                                                   'hybride', 'puiss_max',\n",
       "                                                   '...\n",
       "                                                                   gpu_id=None,\n",
       "                                                                   grow_policy=None,\n",
       "                                                                   importance_type=None,\n",
       "                                                                   interaction_constraints=None,\n",
       "                                                                   learning_rate=1,\n",
       "                                                                   max_bin=None,\n",
       "                                                                   max_cat_threshold=None,\n",
       "                                                                   max_cat_to_onehot=None,\n",
       "                                                                   max_delta_step=None,\n",
       "                                                                   max_depth=15,\n",
       "                                                                   max_leaves=None,\n",
       "                                                                   min_child_weight=None,\n",
       "                                                                   missing=nan,\n",
       "                                                                   monotone_constraints=None,\n",
       "                                                                   n_estimators=300,\n",
       "                                                                   n_jobs=None,\n",
       "                                                                   num_parallel_tree=None,\n",
       "                                                                   predictor=None,\n",
       "                                                                   random_state=None, ...)))])"
      ]
     },
     "execution_count": 29,
     "metadata": {},
     "output_type": "execute_result"
    }
   ],
   "source": [
    "model_xgbr = make_pipeline(preprocessor,\n",
    "                          TransformedTargetRegressor(regressor = XGBRegressor(max_depth = 15,\n",
    "                                                                              n_estimators = 300, learning_rate=1 )))\n",
    "model_xgbr.fit(X_train, y_train)"
   ]
  },
  {
   "cell_type": "code",
   "execution_count": 30,
   "id": "6e8dcfa4",
   "metadata": {},
   "outputs": [],
   "source": [
    "y_pred_xgbr = model_xgbr.predict(X_test)"
   ]
  },
  {
   "cell_type": "markdown",
   "id": "393b5bdf",
   "metadata": {},
   "source": [
    "## Comparaison valeurs réélles vs valeurs predictes"
   ]
  },
  {
   "cell_type": "code",
   "execution_count": 31,
   "id": "3c26aebe",
   "metadata": {},
   "outputs": [
    {
     "data": {
      "text/html": [
       "<div>\n",
       "<style scoped>\n",
       "    .dataframe tbody tr th:only-of-type {\n",
       "        vertical-align: middle;\n",
       "    }\n",
       "\n",
       "    .dataframe tbody tr th {\n",
       "        vertical-align: top;\n",
       "    }\n",
       "\n",
       "    .dataframe thead th {\n",
       "        text-align: right;\n",
       "    }\n",
       "</style>\n",
       "<table border=\"1\" class=\"dataframe\">\n",
       "  <thead>\n",
       "    <tr style=\"text-align: right;\">\n",
       "      <th></th>\n",
       "      <th>Valeurs réelles</th>\n",
       "      <th>Valeurs predictes</th>\n",
       "    </tr>\n",
       "  </thead>\n",
       "  <tbody>\n",
       "    <tr>\n",
       "      <th>0</th>\n",
       "      <td>197.0</td>\n",
       "      <td>206.109131</td>\n",
       "    </tr>\n",
       "    <tr>\n",
       "      <th>1</th>\n",
       "      <td>234.0</td>\n",
       "      <td>219.566147</td>\n",
       "    </tr>\n",
       "    <tr>\n",
       "      <th>2</th>\n",
       "      <td>162.0</td>\n",
       "      <td>162.600143</td>\n",
       "    </tr>\n",
       "    <tr>\n",
       "      <th>3</th>\n",
       "      <td>150.0</td>\n",
       "      <td>150.641098</td>\n",
       "    </tr>\n",
       "    <tr>\n",
       "      <th>4</th>\n",
       "      <td>189.0</td>\n",
       "      <td>203.163681</td>\n",
       "    </tr>\n",
       "  </tbody>\n",
       "</table>\n",
       "</div>"
      ],
      "text/plain": [
       "   Valeurs réelles  Valeurs predictes\n",
       "0            197.0         206.109131\n",
       "1            234.0         219.566147\n",
       "2            162.0         162.600143\n",
       "3            150.0         150.641098\n",
       "4            189.0         203.163681"
      ]
     },
     "execution_count": 31,
     "metadata": {},
     "output_type": "execute_result"
    }
   ],
   "source": [
    "pd.DataFrame.from_dict({'Valeurs réelles': y_test.values.ravel(), \"Valeurs predictes\": y_pred_xgbr}).head()"
   ]
  },
  {
   "cell_type": "markdown",
   "id": "1668d4aa",
   "metadata": {},
   "source": [
    "## Estimations d'erreurs"
   ]
  },
  {
   "cell_type": "code",
   "execution_count": 37,
   "id": "1a015330",
   "metadata": {},
   "outputs": [
    {
     "name": "stdout",
     "output_type": "stream",
     "text": [
      "Le score R2 de performance sur le training set est: 0.9528;\n",
      "Le score R2 de performance sur le  test set est: 0.85895;\n",
      "La mean absolute error (MAE) est :8.0;\n",
      "La RMSE est :2.858;\n",
      "La median  absolute error est :6.0.\n"
     ]
    }
   ],
   "source": [
    "estimattion_erreur(y_pred_xgbr,model_xgbr)"
   ]
  },
  {
   "cell_type": "markdown",
   "id": "fd5319b5",
   "metadata": {},
   "source": [
    "## Visualisation"
   ]
  },
  {
   "cell_type": "code",
   "execution_count": 38,
   "id": "9e494703",
   "metadata": {},
   "outputs": [
    {
     "data": {
      "image/png": "[encoded data removed]",
      "text/plain": [
       "<Figure size 864x432 with 1 Axes>"
      ]
     },
     "metadata": {
      "needs_background": "light"
     },
     "output_type": "display_data"
    }
   ],
   "source": [
    "visualisation(y_pred_xgbr, 'XGBRegressor')"
   ]
  },
  {
   "cell_type": "markdown",
   "id": "736939f6",
   "metadata": {},
   "source": [
    "## Commentaires:\n"
   ]
  },
  {
   "cell_type": "markdown",
   "id": "189f90c6",
   "metadata": {},
   "source": [
    "## Featutes importances"
   ]
  },
  {
   "cell_type": "code",
   "execution_count": 39,
   "id": "db3628f5",
   "metadata": {},
   "outputs": [
    {
     "data": {
      "text/plain": [
       "array([0.00111921, 0.03079738, 0.00029392, ..., 0.        , 0.        ,\n",
       "       0.        ], dtype=float32)"
      ]
     },
     "execution_count": 39,
     "metadata": {},
     "output_type": "execute_result"
    }
   ],
   "source": [
    "feature_importance_xg = model_xgbr.named_steps[\"transformedtargetregressor\"].regressor_.feature_importances_.flatten()\n",
    "feature_importance_xg"
   ]
  },
  {
   "cell_type": "code",
   "execution_count": 41,
   "id": "5f262aae",
   "metadata": {},
   "outputs": [
    {
     "name": "stderr",
     "output_type": "stream",
     "text": [
      "C:\\Users\\sylla\\Desktop\\Data Sciences\\Portofolio\\Apprentissage_automatique_Regression\\Apprentissage-automatique-Regression\\Prediction_Co2\\get_feat_names.py:32: UserWarning: Transformer standardscaler (type StandardScaler) does not provide get_feature_names. Will return input column names if available\n",
      "  warnings.warn(\"Transformer %s (type %s) does not \"\n",
      "C:\\Users\\sylla\\anaconda3\\lib\\site-packages\\sklearn\\utils\\deprecation.py:87: FutureWarning: Function get_feature_names is deprecated; get_feature_names is deprecated in 1.0 and will be removed in 1.2. Please use get_feature_names_out instead.\n",
      "  warnings.warn(msg, category=FutureWarning)\n"
     ]
    },
    {
     "data": {
      "text/html": [
       "<div>\n",
       "<style scoped>\n",
       "    .dataframe tbody tr th:only-of-type {\n",
       "        vertical-align: middle;\n",
       "    }\n",
       "\n",
       "    .dataframe tbody tr th {\n",
       "        vertical-align: top;\n",
       "    }\n",
       "\n",
       "    .dataframe thead th {\n",
       "        text-align: right;\n",
       "    }\n",
       "</style>\n",
       "<table border=\"1\" class=\"dataframe\">\n",
       "  <thead>\n",
       "    <tr style=\"text-align: right;\">\n",
       "      <th></th>\n",
       "      <th>importances</th>\n",
       "    </tr>\n",
       "  </thead>\n",
       "  <tbody>\n",
       "    <tr>\n",
       "      <th>onehotencoder__x0_ASTON MARTIN</th>\n",
       "      <td>0.217644</td>\n",
       "    </tr>\n",
       "    <tr>\n",
       "      <th>onehotencoder__x4_559,2999878</th>\n",
       "      <td>0.038926</td>\n",
       "    </tr>\n",
       "    <tr>\n",
       "      <th>onehotencoder__x2_ES</th>\n",
       "      <td>0.036744</td>\n",
       "    </tr>\n",
       "    <tr>\n",
       "      <th>pipeline-1__masse_ordma_max</th>\n",
       "      <td>0.030797</td>\n",
       "    </tr>\n",
       "    <tr>\n",
       "      <th>onehotencoder__x4_412</th>\n",
       "      <td>0.027987</td>\n",
       "    </tr>\n",
       "    <tr>\n",
       "      <th>onehotencoder__x4_140</th>\n",
       "      <td>0.019647</td>\n",
       "    </tr>\n",
       "    <tr>\n",
       "      <th>onehotencoder__x0_LAMBORGHINI</th>\n",
       "      <td>0.013145</td>\n",
       "    </tr>\n",
       "    <tr>\n",
       "      <th>onehotencoder__x4_420</th>\n",
       "      <td>0.012941</td>\n",
       "    </tr>\n",
       "    <tr>\n",
       "      <th>onehotencoder__x7_A</th>\n",
       "      <td>0.010690</td>\n",
       "    </tr>\n",
       "    <tr>\n",
       "      <th>onehotencoder__x0_FERRARI</th>\n",
       "      <td>0.010071</td>\n",
       "    </tr>\n",
       "  </tbody>\n",
       "</table>\n",
       "</div>"
      ],
      "text/plain": [
       "                                importances\n",
       "onehotencoder__x0_ASTON MARTIN     0.217644\n",
       "onehotencoder__x4_559,2999878      0.038926\n",
       "onehotencoder__x2_ES               0.036744\n",
       "pipeline-1__masse_ordma_max        0.030797\n",
       "onehotencoder__x4_412              0.027987\n",
       "onehotencoder__x4_140              0.019647\n",
       "onehotencoder__x0_LAMBORGHINI      0.013145\n",
       "onehotencoder__x4_420              0.012941\n",
       "onehotencoder__x7_A                0.010690\n",
       "onehotencoder__x0_FERRARI          0.010071"
      ]
     },
     "execution_count": 41,
     "metadata": {},
     "output_type": "execute_result"
    }
   ],
   "source": [
    "#Stockage dans un dataframe à la sortie et trie par ordre decroissant sur les importancesdf_\n",
    "df_xgbr= pd.DataFrame(feature_importance_xg,\n",
    "                          index=get_feature_names(preprocessor),\n",
    "                          columns=[\"importances\"]).sort_values(by = \"importances\", ascending =False)\n",
    "df_xgbr = df_xgbr.iloc[:10]\n",
    "df_xgbr"
   ]
  },
  {
   "cell_type": "code",
   "execution_count": 42,
   "id": "641d6ee7",
   "metadata": {},
   "outputs": [
    {
     "data": {
      "text/plain": [
       "0.0011011394"
      ]
     },
     "execution_count": 42,
     "metadata": {},
     "output_type": "execute_result"
    }
   ],
   "source": [
    "std = np.std([tree for tree in model_xgbr.named_steps[\"transformedtargetregressor\"].regressor_.feature_importances_])\n",
    "std"
   ]
  },
  {
   "cell_type": "code",
   "execution_count": 44,
   "id": "b8475153",
   "metadata": {},
   "outputs": [
    {
     "data": {
      "image/png": "[encoded data removed]",
      "text/plain": [
       "<Figure size 1008x432 with 1 Axes>"
      ]
     },
     "metadata": {
      "needs_background": "light"
     },
     "output_type": "display_data"
    }
   ],
   "source": [
    "fig, ax = plt.subplots(figsize =(14,6))\n",
    "df_xgbr.plot.bar(yerr=std, ax=ax, color ='red')\n",
    "ax.set_title(\"Feature importances du modèle : XGBRegressor\", fontsize = 14)\n",
    "ax.set_ylabel(\"Diminution moyenne des impuretés\", fontsize = 12)\n",
    "plt.xticks(rotation =85)\n",
    "fig.tight_layout()"
   ]
  },
  {
   "cell_type": "markdown",
   "id": "edd3106a",
   "metadata": {},
   "source": [
    "# Commentaire :\n",
    "\n",
    "Les fonctionnanlité qui impacte plus l'emission de **CO2** sont **ASTON MARTIN** (Marque de vehicule) et  **ES (type de carburant : Essence)**.\n",
    "PS : Il faut se renseigner sur **X4_******"
   ]
  },
  {
   "cell_type": "markdown",
   "id": "8a03479a",
   "metadata": {},
   "source": [
    "## <font color=\"red\" id=\"section_5\" > 5.  Choix du meilleur modèle"
   ]
  },
  {
   "cell_type": "code",
   "execution_count": 115,
   "id": "af97ee46",
   "metadata": {},
   "outputs": [],
   "source": [
    "#Selection des metrics de comparaison\n",
    "metrics = [ 'mean_fit_time', 'mean_score_time', 'mean_test_neg_mean_absolute_error', \"mean_train_neg_mean_absolute_error\"]"
   ]
  },
  {
   "cell_type": "code",
   "execution_count": 118,
   "id": "b5dc3cd1",
   "metadata": {},
   "outputs": [
    {
     "data": {
      "text/html": [
       "<div>\n",
       "<style scoped>\n",
       "    .dataframe tbody tr th:only-of-type {\n",
       "        vertical-align: middle;\n",
       "    }\n",
       "\n",
       "    .dataframe tbody tr th {\n",
       "        vertical-align: top;\n",
       "    }\n",
       "\n",
       "    .dataframe thead th {\n",
       "        text-align: right;\n",
       "    }\n",
       "</style>\n",
       "<table border=\"1\" class=\"dataframe\">\n",
       "  <thead>\n",
       "    <tr style=\"text-align: right;\">\n",
       "      <th></th>\n",
       "      <th>Linear Regression</th>\n",
       "    </tr>\n",
       "  </thead>\n",
       "  <tbody>\n",
       "    <tr>\n",
       "      <th>mean_fit_time</th>\n",
       "      <td>52.543547</td>\n",
       "    </tr>\n",
       "    <tr>\n",
       "      <th>mean_score_time</th>\n",
       "      <td>0.219321</td>\n",
       "    </tr>\n",
       "    <tr>\n",
       "      <th>mean_test_neg_mean_absolute_error</th>\n",
       "      <td>-104.794579</td>\n",
       "    </tr>\n",
       "    <tr>\n",
       "      <th>mean_train_neg_mean_absolute_error</th>\n",
       "      <td>-103.698668</td>\n",
       "    </tr>\n",
       "  </tbody>\n",
       "</table>\n",
       "</div>"
      ],
      "text/plain": [
       "                                    Linear Regression\n",
       "mean_fit_time                               52.543547\n",
       "mean_score_time                              0.219321\n",
       "mean_test_neg_mean_absolute_error         -104.794579\n",
       "mean_train_neg_mean_absolute_error        -103.698668"
      ]
     },
     "execution_count": 118,
     "metadata": {},
     "output_type": "execute_result"
    }
   ],
   "source": [
    "# Exemple de sortie\n",
    "pd.DataFrame(df_resulats_mxgbr[metrics].mean(), columns =[\"Linear Regression\"])"
   ]
  },
  {
   "cell_type": "code",
   "execution_count": 159,
   "id": "c19a6346",
   "metadata": {},
   "outputs": [
    {
     "data": {
      "text/html": [
       "<div>\n",
       "<style scoped>\n",
       "    .dataframe tbody tr th:only-of-type {\n",
       "        vertical-align: middle;\n",
       "    }\n",
       "\n",
       "    .dataframe tbody tr th {\n",
       "        vertical-align: top;\n",
       "    }\n",
       "\n",
       "    .dataframe thead th {\n",
       "        text-align: right;\n",
       "    }\n",
       "</style>\n",
       "<table border=\"1\" class=\"dataframe\">\n",
       "  <thead>\n",
       "    <tr style=\"text-align: right;\">\n",
       "      <th></th>\n",
       "      <th>mean_fit_time</th>\n",
       "      <th>mean_score_time</th>\n",
       "      <th>mean_test_neg_mean_absolute_error</th>\n",
       "      <th>mean_train_neg_mean_absolute_error</th>\n",
       "    </tr>\n",
       "  </thead>\n",
       "  <tbody>\n",
       "    <tr>\n",
       "      <th>Linear Reg</th>\n",
       "      <td>10.940524</td>\n",
       "      <td>0.008002</td>\n",
       "      <td>-83.171531</td>\n",
       "      <td>-0.006680</td>\n",
       "    </tr>\n",
       "    <tr>\n",
       "      <th>SGD Reg</th>\n",
       "      <td>46.079404</td>\n",
       "      <td>0.040348</td>\n",
       "      <td>-10.582630</td>\n",
       "      <td>-9.182448</td>\n",
       "    </tr>\n",
       "    <tr>\n",
       "      <th>Rand Forest Reg</th>\n",
       "      <td>296.122982</td>\n",
       "      <td>0.591745</td>\n",
       "      <td>-18.276349</td>\n",
       "      <td>-18.098351</td>\n",
       "    </tr>\n",
       "    <tr>\n",
       "      <th>Grad Boost Reg</th>\n",
       "      <td>1743.419614</td>\n",
       "      <td>0.122863</td>\n",
       "      <td>-9.969878</td>\n",
       "      <td>-9.849827</td>\n",
       "    </tr>\n",
       "    <tr>\n",
       "      <th>XGB Reg</th>\n",
       "      <td>52.543547</td>\n",
       "      <td>0.219321</td>\n",
       "      <td>-104.794579</td>\n",
       "      <td>-103.698668</td>\n",
       "    </tr>\n",
       "  </tbody>\n",
       "</table>\n",
       "</div>"
      ],
      "text/plain": [
       "                 mean_fit_time  mean_score_time  \\\n",
       "Linear Reg           10.940524         0.008002   \n",
       "SGD Reg              46.079404         0.040348   \n",
       "Rand Forest Reg     296.122982         0.591745   \n",
       "Grad Boost Reg     1743.419614         0.122863   \n",
       "XGB Reg              52.543547         0.219321   \n",
       "\n",
       "                 mean_test_neg_mean_absolute_error  \\\n",
       "Linear Reg                              -83.171531   \n",
       "SGD Reg                                 -10.582630   \n",
       "Rand Forest Reg                         -18.276349   \n",
       "Grad Boost Reg                           -9.969878   \n",
       "XGB Reg                                -104.794579   \n",
       "\n",
       "                 mean_train_neg_mean_absolute_error  \n",
       "Linear Reg                                -0.006680  \n",
       "SGD Reg                                   -9.182448  \n",
       "Rand Forest Reg                          -18.098351  \n",
       "Grad Boost Reg                            -9.849827  \n",
       "XGB Reg                                 -103.698668  "
      ]
     },
     "execution_count": 159,
     "metadata": {},
     "output_type": "execute_result"
    }
   ],
   "source": [
    "df_compar = pd.concat([pd.DataFrame(resultat_mlr[metrics].mean(), columns =[\"Linear Reg\"])\n",
    "                       , pd.DataFrame(df_results_msdgr[metrics].mean(), columns =[\"SGD Reg\"]),\n",
    "                       pd.DataFrame(df_resulats_mrfr[metrics].mean(), columns =[\"Rand Forest Reg\"]),\n",
    "                       pd.DataFrame(resultats_mgbr[metrics].mean(), columns =[\"Grad Boost Reg\"]),\n",
    "                      pd.DataFrame(df_resulats_mxgbr[metrics].mean(), columns =[\"XGB Reg\"])],\n",
    "                      axis = 1, )\n",
    "df_compar = df_compar.T\n",
    "df_compar.head()"
   ]
  },
  {
   "cell_type": "markdown",
   "id": "272ba258",
   "metadata": {},
   "source": [
    "## Visualisation"
   ]
  },
  {
   "cell_type": "code",
   "execution_count": 180,
   "id": "30ad7a47",
   "metadata": {},
   "outputs": [
    {
     "data": {
      "image/png": "[encoded data removed]",
      "text/plain": [
       "<Figure size 864x432 with 1 Axes>"
      ]
     },
     "metadata": {
      "needs_background": "light"
     },
     "output_type": "display_data"
    }
   ],
   "source": [
    "fig, ax =  plt.subplots(1, 1, figsize = (12,6), sharex =True, sharey = True )\n",
    "width = 0.35\n",
    "x = np.arange(len(df_compar.index))\n",
    "#--------------------------------------------------------------------------\n",
    "mabs1 = ax.bar(x -width/2, -1*df_compar['mean_test_neg_mean_absolute_error'],width, label = 'Test')\n",
    "mabs2 = ax.bar(x +width/2, -1*df_compar['mean_train_neg_mean_absolute_error'],width, label = 'Train')\n",
    "ax.set_xlabel(\"Modèle\",fontsize = 20)\n",
    "ax.set_ylabel(\"Mean Absolute error\",fontsize = 20)\n",
    "ax.set_title(' Comparaison MAE en train et test', fontsize = 18)\n",
    "ax.bar_label(mabs1, padding = 5, fmt ='%.2f', fontsize = 13)\n",
    "ax.bar_label(mabs2, padding = 5, fmt ='%.2f', fontsize = 14)\n",
    "ax.set_xticks(x)\n",
    "ax.set_xticklabels(df_compar.index, fontsize = 13 )\n",
    "ax.legend(loc ='best', fontsize = 14)\n",
    "plt.show()\n",
    "#------------------------------------------------------------------------------"
   ]
  },
  {
   "cell_type": "code",
   "execution_count": 181,
   "id": "98660705",
   "metadata": {},
   "outputs": [
    {
     "data": {
      "image/png": "[encoded data removed]",
      "text/plain": [
       "<Figure size 864x432 with 1 Axes>"
      ]
     },
     "metadata": {
      "needs_background": "light"
     },
     "output_type": "display_data"
    }
   ],
   "source": [
    "fig, ax =  plt.subplots(1, 1, figsize = (12,6), sharex =True, sharey = True )\n",
    "width = 0.35\n",
    "x = np.arange(len(df_compar.index))\n",
    "fit1 = ax.bar(x -width/2,df_compar['mean_fit_time'], width, label = 'fit time' )\n",
    "fit2 = ax.bar(x + width/2, df_compar['mean_fit_time'], width, label = 'Predict')\n",
    "ax.set_xlabel(\"Modèle\",fontsize = 20)\n",
    "ax.set_ylabel(\" Time (s)\",fontsize = 20)\n",
    "ax.set_title(' Time execution en fit et predict', fontsize = 18)\n",
    "ax.bar_label(fit1, padding = 1, fmt ='%.2f', fontsize = 13)\n",
    "ax.bar_label(fit2, padding = 1, fmt ='%.2f', fontsize = 11)\n",
    "ax.set_xticks(x)\n",
    "ax.set_xticklabels(df_compar.index, fontsize = 13 )\n",
    "ax.legend(loc ='best', fontsize = 14)\n",
    "plt.show()"
   ]
  },
  {
   "cell_type": "markdown",
   "id": "aa7d39eb",
   "metadata": {},
   "source": [
    "##  Conclusion "
   ]
  },
  {
   "cell_type": "markdown",
   "id": "fe8ee8a4",
   "metadata": {},
   "source": [
    "Au ragard de ces deux graphques, nous concluons que le modèle le plus adapté à notre dataset est celui:\n",
    "\n",
    "* Dont les erreurs de **prédictions sont minimes**;\n",
    "\n",
    "* Le temps d'éxécution n'est pas **trop important**.\n",
    "\n",
    "Et ce modèle est **SGD Regressor** (Stochastique Gradient Descent Regressor)."
   ]
  },
  {
   "cell_type": "code",
   "execution_count": null,
   "id": "df33cc89",
   "metadata": {},
   "outputs": [],
   "source": []
  }
 ],
 "metadata": {
  "kernelspec": {
   "display_name": "Python 3 (ipykernel)",
   "language": "python",
   "name": "python3"
  },
  "language_info": {
   "codemirror_mode": {
    "name": "ipython",
    "version": 3
   },
   "file_extension": ".py",
   "mimetype": "text/x-python",
   "name": "python",
   "nbconvert_exporter": "python",
   "pygments_lexer": "ipython3",
   "version": "3.9.12"
  }
 },
 "nbformat": 4,
 "nbformat_minor": 5
}
