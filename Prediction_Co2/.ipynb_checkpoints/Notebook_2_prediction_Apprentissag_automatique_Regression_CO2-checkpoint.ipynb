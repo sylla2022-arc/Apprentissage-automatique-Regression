{
 "cells": [
  {
   "cell_type": "markdown",
   "id": "03daec40",
   "metadata": {},
   "source": [
    "## <font color = 'green' id = \"section\" >Notebook 2: Apprentissage automatique, Regression: Polution CO2</font>"
   ]
  },
  {
   "cell_type": "markdown",
   "id": "8c7fc33c",
   "metadata": {},
   "source": [
    "# <font color=\"blue\">Sommaire</font>\n",
    "1. [Importation des librairies](#section_1)    \n",
    "2. [Lecture du Dataset](#section_2) \n",
    "3. [Inventaire des valeurs manquantes](#section_3)         \n",
    "4. [Description statistique et distribution](#section_4)       \n",
    "5. [Traitement des coordonnées géographiques](#section_5)     \n",
    "6. [Traitement des valeurs manquantest](#section_6)      \n",
    "7. [Analyse exploratoire](#section_7)  \n",
    "    7.1. [Analyse univariée](#section_7_1)    \n",
    "    7.2. [Analyse bivariée et multivariée](#section_7_2)  \n",
    "8. [ Geolocalisation des stations services](#section_8)    \n",
    "    8.1. [Geolocalisation des 15 lieux où SP98 est le plus cher](#section_8_1)         \n",
    "    8.2. [Geolocalisation des 15 lieux où SP98 est le moins cher](#section_8_2)  \n",
    "    8.3. [Geolocalisation des 10 lieux où SP95 est le moins cher](#section_8_3)    \n",
    "    8.4. [Geolocalisation des 10 lieux où SP95 est le moins cher](#section_8_4) \n"
   ]
  },
  {
   "cell_type": "markdown",
   "id": "2e082814",
   "metadata": {},
   "source": [
    "# <font color ='red' id = 'section_1' > 1.Importation des librairies </font>"
   ]
  },
  {
   "cell_type": "code",
   "execution_count": 1,
   "id": "39273929",
   "metadata": {},
   "outputs": [
    {
     "name": "stdout",
     "output_type": "stream",
     "text": [
      "No Warning Shown\n"
     ]
    }
   ],
   "source": [
    "import warnings\n",
    "warnings.filterwarnings('ignore')\n",
    "warnings.warn('DelftStack')\n",
    "warnings.warn('Do not show this message')\n",
    "print(\"No Warning Shown\")"
   ]
  },
  {
   "cell_type": "code",
   "execution_count": 2,
   "id": "82bfb92a",
   "metadata": {},
   "outputs": [],
   "source": [
    "import pandas as pd\n",
    "import numpy as np\n",
    "import scipy.stats as st\n",
    "import seaborn as sns\n",
    "import matplotlib.pyplot as plt\n",
    "from scipy import stats\n",
    "import ast\n",
    "import scipy as sp\n",
    "import time\n",
    "import pickle\n",
    "from datetime import datetime\n",
    "#-------------------------------------------------------------------\n",
    "from tqdm import tqdm\n",
    "import gc\n",
    "#------------------------------------------------------------------\n",
    "import plotly.graph_objs as go\n",
    "import plotly.express as px\n",
    "from textwrap import wrap\n",
    "#-------------------------------------------------\n",
    "from sklearn.model_selection import train_test_split\n",
    "from sklearn.impute import KNNImputer\n",
    "from sklearn.metrics import *\n",
    "\n",
    "#-------------------------------------------------\n",
    "from sklearn.pipeline import Pipeline\n",
    "from sklearn.pipeline import make_pipeline\n",
    "\n",
    "from sklearn.preprocessing import OneHotEncoder, StandardScaler, MinMaxScaler\n",
    "from sklearn.compose import ColumnTransformer\n",
    "from sklearn.compose import TransformedTargetRegressor, make_column_transformer\n",
    "\n",
    "#--------------------------------------------------------\n",
    "from sklearn.dummy import DummyRegressor\n",
    "from sklearn.linear_model import LinearRegression, SGDRegressor\n",
    "\n",
    "#--------------------------------------------------------\n",
    "from sklearn.ensemble import RandomForestRegressor, GradientBoostingRegressor\n",
    "\n",
    "#------------------------------------------------\n",
    "from xgboost import XGBRegressor\n",
    "\n",
    "#-----------------------------------------------------------\n",
    "from sklearn.model_selection import GridSearchCV"
   ]
  },
  {
   "cell_type": "code",
   "execution_count": 3,
   "id": "03ba9a09",
   "metadata": {},
   "outputs": [],
   "source": [
    "pd.set_option(\"display.max_columns\", 500)\n",
    "pd.set_option(\"display.max_rows\", 500)"
   ]
  },
  {
   "cell_type": "markdown",
   "id": "dbeb2921",
   "metadata": {},
   "source": [
    "## Checklist\n",
    "\n",
    "Depuis 2001, **l’ADEME** acquiert tous les ans ces données auprès de **l’Union Technique de l’Automobile du motocycle et du Cycle UTAC** (en charge de l’homologation des véhicules avant leur mise en vente) en accord avec le ministère du développement durable.\n",
    "Pour chaque véhicule les données d’origine (transmises par l’Utac) sont les suivantes :\n",
    "\n",
    "* **Les consommations de carburant**\n",
    "\n",
    "* **Les émissions de dioxyde de carbone (CO2)**\n",
    "\n",
    "* **Les émissions des polluants de l’air** (réglementés dans le cadre de la norme Euro)\n",
    "\n",
    "* **L’ensemble des caractéristiques techniques des véhicules** (gammes, marques, modèles, n° de CNIT, type d’énergie ...)\n",
    "\n",
    "\n",
    "\n",
    "# L'inventaire des varaibles pertinentes:\n",
    "\n",
    "Les données comprenent des variables pertinentes suivantes:\n",
    "\n",
    "* **lib_mrq_utac**: La marque, il y'a 12.\n",
    "\n",
    "* **lib_mod**: Le modèle commerciale, il y'a 20.\n",
    "\n",
    "* **cod_cbr**: Le type de carburant, il y a 5.\n",
    "\n",
    "* **hybride**: Information permettant d’identifier les véhicules hybrides (O/N)\n",
    "\n",
    "* **puiss_max** : Puissance maximale\n",
    "\n",
    "* **typ_boite_nb_rapp**: Type boite de vitesse et le nombre de rapport.\n",
    "\n",
    "* **conso_urb**: Consommation urbaine de carburant (en l/100km),\n",
    "\n",
    "* **conso_exurb**: consommation extra urbaine de carburant (en l/100km),\n",
    "\n",
    "* **conso_mixte**: Consommation mixte de carburant (en l/100km),\n",
    "\n",
    "* **co2**: Emission de CO2 (en g/km),\n",
    "\n",
    "* **masse_ordma_min**: Masse en ordre de marche mini\n",
    "\n",
    "* **masse_ordma_max**: Masse en ordre de marche max\n",
    " \n",
    "* **Carrosserie**: Carrosserie\n",
    "\n",
    "* **gamme**: Gamme du véhicule\n",
    "\n",
    "\n",
    "\n",
    "# Objectif\n",
    "\n",
    "Notre objectif majeur dans ce notebook 2 est de :\n",
    "\n",
    "Prédire les emisisions de **CO2** des vehicules en fonction de certaines informations (Variables explicatives)\n",
    "\n",
    "* En utilisant 4 à 5 modéles différents\n",
    "\n",
    "* En comparant  les scores\n",
    "    \n",
    "* En choissisant le meilleur modèle\n",
    "\n",
    "\n",
    "# Description des données\n",
    "\n",
    "Lien vers les données: https://www.data.gouv.fr/fr/datasets/emissions-de-co2-et-de-polluants-des-vehicules-commercialises-en-france/\n"
   ]
  },
  {
   "cell_type": "markdown",
   "id": "4aa43bf0",
   "metadata": {},
   "source": [
    "# <font color=\"red\" id=\"section_2\"> 2. Chargement, lecture, apercu et infos des données </font>"
   ]
  },
  {
   "cell_type": "code",
   "execution_count": 4,
   "id": "564f490c",
   "metadata": {},
   "outputs": [],
   "source": [
    "data_model = pd.read_csv(\"data_model.csv\")"
   ]
  },
  {
   "cell_type": "code",
   "execution_count": 5,
   "id": "2e663a59",
   "metadata": {},
   "outputs": [
    {
     "data": {
      "text/html": [
       "<div>\n",
       "<style scoped>\n",
       "    .dataframe tbody tr th:only-of-type {\n",
       "        vertical-align: middle;\n",
       "    }\n",
       "\n",
       "    .dataframe tbody tr th {\n",
       "        vertical-align: top;\n",
       "    }\n",
       "\n",
       "    .dataframe thead th {\n",
       "        text-align: right;\n",
       "    }\n",
       "</style>\n",
       "<table border=\"1\" class=\"dataframe\">\n",
       "  <thead>\n",
       "    <tr style=\"text-align: right;\">\n",
       "      <th></th>\n",
       "      <th>lib_mrq</th>\n",
       "      <th>lib_mod_doss</th>\n",
       "      <th>cnit</th>\n",
       "      <th>cod_cbr</th>\n",
       "      <th>hybride</th>\n",
       "      <th>puiss_max</th>\n",
       "      <th>Carrosserie</th>\n",
       "      <th>gamme</th>\n",
       "      <th>puiss_admin_98</th>\n",
       "      <th>conso_urb</th>\n",
       "      <th>co2</th>\n",
       "      <th>masse_ordma_min</th>\n",
       "      <th>masse_ordma_max</th>\n",
       "      <th>Type_boite</th>\n",
       "      <th>Nb_rapp</th>\n",
       "    </tr>\n",
       "  </thead>\n",
       "  <tbody>\n",
       "    <tr>\n",
       "      <th>0</th>\n",
       "      <td>ALFA-ROMEO</td>\n",
       "      <td>159</td>\n",
       "      <td>M10ALFVP000G340</td>\n",
       "      <td>ES</td>\n",
       "      <td>non</td>\n",
       "      <td>147</td>\n",
       "      <td>BERLINE</td>\n",
       "      <td>MOY-SUPER</td>\n",
       "      <td>12.0</td>\n",
       "      <td>11.3</td>\n",
       "      <td>182.0</td>\n",
       "      <td>1505.0</td>\n",
       "      <td>1505.0</td>\n",
       "      <td>M</td>\n",
       "      <td>6.0</td>\n",
       "    </tr>\n",
       "    <tr>\n",
       "      <th>1</th>\n",
       "      <td>ALFA-ROMEO</td>\n",
       "      <td>159</td>\n",
       "      <td>M10ALFVP000H341</td>\n",
       "      <td>ES</td>\n",
       "      <td>non</td>\n",
       "      <td>147</td>\n",
       "      <td>BERLINE</td>\n",
       "      <td>MOY-SUPER</td>\n",
       "      <td>12.0</td>\n",
       "      <td>11.5</td>\n",
       "      <td>186.0</td>\n",
       "      <td>1555.0</td>\n",
       "      <td>1555.0</td>\n",
       "      <td>M</td>\n",
       "      <td>6.0</td>\n",
       "    </tr>\n",
       "  </tbody>\n",
       "</table>\n",
       "</div>"
      ],
      "text/plain": [
       "      lib_mrq lib_mod_doss             cnit cod_cbr hybride puiss_max  \\\n",
       "0  ALFA-ROMEO          159  M10ALFVP000G340      ES     non       147   \n",
       "1  ALFA-ROMEO          159  M10ALFVP000H341      ES     non       147   \n",
       "\n",
       "  Carrosserie      gamme  puiss_admin_98  conso_urb    co2  masse_ordma_min  \\\n",
       "0     BERLINE  MOY-SUPER            12.0       11.3  182.0           1505.0   \n",
       "1     BERLINE  MOY-SUPER            12.0       11.5  186.0           1555.0   \n",
       "\n",
       "   masse_ordma_max Type_boite  Nb_rapp  \n",
       "0           1505.0          M      6.0  \n",
       "1           1555.0          M      6.0  "
      ]
     },
     "metadata": {},
     "output_type": "display_data"
    },
    {
     "data": {
      "text/html": [
       "<div>\n",
       "<style scoped>\n",
       "    .dataframe tbody tr th:only-of-type {\n",
       "        vertical-align: middle;\n",
       "    }\n",
       "\n",
       "    .dataframe tbody tr th {\n",
       "        vertical-align: top;\n",
       "    }\n",
       "\n",
       "    .dataframe thead th {\n",
       "        text-align: right;\n",
       "    }\n",
       "</style>\n",
       "<table border=\"1\" class=\"dataframe\">\n",
       "  <thead>\n",
       "    <tr style=\"text-align: right;\">\n",
       "      <th></th>\n",
       "      <th>lib_mrq</th>\n",
       "      <th>lib_mod_doss</th>\n",
       "      <th>cnit</th>\n",
       "      <th>cod_cbr</th>\n",
       "      <th>hybride</th>\n",
       "      <th>puiss_max</th>\n",
       "      <th>Carrosserie</th>\n",
       "      <th>gamme</th>\n",
       "      <th>puiss_admin_98</th>\n",
       "      <th>conso_urb</th>\n",
       "      <th>co2</th>\n",
       "      <th>masse_ordma_min</th>\n",
       "      <th>masse_ordma_max</th>\n",
       "      <th>Type_boite</th>\n",
       "      <th>Nb_rapp</th>\n",
       "    </tr>\n",
       "  </thead>\n",
       "  <tbody>\n",
       "    <tr>\n",
       "      <th>55026</th>\n",
       "      <td>VOLVO</td>\n",
       "      <td>XC60</td>\n",
       "      <td>M1GVLVVP874Z718</td>\n",
       "      <td>ES</td>\n",
       "      <td>non</td>\n",
       "      <td>224</td>\n",
       "      <td>TS TERRAINS/CHEMINS</td>\n",
       "      <td>SUPERIEURE</td>\n",
       "      <td>12.0</td>\n",
       "      <td>6.1</td>\n",
       "      <td>139.0</td>\n",
       "      <td>1788.0</td>\n",
       "      <td>1788.0</td>\n",
       "      <td>A</td>\n",
       "      <td>6.0</td>\n",
       "    </tr>\n",
       "    <tr>\n",
       "      <th>55027</th>\n",
       "      <td>VOLVO</td>\n",
       "      <td>XC60</td>\n",
       "      <td>M10VLVVP8967562</td>\n",
       "      <td>ES</td>\n",
       "      <td>non</td>\n",
       "      <td>225</td>\n",
       "      <td>TS TERRAINS/CHEMINS</td>\n",
       "      <td>SUPERIEURE</td>\n",
       "      <td>21.0</td>\n",
       "      <td>15.1</td>\n",
       "      <td>248.0</td>\n",
       "      <td>1815.0</td>\n",
       "      <td>1815.0</td>\n",
       "      <td>A</td>\n",
       "      <td>8.0</td>\n",
       "    </tr>\n",
       "  </tbody>\n",
       "</table>\n",
       "</div>"
      ],
      "text/plain": [
       "      lib_mrq lib_mod_doss             cnit cod_cbr hybride puiss_max  \\\n",
       "55026   VOLVO         XC60  M1GVLVVP874Z718      ES     non       224   \n",
       "55027   VOLVO         XC60  M10VLVVP8967562      ES     non       225   \n",
       "\n",
       "               Carrosserie       gamme  puiss_admin_98  conso_urb    co2  \\\n",
       "55026  TS TERRAINS/CHEMINS  SUPERIEURE            12.0        6.1  139.0   \n",
       "55027  TS TERRAINS/CHEMINS  SUPERIEURE            21.0       15.1  248.0   \n",
       "\n",
       "       masse_ordma_min  masse_ordma_max Type_boite  Nb_rapp  \n",
       "55026           1788.0           1788.0          A      6.0  \n",
       "55027           1815.0           1815.0          A      8.0  "
      ]
     },
     "metadata": {},
     "output_type": "display_data"
    }
   ],
   "source": [
    "display(data_model.head(2))\n",
    "display(data_model.tail(2))"
   ]
  },
  {
   "cell_type": "code",
   "execution_count": 6,
   "id": "3d5f00cc",
   "metadata": {},
   "outputs": [
    {
     "name": "stdout",
     "output_type": "stream",
     "text": [
      "<class 'pandas.core.frame.DataFrame'>\n",
      "RangeIndex: 55028 entries, 0 to 55027\n",
      "Data columns (total 15 columns):\n",
      " #   Column           Non-Null Count  Dtype  \n",
      "---  ------           --------------  -----  \n",
      " 0   lib_mrq          55028 non-null  object \n",
      " 1   lib_mod_doss     55028 non-null  object \n",
      " 2   cnit             55028 non-null  object \n",
      " 3   cod_cbr          55028 non-null  object \n",
      " 4   hybride          55028 non-null  object \n",
      " 5   puiss_max        55028 non-null  object \n",
      " 6   Carrosserie      55028 non-null  object \n",
      " 7   gamme            55028 non-null  object \n",
      " 8   puiss_admin_98   55028 non-null  float64\n",
      " 9   conso_urb        55028 non-null  float64\n",
      " 10  co2              55028 non-null  float64\n",
      " 11  masse_ordma_min  55028 non-null  float64\n",
      " 12  masse_ordma_max  55028 non-null  float64\n",
      " 13  Type_boite       55028 non-null  object \n",
      " 14  Nb_rapp          55028 non-null  float64\n",
      "dtypes: float64(6), object(9)\n",
      "memory usage: 6.3+ MB\n"
     ]
    }
   ],
   "source": [
    "data_model.info()"
   ]
  },
  {
   "cell_type": "code",
   "execution_count": 7,
   "id": "075664ae",
   "metadata": {},
   "outputs": [
    {
     "data": {
      "text/plain": [
       "0"
      ]
     },
     "execution_count": 7,
     "metadata": {},
     "output_type": "execute_result"
    }
   ],
   "source": [
    "data_model.duplicated().sum()"
   ]
  },
  {
   "cell_type": "markdown",
   "id": "ff80b47e",
   "metadata": {},
   "source": [
    "## <font color=\"red\" id=\"section_3\" > 3. Approche modélisation"
   ]
  },
  {
   "cell_type": "markdown",
   "id": "40eab227",
   "metadata": {},
   "source": [
    "## <font color=\"red\" id=\"section_3_1\" > 3.1  Separation de la variable prédictive des explicatives"
   ]
  },
  {
   "cell_type": "code",
   "execution_count": 8,
   "id": "a039632a",
   "metadata": {},
   "outputs": [],
   "source": [
    "Y = data_model['co2']\n",
    "X = data_model.drop(['co2'] ,axis =1)"
   ]
  },
  {
   "cell_type": "code",
   "execution_count": 9,
   "id": "1b5817b4",
   "metadata": {},
   "outputs": [
    {
     "data": {
      "text/plain": [
       "(55028, 14)"
      ]
     },
     "execution_count": 9,
     "metadata": {},
     "output_type": "execute_result"
    }
   ],
   "source": [
    "X.shape"
   ]
  },
  {
   "cell_type": "markdown",
   "id": "cf9ee640",
   "metadata": {},
   "source": [
    "## <font color=\"red\" id=\"section_3_2\" > 3.2 Separation variables numériques et catégorielles"
   ]
  },
  {
   "cell_type": "code",
   "execution_count": 10,
   "id": "2f2369f6",
   "metadata": {},
   "outputs": [
    {
     "data": {
      "text/plain": [
       "['puiss_admin_98',\n",
       " 'conso_urb',\n",
       " 'masse_ordma_min',\n",
       " 'masse_ordma_max',\n",
       " 'Nb_rapp']"
      ]
     },
     "execution_count": 10,
     "metadata": {},
     "output_type": "execute_result"
    }
   ],
   "source": [
    "var_num = X.select_dtypes(include = ['float', 'int']).columns.to_list()\n",
    "var_num"
   ]
  },
  {
   "cell_type": "code",
   "execution_count": 11,
   "id": "8eb7d0d4",
   "metadata": {},
   "outputs": [
    {
     "data": {
      "text/plain": [
       "['lib_mrq',\n",
       " 'lib_mod_doss',\n",
       " 'cnit',\n",
       " 'cod_cbr',\n",
       " 'hybride',\n",
       " 'puiss_max',\n",
       " 'Carrosserie',\n",
       " 'gamme',\n",
       " 'Type_boite']"
      ]
     },
     "execution_count": 11,
     "metadata": {},
     "output_type": "execute_result"
    }
   ],
   "source": [
    "var_cat = X.select_dtypes(include = ['object']).columns.to_list()\n",
    "var_cat"
   ]
  },
  {
   "cell_type": "markdown",
   "id": "1a65b0a7",
   "metadata": {},
   "source": [
    "## <font color=\"red\" id=\"section_3_3\" > 3.3  Création du preprocessor\n",
    "  \n",
    " Ici, nous allons normaliser les données numérique avec **StandarScaler** et encoder les catégorielles avec **OneHotEncoder**, le tout dans une pipeline qu'on pourra appeler à chaque fois."
   ]
  },
  {
   "cell_type": "code",
   "execution_count": 12,
   "id": "01fab4f0",
   "metadata": {},
   "outputs": [],
   "source": [
    "numerical_pipiline = make_pipeline(StandardScaler())\n",
    "categoriacal_pipiline = make_pipeline(OneHotEncoder(handle_unknown = 'ignore'))\n",
    "preprocessor = make_column_transformer( \n",
    "                          (numerical_pipiline, var_num),\n",
    "                          (categoriacal_pipiline, var_cat),\n",
    "                           remainder=\"passthrough\"\n",
    "                        )\n",
    "#handle_unknown = 'ignore' permet d'ignorer les catégorielle non lu lors du fit afin d'éviter des erreur"
   ]
  },
  {
   "cell_type": "markdown",
   "id": "32203d65",
   "metadata": {},
   "source": [
    "## <font color=\"red\" id=\"section_3_4\" > 3.4  Séparation données train et test"
   ]
  },
  {
   "cell_type": "code",
   "execution_count": 13,
   "id": "f8ae1775",
   "metadata": {},
   "outputs": [],
   "source": [
    "X_train, X_test, y_train, y_test = train_test_split(X,Y, test_size = 0.25, random_state =42)"
   ]
  },
  {
   "cell_type": "code",
   "execution_count": 14,
   "id": "da40c89c",
   "metadata": {},
   "outputs": [
    {
     "data": {
      "text/plain": [
       "<Figure size 1080x1080 with 0 Axes>"
      ]
     },
     "metadata": {},
     "output_type": "display_data"
    },
    {
     "data": {
      "image/png": "[encoded data removed]",
      "text/plain": [
       "<Figure size 900x900 with 30 Axes>"
      ]
     },
     "metadata": {
      "needs_background": "light"
     },
     "output_type": "display_data"
    }
   ],
   "source": [
    "plt.figure(figsize = (15,15))\n",
    "sns.pairplot(X_train, kind ='reg', diag_kind = 'kde')\n",
    "plt.show()"
   ]
  },
  {
   "cell_type": "markdown",
   "id": "15a978f2",
   "metadata": {},
   "source": [
    "## <font color=\"red\" id=\"section_4\" > 4.  Prediction de CO2\n",
    "    \n",
    "Pour chacun de nos modèles:\n",
    "   * **DummyRegressor**,\n",
    "   * **LinearRegression**, \n",
    "   * **SGDRegressor**, \n",
    "   * **RandomForestRegressor**,\n",
    "   * **GradientBoostingRegressor**,\n",
    "   * **XGBRegressor**, \n",
    "    \n",
    "nous allons predire le niveai d'émission de **Co2** puis établir une comparaison sur la performance des modèles."
   ]
  },
  {
   "cell_type": "markdown",
   "id": "27ee07ee",
   "metadata": {},
   "source": [
    "## <font color=\"red\" id=\"section_4_1\" > 4.1  Prediction de CO2: DummyRegressor"
   ]
  },
  {
   "cell_type": "code",
   "execution_count": 15,
   "id": "1ff778ca",
   "metadata": {},
   "outputs": [
    {
     "data": {
      "text/html": [
       "<style>#sk-container-id-1 {color: black;background-color: white;}#sk-container-id-1 pre{padding: 0;}#sk-container-id-1 div.sk-toggleable {background-color: white;}#sk-container-id-1 label.sk-toggleable__label {cursor: pointer;display: block;width: 100%;margin-bottom: 0;padding: 0.3em;box-sizing: border-box;text-align: center;}#sk-container-id-1 label.sk-toggleable__label-arrow:before {content: \"▸\";float: left;margin-right: 0.25em;color: #696969;}#sk-container-id-1 label.sk-toggleable__label-arrow:hover:before {color: black;}#sk-container-id-1 div.sk-estimator:hover label.sk-toggleable__label-arrow:before {color: black;}#sk-container-id-1 div.sk-toggleable__content {max-height: 0;max-width: 0;overflow: hidden;text-align: left;background-color: #f0f8ff;}#sk-container-id-1 div.sk-toggleable__content pre {margin: 0.2em;color: black;border-radius: 0.25em;background-color: #f0f8ff;}#sk-container-id-1 input.sk-toggleable__control:checked~div.sk-toggleable__content {max-height: 200px;max-width: 100%;overflow: auto;}#sk-container-id-1 input.sk-toggleable__control:checked~label.sk-toggleable__label-arrow:before {content: \"▾\";}#sk-container-id-1 div.sk-estimator input.sk-toggleable__control:checked~label.sk-toggleable__label {background-color: #d4ebff;}#sk-container-id-1 div.sk-label input.sk-toggleable__control:checked~label.sk-toggleable__label {background-color: #d4ebff;}#sk-container-id-1 input.sk-hidden--visually {border: 0;clip: rect(1px 1px 1px 1px);clip: rect(1px, 1px, 1px, 1px);height: 1px;margin: -1px;overflow: hidden;padding: 0;position: absolute;width: 1px;}#sk-container-id-1 div.sk-estimator {font-family: monospace;background-color: #f0f8ff;border: 1px dotted black;border-radius: 0.25em;box-sizing: border-box;margin-bottom: 0.5em;}#sk-container-id-1 div.sk-estimator:hover {background-color: #d4ebff;}#sk-container-id-1 div.sk-parallel-item::after {content: \"\";width: 100%;border-bottom: 1px solid gray;flex-grow: 1;}#sk-container-id-1 div.sk-label:hover label.sk-toggleable__label {background-color: #d4ebff;}#sk-container-id-1 div.sk-serial::before {content: \"\";position: absolute;border-left: 1px solid gray;box-sizing: border-box;top: 0;bottom: 0;left: 50%;z-index: 0;}#sk-container-id-1 div.sk-serial {display: flex;flex-direction: column;align-items: center;background-color: white;padding-right: 0.2em;padding-left: 0.2em;position: relative;}#sk-container-id-1 div.sk-item {position: relative;z-index: 1;}#sk-container-id-1 div.sk-parallel {display: flex;align-items: stretch;justify-content: center;background-color: white;position: relative;}#sk-container-id-1 div.sk-item::before, #sk-container-id-1 div.sk-parallel-item::before {content: \"\";position: absolute;border-left: 1px solid gray;box-sizing: border-box;top: 0;bottom: 0;left: 50%;z-index: -1;}#sk-container-id-1 div.sk-parallel-item {display: flex;flex-direction: column;z-index: 1;position: relative;background-color: white;}#sk-container-id-1 div.sk-parallel-item:first-child::after {align-self: flex-end;width: 50%;}#sk-container-id-1 div.sk-parallel-item:last-child::after {align-self: flex-start;width: 50%;}#sk-container-id-1 div.sk-parallel-item:only-child::after {width: 0;}#sk-container-id-1 div.sk-dashed-wrapped {border: 1px dashed gray;margin: 0 0.4em 0.5em 0.4em;box-sizing: border-box;padding-bottom: 0.4em;background-color: white;}#sk-container-id-1 div.sk-label label {font-family: monospace;font-weight: bold;display: inline-block;line-height: 1.2em;}#sk-container-id-1 div.sk-label-container {text-align: center;}#sk-container-id-1 div.sk-container {/* jupyter's `normalize.less` sets `[hidden] { display: none; }` but bootstrap.min.css set `[hidden] { display: none !important; }` so we also need the `!important` here to be able to override the default hidden behavior on the sphinx rendered scikit-learn.org. See: https://github.com/scikit-learn/scikit-learn/issues/21755 */display: inline-block !important;position: relative;}#sk-container-id-1 div.sk-text-repr-fallback {display: none;}</style><div id=\"sk-container-id-1\" class=\"sk-top-container\"><div class=\"sk-text-repr-fallback\"><pre>Pipeline(steps=[(&#x27;columntransformer&#x27;,\n",
       "                 ColumnTransformer(remainder=&#x27;passthrough&#x27;,\n",
       "                                   transformers=[(&#x27;pipeline-1&#x27;,\n",
       "                                                  Pipeline(steps=[(&#x27;standardscaler&#x27;,\n",
       "                                                                   StandardScaler())]),\n",
       "                                                  [&#x27;puiss_admin_98&#x27;,\n",
       "                                                   &#x27;conso_urb&#x27;,\n",
       "                                                   &#x27;masse_ordma_min&#x27;,\n",
       "                                                   &#x27;masse_ordma_max&#x27;,\n",
       "                                                   &#x27;Nb_rapp&#x27;]),\n",
       "                                                 (&#x27;pipeline-2&#x27;,\n",
       "                                                  Pipeline(steps=[(&#x27;onehotencoder&#x27;,\n",
       "                                                                   OneHotEncoder(handle_unknown=&#x27;ignore&#x27;))]),\n",
       "                                                  [&#x27;lib_mrq&#x27;, &#x27;lib_mod_doss&#x27;,\n",
       "                                                   &#x27;cnit&#x27;, &#x27;cod_cbr&#x27;, &#x27;hybride&#x27;,\n",
       "                                                   &#x27;puiss_max&#x27;, &#x27;Carrosserie&#x27;,\n",
       "                                                   &#x27;gamme&#x27;, &#x27;Type_boite&#x27;])])),\n",
       "                (&#x27;transformedtargetregressor&#x27;,\n",
       "                 TransformedTargetRegressor(regressor=DummyRegressor()))])</pre><b>In a Jupyter environment, please rerun this cell to show the HTML representation or trust the notebook. <br />On GitHub, the HTML representation is unable to render, please try loading this page with nbviewer.org.</b></div><div class=\"sk-container\" hidden><div class=\"sk-item sk-dashed-wrapped\"><div class=\"sk-label-container\"><div class=\"sk-label sk-toggleable\"><input class=\"sk-toggleable__control sk-hidden--visually\" id=\"sk-estimator-id-1\" type=\"checkbox\" ><label for=\"sk-estimator-id-1\" class=\"sk-toggleable__label sk-toggleable__label-arrow\">Pipeline</label><div class=\"sk-toggleable__content\"><pre>Pipeline(steps=[(&#x27;columntransformer&#x27;,\n",
       "                 ColumnTransformer(remainder=&#x27;passthrough&#x27;,\n",
       "                                   transformers=[(&#x27;pipeline-1&#x27;,\n",
       "                                                  Pipeline(steps=[(&#x27;standardscaler&#x27;,\n",
       "                                                                   StandardScaler())]),\n",
       "                                                  [&#x27;puiss_admin_98&#x27;,\n",
       "                                                   &#x27;conso_urb&#x27;,\n",
       "                                                   &#x27;masse_ordma_min&#x27;,\n",
       "                                                   &#x27;masse_ordma_max&#x27;,\n",
       "                                                   &#x27;Nb_rapp&#x27;]),\n",
       "                                                 (&#x27;pipeline-2&#x27;,\n",
       "                                                  Pipeline(steps=[(&#x27;onehotencoder&#x27;,\n",
       "                                                                   OneHotEncoder(handle_unknown=&#x27;ignore&#x27;))]),\n",
       "                                                  [&#x27;lib_mrq&#x27;, &#x27;lib_mod_doss&#x27;,\n",
       "                                                   &#x27;cnit&#x27;, &#x27;cod_cbr&#x27;, &#x27;hybride&#x27;,\n",
       "                                                   &#x27;puiss_max&#x27;, &#x27;Carrosserie&#x27;,\n",
       "                                                   &#x27;gamme&#x27;, &#x27;Type_boite&#x27;])])),\n",
       "                (&#x27;transformedtargetregressor&#x27;,\n",
       "                 TransformedTargetRegressor(regressor=DummyRegressor()))])</pre></div></div></div><div class=\"sk-serial\"><div class=\"sk-item sk-dashed-wrapped\"><div class=\"sk-label-container\"><div class=\"sk-label sk-toggleable\"><input class=\"sk-toggleable__control sk-hidden--visually\" id=\"sk-estimator-id-2\" type=\"checkbox\" ><label for=\"sk-estimator-id-2\" class=\"sk-toggleable__label sk-toggleable__label-arrow\">columntransformer: ColumnTransformer</label><div class=\"sk-toggleable__content\"><pre>ColumnTransformer(remainder=&#x27;passthrough&#x27;,\n",
       "                  transformers=[(&#x27;pipeline-1&#x27;,\n",
       "                                 Pipeline(steps=[(&#x27;standardscaler&#x27;,\n",
       "                                                  StandardScaler())]),\n",
       "                                 [&#x27;puiss_admin_98&#x27;, &#x27;conso_urb&#x27;,\n",
       "                                  &#x27;masse_ordma_min&#x27;, &#x27;masse_ordma_max&#x27;,\n",
       "                                  &#x27;Nb_rapp&#x27;]),\n",
       "                                (&#x27;pipeline-2&#x27;,\n",
       "                                 Pipeline(steps=[(&#x27;onehotencoder&#x27;,\n",
       "                                                  OneHotEncoder(handle_unknown=&#x27;ignore&#x27;))]),\n",
       "                                 [&#x27;lib_mrq&#x27;, &#x27;lib_mod_doss&#x27;, &#x27;cnit&#x27;, &#x27;cod_cbr&#x27;,\n",
       "                                  &#x27;hybride&#x27;, &#x27;puiss_max&#x27;, &#x27;Carrosserie&#x27;,\n",
       "                                  &#x27;gamme&#x27;, &#x27;Type_boite&#x27;])])</pre></div></div></div><div class=\"sk-parallel\"><div class=\"sk-parallel-item\"><div class=\"sk-item\"><div class=\"sk-label-container\"><div class=\"sk-label sk-toggleable\"><input class=\"sk-toggleable__control sk-hidden--visually\" id=\"sk-estimator-id-3\" type=\"checkbox\" ><label for=\"sk-estimator-id-3\" class=\"sk-toggleable__label sk-toggleable__label-arrow\">pipeline-1</label><div class=\"sk-toggleable__content\"><pre>[&#x27;puiss_admin_98&#x27;, &#x27;conso_urb&#x27;, &#x27;masse_ordma_min&#x27;, &#x27;masse_ordma_max&#x27;, &#x27;Nb_rapp&#x27;]</pre></div></div></div><div class=\"sk-serial\"><div class=\"sk-item\"><div class=\"sk-serial\"><div class=\"sk-item\"><div class=\"sk-estimator sk-toggleable\"><input class=\"sk-toggleable__control sk-hidden--visually\" id=\"sk-estimator-id-4\" type=\"checkbox\" ><label for=\"sk-estimator-id-4\" class=\"sk-toggleable__label sk-toggleable__label-arrow\">StandardScaler</label><div class=\"sk-toggleable__content\"><pre>StandardScaler()</pre></div></div></div></div></div></div></div></div><div class=\"sk-parallel-item\"><div class=\"sk-item\"><div class=\"sk-label-container\"><div class=\"sk-label sk-toggleable\"><input class=\"sk-toggleable__control sk-hidden--visually\" id=\"sk-estimator-id-5\" type=\"checkbox\" ><label for=\"sk-estimator-id-5\" class=\"sk-toggleable__label sk-toggleable__label-arrow\">pipeline-2</label><div class=\"sk-toggleable__content\"><pre>[&#x27;lib_mrq&#x27;, &#x27;lib_mod_doss&#x27;, &#x27;cnit&#x27;, &#x27;cod_cbr&#x27;, &#x27;hybride&#x27;, &#x27;puiss_max&#x27;, &#x27;Carrosserie&#x27;, &#x27;gamme&#x27;, &#x27;Type_boite&#x27;]</pre></div></div></div><div class=\"sk-serial\"><div class=\"sk-item\"><div class=\"sk-serial\"><div class=\"sk-item\"><div class=\"sk-estimator sk-toggleable\"><input class=\"sk-toggleable__control sk-hidden--visually\" id=\"sk-estimator-id-6\" type=\"checkbox\" ><label for=\"sk-estimator-id-6\" class=\"sk-toggleable__label sk-toggleable__label-arrow\">OneHotEncoder</label><div class=\"sk-toggleable__content\"><pre>OneHotEncoder(handle_unknown=&#x27;ignore&#x27;)</pre></div></div></div></div></div></div></div></div><div class=\"sk-parallel-item\"><div class=\"sk-item\"><div class=\"sk-label-container\"><div class=\"sk-label sk-toggleable\"><input class=\"sk-toggleable__control sk-hidden--visually\" id=\"sk-estimator-id-7\" type=\"checkbox\" ><label for=\"sk-estimator-id-7\" class=\"sk-toggleable__label sk-toggleable__label-arrow\">remainder</label><div class=\"sk-toggleable__content\"><pre>[]</pre></div></div></div><div class=\"sk-serial\"><div class=\"sk-item\"><div class=\"sk-estimator sk-toggleable\"><input class=\"sk-toggleable__control sk-hidden--visually\" id=\"sk-estimator-id-8\" type=\"checkbox\" ><label for=\"sk-estimator-id-8\" class=\"sk-toggleable__label sk-toggleable__label-arrow\">passthrough</label><div class=\"sk-toggleable__content\"><pre>passthrough</pre></div></div></div></div></div></div></div></div><div class=\"sk-item sk-dashed-wrapped\"><div class=\"sk-label-container\"><div class=\"sk-label sk-toggleable\"><input class=\"sk-toggleable__control sk-hidden--visually\" id=\"sk-estimator-id-9\" type=\"checkbox\" ><label for=\"sk-estimator-id-9\" class=\"sk-toggleable__label sk-toggleable__label-arrow\">transformedtargetregressor: TransformedTargetRegressor</label><div class=\"sk-toggleable__content\"><pre>TransformedTargetRegressor(regressor=DummyRegressor())</pre></div></div></div><div class=\"sk-parallel\"><div class=\"sk-parallel-item\"><div class=\"sk-item\"><div class=\"sk-label-container\"><div class=\"sk-label sk-toggleable\"><input class=\"sk-toggleable__control sk-hidden--visually\" id=\"sk-estimator-id-10\" type=\"checkbox\" ><label for=\"sk-estimator-id-10\" class=\"sk-toggleable__label sk-toggleable__label-arrow\">regressor: DummyRegressor</label><div class=\"sk-toggleable__content\"><pre>DummyRegressor()</pre></div></div></div><div class=\"sk-serial\"><div class=\"sk-item\"><div class=\"sk-estimator sk-toggleable\"><input class=\"sk-toggleable__control sk-hidden--visually\" id=\"sk-estimator-id-11\" type=\"checkbox\" ><label for=\"sk-estimator-id-11\" class=\"sk-toggleable__label sk-toggleable__label-arrow\">DummyRegressor</label><div class=\"sk-toggleable__content\"><pre>DummyRegressor()</pre></div></div></div></div></div></div></div></div></div></div></div></div>"
      ],
      "text/plain": [
       "Pipeline(steps=[('columntransformer',\n",
       "                 ColumnTransformer(remainder='passthrough',\n",
       "                                   transformers=[('pipeline-1',\n",
       "                                                  Pipeline(steps=[('standardscaler',\n",
       "                                                                   StandardScaler())]),\n",
       "                                                  ['puiss_admin_98',\n",
       "                                                   'conso_urb',\n",
       "                                                   'masse_ordma_min',\n",
       "                                                   'masse_ordma_max',\n",
       "                                                   'Nb_rapp']),\n",
       "                                                 ('pipeline-2',\n",
       "                                                  Pipeline(steps=[('onehotencoder',\n",
       "                                                                   OneHotEncoder(handle_unknown='ignore'))]),\n",
       "                                                  ['lib_mrq', 'lib_mod_doss',\n",
       "                                                   'cnit', 'cod_cbr', 'hybride',\n",
       "                                                   'puiss_max', 'Carrosserie',\n",
       "                                                   'gamme', 'Type_boite'])])),\n",
       "                ('transformedtargetregressor',\n",
       "                 TransformedTargetRegressor(regressor=DummyRegressor()))])"
      ]
     },
     "execution_count": 15,
     "metadata": {},
     "output_type": "execute_result"
    }
   ],
   "source": [
    "model_dum = make_pipeline( preprocessor,\n",
    "                  TransformedTargetRegressor(regressor = DummyRegressor())   \n",
    ")\n",
    "model_dum.fit(X_train, y_train)"
   ]
  },
  {
   "cell_type": "markdown",
   "id": "5ae7b51d",
   "metadata": {},
   "source": [
    "## <font color=\"red\" id=\"section_4_1_1\" > 4.1.1 Prediction et performance du model"
   ]
  },
  {
   "cell_type": "code",
   "execution_count": 16,
   "id": "014663b6",
   "metadata": {},
   "outputs": [],
   "source": [
    "y_pred_dum = model_dum.predict(X_test)"
   ]
  },
  {
   "cell_type": "code",
   "execution_count": 17,
   "id": "24dc9afa",
   "metadata": {},
   "outputs": [
    {
     "data": {
      "text/plain": [
       "array([201.73189407, 201.73189407, 201.73189407, ..., 201.73189407,\n",
       "       201.73189407, 201.73189407])"
      ]
     },
     "execution_count": 17,
     "metadata": {},
     "output_type": "execute_result"
    }
   ],
   "source": [
    "y_pred_dum"
   ]
  },
  {
   "cell_type": "markdown",
   "id": "20fe0199",
   "metadata": {},
   "source": [
    "### Comparaison: Val réelle vs val predict"
   ]
  },
  {
   "cell_type": "code",
   "execution_count": 18,
   "id": "fe681990",
   "metadata": {},
   "outputs": [
    {
     "data": {
      "text/html": [
       "<div>\n",
       "<style scoped>\n",
       "    .dataframe tbody tr th:only-of-type {\n",
       "        vertical-align: middle;\n",
       "    }\n",
       "\n",
       "    .dataframe tbody tr th {\n",
       "        vertical-align: top;\n",
       "    }\n",
       "\n",
       "    .dataframe thead th {\n",
       "        text-align: right;\n",
       "    }\n",
       "</style>\n",
       "<table border=\"1\" class=\"dataframe\">\n",
       "  <thead>\n",
       "    <tr style=\"text-align: right;\">\n",
       "      <th></th>\n",
       "      <th>Valeurs réelles</th>\n",
       "      <th>Valeurs predict</th>\n",
       "    </tr>\n",
       "  </thead>\n",
       "  <tbody>\n",
       "    <tr>\n",
       "      <th>0</th>\n",
       "      <td>193.0</td>\n",
       "      <td>201.731894</td>\n",
       "    </tr>\n",
       "    <tr>\n",
       "      <th>1</th>\n",
       "      <td>227.0</td>\n",
       "      <td>201.731894</td>\n",
       "    </tr>\n",
       "    <tr>\n",
       "      <th>2</th>\n",
       "      <td>216.0</td>\n",
       "      <td>201.731894</td>\n",
       "    </tr>\n",
       "    <tr>\n",
       "      <th>3</th>\n",
       "      <td>203.0</td>\n",
       "      <td>201.731894</td>\n",
       "    </tr>\n",
       "    <tr>\n",
       "      <th>4</th>\n",
       "      <td>227.0</td>\n",
       "      <td>201.731894</td>\n",
       "    </tr>\n",
       "    <tr>\n",
       "      <th>5</th>\n",
       "      <td>195.0</td>\n",
       "      <td>201.731894</td>\n",
       "    </tr>\n",
       "  </tbody>\n",
       "</table>\n",
       "</div>"
      ],
      "text/plain": [
       "   Valeurs réelles  Valeurs predict\n",
       "0            193.0       201.731894\n",
       "1            227.0       201.731894\n",
       "2            216.0       201.731894\n",
       "3            203.0       201.731894\n",
       "4            227.0       201.731894\n",
       "5            195.0       201.731894"
      ]
     },
     "execution_count": 18,
     "metadata": {},
     "output_type": "execute_result"
    }
   ],
   "source": [
    "pd.DataFrame({'Valeurs réelles': y_test.values.ravel(), 'Valeurs predict': y_pred_dum}).head(6)"
   ]
  },
  {
   "cell_type": "markdown",
   "id": "e405b721",
   "metadata": {},
   "source": [
    "### Score de performance"
   ]
  },
  {
   "cell_type": "code",
   "execution_count": 19,
   "id": "df6fb048",
   "metadata": {},
   "outputs": [
    {
     "name": "stdout",
     "output_type": "stream",
     "text": [
      "Le score de performance sur le training set est: 0.0\n"
     ]
    }
   ],
   "source": [
    "print(f\"Le score de performance sur le training set est:\", model_dum.score(X_train, y_train))"
   ]
  },
  {
   "cell_type": "code",
   "execution_count": 20,
   "id": "1fc9812e",
   "metadata": {},
   "outputs": [
    {
     "name": "stdout",
     "output_type": "stream",
     "text": [
      "Le score R2 de performance sur le  test set est: -5e-05;\n",
      "La mean absolute error (MAE) est :22.0;\n",
      "La RMSE est :4.716;\n",
      "La median  absolute error est :12.0.\n"
     ]
    }
   ],
   "source": [
    "print(\"Le score R2 de performance sur le  test set est: {};\" .format(np.round(model_dum.score(X_test, y_test), 5)))\n",
    "print(\"La mean absolute error (MAE) est :{};\".format(np.round(np.round(mean_absolute_error(y_test,y_pred_dum)), 2)))\n",
    "print(\"La RMSE est :{};\" .format(np.round(np.sqrt(mean_absolute_error(y_test,y_pred_dum)), 3)))\n",
    "print(\"La median  absolute error est :{}.\".format(np.round(median_absolute_error(y_test,y_pred_dum))))"
   ]
  },
  {
   "cell_type": "markdown",
   "id": "9459ba4c",
   "metadata": {},
   "source": [
    "## Visualisation"
   ]
  },
  {
   "cell_type": "code",
   "execution_count": 21,
   "id": "f912496b",
   "metadata": {},
   "outputs": [
    {
     "data": {
      "text/plain": [
       "Text(0.5, 1.0, 'DummyRegressor, prediction de CO2')"
      ]
     },
     "execution_count": 21,
     "metadata": {},
     "output_type": "execute_result"
    },
    {
     "data": {
      "image/png": "[encoded data removed]",
      "text/plain": [
       "<Figure size 432x432 with 1 Axes>"
      ]
     },
     "metadata": {
      "needs_background": "light"
     },
     "output_type": "display_data"
    }
   ],
   "source": [
    "fig, ax = plt.subplots(figsize = (6,6))\n",
    "sns.scatterplot(x = y_test, y = y_pred_dum)\n",
    "ax.plot([0,1], [0,1], ls ='--', c = 'red', transform = ax.transAxes)\n",
    "plt.xlabel(\"Valeurs réelles\", fontsize = 14)\n",
    "plt.ylabel(\"Valeurs predictes\", fontsize = 14)\n",
    "ax.set_title(\"DummyRegressor, prediction de CO2\", fontsize = 14)"
   ]
  },
  {
   "cell_type": "markdown",
   "id": "56f4744a",
   "metadata": {},
   "source": [
    "# Commentaire: \n",
    "Ce qu'on constate c'est ce que ce modéle n'a rien appris sur ce dataset, et c'est complétement normal car dummyRegressor ne tient pas compte des données pour prédire.\n",
    "On l'a juste utiisé comme moyen de référence."
   ]
  },
  {
   "cell_type": "markdown",
   "id": "d59b74b0",
   "metadata": {},
   "source": [
    "## <font color=\"red\" id=\"section_4_2\" > 4.2  Prediction de CO2: LinearRegression"
   ]
  },
  {
   "cell_type": "markdown",
   "id": "0f68ff6d",
   "metadata": {},
   "source": [
    "## Optimisation des hyperparamètres"
   ]
  },
  {
   "cell_type": "code",
   "execution_count": 22,
   "id": "33ab6338",
   "metadata": {},
   "outputs": [
    {
     "name": "stdout",
     "output_type": "stream",
     "text": [
      "Execution time est:125.4103422164917\n"
     ]
    }
   ],
   "source": [
    "t0 = time.time() \n",
    "params_lr = {\"regressor__fit_intercept\": [False, True],# sur False; les données doivent être centrées\n",
    "             \"regressor__normalize\": [False, True] # s'il fallait normaliser ou pas  \n",
    "}\n",
    "lr_grid_cv = GridSearchCV(TransformedTargetRegressor(regressor = LinearRegression()),\n",
    "                          param_grid = params_lr,\n",
    "                          cv = 5,\n",
    "                          scoring = ('r2',\"neg_mean_absolute_error\"),\n",
    "                          refit = \"neg_mean_absolute_error\",\n",
    "                          return_train_score =True,\n",
    "                          n_jobs =-1)\n",
    "\n",
    "mlr_cv = Pipeline([('preprocessor', preprocessor),\n",
    "                        ('grid_searchcv_mlr', lr_grid_cv)\n",
    "    \n",
    "                  ])\n",
    "\n",
    "mlr_cv.fit(X_train, y_train)\n",
    "print(\"Execution time est:{}\".format(time.time() - t0))"
   ]
  },
  {
   "cell_type": "code",
   "execution_count": 23,
   "id": "bdf79a15",
   "metadata": {},
   "outputs": [
    {
     "data": {
      "text/html": [
       "<div>\n",
       "<style scoped>\n",
       "    .dataframe tbody tr th:only-of-type {\n",
       "        vertical-align: middle;\n",
       "    }\n",
       "\n",
       "    .dataframe tbody tr th {\n",
       "        vertical-align: top;\n",
       "    }\n",
       "\n",
       "    .dataframe thead th {\n",
       "        text-align: right;\n",
       "    }\n",
       "</style>\n",
       "<table border=\"1\" class=\"dataframe\">\n",
       "  <thead>\n",
       "    <tr style=\"text-align: right;\">\n",
       "      <th></th>\n",
       "      <th>mean_fit_time</th>\n",
       "      <th>std_fit_time</th>\n",
       "      <th>mean_score_time</th>\n",
       "      <th>std_score_time</th>\n",
       "      <th>param_regressor__fit_intercept</th>\n",
       "      <th>param_regressor__normalize</th>\n",
       "      <th>params</th>\n",
       "      <th>split0_test_r2</th>\n",
       "      <th>split1_test_r2</th>\n",
       "      <th>split2_test_r2</th>\n",
       "      <th>split3_test_r2</th>\n",
       "      <th>split4_test_r2</th>\n",
       "      <th>mean_test_r2</th>\n",
       "      <th>std_test_r2</th>\n",
       "      <th>rank_test_r2</th>\n",
       "      <th>split0_train_r2</th>\n",
       "      <th>split1_train_r2</th>\n",
       "      <th>split2_train_r2</th>\n",
       "      <th>split3_train_r2</th>\n",
       "      <th>split4_train_r2</th>\n",
       "      <th>mean_train_r2</th>\n",
       "      <th>std_train_r2</th>\n",
       "      <th>split0_test_neg_mean_absolute_error</th>\n",
       "      <th>split1_test_neg_mean_absolute_error</th>\n",
       "      <th>split2_test_neg_mean_absolute_error</th>\n",
       "      <th>split3_test_neg_mean_absolute_error</th>\n",
       "      <th>split4_test_neg_mean_absolute_error</th>\n",
       "      <th>mean_test_neg_mean_absolute_error</th>\n",
       "      <th>std_test_neg_mean_absolute_error</th>\n",
       "      <th>rank_test_neg_mean_absolute_error</th>\n",
       "      <th>split0_train_neg_mean_absolute_error</th>\n",
       "      <th>split1_train_neg_mean_absolute_error</th>\n",
       "      <th>split2_train_neg_mean_absolute_error</th>\n",
       "      <th>split3_train_neg_mean_absolute_error</th>\n",
       "      <th>split4_train_neg_mean_absolute_error</th>\n",
       "      <th>mean_train_neg_mean_absolute_error</th>\n",
       "      <th>std_train_neg_mean_absolute_error</th>\n",
       "    </tr>\n",
       "  </thead>\n",
       "  <tbody>\n",
       "    <tr>\n",
       "      <th>0</th>\n",
       "      <td>29.859328</td>\n",
       "      <td>6.287095</td>\n",
       "      <td>0.014803</td>\n",
       "      <td>0.011656</td>\n",
       "      <td>False</td>\n",
       "      <td>False</td>\n",
       "      <td>{'regressor__fit_intercept': False, 'regressor...</td>\n",
       "      <td>-4.408892</td>\n",
       "      <td>-7.274709</td>\n",
       "      <td>-5.779957</td>\n",
       "      <td>-1.337568</td>\n",
       "      <td>-6.138368</td>\n",
       "      <td>-4.987899</td>\n",
       "      <td>2.041598</td>\n",
       "      <td>1</td>\n",
       "      <td>0.999976</td>\n",
       "      <td>0.999993</td>\n",
       "      <td>1.0</td>\n",
       "      <td>0.999938</td>\n",
       "      <td>0.99999</td>\n",
       "      <td>0.999979</td>\n",
       "      <td>0.000022</td>\n",
       "      <td>-54.912856</td>\n",
       "      <td>-75.049763</td>\n",
       "      <td>-57.339384</td>\n",
       "      <td>-38.366050</td>\n",
       "      <td>-40.612472</td>\n",
       "      <td>-53.256105</td>\n",
       "      <td>13.235987</td>\n",
       "      <td>1</td>\n",
       "      <td>-0.003316</td>\n",
       "      <td>-0.002097</td>\n",
       "      <td>-0.000278</td>\n",
       "      <td>-0.006283</td>\n",
       "      <td>-0.001385</td>\n",
       "      <td>-0.002672</td>\n",
       "      <td>0.002058</td>\n",
       "    </tr>\n",
       "    <tr>\n",
       "      <th>1</th>\n",
       "      <td>25.608106</td>\n",
       "      <td>4.534548</td>\n",
       "      <td>0.005603</td>\n",
       "      <td>0.003263</td>\n",
       "      <td>False</td>\n",
       "      <td>True</td>\n",
       "      <td>{'regressor__fit_intercept': False, 'regressor...</td>\n",
       "      <td>-4.408892</td>\n",
       "      <td>-7.274709</td>\n",
       "      <td>-5.779957</td>\n",
       "      <td>-1.337568</td>\n",
       "      <td>-6.138368</td>\n",
       "      <td>-4.987899</td>\n",
       "      <td>2.041598</td>\n",
       "      <td>1</td>\n",
       "      <td>0.999976</td>\n",
       "      <td>0.999993</td>\n",
       "      <td>1.0</td>\n",
       "      <td>0.999938</td>\n",
       "      <td>0.99999</td>\n",
       "      <td>0.999979</td>\n",
       "      <td>0.000022</td>\n",
       "      <td>-54.912856</td>\n",
       "      <td>-75.049763</td>\n",
       "      <td>-57.339384</td>\n",
       "      <td>-38.366050</td>\n",
       "      <td>-40.612472</td>\n",
       "      <td>-53.256105</td>\n",
       "      <td>13.235987</td>\n",
       "      <td>1</td>\n",
       "      <td>-0.003316</td>\n",
       "      <td>-0.002097</td>\n",
       "      <td>-0.000278</td>\n",
       "      <td>-0.006283</td>\n",
       "      <td>-0.001385</td>\n",
       "      <td>-0.002672</td>\n",
       "      <td>0.002058</td>\n",
       "    </tr>\n",
       "    <tr>\n",
       "      <th>2</th>\n",
       "      <td>21.356499</td>\n",
       "      <td>5.509006</td>\n",
       "      <td>0.003806</td>\n",
       "      <td>0.001161</td>\n",
       "      <td>True</td>\n",
       "      <td>False</td>\n",
       "      <td>{'regressor__fit_intercept': True, 'regressor_...</td>\n",
       "      <td>-4.408619</td>\n",
       "      <td>-7.275866</td>\n",
       "      <td>-5.780188</td>\n",
       "      <td>-1.337634</td>\n",
       "      <td>-6.146004</td>\n",
       "      <td>-4.989662</td>\n",
       "      <td>2.042729</td>\n",
       "      <td>3</td>\n",
       "      <td>0.999976</td>\n",
       "      <td>0.999993</td>\n",
       "      <td>1.0</td>\n",
       "      <td>0.999938</td>\n",
       "      <td>0.99999</td>\n",
       "      <td>0.999979</td>\n",
       "      <td>0.000022</td>\n",
       "      <td>-54.912871</td>\n",
       "      <td>-75.051058</td>\n",
       "      <td>-57.340407</td>\n",
       "      <td>-38.365977</td>\n",
       "      <td>-40.621912</td>\n",
       "      <td>-53.258445</td>\n",
       "      <td>13.234690</td>\n",
       "      <td>3</td>\n",
       "      <td>-0.003316</td>\n",
       "      <td>-0.002097</td>\n",
       "      <td>-0.000278</td>\n",
       "      <td>-0.006282</td>\n",
       "      <td>-0.001385</td>\n",
       "      <td>-0.002672</td>\n",
       "      <td>0.002058</td>\n",
       "    </tr>\n",
       "    <tr>\n",
       "      <th>3</th>\n",
       "      <td>1.508311</td>\n",
       "      <td>0.373728</td>\n",
       "      <td>0.004802</td>\n",
       "      <td>0.000401</td>\n",
       "      <td>True</td>\n",
       "      <td>True</td>\n",
       "      <td>{'regressor__fit_intercept': True, 'regressor_...</td>\n",
       "      <td>-6.777062</td>\n",
       "      <td>-9.521664</td>\n",
       "      <td>-9.478534</td>\n",
       "      <td>-19159.897017</td>\n",
       "      <td>-9.003485</td>\n",
       "      <td>-3838.935552</td>\n",
       "      <td>7660.480799</td>\n",
       "      <td>4</td>\n",
       "      <td>0.999976</td>\n",
       "      <td>0.999993</td>\n",
       "      <td>1.0</td>\n",
       "      <td>0.999942</td>\n",
       "      <td>0.99999</td>\n",
       "      <td>0.999980</td>\n",
       "      <td>0.000021</td>\n",
       "      <td>-68.774515</td>\n",
       "      <td>-85.715161</td>\n",
       "      <td>-74.517734</td>\n",
       "      <td>-3549.978165</td>\n",
       "      <td>-59.644048</td>\n",
       "      <td>-767.725925</td>\n",
       "      <td>1391.151812</td>\n",
       "      <td>4</td>\n",
       "      <td>-0.003315</td>\n",
       "      <td>-0.002096</td>\n",
       "      <td>-0.000278</td>\n",
       "      <td>-0.006180</td>\n",
       "      <td>-0.001384</td>\n",
       "      <td>-0.002651</td>\n",
       "      <td>0.002022</td>\n",
       "    </tr>\n",
       "  </tbody>\n",
       "</table>\n",
       "</div>"
      ],
      "text/plain": [
       "   mean_fit_time  std_fit_time  mean_score_time  std_score_time  \\\n",
       "0      29.859328      6.287095         0.014803        0.011656   \n",
       "1      25.608106      4.534548         0.005603        0.003263   \n",
       "2      21.356499      5.509006         0.003806        0.001161   \n",
       "3       1.508311      0.373728         0.004802        0.000401   \n",
       "\n",
       "  param_regressor__fit_intercept param_regressor__normalize  \\\n",
       "0                          False                      False   \n",
       "1                          False                       True   \n",
       "2                           True                      False   \n",
       "3                           True                       True   \n",
       "\n",
       "                                              params  split0_test_r2  \\\n",
       "0  {'regressor__fit_intercept': False, 'regressor...       -4.408892   \n",
       "1  {'regressor__fit_intercept': False, 'regressor...       -4.408892   \n",
       "2  {'regressor__fit_intercept': True, 'regressor_...       -4.408619   \n",
       "3  {'regressor__fit_intercept': True, 'regressor_...       -6.777062   \n",
       "\n",
       "   split1_test_r2  split2_test_r2  split3_test_r2  split4_test_r2  \\\n",
       "0       -7.274709       -5.779957       -1.337568       -6.138368   \n",
       "1       -7.274709       -5.779957       -1.337568       -6.138368   \n",
       "2       -7.275866       -5.780188       -1.337634       -6.146004   \n",
       "3       -9.521664       -9.478534   -19159.897017       -9.003485   \n",
       "\n",
       "   mean_test_r2  std_test_r2  rank_test_r2  split0_train_r2  split1_train_r2  \\\n",
       "0     -4.987899     2.041598             1         0.999976         0.999993   \n",
       "1     -4.987899     2.041598             1         0.999976         0.999993   \n",
       "2     -4.989662     2.042729             3         0.999976         0.999993   \n",
       "3  -3838.935552  7660.480799             4         0.999976         0.999993   \n",
       "\n",
       "   split2_train_r2  split3_train_r2  split4_train_r2  mean_train_r2  \\\n",
       "0              1.0         0.999938          0.99999       0.999979   \n",
       "1              1.0         0.999938          0.99999       0.999979   \n",
       "2              1.0         0.999938          0.99999       0.999979   \n",
       "3              1.0         0.999942          0.99999       0.999980   \n",
       "\n",
       "   std_train_r2  split0_test_neg_mean_absolute_error  \\\n",
       "0      0.000022                           -54.912856   \n",
       "1      0.000022                           -54.912856   \n",
       "2      0.000022                           -54.912871   \n",
       "3      0.000021                           -68.774515   \n",
       "\n",
       "   split1_test_neg_mean_absolute_error  split2_test_neg_mean_absolute_error  \\\n",
       "0                           -75.049763                           -57.339384   \n",
       "1                           -75.049763                           -57.339384   \n",
       "2                           -75.051058                           -57.340407   \n",
       "3                           -85.715161                           -74.517734   \n",
       "\n",
       "   split3_test_neg_mean_absolute_error  split4_test_neg_mean_absolute_error  \\\n",
       "0                           -38.366050                           -40.612472   \n",
       "1                           -38.366050                           -40.612472   \n",
       "2                           -38.365977                           -40.621912   \n",
       "3                         -3549.978165                           -59.644048   \n",
       "\n",
       "   mean_test_neg_mean_absolute_error  std_test_neg_mean_absolute_error  \\\n",
       "0                         -53.256105                         13.235987   \n",
       "1                         -53.256105                         13.235987   \n",
       "2                         -53.258445                         13.234690   \n",
       "3                        -767.725925                       1391.151812   \n",
       "\n",
       "   rank_test_neg_mean_absolute_error  split0_train_neg_mean_absolute_error  \\\n",
       "0                                  1                             -0.003316   \n",
       "1                                  1                             -0.003316   \n",
       "2                                  3                             -0.003316   \n",
       "3                                  4                             -0.003315   \n",
       "\n",
       "   split1_train_neg_mean_absolute_error  split2_train_neg_mean_absolute_error  \\\n",
       "0                             -0.002097                             -0.000278   \n",
       "1                             -0.002097                             -0.000278   \n",
       "2                             -0.002097                             -0.000278   \n",
       "3                             -0.002096                             -0.000278   \n",
       "\n",
       "   split3_train_neg_mean_absolute_error  split4_train_neg_mean_absolute_error  \\\n",
       "0                             -0.006283                             -0.001385   \n",
       "1                             -0.006283                             -0.001385   \n",
       "2                             -0.006282                             -0.001385   \n",
       "3                             -0.006180                             -0.001384   \n",
       "\n",
       "   mean_train_neg_mean_absolute_error  std_train_neg_mean_absolute_error  \n",
       "0                           -0.002672                           0.002058  \n",
       "1                           -0.002672                           0.002058  \n",
       "2                           -0.002672                           0.002058  \n",
       "3                           -0.002651                           0.002022  "
      ]
     },
     "execution_count": 23,
     "metadata": {},
     "output_type": "execute_result"
    }
   ],
   "source": [
    "resultat_mlr = pd.DataFrame.from_dict(mlr_cv.named_steps['grid_searchcv_mlr'].cv_results_).\\\n",
    "sort_values('rank_test_neg_mean_absolute_error')\n",
    "resultat_mlr"
   ]
  },
  {
   "cell_type": "markdown",
   "id": "259f46ab",
   "metadata": {},
   "source": [
    "## Commentaire:\n",
    "Nous allons à présent extraire les information pertinentes nous concernant dans cette sous section."
   ]
  },
  {
   "cell_type": "code",
   "execution_count": 24,
   "id": "87ff5717",
   "metadata": {},
   "outputs": [
    {
     "name": "stdout",
     "output_type": "stream",
     "text": [
      "Le meilleur score NMAE: -53.256;\n",
      "Meilleur score R2: -4.988;\n",
      "Meilleurt trainin time: 808212.5s; \n",
      "Meilleurs paramètres: {'regressor__fit_intercept': False, 'regressor__normalize': False}.\n"
     ]
    }
   ],
   "source": [
    "best_nmae = np.round(mlr_cv.named_steps['grid_searchcv_mlr'].best_score_,3)\n",
    "best_score_R2 = np.round(np.mean(resultat_mlr[resultat_mlr['rank_test_r2']==1]['mean_test_r2']), 3)\n",
    "best_params = mlr_cv.named_steps['grid_searchcv_mlr'].best_params_\n",
    "best_fit_time_training = np.round(np.mean(resultat_mlr[\"mean_fit_time\"])*X_train.shape[0], 2)\n",
    "print(\"Le meilleur score NMAE: {};\\nMeilleur score R2: {};\\nMeilleurt trainin time: {}s; \\nMeilleurs paramètres: {}.\"\\\n",
    "      .format(best_nmae, best_score_R2 , best_fit_time_training, best_params))"
   ]
  },
  {
   "cell_type": "code",
   "execution_count": 28,
   "id": "dc578bd0",
   "metadata": {},
   "outputs": [],
   "source": [
    "def model_scores(pip,step):\n",
    "    df_results = pd.DataFrame.from_dict(pip.named_steps[step].cv_results_) \\\n",
    "                    .sort_values('rank_test_neg_mean_absolute_error')\n",
    "    best_nmae = pip.named_steps[step].best_score_\n",
    "    best_r2 = np.mean(df_results[df_results.rank_test_r2 == 1]['mean_test_r2'])\n",
    "    best_params = pip.named_steps[step].best_params_\n",
    "    training_time = round((np.mean(df_results.mean_fit_time)*X_train.shape[0]),2)\n",
    "    print(\"Meilleur score MAE : {}\\nMeilleur Score R2 : {}\\nMeilleurs paramètres : {}\\nTemps moyen d'entrainement : {}s\"\\\n",
    "         .format(round(best_nmae,3), round(best_r2,3), best_params, training_time))\n",
    "    return df_results"
   ]
  },
  {
   "cell_type": "code",
   "execution_count": 29,
   "id": "3ef55afc",
   "metadata": {},
   "outputs": [
    {
     "name": "stdout",
     "output_type": "stream",
     "text": [
      "Meilleur score MAE : -53.256\n",
      "Meilleur Score R2 : -4.988\n",
      "Meilleurs paramètres : {'regressor__fit_intercept': False, 'regressor__normalize': False}\n",
      "Temps moyen d'entrainement : 808212.5s\n"
     ]
    },
    {
     "data": {
      "text/html": [
       "<div>\n",
       "<style scoped>\n",
       "    .dataframe tbody tr th:only-of-type {\n",
       "        vertical-align: middle;\n",
       "    }\n",
       "\n",
       "    .dataframe tbody tr th {\n",
       "        vertical-align: top;\n",
       "    }\n",
       "\n",
       "    .dataframe thead th {\n",
       "        text-align: right;\n",
       "    }\n",
       "</style>\n",
       "<table border=\"1\" class=\"dataframe\">\n",
       "  <thead>\n",
       "    <tr style=\"text-align: right;\">\n",
       "      <th></th>\n",
       "      <th>mean_fit_time</th>\n",
       "      <th>std_fit_time</th>\n",
       "      <th>mean_score_time</th>\n",
       "      <th>std_score_time</th>\n",
       "      <th>param_regressor__fit_intercept</th>\n",
       "      <th>param_regressor__normalize</th>\n",
       "      <th>params</th>\n",
       "      <th>split0_test_r2</th>\n",
       "      <th>split1_test_r2</th>\n",
       "      <th>split2_test_r2</th>\n",
       "      <th>split3_test_r2</th>\n",
       "      <th>split4_test_r2</th>\n",
       "      <th>mean_test_r2</th>\n",
       "      <th>std_test_r2</th>\n",
       "      <th>rank_test_r2</th>\n",
       "      <th>split0_train_r2</th>\n",
       "      <th>split1_train_r2</th>\n",
       "      <th>split2_train_r2</th>\n",
       "      <th>split3_train_r2</th>\n",
       "      <th>split4_train_r2</th>\n",
       "      <th>mean_train_r2</th>\n",
       "      <th>std_train_r2</th>\n",
       "      <th>split0_test_neg_mean_absolute_error</th>\n",
       "      <th>split1_test_neg_mean_absolute_error</th>\n",
       "      <th>split2_test_neg_mean_absolute_error</th>\n",
       "      <th>split3_test_neg_mean_absolute_error</th>\n",
       "      <th>split4_test_neg_mean_absolute_error</th>\n",
       "      <th>mean_test_neg_mean_absolute_error</th>\n",
       "      <th>std_test_neg_mean_absolute_error</th>\n",
       "      <th>rank_test_neg_mean_absolute_error</th>\n",
       "      <th>split0_train_neg_mean_absolute_error</th>\n",
       "      <th>split1_train_neg_mean_absolute_error</th>\n",
       "      <th>split2_train_neg_mean_absolute_error</th>\n",
       "      <th>split3_train_neg_mean_absolute_error</th>\n",
       "      <th>split4_train_neg_mean_absolute_error</th>\n",
       "      <th>mean_train_neg_mean_absolute_error</th>\n",
       "      <th>std_train_neg_mean_absolute_error</th>\n",
       "    </tr>\n",
       "  </thead>\n",
       "  <tbody>\n",
       "    <tr>\n",
       "      <th>0</th>\n",
       "      <td>29.859328</td>\n",
       "      <td>6.287095</td>\n",
       "      <td>0.014803</td>\n",
       "      <td>0.011656</td>\n",
       "      <td>False</td>\n",
       "      <td>False</td>\n",
       "      <td>{'regressor__fit_intercept': False, 'regressor...</td>\n",
       "      <td>-4.408892</td>\n",
       "      <td>-7.274709</td>\n",
       "      <td>-5.779957</td>\n",
       "      <td>-1.337568</td>\n",
       "      <td>-6.138368</td>\n",
       "      <td>-4.987899</td>\n",
       "      <td>2.041598</td>\n",
       "      <td>1</td>\n",
       "      <td>0.999976</td>\n",
       "      <td>0.999993</td>\n",
       "      <td>1.0</td>\n",
       "      <td>0.999938</td>\n",
       "      <td>0.99999</td>\n",
       "      <td>0.999979</td>\n",
       "      <td>0.000022</td>\n",
       "      <td>-54.912856</td>\n",
       "      <td>-75.049763</td>\n",
       "      <td>-57.339384</td>\n",
       "      <td>-38.366050</td>\n",
       "      <td>-40.612472</td>\n",
       "      <td>-53.256105</td>\n",
       "      <td>13.235987</td>\n",
       "      <td>1</td>\n",
       "      <td>-0.003316</td>\n",
       "      <td>-0.002097</td>\n",
       "      <td>-0.000278</td>\n",
       "      <td>-0.006283</td>\n",
       "      <td>-0.001385</td>\n",
       "      <td>-0.002672</td>\n",
       "      <td>0.002058</td>\n",
       "    </tr>\n",
       "    <tr>\n",
       "      <th>1</th>\n",
       "      <td>25.608106</td>\n",
       "      <td>4.534548</td>\n",
       "      <td>0.005603</td>\n",
       "      <td>0.003263</td>\n",
       "      <td>False</td>\n",
       "      <td>True</td>\n",
       "      <td>{'regressor__fit_intercept': False, 'regressor...</td>\n",
       "      <td>-4.408892</td>\n",
       "      <td>-7.274709</td>\n",
       "      <td>-5.779957</td>\n",
       "      <td>-1.337568</td>\n",
       "      <td>-6.138368</td>\n",
       "      <td>-4.987899</td>\n",
       "      <td>2.041598</td>\n",
       "      <td>1</td>\n",
       "      <td>0.999976</td>\n",
       "      <td>0.999993</td>\n",
       "      <td>1.0</td>\n",
       "      <td>0.999938</td>\n",
       "      <td>0.99999</td>\n",
       "      <td>0.999979</td>\n",
       "      <td>0.000022</td>\n",
       "      <td>-54.912856</td>\n",
       "      <td>-75.049763</td>\n",
       "      <td>-57.339384</td>\n",
       "      <td>-38.366050</td>\n",
       "      <td>-40.612472</td>\n",
       "      <td>-53.256105</td>\n",
       "      <td>13.235987</td>\n",
       "      <td>1</td>\n",
       "      <td>-0.003316</td>\n",
       "      <td>-0.002097</td>\n",
       "      <td>-0.000278</td>\n",
       "      <td>-0.006283</td>\n",
       "      <td>-0.001385</td>\n",
       "      <td>-0.002672</td>\n",
       "      <td>0.002058</td>\n",
       "    </tr>\n",
       "    <tr>\n",
       "      <th>2</th>\n",
       "      <td>21.356499</td>\n",
       "      <td>5.509006</td>\n",
       "      <td>0.003806</td>\n",
       "      <td>0.001161</td>\n",
       "      <td>True</td>\n",
       "      <td>False</td>\n",
       "      <td>{'regressor__fit_intercept': True, 'regressor_...</td>\n",
       "      <td>-4.408619</td>\n",
       "      <td>-7.275866</td>\n",
       "      <td>-5.780188</td>\n",
       "      <td>-1.337634</td>\n",
       "      <td>-6.146004</td>\n",
       "      <td>-4.989662</td>\n",
       "      <td>2.042729</td>\n",
       "      <td>3</td>\n",
       "      <td>0.999976</td>\n",
       "      <td>0.999993</td>\n",
       "      <td>1.0</td>\n",
       "      <td>0.999938</td>\n",
       "      <td>0.99999</td>\n",
       "      <td>0.999979</td>\n",
       "      <td>0.000022</td>\n",
       "      <td>-54.912871</td>\n",
       "      <td>-75.051058</td>\n",
       "      <td>-57.340407</td>\n",
       "      <td>-38.365977</td>\n",
       "      <td>-40.621912</td>\n",
       "      <td>-53.258445</td>\n",
       "      <td>13.234690</td>\n",
       "      <td>3</td>\n",
       "      <td>-0.003316</td>\n",
       "      <td>-0.002097</td>\n",
       "      <td>-0.000278</td>\n",
       "      <td>-0.006282</td>\n",
       "      <td>-0.001385</td>\n",
       "      <td>-0.002672</td>\n",
       "      <td>0.002058</td>\n",
       "    </tr>\n",
       "    <tr>\n",
       "      <th>3</th>\n",
       "      <td>1.508311</td>\n",
       "      <td>0.373728</td>\n",
       "      <td>0.004802</td>\n",
       "      <td>0.000401</td>\n",
       "      <td>True</td>\n",
       "      <td>True</td>\n",
       "      <td>{'regressor__fit_intercept': True, 'regressor_...</td>\n",
       "      <td>-6.777062</td>\n",
       "      <td>-9.521664</td>\n",
       "      <td>-9.478534</td>\n",
       "      <td>-19159.897017</td>\n",
       "      <td>-9.003485</td>\n",
       "      <td>-3838.935552</td>\n",
       "      <td>7660.480799</td>\n",
       "      <td>4</td>\n",
       "      <td>0.999976</td>\n",
       "      <td>0.999993</td>\n",
       "      <td>1.0</td>\n",
       "      <td>0.999942</td>\n",
       "      <td>0.99999</td>\n",
       "      <td>0.999980</td>\n",
       "      <td>0.000021</td>\n",
       "      <td>-68.774515</td>\n",
       "      <td>-85.715161</td>\n",
       "      <td>-74.517734</td>\n",
       "      <td>-3549.978165</td>\n",
       "      <td>-59.644048</td>\n",
       "      <td>-767.725925</td>\n",
       "      <td>1391.151812</td>\n",
       "      <td>4</td>\n",
       "      <td>-0.003315</td>\n",
       "      <td>-0.002096</td>\n",
       "      <td>-0.000278</td>\n",
       "      <td>-0.006180</td>\n",
       "      <td>-0.001384</td>\n",
       "      <td>-0.002651</td>\n",
       "      <td>0.002022</td>\n",
       "    </tr>\n",
       "  </tbody>\n",
       "</table>\n",
       "</div>"
      ],
      "text/plain": [
       "   mean_fit_time  std_fit_time  mean_score_time  std_score_time  \\\n",
       "0      29.859328      6.287095         0.014803        0.011656   \n",
       "1      25.608106      4.534548         0.005603        0.003263   \n",
       "2      21.356499      5.509006         0.003806        0.001161   \n",
       "3       1.508311      0.373728         0.004802        0.000401   \n",
       "\n",
       "  param_regressor__fit_intercept param_regressor__normalize  \\\n",
       "0                          False                      False   \n",
       "1                          False                       True   \n",
       "2                           True                      False   \n",
       "3                           True                       True   \n",
       "\n",
       "                                              params  split0_test_r2  \\\n",
       "0  {'regressor__fit_intercept': False, 'regressor...       -4.408892   \n",
       "1  {'regressor__fit_intercept': False, 'regressor...       -4.408892   \n",
       "2  {'regressor__fit_intercept': True, 'regressor_...       -4.408619   \n",
       "3  {'regressor__fit_intercept': True, 'regressor_...       -6.777062   \n",
       "\n",
       "   split1_test_r2  split2_test_r2  split3_test_r2  split4_test_r2  \\\n",
       "0       -7.274709       -5.779957       -1.337568       -6.138368   \n",
       "1       -7.274709       -5.779957       -1.337568       -6.138368   \n",
       "2       -7.275866       -5.780188       -1.337634       -6.146004   \n",
       "3       -9.521664       -9.478534   -19159.897017       -9.003485   \n",
       "\n",
       "   mean_test_r2  std_test_r2  rank_test_r2  split0_train_r2  split1_train_r2  \\\n",
       "0     -4.987899     2.041598             1         0.999976         0.999993   \n",
       "1     -4.987899     2.041598             1         0.999976         0.999993   \n",
       "2     -4.989662     2.042729             3         0.999976         0.999993   \n",
       "3  -3838.935552  7660.480799             4         0.999976         0.999993   \n",
       "\n",
       "   split2_train_r2  split3_train_r2  split4_train_r2  mean_train_r2  \\\n",
       "0              1.0         0.999938          0.99999       0.999979   \n",
       "1              1.0         0.999938          0.99999       0.999979   \n",
       "2              1.0         0.999938          0.99999       0.999979   \n",
       "3              1.0         0.999942          0.99999       0.999980   \n",
       "\n",
       "   std_train_r2  split0_test_neg_mean_absolute_error  \\\n",
       "0      0.000022                           -54.912856   \n",
       "1      0.000022                           -54.912856   \n",
       "2      0.000022                           -54.912871   \n",
       "3      0.000021                           -68.774515   \n",
       "\n",
       "   split1_test_neg_mean_absolute_error  split2_test_neg_mean_absolute_error  \\\n",
       "0                           -75.049763                           -57.339384   \n",
       "1                           -75.049763                           -57.339384   \n",
       "2                           -75.051058                           -57.340407   \n",
       "3                           -85.715161                           -74.517734   \n",
       "\n",
       "   split3_test_neg_mean_absolute_error  split4_test_neg_mean_absolute_error  \\\n",
       "0                           -38.366050                           -40.612472   \n",
       "1                           -38.366050                           -40.612472   \n",
       "2                           -38.365977                           -40.621912   \n",
       "3                         -3549.978165                           -59.644048   \n",
       "\n",
       "   mean_test_neg_mean_absolute_error  std_test_neg_mean_absolute_error  \\\n",
       "0                         -53.256105                         13.235987   \n",
       "1                         -53.256105                         13.235987   \n",
       "2                         -53.258445                         13.234690   \n",
       "3                        -767.725925                       1391.151812   \n",
       "\n",
       "   rank_test_neg_mean_absolute_error  split0_train_neg_mean_absolute_error  \\\n",
       "0                                  1                             -0.003316   \n",
       "1                                  1                             -0.003316   \n",
       "2                                  3                             -0.003316   \n",
       "3                                  4                             -0.003315   \n",
       "\n",
       "   split1_train_neg_mean_absolute_error  split2_train_neg_mean_absolute_error  \\\n",
       "0                             -0.002097                             -0.000278   \n",
       "1                             -0.002097                             -0.000278   \n",
       "2                             -0.002097                             -0.000278   \n",
       "3                             -0.002096                             -0.000278   \n",
       "\n",
       "   split3_train_neg_mean_absolute_error  split4_train_neg_mean_absolute_error  \\\n",
       "0                             -0.006283                             -0.001385   \n",
       "1                             -0.006283                             -0.001385   \n",
       "2                             -0.006282                             -0.001385   \n",
       "3                             -0.006180                             -0.001384   \n",
       "\n",
       "   mean_train_neg_mean_absolute_error  std_train_neg_mean_absolute_error  \n",
       "0                           -0.002672                           0.002058  \n",
       "1                           -0.002672                           0.002058  \n",
       "2                           -0.002672                           0.002058  \n",
       "3                           -0.002651                           0.002022  "
      ]
     },
     "execution_count": 29,
     "metadata": {},
     "output_type": "execute_result"
    }
   ],
   "source": [
    "model_scores(mlr_cv,'grid_searchcv_mlr')"
   ]
  },
  {
   "cell_type": "code",
   "execution_count": null,
   "id": "ba43bae0",
   "metadata": {},
   "outputs": [],
   "source": [
    "model_dum = make_pipeline( preprocessor,\n",
    "                  TransformedTargetRegressor(regressor = DummyRegressor())   \n",
    ")\n",
    "model_dum.fit(X_train, y_train)"
   ]
  },
  {
   "cell_type": "markdown",
   "id": "be75797a",
   "metadata": {},
   "source": [
    "## <font color=\"red\" id=\"section_4_1_1\" > 4.1.1 Prediction et performance du model"
   ]
  },
  {
   "cell_type": "code",
   "execution_count": null,
   "id": "e70f1155",
   "metadata": {},
   "outputs": [],
   "source": [
    "y_pred_dum = model_dum.predict(X_test)"
   ]
  },
  {
   "cell_type": "code",
   "execution_count": null,
   "id": "862f7e43",
   "metadata": {},
   "outputs": [],
   "source": [
    "y_pred_dum"
   ]
  },
  {
   "cell_type": "markdown",
   "id": "e6616c99",
   "metadata": {},
   "source": [
    "### Comparaison: Val réelle vs val predict"
   ]
  },
  {
   "cell_type": "code",
   "execution_count": null,
   "id": "79fc75fa",
   "metadata": {},
   "outputs": [],
   "source": [
    "pd.DataFrame({'Valeurs réelles': y_test.values.ravel(), 'Valeurs predict': y_pred_dum}).head(6)"
   ]
  },
  {
   "cell_type": "markdown",
   "id": "576d3396",
   "metadata": {},
   "source": [
    "### Score de performance"
   ]
  },
  {
   "cell_type": "code",
   "execution_count": null,
   "id": "07037c60",
   "metadata": {},
   "outputs": [],
   "source": [
    "print(f\"Le score de performance sur le training set est:\", model_dum.score(X_train, y_train))"
   ]
  },
  {
   "cell_type": "code",
   "execution_count": null,
   "id": "7ad9ebb8",
   "metadata": {},
   "outputs": [],
   "source": [
    "print(\"Le score R2 de performance sur le  test set est: {};\" .format(np.round(model_dum.score(X_test, y_test), 5)))\n",
    "print(\"La mean absolute error (MAE) est :{};\".format(np.round(np.round(mean_absolute_error(y_test,y_pred_dum)), 2)))\n",
    "print(\"La RMSE est :{};\" .format(np.round(np.sqrt(mean_absolute_error(y_test,y_pred_dum)), 3)))\n",
    "print(\"La median  absolute error est :{}.\".format(np.round(median_absolute_error(y_test,y_pred_dum))))"
   ]
  },
  {
   "cell_type": "markdown",
   "id": "ec40a1e4",
   "metadata": {},
   "source": [
    "## Visualisation"
   ]
  },
  {
   "cell_type": "code",
   "execution_count": null,
   "id": "0fcab6c0",
   "metadata": {},
   "outputs": [],
   "source": [
    "fig, ax = plt.subplots(figsize = (6,6))\n",
    "sns.scatterplot(x = y_test, y = y_pred_dum)\n",
    "ax.plot([0,1], [0,1], ls ='--', c = 'red', transform = ax.transAxes)\n",
    "plt.xlabel(\"Valeurs réelles\", fontsize = 14)\n",
    "plt.ylabel(\"Valeurs predictes\", fontsize = 14)\n",
    "ax.set_title(\"DummyRegressor, prediction de CO2\", fontsize = 14)"
   ]
  },
  {
   "cell_type": "markdown",
   "id": "ac1394e3",
   "metadata": {},
   "source": [
    "# Commentaire: \n",
    "Ce qu'on constate c'est ce que ce modéle n'a rien appris sur ce dataset, et c'est complétement normal car dummyRegressor ne tient pas compte des données pour prédire.\n",
    "On l'a juste utiisé comme moyen de référence."
   ]
  },
  {
   "cell_type": "code",
   "execution_count": null,
   "id": "149d3f16",
   "metadata": {},
   "outputs": [],
   "source": []
  }
 ],
 "metadata": {
  "kernelspec": {
   "display_name": "Python 3 (ipykernel)",
   "language": "python",
   "name": "python3"
  },
  "language_info": {
   "codemirror_mode": {
    "name": "ipython",
    "version": 3
   },
   "file_extension": ".py",
   "mimetype": "text/x-python",
   "name": "python",
   "nbconvert_exporter": "python",
   "pygments_lexer": "ipython3",
   "version": "3.9.12"
  }
 },
 "nbformat": 4,
 "nbformat_minor": 5
}
